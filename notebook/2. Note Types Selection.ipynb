{
 "cells": [
  {
   "cell_type": "code",
   "execution_count": 2,
   "id": "25915299",
   "metadata": {},
   "outputs": [],
   "source": [
    "# Load packages for data analysis\n",
    "import pandas as pd\n",
    "\n",
    "# Load packages for Big Query \n",
    "from google.cloud import bigquery\n",
    "import os"
   ]
  },
  {
   "cell_type": "markdown",
   "id": "d487a770",
   "metadata": {},
   "source": [
    "### Set-up"
   ]
  },
  {
   "cell_type": "markdown",
   "id": "39db6c48",
   "metadata": {},
   "source": [
    "**Set-up: GCP interface** "
   ]
  },
  {
   "cell_type": "markdown",
   "id": "135bbc94",
   "metadata": {},
   "source": [
    "Run before querying to setup Big Query"
   ]
  },
  {
   "cell_type": "code",
   "execution_count": 3,
   "id": "e6650791",
   "metadata": {},
   "outputs": [
    {
     "name": "stderr",
     "output_type": "stream",
     "text": [
      "/Users/eliasaquand/miniforge3/envs/env/lib/python3.9/site-packages/google/auth/_default.py:83: UserWarning: Your application has authenticated using end user credentials from Google Cloud SDK without a quota project. You might receive a \"quota exceeded\" or \"API not enabled\" error. We recommend you rerun `gcloud auth application-default login` and make sure a quota project is added. Or you can use service accounts instead. For more information about service accounts, see https://cloud.google.com/docs/authentication/\n",
      "  warnings.warn(_CLOUD_SDK_CREDENTIALS_WARNING)\n"
     ]
    }
   ],
   "source": [
    "# Define configurations for Big Query - Stride Datalake\n",
    "project_id = 'som-nero-phi-boussard' # Location of stride datalake\n",
    "db = \"som-nero-phi-boussard.stride_datalake\" # Define the database\n",
    "msc = \"som-nero-phi-boussard.MSc_ACU_Oncology\"\n",
    "es = \"som-nero-phi-boussard.ES_ACU_Oncology\"\n",
    "client = bigquery.Client(project=project_id) # Set project to project_id\n",
    "os.environ['GOOGLE_APPLICATION_CREDENTIALS'] = '/path/to/your/credentials.json'\n",
    "os.environ['GCLOUD_PROJECT'] = \"som-nero-phi-boussard\" # specify environment\n",
    "db = \"som-nero-phi-boussard\" # Define the database"
   ]
  },
  {
   "cell_type": "code",
   "execution_count": 4,
   "id": "18115fd1",
   "metadata": {},
   "outputs": [],
   "source": [
    "# 1) Specify the job config to properly read the file\n",
    "job_config = bigquery.LoadJobConfig()\n",
    "job_config.autodetect = True # determines the datatype of the variable\n",
    "job_config.write_disposition = 'WRITE_TRUNCATE'\n",
    "job_config.max_bad_records = 1 # allow 5 bad records; \n",
    "\n",
    "# Read schema from JSON\n",
    "# job_config.schema = self.bq_client.schema_from_json(\n",
    "# f\"{json_schema_dir}/{custom_mapping_table}.json\")\n",
    "\n",
    "# 2) Specify destination\n",
    "# destination = f\"som-nero-phi-boussard.MSc_ACU_Oncology.[COHORT NAME]\"\n",
    "\n",
    "# 3) Save file ob Big Query, using result from so far; client is specified above - implemented in the file \n",
    "# load_job = client.load_table_from_dataframe(dataframe = chemo_tx_dd,                                  \n",
    "#                                                     destination = destination,\n",
    "#                                                     job_config = job_config)\n",
    "\n",
    "# Run the job:\n",
    "# load_job.result()"
   ]
  },
  {
   "cell_type": "markdown",
   "id": "60114cd4",
   "metadata": {},
   "source": [
    "### Load cohort"
   ]
  },
  {
   "cell_type": "code",
   "execution_count": 5,
   "id": "bee507d5",
   "metadata": {},
   "outputs": [],
   "source": [
    "sql_query = f\"\"\" SELECT * FROM {es}.cohort_p1_text\"\"\"\n",
    "cohort = (client.query(sql_query)).to_dataframe()"
   ]
  },
  {
   "cell_type": "code",
   "execution_count": 6,
   "id": "edde4cf2",
   "metadata": {},
   "outputs": [
    {
     "data": {
      "text/html": [
       "<div>\n",
       "<style scoped>\n",
       "    .dataframe tbody tr th:only-of-type {\n",
       "        vertical-align: middle;\n",
       "    }\n",
       "\n",
       "    .dataframe tbody tr th {\n",
       "        vertical-align: top;\n",
       "    }\n",
       "\n",
       "    .dataframe thead th {\n",
       "        text-align: right;\n",
       "    }\n",
       "</style>\n",
       "<table border=\"1\" class=\"dataframe\">\n",
       "  <thead>\n",
       "    <tr style=\"text-align: right;\">\n",
       "      <th></th>\n",
       "      <th>PAT_DEID</th>\n",
       "      <th>HOSP_ADMSN_TIME</th>\n",
       "      <th>CHE_TX_DATE</th>\n",
       "    </tr>\n",
       "  </thead>\n",
       "  <tbody>\n",
       "    <tr>\n",
       "      <th>0</th>\n",
       "      <td>1770802</td>\n",
       "      <td>2020-02-07 20:54:00</td>\n",
       "      <td>2020-01-16 00:00:00</td>\n",
       "    </tr>\n",
       "    <tr>\n",
       "      <th>1</th>\n",
       "      <td>3945576</td>\n",
       "      <td>2020-02-01 09:14:00</td>\n",
       "      <td>2020-01-24 00:00:00</td>\n",
       "    </tr>\n",
       "    <tr>\n",
       "      <th>2</th>\n",
       "      <td>1045640</td>\n",
       "      <td>2016-02-15 20:12:00</td>\n",
       "      <td>2016-02-08 00:00:00</td>\n",
       "    </tr>\n",
       "    <tr>\n",
       "      <th>3</th>\n",
       "      <td>1289918</td>\n",
       "      <td>2016-04-15 23:13:00</td>\n",
       "      <td>2016-03-16 00:00:00</td>\n",
       "    </tr>\n",
       "    <tr>\n",
       "      <th>4</th>\n",
       "      <td>2766580</td>\n",
       "      <td>2016-04-13 17:43:00</td>\n",
       "      <td>2016-03-24 00:00:00</td>\n",
       "    </tr>\n",
       "    <tr>\n",
       "      <th>...</th>\n",
       "      <td>...</td>\n",
       "      <td>...</td>\n",
       "      <td>...</td>\n",
       "    </tr>\n",
       "    <tr>\n",
       "      <th>1748</th>\n",
       "      <td>538184</td>\n",
       "      <td>2015-02-13 13:13:00</td>\n",
       "      <td>2015-01-16 08:59:00</td>\n",
       "    </tr>\n",
       "    <tr>\n",
       "      <th>1749</th>\n",
       "      <td>1253627</td>\n",
       "      <td>2019-03-14 16:38:00</td>\n",
       "      <td>2019-03-08 23:59:00</td>\n",
       "    </tr>\n",
       "    <tr>\n",
       "      <th>1750</th>\n",
       "      <td>3456627</td>\n",
       "      <td>2018-11-12 13:20:00</td>\n",
       "      <td>2018-10-17 09:59:00</td>\n",
       "    </tr>\n",
       "    <tr>\n",
       "      <th>1751</th>\n",
       "      <td>3316652</td>\n",
       "      <td>2014-06-06 19:31:00</td>\n",
       "      <td>2014-06-05 23:59:00</td>\n",
       "    </tr>\n",
       "    <tr>\n",
       "      <th>1752</th>\n",
       "      <td>2239905</td>\n",
       "      <td>2016-05-15 10:36:00</td>\n",
       "      <td>2016-05-06 23:59:00</td>\n",
       "    </tr>\n",
       "  </tbody>\n",
       "</table>\n",
       "<p>1753 rows × 3 columns</p>\n",
       "</div>"
      ],
      "text/plain": [
       "      PAT_DEID     HOSP_ADMSN_TIME         CHE_TX_DATE\n",
       "0      1770802 2020-02-07 20:54:00 2020-01-16 00:00:00\n",
       "1      3945576 2020-02-01 09:14:00 2020-01-24 00:00:00\n",
       "2      1045640 2016-02-15 20:12:00 2016-02-08 00:00:00\n",
       "3      1289918 2016-04-15 23:13:00 2016-03-16 00:00:00\n",
       "4      2766580 2016-04-13 17:43:00 2016-03-24 00:00:00\n",
       "...        ...                 ...                 ...\n",
       "1748    538184 2015-02-13 13:13:00 2015-01-16 08:59:00\n",
       "1749   1253627 2019-03-14 16:38:00 2019-03-08 23:59:00\n",
       "1750   3456627 2018-11-12 13:20:00 2018-10-17 09:59:00\n",
       "1751   3316652 2014-06-06 19:31:00 2014-06-05 23:59:00\n",
       "1752   2239905 2016-05-15 10:36:00 2016-05-06 23:59:00\n",
       "\n",
       "[1753 rows x 3 columns]"
      ]
     },
     "execution_count": 6,
     "metadata": {},
     "output_type": "execute_result"
    }
   ],
   "source": [
    "cohort"
   ]
  },
  {
   "cell_type": "markdown",
   "id": "bbe736a7",
   "metadata": {},
   "source": [
    "### Load the notes"
   ]
  },
  {
   "cell_type": "code",
   "execution_count": 7,
   "id": "f177811e",
   "metadata": {},
   "outputs": [],
   "source": [
    "# Load relevant note table\n",
    "sql_query = f\"\"\" SELECT * FROM {es}.note_table\"\"\"\n",
    "note_table = (client.query(sql_query)).to_dataframe()"
   ]
  },
  {
   "cell_type": "code",
   "execution_count": 8,
   "id": "6d554098",
   "metadata": {},
   "outputs": [
    {
     "data": {
      "text/plain": [
       "PAT_DEID          0\n",
       "NOTE              0\n",
       "ENCOUNTER_DATE    0\n",
       "EFFECTIVE_TIME    0\n",
       "NOTE_DESC         0\n",
       "WORD_COUNT        0\n",
       "dtype: int64"
      ]
     },
     "execution_count": 8,
     "metadata": {},
     "output_type": "execute_result"
    }
   ],
   "source": [
    "note_table.isna().sum()"
   ]
  },
  {
   "cell_type": "code",
   "execution_count": 9,
   "id": "865bcf2e",
   "metadata": {},
   "outputs": [
    {
     "data": {
      "text/plain": [
       "(95536, 6)"
      ]
     },
     "execution_count": 9,
     "metadata": {},
     "output_type": "execute_result"
    }
   ],
   "source": [
    "note_table.shape"
   ]
  },
  {
   "cell_type": "code",
   "execution_count": 12,
   "id": "e6a00d6f",
   "metadata": {},
   "outputs": [
    {
     "data": {
      "text/plain": [
       "Progress Notes            33847\n",
       "Care Plan Note            10517\n",
       "ED Notes                   9466\n",
       "Telephone Encounter        8341\n",
       "Consults                   7225\n",
       "Sign Out Note              3114\n",
       "Consult Follow-Up          3070\n",
       "H&P                        2451\n",
       "Discharge Summary          1969\n",
       "Discharge Instructions     1656\n",
       "ED Provider Notes          1630\n",
       "Patient Instructions       1587\n",
       "Procedures                 1342\n",
       "Assessment & Plan Note     1329\n",
       "Advance Care Planning      1168\n",
       "Name: NOTE_DESC, dtype: int64"
      ]
     },
     "execution_count": 12,
     "metadata": {},
     "output_type": "execute_result"
    }
   ],
   "source": [
    "note_table.NOTE_DESC.value_counts()[:15]"
   ]
  },
  {
   "cell_type": "code",
   "execution_count": 9,
   "id": "3db7be21",
   "metadata": {},
   "outputs": [
    {
     "data": {
      "text/plain": [
       "1753"
      ]
     },
     "execution_count": 9,
     "metadata": {},
     "output_type": "execute_result"
    }
   ],
   "source": [
    "len(pd.unique(note_table[\"PAT_DEID\"]))"
   ]
  },
  {
   "cell_type": "code",
   "execution_count": 11,
   "id": "91d29ba1",
   "metadata": {},
   "outputs": [
    {
     "data": {
      "text/plain": [
       "'Straight catherization performed by this RN with Crystal, medstudent, assist.  Patient tolerated procedure well. UA sent to lab.   '"
      ]
     },
     "execution_count": 11,
     "metadata": {},
     "output_type": "execute_result"
    }
   ],
   "source": [
    "note_table[note_table[\"NOTE_DESC\"] == \"ED Notes\"].iloc[2].NOTE"
   ]
  },
  {
   "cell_type": "code",
   "execution_count": 10,
   "id": "c3ee44f6",
   "metadata": {},
   "outputs": [],
   "source": [
    "df_ed = note_table[note_table[\"NOTE_DESC\"] == \"ED Provider Notes\"].iloc[:3]\n",
    "df_hosp = note_table[note_table[\"NOTE_DESC\"].isin([\"H&P\", \"Discharge Summary\"])].iloc[:5]"
   ]
  },
  {
   "cell_type": "code",
   "execution_count": 23,
   "id": "ad834393",
   "metadata": {},
   "outputs": [
    {
     "data": {
      "text/html": [
       "<div>\n",
       "<style scoped>\n",
       "    .dataframe tbody tr th:only-of-type {\n",
       "        vertical-align: middle;\n",
       "    }\n",
       "\n",
       "    .dataframe tbody tr th {\n",
       "        vertical-align: top;\n",
       "    }\n",
       "\n",
       "    .dataframe thead th {\n",
       "        text-align: right;\n",
       "    }\n",
       "</style>\n",
       "<table border=\"1\" class=\"dataframe\">\n",
       "  <thead>\n",
       "    <tr style=\"text-align: right;\">\n",
       "      <th></th>\n",
       "      <th>PAT_DEID</th>\n",
       "      <th>NOTE</th>\n",
       "      <th>ENCOUNTER_DATE</th>\n",
       "      <th>EFFECTIVE_TIME</th>\n",
       "      <th>NOTE_DESC</th>\n",
       "      <th>WORD_COUNT</th>\n",
       "    </tr>\n",
       "  </thead>\n",
       "  <tbody>\n",
       "    <tr>\n",
       "      <th>11</th>\n",
       "      <td>3692124</td>\n",
       "      <td>Stanford Hospital and Clinics  History and Phy...</td>\n",
       "      <td>2021-05-06</td>\n",
       "      <td>2021-05-06 17:41:00</td>\n",
       "      <td>H&amp;P</td>\n",
       "      <td>1872</td>\n",
       "    </tr>\n",
       "    <tr>\n",
       "      <th>59</th>\n",
       "      <td>46788</td>\n",
       "      <td>Stanford Hospital and Clinics  Admission Histo...</td>\n",
       "      <td>2017-05-24</td>\n",
       "      <td>2017-05-24 19:57:00</td>\n",
       "      <td>H&amp;P</td>\n",
       "      <td>2793</td>\n",
       "    </tr>\n",
       "    <tr>\n",
       "      <th>81</th>\n",
       "      <td>4112475</td>\n",
       "      <td>Stanford Hospital and Clinics  Interventional ...</td>\n",
       "      <td>2020-08-20</td>\n",
       "      <td>2020-08-20 07:17:00</td>\n",
       "      <td>H&amp;P</td>\n",
       "      <td>686</td>\n",
       "    </tr>\n",
       "    <tr>\n",
       "      <th>85</th>\n",
       "      <td>1337916</td>\n",
       "      <td>Stanford Hospital and Clinics  Discharge Summa...</td>\n",
       "      <td>2016-08-18</td>\n",
       "      <td>2016-08-21 08:08:00</td>\n",
       "      <td>Discharge Summary</td>\n",
       "      <td>2404</td>\n",
       "    </tr>\n",
       "    <tr>\n",
       "      <th>119</th>\n",
       "      <td>2649310</td>\n",
       "      <td>Stanford Hospital and Clinics  Discharge Summa...</td>\n",
       "      <td>2015-02-03</td>\n",
       "      <td>2015-02-05 13:10:00</td>\n",
       "      <td>Discharge Summary</td>\n",
       "      <td>2765</td>\n",
       "    </tr>\n",
       "  </tbody>\n",
       "</table>\n",
       "</div>"
      ],
      "text/plain": [
       "     PAT_DEID                                               NOTE  \\\n",
       "11    3692124  Stanford Hospital and Clinics  History and Phy...   \n",
       "59      46788  Stanford Hospital and Clinics  Admission Histo...   \n",
       "81    4112475  Stanford Hospital and Clinics  Interventional ...   \n",
       "85    1337916  Stanford Hospital and Clinics  Discharge Summa...   \n",
       "119   2649310  Stanford Hospital and Clinics  Discharge Summa...   \n",
       "\n",
       "    ENCOUNTER_DATE      EFFECTIVE_TIME          NOTE_DESC  WORD_COUNT  \n",
       "11      2021-05-06 2021-05-06 17:41:00                H&P        1872  \n",
       "59      2017-05-24 2017-05-24 19:57:00                H&P        2793  \n",
       "81      2020-08-20 2020-08-20 07:17:00                H&P         686  \n",
       "85      2016-08-18 2016-08-21 08:08:00  Discharge Summary        2404  \n",
       "119     2015-02-03 2015-02-05 13:10:00  Discharge Summary        2765  "
      ]
     },
     "execution_count": 23,
     "metadata": {},
     "output_type": "execute_result"
    }
   ],
   "source": [
    "df_hosp"
   ]
  },
  {
   "cell_type": "code",
   "execution_count": 24,
   "id": "b526f11f",
   "metadata": {},
   "outputs": [],
   "source": [
    "df_ed.to_csv('../df_ed.csv', index=False)\n",
    "df_hosp.to_csv('../df_hosp.csv', index=False)"
   ]
  },
  {
   "cell_type": "markdown",
   "id": "85b40d6a",
   "metadata": {},
   "source": [
    "### Load the ACU event "
   ]
  },
  {
   "cell_type": "code",
   "execution_count": 11,
   "id": "9d85b80b",
   "metadata": {},
   "outputs": [],
   "source": [
    "# Load all ACU events information of cohort patient \n",
    "sql_query = f\"\"\" SELECT * FROM {es}.cohort_p1_sym_op30\"\"\"\n",
    "cohort_symp = (client.query(sql_query)).to_dataframe()"
   ]
  },
  {
   "cell_type": "code",
   "execution_count": 12,
   "id": "2ad332a6",
   "metadata": {},
   "outputs": [
    {
     "name": "stdout",
     "output_type": "stream",
     "text": [
      "Number of patients: 1753\n"
     ]
    }
   ],
   "source": [
    "print(f'Number of patients: {len(pd.unique(cohort_symp.PAT_DEID))}')"
   ]
  },
  {
   "cell_type": "code",
   "execution_count": 13,
   "id": "8eb2d582",
   "metadata": {},
   "outputs": [],
   "source": [
    "cohort_symp_ed = cohort_symp[cohort_symp[\"PT_CLASS\"] == \"Emergency Services\"]\n",
    "cohort_symp_hosp = cohort_symp[cohort_symp[\"PT_CLASS\"] == \"Inpatient\"]"
   ]
  },
  {
   "cell_type": "code",
   "execution_count": 14,
   "id": "e442ce32",
   "metadata": {},
   "outputs": [
    {
     "data": {
      "text/plain": [
       "(496, 1352)"
      ]
     },
     "execution_count": 14,
     "metadata": {},
     "output_type": "execute_result"
    }
   ],
   "source": [
    "idx_ed = pd.unique(cohort_symp_ed.PAT_DEID)\n",
    "idx_hosp = pd.unique(cohort_symp_hosp.PAT_DEID)\n",
    "len(idx_ed), len(idx_hosp)"
   ]
  },
  {
   "cell_type": "code",
   "execution_count": 15,
   "id": "8e854101",
   "metadata": {},
   "outputs": [
    {
     "data": {
      "text/plain": [
       "(401, 1257, 95)"
      ]
     },
     "execution_count": 15,
     "metadata": {},
     "output_type": "execute_result"
    }
   ],
   "source": [
    "idx_only_ed = list(set(idx_ed) - set(idx_hosp))\n",
    "idx_only_hosp = list(set(idx_hosp) - set(idx_ed))\n",
    "idx_ed_hosp = list(set(idx_ed).intersection(set(idx_hosp)))\n",
    "len(idx_only_ed), len(idx_only_hosp), len(idx_ed_hosp)"
   ]
  },
  {
   "cell_type": "markdown",
   "id": "1f4caba0",
   "metadata": {},
   "source": [
    "- Check if all patients with ED have an ED provider notes"
   ]
  },
  {
   "cell_type": "code",
   "execution_count": 16,
   "id": "2002d056",
   "metadata": {},
   "outputs": [
    {
     "name": "stderr",
     "output_type": "stream",
     "text": [
      "<ipython-input-16-7f7d1462d159>:2: UserWarning: Boolean Series key will be reindexed to match DataFrame index.\n",
      "  df_ed = df_ed[note_table[\"NOTE_DESC\"] == \"ED Provider Notes\"]\n"
     ]
    }
   ],
   "source": [
    "df_ed = note_table[note_table[\"PAT_DEID\"].isin(idx_ed)]\n",
    "df_ed = df_ed[note_table[\"NOTE_DESC\"] == \"ED Provider Notes\"]"
   ]
  },
  {
   "cell_type": "code",
   "execution_count": 17,
   "id": "1d75949c",
   "metadata": {},
   "outputs": [
    {
     "data": {
      "text/plain": [
       "496"
      ]
     },
     "execution_count": 17,
     "metadata": {},
     "output_type": "execute_result"
    }
   ],
   "source": [
    "len(pd.unique(df_ed[\"PAT_DEID\"]))"
   ]
  },
  {
   "cell_type": "code",
   "execution_count": 18,
   "id": "723732e2",
   "metadata": {},
   "outputs": [
    {
     "data": {
      "text/plain": [
       "(679, 6)"
      ]
     },
     "execution_count": 18,
     "metadata": {},
     "output_type": "execute_result"
    }
   ],
   "source": [
    "df_ed.shape"
   ]
  },
  {
   "cell_type": "markdown",
   "id": "11a1581c",
   "metadata": {},
   "source": [
    "- Check if all patients with hospitalization have an H&P notes"
   ]
  },
  {
   "cell_type": "code",
   "execution_count": 25,
   "id": "7913c12e",
   "metadata": {},
   "outputs": [
    {
     "name": "stderr",
     "output_type": "stream",
     "text": [
      "<ipython-input-25-2ec9d9af0e03>:2: UserWarning: Boolean Series key will be reindexed to match DataFrame index.\n",
      "  df_hosp = df_hosp[note_table[\"NOTE_DESC\"].isin([\"H&P\"])]\n"
     ]
    }
   ],
   "source": [
    "df_hosp = note_table[note_table[\"PAT_DEID\"].isin(idx_hosp)]\n",
    "df_hosp = df_hosp[note_table[\"NOTE_DESC\"].isin([\"H&P\"])]"
   ]
  },
  {
   "cell_type": "code",
   "execution_count": 26,
   "id": "0bb5dd97",
   "metadata": {},
   "outputs": [
    {
     "data": {
      "text/plain": [
       "1319"
      ]
     },
     "execution_count": 26,
     "metadata": {},
     "output_type": "execute_result"
    }
   ],
   "source": [
    "len(pd.unique(df_hosp[\"PAT_DEID\"]))"
   ]
  },
  {
   "cell_type": "code",
   "execution_count": 27,
   "id": "bbfcf6e8",
   "metadata": {},
   "outputs": [
    {
     "data": {
      "text/html": [
       "<div>\n",
       "<style scoped>\n",
       "    .dataframe tbody tr th:only-of-type {\n",
       "        vertical-align: middle;\n",
       "    }\n",
       "\n",
       "    .dataframe tbody tr th {\n",
       "        vertical-align: top;\n",
       "    }\n",
       "\n",
       "    .dataframe thead th {\n",
       "        text-align: right;\n",
       "    }\n",
       "</style>\n",
       "<table border=\"1\" class=\"dataframe\">\n",
       "  <thead>\n",
       "    <tr style=\"text-align: right;\">\n",
       "      <th></th>\n",
       "      <th>PAT_DEID</th>\n",
       "      <th>NOTE</th>\n",
       "      <th>ENCOUNTER_DATE</th>\n",
       "      <th>EFFECTIVE_TIME</th>\n",
       "      <th>NOTE_DESC</th>\n",
       "      <th>WORD_COUNT</th>\n",
       "    </tr>\n",
       "  </thead>\n",
       "  <tbody>\n",
       "    <tr>\n",
       "      <th>11</th>\n",
       "      <td>3692124</td>\n",
       "      <td>Stanford Hospital and Clinics  History and Phy...</td>\n",
       "      <td>2021-05-06</td>\n",
       "      <td>2021-05-06 17:41:00</td>\n",
       "      <td>H&amp;P</td>\n",
       "      <td>1872</td>\n",
       "    </tr>\n",
       "    <tr>\n",
       "      <th>59</th>\n",
       "      <td>46788</td>\n",
       "      <td>Stanford Hospital and Clinics  Admission Histo...</td>\n",
       "      <td>2017-05-24</td>\n",
       "      <td>2017-05-24 19:57:00</td>\n",
       "      <td>H&amp;P</td>\n",
       "      <td>2793</td>\n",
       "    </tr>\n",
       "    <tr>\n",
       "      <th>135</th>\n",
       "      <td>1216368</td>\n",
       "      <td>Stanford Hospital and Clinics  Interventional ...</td>\n",
       "      <td>2019-01-28</td>\n",
       "      <td>2019-01-28 10:15:00</td>\n",
       "      <td>H&amp;P</td>\n",
       "      <td>1434</td>\n",
       "    </tr>\n",
       "    <tr>\n",
       "      <th>137</th>\n",
       "      <td>2778961</td>\n",
       "      <td>Stanford Hospital and Clinics   Inpatient Hist...</td>\n",
       "      <td>2020-08-21</td>\n",
       "      <td>2020-08-21 22:55:00</td>\n",
       "      <td>H&amp;P</td>\n",
       "      <td>2673</td>\n",
       "    </tr>\n",
       "    <tr>\n",
       "      <th>229</th>\n",
       "      <td>2666976</td>\n",
       "      <td>Stanford Hospital and Clinics  Critical Care H...</td>\n",
       "      <td>2017-02-25</td>\n",
       "      <td>2017-02-25 20:28:00</td>\n",
       "      <td>H&amp;P</td>\n",
       "      <td>2916</td>\n",
       "    </tr>\n",
       "    <tr>\n",
       "      <th>...</th>\n",
       "      <td>...</td>\n",
       "      <td>...</td>\n",
       "      <td>...</td>\n",
       "      <td>...</td>\n",
       "      <td>...</td>\n",
       "      <td>...</td>\n",
       "    </tr>\n",
       "    <tr>\n",
       "      <th>95307</th>\n",
       "      <td>962602</td>\n",
       "      <td>Stanford Hospital and Clinics  Interventional ...</td>\n",
       "      <td>2014-04-07</td>\n",
       "      <td>2014-04-07 15:44:00</td>\n",
       "      <td>H&amp;P</td>\n",
       "      <td>685</td>\n",
       "    </tr>\n",
       "    <tr>\n",
       "      <th>95316</th>\n",
       "      <td>2188221</td>\n",
       "      <td>Stanford Hospital and Clinics  History and Phy...</td>\n",
       "      <td>2013-10-03</td>\n",
       "      <td>2013-10-03 19:33:00</td>\n",
       "      <td>H&amp;P</td>\n",
       "      <td>1655</td>\n",
       "    </tr>\n",
       "    <tr>\n",
       "      <th>95503</th>\n",
       "      <td>400384</td>\n",
       "      <td>Stanford Hospital and Clinics  History and Phy...</td>\n",
       "      <td>2016-08-10</td>\n",
       "      <td>2016-08-10 17:31:00</td>\n",
       "      <td>H&amp;P</td>\n",
       "      <td>2361</td>\n",
       "    </tr>\n",
       "    <tr>\n",
       "      <th>95521</th>\n",
       "      <td>2649310</td>\n",
       "      <td>Stanford Hospital and Clinics  Internal Medici...</td>\n",
       "      <td>2015-01-12</td>\n",
       "      <td>2015-01-12 14:56:00</td>\n",
       "      <td>H&amp;P</td>\n",
       "      <td>2237</td>\n",
       "    </tr>\n",
       "    <tr>\n",
       "      <th>95524</th>\n",
       "      <td>3751221</td>\n",
       "      <td>Stanford Hospital and Clinics  History and Phy...</td>\n",
       "      <td>2013-08-13</td>\n",
       "      <td>2013-08-13 17:04:00</td>\n",
       "      <td>H&amp;P</td>\n",
       "      <td>2785</td>\n",
       "    </tr>\n",
       "  </tbody>\n",
       "</table>\n",
       "<p>2387 rows × 6 columns</p>\n",
       "</div>"
      ],
      "text/plain": [
       "       PAT_DEID                                               NOTE  \\\n",
       "11      3692124  Stanford Hospital and Clinics  History and Phy...   \n",
       "59        46788  Stanford Hospital and Clinics  Admission Histo...   \n",
       "135     1216368  Stanford Hospital and Clinics  Interventional ...   \n",
       "137     2778961  Stanford Hospital and Clinics   Inpatient Hist...   \n",
       "229     2666976  Stanford Hospital and Clinics  Critical Care H...   \n",
       "...         ...                                                ...   \n",
       "95307    962602  Stanford Hospital and Clinics  Interventional ...   \n",
       "95316   2188221  Stanford Hospital and Clinics  History and Phy...   \n",
       "95503    400384  Stanford Hospital and Clinics  History and Phy...   \n",
       "95521   2649310  Stanford Hospital and Clinics  Internal Medici...   \n",
       "95524   3751221  Stanford Hospital and Clinics  History and Phy...   \n",
       "\n",
       "      ENCOUNTER_DATE      EFFECTIVE_TIME NOTE_DESC  WORD_COUNT  \n",
       "11        2021-05-06 2021-05-06 17:41:00       H&P        1872  \n",
       "59        2017-05-24 2017-05-24 19:57:00       H&P        2793  \n",
       "135       2019-01-28 2019-01-28 10:15:00       H&P        1434  \n",
       "137       2020-08-21 2020-08-21 22:55:00       H&P        2673  \n",
       "229       2017-02-25 2017-02-25 20:28:00       H&P        2916  \n",
       "...              ...                 ...       ...         ...  \n",
       "95307     2014-04-07 2014-04-07 15:44:00       H&P         685  \n",
       "95316     2013-10-03 2013-10-03 19:33:00       H&P        1655  \n",
       "95503     2016-08-10 2016-08-10 17:31:00       H&P        2361  \n",
       "95521     2015-01-12 2015-01-12 14:56:00       H&P        2237  \n",
       "95524     2013-08-13 2013-08-13 17:04:00       H&P        2785  \n",
       "\n",
       "[2387 rows x 6 columns]"
      ]
     },
     "execution_count": 27,
     "metadata": {},
     "output_type": "execute_result"
    }
   ],
   "source": [
    "df_hosp"
   ]
  },
  {
   "cell_type": "markdown",
   "id": "d3586cb0",
   "metadata": {},
   "source": [
    "- Concatenate relevant note for ED patients and for Inpatient patients"
   ]
  },
  {
   "cell_type": "code",
   "execution_count": 34,
   "id": "98f9c970",
   "metadata": {},
   "outputs": [],
   "source": [
    "note_by_type = pd.concat([df_ed, df_hosp])"
   ]
  },
  {
   "cell_type": "code",
   "execution_count": 35,
   "id": "65b1f1e4",
   "metadata": {},
   "outputs": [
    {
     "data": {
      "text/plain": [
       "(5002, 6)"
      ]
     },
     "execution_count": 35,
     "metadata": {},
     "output_type": "execute_result"
    }
   ],
   "source": [
    "note_by_type.shape"
   ]
  },
  {
   "cell_type": "code",
   "execution_count": 36,
   "id": "d62dede6",
   "metadata": {},
   "outputs": [
    {
     "data": {
      "text/plain": [
       "1753"
      ]
     },
     "execution_count": 36,
     "metadata": {},
     "output_type": "execute_result"
    }
   ],
   "source": [
    "len(pd.unique(note_by_type[\"PAT_DEID\"]))"
   ]
  },
  {
   "cell_type": "code",
   "execution_count": 37,
   "id": "d92174fa",
   "metadata": {},
   "outputs": [
    {
     "data": {
      "text/plain": [
       "LoadJob<project=som-nero-phi-boussard, location=US, id=d3b2df32-e0cd-4cce-942d-a44566e8110f>"
      ]
     },
     "execution_count": 37,
     "metadata": {},
     "output_type": "execute_result"
    }
   ],
   "source": [
    "# Save note table\n",
    "# Specify destination for storing dataframe\n",
    "destination = f\"som-nero-phi-boussard.ES_ACU_Oncology.note_by_type\"\n",
    "\n",
    "# Save file to Big Query\n",
    "load_job = client.load_table_from_dataframe(dataframe = note_by_type,                                  \n",
    "                                                   destination = destination,\n",
    "                                                   job_config = job_config)\n",
    "\n",
    "# Run the job:\n",
    "load_job.result()"
   ]
  },
  {
   "cell_type": "markdown",
   "id": "b07a7ac6",
   "metadata": {},
   "source": [
    "### Select relevant note types"
   ]
  },
  {
   "cell_type": "code",
   "execution_count": 10,
   "id": "86ee18e3",
   "metadata": {},
   "outputs": [],
   "source": [
    "# Note types \n",
    "#note_types = [\"Progress Notes\", \"Telephone Encounter\", \"ED Notes\", \"Discharge Summary\", \"ED Provider Notes\", \"H&P\", \"Care Plan Note\"]\n"
   ]
  },
  {
   "cell_type": "code",
   "execution_count": 11,
   "id": "bfdb5b1f",
   "metadata": {},
   "outputs": [],
   "source": [
    "#note_by_type = note_table.loc[note_table['NOTE_DESC'].isin(note_types)]"
   ]
  },
  {
   "cell_type": "code",
   "execution_count": 12,
   "id": "66447d20",
   "metadata": {},
   "outputs": [
    {
     "data": {
      "text/plain": [
       "1753"
      ]
     },
     "execution_count": 12,
     "metadata": {},
     "output_type": "execute_result"
    }
   ],
   "source": [
    "#len(pd.unique(note_by_type[\"PAT_DEID\"]))"
   ]
  },
  {
   "cell_type": "code",
   "execution_count": null,
   "id": "4cbdb63f",
   "metadata": {},
   "outputs": [],
   "source": [
    "# Save note table\n",
    "# Specify destination for storing dataframe\n",
    "#destination = f\"som-nero-phi-boussard.ES_ACU_Oncology.note_by_type\"\n",
    "\n",
    "# Save file to Big Query\n",
    "#load_job = client.load_table_from_dataframe(dataframe = note_by_type,                                  \n",
    "                                                   destination = destination,\n",
    "                                                   job_config = job_config)\n",
    "\n",
    "# Run the job:\n",
    "#load_job.result()"
   ]
  },
  {
   "cell_type": "code",
   "execution_count": null,
   "id": "d1f9d94e",
   "metadata": {},
   "outputs": [],
   "source": []
  },
  {
   "cell_type": "code",
   "execution_count": null,
   "id": "5c1373e8",
   "metadata": {},
   "outputs": [],
   "source": []
  },
  {
   "cell_type": "code",
   "execution_count": null,
   "id": "7a6911a6",
   "metadata": {},
   "outputs": [],
   "source": []
  },
  {
   "cell_type": "code",
   "execution_count": null,
   "id": "02daf1c3",
   "metadata": {},
   "outputs": [],
   "source": []
  },
  {
   "cell_type": "markdown",
   "id": "3605fefc",
   "metadata": {},
   "source": [
    "### Analyze the different note types"
   ]
  },
  {
   "cell_type": "code",
   "execution_count": 349,
   "id": "829e1510",
   "metadata": {
    "scrolled": true
   },
   "outputs": [],
   "source": [
    "total_counts = pd.DataFrame(note_table.NOTE_DESC.value_counts(normalize=True))\n",
    "total_counts.rename(columns={\"NOTE_DESC\": \"COUNT\"}, inplace=True)\n",
    "total_counts[\"NOTE_DESC\"] = total_counts.index\n",
    "total_counts.reset_index(drop=True, inplace=True)"
   ]
  },
  {
   "cell_type": "code",
   "execution_count": 351,
   "id": "1d15e504",
   "metadata": {},
   "outputs": [
    {
     "data": {
      "text/plain": [
       "array(['Progress Notes', 'Care Plan Note', 'ED Notes',\n",
       "       'Telephone Encounter', 'Consults', 'Sign Out Note',\n",
       "       'Consult Follow-Up', 'H&P', 'Discharge Summary',\n",
       "       'Discharge Instructions', 'ED Provider Notes',\n",
       "       'Patient Instructions'], dtype=object)"
      ]
     },
     "execution_count": 351,
     "metadata": {},
     "output_type": "execute_result"
    }
   ],
   "source": [
    "total_counts[total_counts[\"COUNT\"] >= 0.015].NOTE_DESC.values"
   ]
  },
  {
   "cell_type": "code",
   "execution_count": 352,
   "id": "4b685f05",
   "metadata": {},
   "outputs": [],
   "source": [
    "most_frequent_type = total_counts[total_counts[\"COUNT\"] >= 0.015].NOTE_DESC.values"
   ]
  },
  {
   "cell_type": "code",
   "execution_count": 353,
   "id": "33157878",
   "metadata": {},
   "outputs": [],
   "source": [
    "total_counts = pd.DataFrame(note_table.NOTE_DESC.value_counts())\n",
    "total_counts.rename(columns={\"NOTE_DESC\": \"COUNT\"}, inplace=True)\n",
    "total_counts[\"NOTE_DESC\"] = total_counts.index\n",
    "total_counts.reset_index(drop=True, inplace=True)"
   ]
  },
  {
   "cell_type": "code",
   "execution_count": 359,
   "id": "e006b453",
   "metadata": {},
   "outputs": [],
   "source": [
    "total_counts = total_counts[total_counts[\"NOTE_DESC\"].isin(most_frequent_type)]"
   ]
  },
  {
   "cell_type": "code",
   "execution_count": 360,
   "id": "9c833239",
   "metadata": {},
   "outputs": [],
   "source": [
    "relevant_note = note_table['NOTE'].str.upper().apply(lambda x: any(y in x for y in all_classes))\n",
    "relevant_note_table = note_table.loc[relevant_note]\n"
   ]
  },
  {
   "cell_type": "code",
   "execution_count": 361,
   "id": "4dbc8828",
   "metadata": {},
   "outputs": [],
   "source": [
    "relevant_counts = pd.DataFrame(relevant_note_table.NOTE_DESC.value_counts())\n",
    "relevant_counts.rename(columns={\"NOTE_DESC\": \"COUNT\"}, inplace=True)\n",
    "relevant_counts[\"NOTE_DESC\"] = relevant_counts.index\n",
    "relevant_counts.reset_index(drop=True, inplace=True)"
   ]
  },
  {
   "cell_type": "code",
   "execution_count": 362,
   "id": "65002af3",
   "metadata": {},
   "outputs": [],
   "source": [
    "d = pd.DataFrame()\n",
    "note_desc = []\n",
    "perc = []\n",
    "for note_type in total_counts.NOTE_DESC.values:\n",
    "    if note_type in relevant_counts[\"NOTE_DESC\"].values:\n",
    "        note_desc.append(note_type)\n",
    "        perc.append(float((relevant_counts[relevant_counts[\"NOTE_DESC\"] == note_type].COUNT) / float(total_counts[total_counts[\"NOTE_DESC\"] == note_type].COUNT)) * 100)\n",
    "         \n",
    "d[\"NOTE_DESC\"] = note_desc\n",
    "d[\"PERC\"] = perc"
   ]
  },
  {
   "cell_type": "code",
   "execution_count": 365,
   "id": "60fcf275",
   "metadata": {},
   "outputs": [
    {
     "data": {
      "text/html": [
       "<div>\n",
       "<style scoped>\n",
       "    .dataframe tbody tr th:only-of-type {\n",
       "        vertical-align: middle;\n",
       "    }\n",
       "\n",
       "    .dataframe tbody tr th {\n",
       "        vertical-align: top;\n",
       "    }\n",
       "\n",
       "    .dataframe thead th {\n",
       "        text-align: right;\n",
       "    }\n",
       "</style>\n",
       "<table border=\"1\" class=\"dataframe\">\n",
       "  <thead>\n",
       "    <tr style=\"text-align: right;\">\n",
       "      <th></th>\n",
       "      <th>NOTE_DESC</th>\n",
       "      <th>PERC</th>\n",
       "    </tr>\n",
       "  </thead>\n",
       "  <tbody>\n",
       "    <tr>\n",
       "      <th>10</th>\n",
       "      <td>ED Provider Notes</td>\n",
       "      <td>99.149970</td>\n",
       "    </tr>\n",
       "    <tr>\n",
       "      <th>8</th>\n",
       "      <td>Discharge Summary</td>\n",
       "      <td>98.324873</td>\n",
       "    </tr>\n",
       "    <tr>\n",
       "      <th>7</th>\n",
       "      <td>H&amp;P</td>\n",
       "      <td>95.434162</td>\n",
       "    </tr>\n",
       "    <tr>\n",
       "      <th>9</th>\n",
       "      <td>Discharge Instructions</td>\n",
       "      <td>90.365051</td>\n",
       "    </tr>\n",
       "    <tr>\n",
       "      <th>6</th>\n",
       "      <td>Consult Follow-Up</td>\n",
       "      <td>88.892508</td>\n",
       "    </tr>\n",
       "    <tr>\n",
       "      <th>5</th>\n",
       "      <td>Sign Out Note</td>\n",
       "      <td>79.749679</td>\n",
       "    </tr>\n",
       "    <tr>\n",
       "      <th>4</th>\n",
       "      <td>Consults</td>\n",
       "      <td>69.983393</td>\n",
       "    </tr>\n",
       "    <tr>\n",
       "      <th>0</th>\n",
       "      <td>Progress Notes</td>\n",
       "      <td>64.446346</td>\n",
       "    </tr>\n",
       "    <tr>\n",
       "      <th>11</th>\n",
       "      <td>Patient Instructions</td>\n",
       "      <td>56.819610</td>\n",
       "    </tr>\n",
       "    <tr>\n",
       "      <th>1</th>\n",
       "      <td>Care Plan Note</td>\n",
       "      <td>56.776278</td>\n",
       "    </tr>\n",
       "    <tr>\n",
       "      <th>3</th>\n",
       "      <td>Telephone Encounter</td>\n",
       "      <td>44.113424</td>\n",
       "    </tr>\n",
       "    <tr>\n",
       "      <th>2</th>\n",
       "      <td>ED Notes</td>\n",
       "      <td>12.835068</td>\n",
       "    </tr>\n",
       "  </tbody>\n",
       "</table>\n",
       "</div>"
      ],
      "text/plain": [
       "                 NOTE_DESC       PERC\n",
       "10       ED Provider Notes  99.149970\n",
       "8        Discharge Summary  98.324873\n",
       "7                      H&P  95.434162\n",
       "9   Discharge Instructions  90.365051\n",
       "6        Consult Follow-Up  88.892508\n",
       "5            Sign Out Note  79.749679\n",
       "4                 Consults  69.983393\n",
       "0           Progress Notes  64.446346\n",
       "11    Patient Instructions  56.819610\n",
       "1           Care Plan Note  56.776278\n",
       "3      Telephone Encounter  44.113424\n",
       "2                 ED Notes  12.835068"
      ]
     },
     "execution_count": 365,
     "metadata": {},
     "output_type": "execute_result"
    }
   ],
   "source": [
    "d.sort_values(\"PERC\", ascending=False)"
   ]
  },
  {
   "cell_type": "code",
   "execution_count": 363,
   "id": "a65601e4",
   "metadata": {},
   "outputs": [
    {
     "data": {
      "text/html": [
       "<div>\n",
       "<style scoped>\n",
       "    .dataframe tbody tr th:only-of-type {\n",
       "        vertical-align: middle;\n",
       "    }\n",
       "\n",
       "    .dataframe tbody tr th {\n",
       "        vertical-align: top;\n",
       "    }\n",
       "\n",
       "    .dataframe thead th {\n",
       "        text-align: right;\n",
       "    }\n",
       "</style>\n",
       "<table border=\"1\" class=\"dataframe\">\n",
       "  <thead>\n",
       "    <tr style=\"text-align: right;\">\n",
       "      <th></th>\n",
       "      <th>NOTE_DESC</th>\n",
       "      <th>PERC</th>\n",
       "    </tr>\n",
       "  </thead>\n",
       "  <tbody>\n",
       "    <tr>\n",
       "      <th>10</th>\n",
       "      <td>ED Provider Notes</td>\n",
       "      <td>99.149970</td>\n",
       "    </tr>\n",
       "    <tr>\n",
       "      <th>8</th>\n",
       "      <td>Discharge Summary</td>\n",
       "      <td>98.324873</td>\n",
       "    </tr>\n",
       "    <tr>\n",
       "      <th>7</th>\n",
       "      <td>H&amp;P</td>\n",
       "      <td>95.434162</td>\n",
       "    </tr>\n",
       "    <tr>\n",
       "      <th>9</th>\n",
       "      <td>Discharge Instructions</td>\n",
       "      <td>90.365051</td>\n",
       "    </tr>\n",
       "    <tr>\n",
       "      <th>6</th>\n",
       "      <td>Consult Follow-Up</td>\n",
       "      <td>88.892508</td>\n",
       "    </tr>\n",
       "    <tr>\n",
       "      <th>5</th>\n",
       "      <td>Sign Out Note</td>\n",
       "      <td>79.749679</td>\n",
       "    </tr>\n",
       "    <tr>\n",
       "      <th>4</th>\n",
       "      <td>Consults</td>\n",
       "      <td>69.983393</td>\n",
       "    </tr>\n",
       "    <tr>\n",
       "      <th>0</th>\n",
       "      <td>Progress Notes</td>\n",
       "      <td>64.446346</td>\n",
       "    </tr>\n",
       "    <tr>\n",
       "      <th>11</th>\n",
       "      <td>Patient Instructions</td>\n",
       "      <td>56.819610</td>\n",
       "    </tr>\n",
       "    <tr>\n",
       "      <th>1</th>\n",
       "      <td>Care Plan Note</td>\n",
       "      <td>56.776278</td>\n",
       "    </tr>\n",
       "  </tbody>\n",
       "</table>\n",
       "</div>"
      ],
      "text/plain": [
       "                 NOTE_DESC       PERC\n",
       "10       ED Provider Notes  99.149970\n",
       "8        Discharge Summary  98.324873\n",
       "7                      H&P  95.434162\n",
       "9   Discharge Instructions  90.365051\n",
       "6        Consult Follow-Up  88.892508\n",
       "5            Sign Out Note  79.749679\n",
       "4                 Consults  69.983393\n",
       "0           Progress Notes  64.446346\n",
       "11    Patient Instructions  56.819610\n",
       "1           Care Plan Note  56.776278"
      ]
     },
     "execution_count": 363,
     "metadata": {},
     "output_type": "execute_result"
    }
   ],
   "source": [
    "d[d[\"PERC\"] >= 50].sort_values(\"PERC\", ascending=False)"
   ]
  },
  {
   "cell_type": "code",
   "execution_count": 217,
   "id": "19e74d82",
   "metadata": {},
   "outputs": [
    {
     "data": {
      "text/plain": [
       "\"Justin Michael Kelly 9/6/2013 12:27 PM   PRIMARY TEAM: Treatment Team: Tt Med9 Np A, Pgr 27093  Patient's condition has unchanged since last report. Primary issue(s) this shift: CHEMO NEURO: AAO X3. MAE. Ambulates without difficulty CARDIAC: VSS. NO edema, no chest pains RESP: BS clear. No SOB. O2 sat 99-100 % on RA GI/GU: Abdomen soft + BS> No BM. Voids SKIN: no skin breakdown  Additional issue(s) this shift: CHEMO start. BEACON orders released Follow up items:  Chemo Core Data sheet-Advance Directive Complete? yes Advance Directive complete? no   IV access: yes L power port accessed. With good blood return Non-urgent issue for MD to address in next shift: none  Cruz, Maria Luz, RN   \""
      ]
     },
     "execution_count": 217,
     "metadata": {},
     "output_type": "execute_result"
    }
   ],
   "source": [
    "# Check 5-10 notes of each note type in the note_types list\n",
    "note_table[note_table[\"NOTE_DESC\"]== \"Sign Out Note\"].iloc[31].NOTE"
   ]
  },
  {
   "cell_type": "code",
   "execution_count": 58,
   "id": "55363eb6",
   "metadata": {},
   "outputs": [],
   "source": [
    "df = note_table.groupby([\"NOTE_DESC\"], as_index=False)[\"PAT_DEID\"].count()"
   ]
  },
  {
   "cell_type": "code",
   "execution_count": 9,
   "id": "48258d52",
   "metadata": {},
   "outputs": [],
   "source": [
    "grouped = note_table.groupby([\"PAT_DEID\", \"NOTE_DESC\"], as_index=False)[\"PAT_DEID\"].count()"
   ]
  },
  {
   "cell_type": "code",
   "execution_count": 28,
   "id": "82169901",
   "metadata": {},
   "outputs": [
    {
     "data": {
      "text/html": [
       "<div>\n",
       "<style scoped>\n",
       "    .dataframe tbody tr th:only-of-type {\n",
       "        vertical-align: middle;\n",
       "    }\n",
       "\n",
       "    .dataframe tbody tr th {\n",
       "        vertical-align: top;\n",
       "    }\n",
       "\n",
       "    .dataframe thead th {\n",
       "        text-align: right;\n",
       "    }\n",
       "</style>\n",
       "<table border=\"1\" class=\"dataframe\">\n",
       "  <thead>\n",
       "    <tr style=\"text-align: right;\">\n",
       "      <th></th>\n",
       "      <th>NOTE_DESC</th>\n",
       "      <th>PAT_DEID</th>\n",
       "    </tr>\n",
       "  </thead>\n",
       "  <tbody>\n",
       "    <tr>\n",
       "      <th>0</th>\n",
       "      <td>Consent Blood Transfusions, Blood Products, an...</td>\n",
       "      <td>1</td>\n",
       "    </tr>\n",
       "    <tr>\n",
       "      <th>1</th>\n",
       "      <td>Discharge Summary</td>\n",
       "      <td>1</td>\n",
       "    </tr>\n",
       "    <tr>\n",
       "      <th>2</th>\n",
       "      <td>H&amp;P</td>\n",
       "      <td>1</td>\n",
       "    </tr>\n",
       "    <tr>\n",
       "      <th>3</th>\n",
       "      <td>Letter</td>\n",
       "      <td>1</td>\n",
       "    </tr>\n",
       "    <tr>\n",
       "      <th>4</th>\n",
       "      <td>Outpatient Letter</td>\n",
       "      <td>1</td>\n",
       "    </tr>\n",
       "    <tr>\n",
       "      <th>...</th>\n",
       "      <td>...</td>\n",
       "      <td>...</td>\n",
       "    </tr>\n",
       "    <tr>\n",
       "      <th>20216</th>\n",
       "      <td>H&amp;P</td>\n",
       "      <td>2</td>\n",
       "    </tr>\n",
       "    <tr>\n",
       "      <th>20217</th>\n",
       "      <td>Patient Instructions</td>\n",
       "      <td>4</td>\n",
       "    </tr>\n",
       "    <tr>\n",
       "      <th>20218</th>\n",
       "      <td>Progress Notes</td>\n",
       "      <td>25</td>\n",
       "    </tr>\n",
       "    <tr>\n",
       "      <th>20219</th>\n",
       "      <td>Telephone Encounter</td>\n",
       "      <td>10</td>\n",
       "    </tr>\n",
       "    <tr>\n",
       "      <th>20220</th>\n",
       "      <td>Telephone Encounter follow up</td>\n",
       "      <td>2</td>\n",
       "    </tr>\n",
       "  </tbody>\n",
       "</table>\n",
       "<p>20221 rows × 2 columns</p>\n",
       "</div>"
      ],
      "text/plain": [
       "                                               NOTE_DESC  PAT_DEID\n",
       "0      Consent Blood Transfusions, Blood Products, an...         1\n",
       "1                                      Discharge Summary         1\n",
       "2                                                    H&P         1\n",
       "3                                                 Letter         1\n",
       "4                                      Outpatient Letter         1\n",
       "...                                                  ...       ...\n",
       "20216                                                H&P         2\n",
       "20217                               Patient Instructions         4\n",
       "20218                                     Progress Notes        25\n",
       "20219                                Telephone Encounter        10\n",
       "20220                      Telephone Encounter follow up         2\n",
       "\n",
       "[20221 rows x 2 columns]"
      ]
     },
     "execution_count": 28,
     "metadata": {},
     "output_type": "execute_result"
    }
   ],
   "source": [
    "grouped"
   ]
  },
  {
   "cell_type": "code",
   "execution_count": 10,
   "id": "08de8a42",
   "metadata": {},
   "outputs": [],
   "source": [
    "all_note_types = pd.unique(note_table.NOTE_DESC.values)"
   ]
  },
  {
   "cell_type": "code",
   "execution_count": 11,
   "id": "5ffb1310",
   "metadata": {},
   "outputs": [
    {
     "data": {
      "text/plain": [
       "1768"
      ]
     },
     "execution_count": 11,
     "metadata": {},
     "output_type": "execute_result"
    }
   ],
   "source": [
    "len(pd.unique(note_table[\"PAT_DEID\"]))"
   ]
  },
  {
   "cell_type": "code",
   "execution_count": 60,
   "id": "a6dc3804",
   "metadata": {},
   "outputs": [],
   "source": [
    "df_pat = pd.DataFrame()\n",
    "note_desc = []\n",
    "pat_count = []\n",
    "# Get the number of patients that have each type of notes \n",
    "for note_type in all_note_types:\n",
    "    note_desc.append(note_type)\n",
    "    pat_count.append(len(pd.unique(note_table[note_table[\"NOTE_DESC\"] == note_type][\"PAT_DEID\"])))\n",
    "    #print(f'Number of patients with {note_type}: {len(pd.unique(grouped[grouped[\"NOTE_DESC\"] == note_type][\"PAT_DEID\"]))}')\n",
    "\n",
    "df_pat[\"NOTE_DESC\"] = note_desc\n",
    "df_pat[\"NUMBER_OF_PATIENTS\"] = pat_count"
   ]
  },
  {
   "cell_type": "code",
   "execution_count": 61,
   "id": "f0f50846",
   "metadata": {},
   "outputs": [
    {
     "data": {
      "text/html": [
       "<div>\n",
       "<style scoped>\n",
       "    .dataframe tbody tr th:only-of-type {\n",
       "        vertical-align: middle;\n",
       "    }\n",
       "\n",
       "    .dataframe tbody tr th {\n",
       "        vertical-align: top;\n",
       "    }\n",
       "\n",
       "    .dataframe thead th {\n",
       "        text-align: right;\n",
       "    }\n",
       "</style>\n",
       "<table border=\"1\" class=\"dataframe\">\n",
       "  <thead>\n",
       "    <tr style=\"text-align: right;\">\n",
       "      <th></th>\n",
       "      <th>NOTE_DESC</th>\n",
       "      <th>NUMBER_OF_PATIENTS</th>\n",
       "    </tr>\n",
       "  </thead>\n",
       "  <tbody>\n",
       "    <tr>\n",
       "      <th>1</th>\n",
       "      <td>Progress Notes</td>\n",
       "      <td>1752</td>\n",
       "    </tr>\n",
       "    <tr>\n",
       "      <th>7</th>\n",
       "      <td>Telephone Encounter</td>\n",
       "      <td>1555</td>\n",
       "    </tr>\n",
       "    <tr>\n",
       "      <th>13</th>\n",
       "      <td>Discharge Summary</td>\n",
       "      <td>1378</td>\n",
       "    </tr>\n",
       "    <tr>\n",
       "      <th>6</th>\n",
       "      <td>H&amp;P</td>\n",
       "      <td>1377</td>\n",
       "    </tr>\n",
       "    <tr>\n",
       "      <th>8</th>\n",
       "      <td>Consults</td>\n",
       "      <td>1310</td>\n",
       "    </tr>\n",
       "    <tr>\n",
       "      <th>2</th>\n",
       "      <td>ED Provider Notes</td>\n",
       "      <td>1303</td>\n",
       "    </tr>\n",
       "    <tr>\n",
       "      <th>0</th>\n",
       "      <td>ED Notes</td>\n",
       "      <td>1278</td>\n",
       "    </tr>\n",
       "    <tr>\n",
       "      <th>9</th>\n",
       "      <td>Discharge Instructions</td>\n",
       "      <td>1276</td>\n",
       "    </tr>\n",
       "    <tr>\n",
       "      <th>3</th>\n",
       "      <td>Patient Instructions</td>\n",
       "      <td>940</td>\n",
       "    </tr>\n",
       "    <tr>\n",
       "      <th>5</th>\n",
       "      <td>Care Plan Note</td>\n",
       "      <td>882</td>\n",
       "    </tr>\n",
       "    <tr>\n",
       "      <th>20</th>\n",
       "      <td>Advance Care Planning</td>\n",
       "      <td>694</td>\n",
       "    </tr>\n",
       "    <tr>\n",
       "      <th>27</th>\n",
       "      <td>RN Transfer Note</td>\n",
       "      <td>634</td>\n",
       "    </tr>\n",
       "    <tr>\n",
       "      <th>29</th>\n",
       "      <td>ED Temp/RAP Patient</td>\n",
       "      <td>593</td>\n",
       "    </tr>\n",
       "    <tr>\n",
       "      <th>14</th>\n",
       "      <td>Procedures</td>\n",
       "      <td>593</td>\n",
       "    </tr>\n",
       "    <tr>\n",
       "      <th>19</th>\n",
       "      <td>Letter</td>\n",
       "      <td>584</td>\n",
       "    </tr>\n",
       "    <tr>\n",
       "      <th>15</th>\n",
       "      <td>Consult Follow-Up</td>\n",
       "      <td>545</td>\n",
       "    </tr>\n",
       "    <tr>\n",
       "      <th>25</th>\n",
       "      <td>Documentation Clarification</td>\n",
       "      <td>489</td>\n",
       "    </tr>\n",
       "    <tr>\n",
       "      <th>18</th>\n",
       "      <td>Operative Note</td>\n",
       "      <td>351</td>\n",
       "    </tr>\n",
       "    <tr>\n",
       "      <th>11</th>\n",
       "      <td>Sign Out Note</td>\n",
       "      <td>250</td>\n",
       "    </tr>\n",
       "    <tr>\n",
       "      <th>4</th>\n",
       "      <td>RTF Letter</td>\n",
       "      <td>238</td>\n",
       "    </tr>\n",
       "  </tbody>\n",
       "</table>\n",
       "</div>"
      ],
      "text/plain": [
       "                      NOTE_DESC  NUMBER_OF_PATIENTS\n",
       "1                Progress Notes                1752\n",
       "7           Telephone Encounter                1555\n",
       "13            Discharge Summary                1378\n",
       "6                           H&P                1377\n",
       "8                      Consults                1310\n",
       "2             ED Provider Notes                1303\n",
       "0                      ED Notes                1278\n",
       "9        Discharge Instructions                1276\n",
       "3          Patient Instructions                 940\n",
       "5                Care Plan Note                 882\n",
       "20        Advance Care Planning                 694\n",
       "27             RN Transfer Note                 634\n",
       "29         ED Temp/RAP Patient                  593\n",
       "14                   Procedures                 593\n",
       "19                       Letter                 584\n",
       "15            Consult Follow-Up                 545\n",
       "25  Documentation Clarification                 489\n",
       "18               Operative Note                 351\n",
       "11                Sign Out Note                 250\n",
       "4                    RTF Letter                 238"
      ]
     },
     "execution_count": 61,
     "metadata": {},
     "output_type": "execute_result"
    }
   ],
   "source": [
    "df_pat.sort_values(\"NUMBER_OF_PATIENTS\", ascending=False)[:20]"
   ]
  },
  {
   "cell_type": "code",
   "execution_count": 76,
   "id": "40e8b1a3",
   "metadata": {},
   "outputs": [],
   "source": [
    "# Note types selected by Malvika \n",
    "note_types = [\"Progress Notes\", \"Telephone Encounter\", \"ED Notes\", \"Discharge Summary\", \"ED Provider Notes\", \"H&P\", \"Care Plan Note\"]\n",
    "\n",
    "#==> consider Discharge Summary only if we use discharge codes for inpatient (TO CHECK)"
   ]
  },
  {
   "cell_type": "code",
   "execution_count": 77,
   "id": "7b93bdaa",
   "metadata": {},
   "outputs": [],
   "source": [
    "note_by_type = note_table.loc[note_table['NOTE_DESC'].isin(note_types)]"
   ]
  },
  {
   "cell_type": "code",
   "execution_count": 78,
   "id": "3a63e649",
   "metadata": {},
   "outputs": [
    {
     "data": {
      "text/plain": [
       "1768"
      ]
     },
     "execution_count": 78,
     "metadata": {},
     "output_type": "execute_result"
    }
   ],
   "source": [
    "len(pd.unique(note_by_type[\"PAT_DEID\"]))"
   ]
  },
  {
   "cell_type": "code",
   "execution_count": 79,
   "id": "6b3c85f4",
   "metadata": {},
   "outputs": [
    {
     "data": {
      "text/plain": [
       "1768"
      ]
     },
     "execution_count": 79,
     "metadata": {},
     "output_type": "execute_result"
    }
   ],
   "source": [
    "len(pd.unique(note_table[\"PAT_DEID\"]))"
   ]
  },
  {
   "cell_type": "code",
   "execution_count": 80,
   "id": "94f49c2c",
   "metadata": {},
   "outputs": [
    {
     "data": {
      "text/plain": [
       "LoadJob<project=som-nero-phi-boussard, location=US, id=4f997a1b-153b-40b2-889d-15896ceecad0>"
      ]
     },
     "execution_count": 80,
     "metadata": {},
     "output_type": "execute_result"
    }
   ],
   "source": [
    "# Save note table\n",
    "# Specify destination for storing dataframe\n",
    "destination = f\"som-nero-phi-boussard.ES_ACU_Oncology.note_by_type\"\n",
    "\n",
    "# Save file to Big Query\n",
    "load_job = client.load_table_from_dataframe(dataframe = note_by_type,                                  \n",
    "                                                   destination = destination,\n",
    "                                                   job_config = job_config)\n",
    "\n",
    "# Run the job:\n",
    "load_job.result()"
   ]
  },
  {
   "cell_type": "code",
   "execution_count": 27,
   "id": "562d9916",
   "metadata": {},
   "outputs": [
    {
     "data": {
      "text/plain": [
       "1768"
      ]
     },
     "execution_count": 27,
     "metadata": {},
     "output_type": "execute_result"
    }
   ],
   "source": [
    "len(pd.unique(note_table[\"PAT_DEID\"]))"
   ]
  },
  {
   "cell_type": "code",
   "execution_count": 70,
   "id": "4b04b6b9",
   "metadata": {},
   "outputs": [
    {
     "data": {
      "text/html": [
       "<div>\n",
       "<style scoped>\n",
       "    .dataframe tbody tr th:only-of-type {\n",
       "        vertical-align: middle;\n",
       "    }\n",
       "\n",
       "    .dataframe tbody tr th {\n",
       "        vertical-align: top;\n",
       "    }\n",
       "\n",
       "    .dataframe thead th {\n",
       "        text-align: right;\n",
       "    }\n",
       "</style>\n",
       "<table border=\"1\" class=\"dataframe\">\n",
       "  <thead>\n",
       "    <tr style=\"text-align: right;\">\n",
       "      <th></th>\n",
       "      <th>NOTE_DESC</th>\n",
       "    </tr>\n",
       "  </thead>\n",
       "  <tbody>\n",
       "    <tr>\n",
       "      <th>Progress Notes</th>\n",
       "      <td>18931</td>\n",
       "    </tr>\n",
       "    <tr>\n",
       "      <th>Telephone Encounter</th>\n",
       "      <td>8115</td>\n",
       "    </tr>\n",
       "    <tr>\n",
       "      <th>Care Plan Note</th>\n",
       "      <td>4109</td>\n",
       "    </tr>\n",
       "    <tr>\n",
       "      <th>ED Notes</th>\n",
       "      <td>2856</td>\n",
       "    </tr>\n",
       "    <tr>\n",
       "      <th>Consults</th>\n",
       "      <td>2603</td>\n",
       "    </tr>\n",
       "    <tr>\n",
       "      <th>...</th>\n",
       "      <td>...</td>\n",
       "    </tr>\n",
       "    <tr>\n",
       "      <th>Outside Photographs</th>\n",
       "      <td>1</td>\n",
       "    </tr>\n",
       "    <tr>\n",
       "      <th>OUTSD NURSING NOTES</th>\n",
       "      <td>1</td>\n",
       "    </tr>\n",
       "    <tr>\n",
       "      <th>Transfer Summary</th>\n",
       "      <td>1</td>\n",
       "    </tr>\n",
       "    <tr>\n",
       "      <th>HP COMPLEM MED INTAKE FORM</th>\n",
       "      <td>1</td>\n",
       "    </tr>\n",
       "    <tr>\n",
       "      <th>CORE DATA TERMS-CONDITIONS OF SVC CLINIC AND OUTPT ANCILLARY SVCS</th>\n",
       "      <td>1</td>\n",
       "    </tr>\n",
       "  </tbody>\n",
       "</table>\n",
       "<p>144 rows × 1 columns</p>\n",
       "</div>"
      ],
      "text/plain": [
       "                                                    NOTE_DESC\n",
       "Progress Notes                                          18931\n",
       "Telephone Encounter                                      8115\n",
       "Care Plan Note                                           4109\n",
       "ED Notes                                                 2856\n",
       "Consults                                                 2603\n",
       "...                                                       ...\n",
       "Outside Photographs                                         1\n",
       "OUTSD NURSING NOTES                                         1\n",
       "Transfer Summary                                            1\n",
       "HP COMPLEM MED INTAKE FORM                                  1\n",
       "CORE DATA TERMS-CONDITIONS OF SVC CLINIC AND OU...          1\n",
       "\n",
       "[144 rows x 1 columns]"
      ]
     },
     "execution_count": 70,
     "metadata": {},
     "output_type": "execute_result"
    }
   ],
   "source": [
    "df = note_table.NOTE_DESC.value_counts().to_frame()\n",
    "df"
   ]
  },
  {
   "cell_type": "code",
   "execution_count": 71,
   "id": "8c6ef445",
   "metadata": {},
   "outputs": [
    {
     "data": {
      "text/html": [
       "<div>\n",
       "<style scoped>\n",
       "    .dataframe tbody tr th:only-of-type {\n",
       "        vertical-align: middle;\n",
       "    }\n",
       "\n",
       "    .dataframe tbody tr th {\n",
       "        vertical-align: top;\n",
       "    }\n",
       "\n",
       "    .dataframe thead th {\n",
       "        text-align: right;\n",
       "    }\n",
       "</style>\n",
       "<table border=\"1\" class=\"dataframe\">\n",
       "  <thead>\n",
       "    <tr style=\"text-align: right;\">\n",
       "      <th></th>\n",
       "      <th>NOTE_DESC</th>\n",
       "    </tr>\n",
       "  </thead>\n",
       "  <tbody>\n",
       "    <tr>\n",
       "      <th>Progress Notes</th>\n",
       "      <td>18931</td>\n",
       "    </tr>\n",
       "    <tr>\n",
       "      <th>Telephone Encounter</th>\n",
       "      <td>8115</td>\n",
       "    </tr>\n",
       "    <tr>\n",
       "      <th>Care Plan Note</th>\n",
       "      <td>4109</td>\n",
       "    </tr>\n",
       "    <tr>\n",
       "      <th>ED Notes</th>\n",
       "      <td>2856</td>\n",
       "    </tr>\n",
       "    <tr>\n",
       "      <th>Consults</th>\n",
       "      <td>2603</td>\n",
       "    </tr>\n",
       "    <tr>\n",
       "      <th>Sign Out Note</th>\n",
       "      <td>1674</td>\n",
       "    </tr>\n",
       "    <tr>\n",
       "      <th>Patient Instructions</th>\n",
       "      <td>1589</td>\n",
       "    </tr>\n",
       "    <tr>\n",
       "      <th>H&amp;P</th>\n",
       "      <td>1129</td>\n",
       "    </tr>\n",
       "    <tr>\n",
       "      <th>Consult Follow-Up</th>\n",
       "      <td>1022</td>\n",
       "    </tr>\n",
       "  </tbody>\n",
       "</table>\n",
       "</div>"
      ],
      "text/plain": [
       "                      NOTE_DESC\n",
       "Progress Notes            18931\n",
       "Telephone Encounter        8115\n",
       "Care Plan Note             4109\n",
       "ED Notes                   2856\n",
       "Consults                   2603\n",
       "Sign Out Note              1674\n",
       "Patient Instructions       1589\n",
       "H&P                        1129\n",
       "Consult Follow-Up          1022"
      ]
     },
     "execution_count": 71,
     "metadata": {},
     "output_type": "execute_result"
    }
   ],
   "source": [
    "df[df[\"NOTE_DESC\"] > 1000]"
   ]
  },
  {
   "cell_type": "code",
   "execution_count": 121,
   "id": "cfde79ee",
   "metadata": {},
   "outputs": [
    {
     "name": "stdout",
     "output_type": "stream",
     "text": [
      "Stats for Progress Notes: min = 3; max: 13596; mean: 1009.601975595584; median: 612.0\n",
      "Stats for Telephone Encounter: min = 3; max: 4791; mean: 168.117067159581; median: 103.0\n",
      "Stats for ED Notes: min = 3; max: 589; mean: 23.50455182072829; median: 14.0\n",
      "Stats for Discharge Summary: min = 37; max: 7919; mean: 2521.6407538280328; median: 2471.0\n",
      "Stats for ED Provider Notes: min = 17; max: 5734; mean: 2089.3762376237623; median: 2060.0\n",
      "Stats for H&P: min = 10; max: 7913; mean: 2057.523472099203; median: 2049.0\n",
      "Stats for Nursing Note: min = 3; max: 710; mean: 107.97014925373135; median: 42.0\n"
     ]
    }
   ],
   "source": [
    "# Get the number of patients that have each type of notes \n",
    "for note_type in note_types:\n",
    "    min_val = note_table[note_table[\"NOTE_DESC\"]==note_type][\"WORD_COUNT\"].min()\n",
    "    max_val = note_table[note_table[\"NOTE_DESC\"]==note_type][\"WORD_COUNT\"].max()\n",
    "    mean_val = note_table[note_table[\"NOTE_DESC\"]==note_type][\"WORD_COUNT\"].mean()\n",
    "    median_val = note_table[note_table[\"NOTE_DESC\"]==note_type][\"WORD_COUNT\"].median()\n",
    "    print(f'Stats for {note_type}: min = {min_val}; max: {max_val}; mean: {mean_val}; median: {median_val}')"
   ]
  },
  {
   "cell_type": "code",
   "execution_count": 106,
   "id": "bb91c10d",
   "metadata": {},
   "outputs": [
    {
     "data": {
      "text/plain": [
       "2060.0"
      ]
     },
     "execution_count": 106,
     "metadata": {},
     "output_type": "execute_result"
    }
   ],
   "source": [
    "# Obtain statistics for each note type in the note_types list\n",
    "note_table[note_table[\"NOTE_DESC\"]==\"ED Provider Notes\"][\"WORD_COUNT\"].median()"
   ]
  },
  {
   "cell_type": "code",
   "execution_count": 69,
   "id": "1aa2a461",
   "metadata": {},
   "outputs": [
    {
     "data": {
      "text/plain": [
       "' Problem: Adult Inpatient Plan of Care Goal: Plan of Care Review Outcome: Ongoing, progressing Goal: Optimal Comfort and Wellbeing Outcome: Ongoing, progressing   Problem: Fall Injury Risk Goal: Absence of Fall and Fall-Related Injury Outcome: Ongoing, progressing  Patient is aware of plan of care. VSS. Using bedside commode to promote mobility. Defecating frequently. No complaints of pain. '"
      ]
     },
     "execution_count": 69,
     "metadata": {},
     "output_type": "execute_result"
    }
   ],
   "source": [
    "# Check 5-10 notes of each note type in the note_types list\n",
    "note_table[note_table[\"NOTE_DESC\"]==\"Care Plan Note\"].iloc[100].NOTE"
   ]
  },
  {
   "cell_type": "markdown",
   "id": "cf05a548",
   "metadata": {},
   "source": [
    "Insights: \n",
    "- Nursing Note are often pretty short and don't look useful (min = 3; max = 710; mean = 108; median = 42.0)\n",
    "- ED Provider Notes are often pretty (min = 17; max = 5734; mean = 2089; median = 2060)\n"
   ]
  },
  {
   "cell_type": "code",
   "execution_count": 24,
   "id": "080efa69",
   "metadata": {},
   "outputs": [],
   "source": [
    "# Select the note types by Malvika & Tina\n",
    "#note_types = [\"Progress Notes\", \"Telephone Encounter\", \"ED Notes\", \"Discharge Summary\", \"ED Provider Notes\", \"H&P\", \"Nursing Note\"]\n",
    "# Start simple like Claudio (by Doug) according to Max\n",
    "note_types = [\"Progress Notes\", \"H&P\"]"
   ]
  },
  {
   "cell_type": "code",
   "execution_count": 235,
   "id": "bb1f382a",
   "metadata": {},
   "outputs": [],
   "source": [
    "# Note types selected by Malvika \n",
    "note_types = [\"Progress Notes\", \"Telephone Encounter\", \"ED Notes\", \"Discharge Summary\", \"ED Provider Notes\", \"H&P\", \"Care Plan Note\", \"Document Classification\", \"Consults\", \"Consult Follow-Up\", \"Discharge Instruction\", \"Patient Instructions\", \"RN Transfer Note\", \"ED Temp/RAP Patient\"]"
   ]
  },
  {
   "cell_type": "code",
   "execution_count": 236,
   "id": "15e09a1b",
   "metadata": {},
   "outputs": [],
   "source": [
    "note_by_type = note_table.loc[note_table['NOTE_DESC'].isin(note_types)]"
   ]
  },
  {
   "cell_type": "code",
   "execution_count": 279,
   "id": "c034e576",
   "metadata": {},
   "outputs": [
    {
     "data": {
      "text/plain": [
       "Progress Notes          21\n",
       "Consults                 7\n",
       "Telephone Encounter      5\n",
       "H&P                      4\n",
       "ED Notes                 3\n",
       "ED Provider Notes        2\n",
       "Consult Follow-Up        2\n",
       "RN Transfer Note         2\n",
       "Discharge Summary        2\n",
       "Patient Instructions     1\n",
       "Care Plan Note           1\n",
       "Name: NOTE_DESC, dtype: int64"
      ]
     },
     "execution_count": 279,
     "metadata": {},
     "output_type": "execute_result"
    }
   ],
   "source": [
    "pat_note = note_by_type[note_by_type[\"PAT_DEID\"] == 10789]\n",
    "pat_note.NOTE_DESC.value_counts()"
   ]
  },
  {
   "cell_type": "code",
   "execution_count": 280,
   "id": "235aa2e5",
   "metadata": {},
   "outputs": [],
   "source": [
    "relevant_note = pat_note['NOTE'].str.upper().apply(lambda x: any(y in x for y in class_1 + emesis + dehydration))\n",
    "relevant_note_table = pat_note.loc[relevant_note]\n"
   ]
  },
  {
   "cell_type": "code",
   "execution_count": 281,
   "id": "14117008",
   "metadata": {},
   "outputs": [
    {
     "data": {
      "text/plain": [
       "Progress Notes          14\n",
       "H&P                      4\n",
       "Consults                 3\n",
       "ED Provider Notes        2\n",
       "RN Transfer Note         2\n",
       "Discharge Summary        2\n",
       "Telephone Encounter      2\n",
       "Patient Instructions     1\n",
       "Consult Follow-Up        1\n",
       "Care Plan Note           1\n",
       "Name: NOTE_DESC, dtype: int64"
      ]
     },
     "execution_count": 281,
     "metadata": {},
     "output_type": "execute_result"
    }
   ],
   "source": [
    "relevant_note_table.NOTE_DESC.value_counts()"
   ]
  },
  {
   "cell_type": "code",
   "execution_count": 266,
   "id": "f8322746",
   "metadata": {},
   "outputs": [
    {
     "data": {
      "text/plain": [
       "'Stanford Hospital and Clinics Department of General Surgery Division of Surgical Oncology  Discharge Summary      Attending Physician: Brendan Visser, MD  Admission Date: 2/14/2018  Discharge Date: 2/17/2018    Admission Diagnosis: GASTRIC ADENOCARCINOMA  Discharge Diagnosis: Same as above  Operative Procedure: Procedure(s): IR BILIARY DRAIN REPLACEMENT    Reason for Hospitalization: Post-operative monitoring  History of Present Illness:  33 Y\\xa0F\\xa0h/o perforated duodenal ulcer s/p exploratory laparotomy and repair with Graham patch (10/14/17), gastric outlet obstruction s/p exploratory laparotomy, antrectomy, revision of prior gastrojejunostomy, Bilroth I gastroduodenoscopy with cholecystectomy, placement of common bile duct T-tube (12/28/17), and recently diagnosed T4aN2M1 gastric adenocarcinoma s/p cycle 1 of FOLFOX on 02/07/18. She was admitted urgently on Sunday 2/12 for worsening symptoms related to her gastric outlet obstruction. She underwent EGD and duodenal stent placement on 2/13. The ampulla was at the most narrow point of stent so ERCP was defered\\xa0as the stent continues to expand and the mechanics and angulation change. She as discharged this morning with plans to follow up with GI for ERCP to internalize her biliary drain. She returns to the ED because her T tube fell out this afternoon after returning home.   Hospital Course:  Megan Soros was taken to IR after being seen in the ED and had an internal/external biliary drain placed Post procedure she was given full liquids which she tolerated. On hospital day 2 we attempted to have GI place a stent using the track of the internal/external drain, however they were unable to given the placement of the stent. The following day IR was consulted to place a PTBD which was done successfully. Post procedure she felt well and it was planned for her to return in 1 week to to internalize the drain.   The patient will follow-up in HPB \\nSurgery clinic as needed after internalization of the drain and touching base with med onc.   Exam: Blood pressure 107/71, pulse 66, temperature 36.8 °C (98.3 °F), temperature source Oral, resp. rate 16, weight 49.9 kg (110 lb 0.2 oz), SpO2 98 %.  General: in no acute distress Psych: Alert, normal affect Lungs: no respiratory distress Heart: Regular rate and rhythm Abdomen: soft, non tender, nondistended, PTBD with bloody drainage Extremities: Warm, well perfused                                  Comorbidities: Past Medical History:  Diagnosis Date  ¿ Duodenal ulcer  ¿ Gastric cancer (CMS-HCC)  ¿ HSV-1 infection    Patient Active Problem List  Diagnosis Date Noted  ¿ Generalized abdominal pain [R10.84] 02/14/2018  ¿ Dehydration [E86.0] 02/11/2018  ¿ Tachycardia [R00.0] 02/11/2018  ¿ Failure to thrive in adult [R62.7] 02/11/2018  ¿ Intractable vomiting with nausea [R11.2] 02/11/2018  ¿ Esophagitis [K20.9] 01/25/2018  ¿ Gastric adenocarcinoma (CMS-HCC) [C16.9] 01/17/2018   Newly dx metastatic adenocarcinoma in 3/3 lymph nodes with at least two additional tumor deposits       Complications: None  Condition at Discharge: Stable  Disposition: Home  Follow up: Follow up in HPB Surgery clinic after meeting with med onc   RELEVANT CLINICAL CONDITIONS:  CV :   Pulmonary :   Renal :   GI :   Neuro :   Heme :   Cancer : Cancer without metastasis, primary gastric  Metabolic/Electrolyte :   Malnutrition :   Sepsis :   Shock :   ETOH :   Other :      Discharge Medications    What to do with your medications   TAKE these medications   Instructions  dexamethasone 4 mg tablet Commonly known as: DECADRON   1 tab in am.   FLUOROURACIL IV HOME INFUSION   2,340 mg by Intravenous route daily Continuous infusion over 24 hours for each day ordered. Infuse via ambulatory infusion pump and associated infusion \\nsupplies.   LORazepam 1 mg tablet Commonly known as: ATIVAN   take 1 Tab by mouth every 8 hours as needed For nausea and vomiting.   metoclopramide HCl 5 mg tablet Commonly known as: REGLAN   1-2 tabs every 6 hours as needed and before eating.   omeprazole 20 mg delayed release capsule Commonly known as: PRILOSEC   take 20 mg by mouth 2 times a day   ondansetron 8 mg tablet Commonly known as: ZOFRAN   take 1 Tab by mouth every 8 hours as needed For nausea and vomiting.   oxyCODONE 5 mg tablet Commonly known as: ROXICODONE   take 1 Tab by mouth every 6 hours as needed   prochlorperazine 10 mg tablet Commonly known as: COMPAZINE   take 1 Tab by mouth every 8 hours as needed For nausea and vomiting.      Where to Get Your Medications   Prescription Printed - may take to any pharmacy  Bring a paper prescription for each of these medications · oxyCODONE 5 mg tablet     Discharge Instructions  Discharge Procedure Orders Discharge Diet  Order Specific Question Answer Comments  Diet Full Liquid   Physical Activity  Order Specific Question Answer Comments  Physicial Activity As Tolerated   Additional Instructions  Order Comments: STANFORD HOSPITAL AND CLINICS DISCHARGE INSTRUCTIONS  DIET: Full liquids  MEDICATIONS: Use pain medications as directed. Narcotic medications such as oxycodone cause constipation, so use stool softeners (Colace or Miralax) as needed to keep your stool soft and to avoid straining with bowel movements. Drink at least 6 glasses of water per day to help keep your stool soft.  PHYSICAL ACTIVITY: Avoid lifting more than 10 pounds, and any strenuous activity while you are recovering from surgery. Continue to try to perform some activity as you can tolerate. It is important that you continue to take 3-4 walks every day.  FOLLOW-UP:  Follow up with IR in 1 week to have the second procedure for the drain  You will touch base \\nwith your oncologist early next week for another blood test  The HPB surgery team will be in close contact with your oncologist for follow up.   WARNING SIGNS: Contact your surgical team if you develop:  - Fever greater than 101 degrees or shaking chills - Persistent bleeding from your wound - Increasing pain, swelling, redness, or drainage around your drain - Nausea, vomiting, or bloating to the point of pain - Jaundince  WHO TO CALL: For medical advice during business hours, call the HPB Surgery nurse at (650) 498-6000.  If you need medical advice after hours, call the Stanford page operator at 650-723-6661 and ask to speak to the general surgery consult resident on call.   For emergencies, call 911 or visit the emergency room at Stanford or your local hospital for help.  It has been a pleasure to have you as a patient.     Stanford Hospital and Clinics Appointments Scheduled in the Next 30 Days Future Appointments    Provider Department Dept Phone Address  2/19/2018 5:00 PM ITA MED ONC Infusion Treatment Area 650-498-6000 875 Blake Wilbur DriveStanford CA 94305  2/20/2018 11:00 AM Oh, In Eui PALLIATIVE MED BW 650-498-6000 900 Blake Wilbur Dr. 3rd floorPalo Alto CA 94305     Auriel Tabia August, MD  General Surgery      '"
      ]
     },
     "execution_count": 266,
     "metadata": {},
     "output_type": "execute_result"
    }
   ],
   "source": [
    "note_by_type[note_by_type[\"EFFECTIVE_TIME\"] == \"2018-02-17 09:32:00\"].iloc[0].NOTE"
   ]
  },
  {
   "cell_type": "code",
   "execution_count": null,
   "id": "cdda025c",
   "metadata": {},
   "outputs": [],
   "source": [
    "# Check les patient que jai checker dabord et si pas assez de varite: check ce patient 10789 "
   ]
  },
  {
   "cell_type": "code",
   "execution_count": 27,
   "id": "5cb6c4bc",
   "metadata": {},
   "outputs": [],
   "source": [
    "#note_table[note_table[\"NOTE_DESC\"]==\"H&P\"].iloc[50].NOTE"
   ]
  },
  {
   "cell_type": "code",
   "execution_count": 28,
   "id": "4056f1c0",
   "metadata": {},
   "outputs": [
    {
     "data": {
      "text/html": [
       "<div>\n",
       "<style scoped>\n",
       "    .dataframe tbody tr th:only-of-type {\n",
       "        vertical-align: middle;\n",
       "    }\n",
       "\n",
       "    .dataframe tbody tr th {\n",
       "        vertical-align: top;\n",
       "    }\n",
       "\n",
       "    .dataframe thead th {\n",
       "        text-align: right;\n",
       "    }\n",
       "</style>\n",
       "<table border=\"1\" class=\"dataframe\">\n",
       "  <thead>\n",
       "    <tr style=\"text-align: right;\">\n",
       "      <th></th>\n",
       "      <th>PAT_DEID</th>\n",
       "      <th>NOTE</th>\n",
       "      <th>EFFECTIVE_TIME</th>\n",
       "      <th>NOTE_DESC</th>\n",
       "      <th>WORD_COUNT</th>\n",
       "    </tr>\n",
       "  </thead>\n",
       "  <tbody>\n",
       "    <tr>\n",
       "      <th>2</th>\n",
       "      <td>400384</td>\n",
       "      <td>Stanford Hospital and Clinics  History and Phy...</td>\n",
       "      <td>2016-08-10 17:31:00</td>\n",
       "      <td>H&amp;P</td>\n",
       "      <td>2361</td>\n",
       "    </tr>\n",
       "    <tr>\n",
       "      <th>3</th>\n",
       "      <td>400384</td>\n",
       "      <td>Stanford Hospital and Clinics  History and Phy...</td>\n",
       "      <td>2016-08-31 13:05:00</td>\n",
       "      <td>H&amp;P</td>\n",
       "      <td>2031</td>\n",
       "    </tr>\n",
       "    <tr>\n",
       "      <th>4</th>\n",
       "      <td>2775296</td>\n",
       "      <td>Stanford Hospital and Clinics  Pre-Procedure  ...</td>\n",
       "      <td>2013-11-05 12:24:00</td>\n",
       "      <td>H&amp;P</td>\n",
       "      <td>1598</td>\n",
       "    </tr>\n",
       "    <tr>\n",
       "      <th>5</th>\n",
       "      <td>1618176</td>\n",
       "      <td>Stanford Hospital and Clinics  Interventional ...</td>\n",
       "      <td>2013-03-11 08:57:00</td>\n",
       "      <td>H&amp;P</td>\n",
       "      <td>471</td>\n",
       "    </tr>\n",
       "    <tr>\n",
       "      <th>6</th>\n",
       "      <td>2360321</td>\n",
       "      <td>Stanford Hospital and Clinics  History and P...</td>\n",
       "      <td>2015-02-06 18:12:00</td>\n",
       "      <td>H&amp;P</td>\n",
       "      <td>2070</td>\n",
       "    </tr>\n",
       "    <tr>\n",
       "      <th>...</th>\n",
       "      <td>...</td>\n",
       "      <td>...</td>\n",
       "      <td>...</td>\n",
       "      <td>...</td>\n",
       "      <td>...</td>\n",
       "    </tr>\n",
       "    <tr>\n",
       "      <th>34182</th>\n",
       "      <td>2222591</td>\n",
       "      <td>Stanford Hospital and Clinics  Gynecology Onco...</td>\n",
       "      <td>2017-10-09 08:30:00</td>\n",
       "      <td>Progress Notes</td>\n",
       "      <td>3014</td>\n",
       "    </tr>\n",
       "    <tr>\n",
       "      <th>34183</th>\n",
       "      <td>2222591</td>\n",
       "      <td>Patient's Name: Maria Y Diaz  Today's Date: 10...</td>\n",
       "      <td>2017-10-17 11:43:00</td>\n",
       "      <td>Progress Notes</td>\n",
       "      <td>235</td>\n",
       "    </tr>\n",
       "    <tr>\n",
       "      <th>34184</th>\n",
       "      <td>2222591</td>\n",
       "      <td>Patient's Name: Maria Y Diaz  Today's Date: 10...</td>\n",
       "      <td>2017-10-09 12:33:00</td>\n",
       "      <td>Progress Notes</td>\n",
       "      <td>216</td>\n",
       "    </tr>\n",
       "    <tr>\n",
       "      <th>34185</th>\n",
       "      <td>2222591</td>\n",
       "      <td>Stanford Health Care  Palliative Medicine    P...</td>\n",
       "      <td>2017-10-12 11:00:00</td>\n",
       "      <td>Progress Notes</td>\n",
       "      <td>2939</td>\n",
       "    </tr>\n",
       "    <tr>\n",
       "      <th>34186</th>\n",
       "      <td>2222591</td>\n",
       "      <td>Patient came to BW for lab draw.    Denies any...</td>\n",
       "      <td>2017-10-09 07:40:00</td>\n",
       "      <td>Progress Notes</td>\n",
       "      <td>81</td>\n",
       "    </tr>\n",
       "  </tbody>\n",
       "</table>\n",
       "<p>20060 rows × 5 columns</p>\n",
       "</div>"
      ],
      "text/plain": [
       "       PAT_DEID                                               NOTE  \\\n",
       "2        400384  Stanford Hospital and Clinics  History and Phy...   \n",
       "3        400384  Stanford Hospital and Clinics  History and Phy...   \n",
       "4       2775296  Stanford Hospital and Clinics  Pre-Procedure  ...   \n",
       "5       1618176  Stanford Hospital and Clinics  Interventional ...   \n",
       "6       2360321    Stanford Hospital and Clinics  History and P...   \n",
       "...         ...                                                ...   \n",
       "34182   2222591  Stanford Hospital and Clinics  Gynecology Onco...   \n",
       "34183   2222591  Patient's Name: Maria Y Diaz  Today's Date: 10...   \n",
       "34184   2222591  Patient's Name: Maria Y Diaz  Today's Date: 10...   \n",
       "34185   2222591  Stanford Health Care  Palliative Medicine    P...   \n",
       "34186   2222591  Patient came to BW for lab draw.    Denies any...   \n",
       "\n",
       "           EFFECTIVE_TIME       NOTE_DESC  WORD_COUNT  \n",
       "2     2016-08-10 17:31:00             H&P        2361  \n",
       "3     2016-08-31 13:05:00             H&P        2031  \n",
       "4     2013-11-05 12:24:00             H&P        1598  \n",
       "5     2013-03-11 08:57:00             H&P         471  \n",
       "6     2015-02-06 18:12:00             H&P        2070  \n",
       "...                   ...             ...         ...  \n",
       "34182 2017-10-09 08:30:00  Progress Notes        3014  \n",
       "34183 2017-10-17 11:43:00  Progress Notes         235  \n",
       "34184 2017-10-09 12:33:00  Progress Notes         216  \n",
       "34185 2017-10-12 11:00:00  Progress Notes        2939  \n",
       "34186 2017-10-09 07:40:00  Progress Notes          81  \n",
       "\n",
       "[20060 rows x 5 columns]"
      ]
     },
     "execution_count": 28,
     "metadata": {},
     "output_type": "execute_result"
    }
   ],
   "source": [
    "note_by_type"
   ]
  },
  {
   "cell_type": "code",
   "execution_count": 29,
   "id": "4841a75b",
   "metadata": {},
   "outputs": [
    {
     "name": "stdout",
     "output_type": "stream",
     "text": [
      "Number of patient with relevant types of notes: 1724\n"
     ]
    }
   ],
   "source": [
    "print(f'Number of patient with relevant types of notes: {len(pd.unique(note_by_type[\"PAT_DEID\"]))}')"
   ]
  },
  {
   "cell_type": "markdown",
   "id": "31ff220a",
   "metadata": {},
   "source": [
    "**We remove 35 patients**"
   ]
  },
  {
   "cell_type": "markdown",
   "id": "d938c466",
   "metadata": {},
   "source": [
    "TODO: check the removed patient notes"
   ]
  },
  {
   "cell_type": "code",
   "execution_count": 34,
   "id": "27685689",
   "metadata": {},
   "outputs": [],
   "source": [
    "removed_patient = list(set(note_table.PAT_DEID).difference(set(note_by_type.PAT_DEID)))"
   ]
  },
  {
   "cell_type": "code",
   "execution_count": 35,
   "id": "40b3f826",
   "metadata": {},
   "outputs": [
    {
     "data": {
      "text/plain": [
       "35"
      ]
     },
     "execution_count": 35,
     "metadata": {},
     "output_type": "execute_result"
    }
   ],
   "source": [
    "len(removed_patient)"
   ]
  },
  {
   "cell_type": "code",
   "execution_count": 47,
   "id": "37101f5b",
   "metadata": {},
   "outputs": [
    {
     "data": {
      "text/html": [
       "<div>\n",
       "<style scoped>\n",
       "    .dataframe tbody tr th:only-of-type {\n",
       "        vertical-align: middle;\n",
       "    }\n",
       "\n",
       "    .dataframe tbody tr th {\n",
       "        vertical-align: top;\n",
       "    }\n",
       "\n",
       "    .dataframe thead th {\n",
       "        text-align: right;\n",
       "    }\n",
       "</style>\n",
       "<table border=\"1\" class=\"dataframe\">\n",
       "  <thead>\n",
       "    <tr style=\"text-align: right;\">\n",
       "      <th></th>\n",
       "      <th>PAT_DEID</th>\n",
       "      <th>NOTE</th>\n",
       "      <th>EFFECTIVE_TIME</th>\n",
       "      <th>NOTE_DESC</th>\n",
       "      <th>WORD_COUNT</th>\n",
       "    </tr>\n",
       "  </thead>\n",
       "  <tbody>\n",
       "    <tr>\n",
       "      <th>1345</th>\n",
       "      <td>375611</td>\n",
       "      <td>STANFORD HOSPITAL AND CLINICS  EMERGENCY DEPAR...</td>\n",
       "      <td>2013-02-14 00:00:00</td>\n",
       "      <td>Letter</td>\n",
       "      <td>321</td>\n",
       "    </tr>\n",
       "    <tr>\n",
       "      <th>1430</th>\n",
       "      <td>3727954</td>\n",
       "      <td>Vascular Clinic and Lab  300 Pasteur Drive,...</td>\n",
       "      <td>2018-03-16 00:00:00</td>\n",
       "      <td>Letter</td>\n",
       "      <td>381</td>\n",
       "    </tr>\n",
       "    <tr>\n",
       "      <th>1540</th>\n",
       "      <td>2936693</td>\n",
       "      <td>STANFORD HOSPITAL AND CLINICS  EMERGENCY DEPAR...</td>\n",
       "      <td>2014-05-10 00:00:00</td>\n",
       "      <td>Letter</td>\n",
       "      <td>277</td>\n",
       "    </tr>\n",
       "    <tr>\n",
       "      <th>1755</th>\n",
       "      <td>1742521</td>\n",
       "      <td>STANFORD HOSPITAL AND CLINICS  EMERGENCY DEPAR...</td>\n",
       "      <td>2014-01-29 00:00:00</td>\n",
       "      <td>Letter</td>\n",
       "      <td>315</td>\n",
       "    </tr>\n",
       "    <tr>\n",
       "      <th>1883</th>\n",
       "      <td>616931</td>\n",
       "      <td>Jill and John Freidenrich Breast Center  Stan...</td>\n",
       "      <td>2013-08-20 00:00:00</td>\n",
       "      <td>Letter</td>\n",
       "      <td>2131</td>\n",
       "    </tr>\n",
       "    <tr>\n",
       "      <th>...</th>\n",
       "      <td>...</td>\n",
       "      <td>...</td>\n",
       "      <td>...</td>\n",
       "      <td>...</td>\n",
       "      <td>...</td>\n",
       "    </tr>\n",
       "    <tr>\n",
       "      <th>48626</th>\n",
       "      <td>3122045</td>\n",
       "      <td>Interventional Radiology  Patient Discharge E...</td>\n",
       "      <td>2019-06-17 17:03:00</td>\n",
       "      <td>Discharge Instructions</td>\n",
       "      <td>1290</td>\n",
       "    </tr>\n",
       "    <tr>\n",
       "      <th>48877</th>\n",
       "      <td>91863</td>\n",
       "      <td>You have pneumonia on the left side.      You ...</td>\n",
       "      <td>2018-12-07 17:58:00</td>\n",
       "      <td>Discharge Instructions</td>\n",
       "      <td>57</td>\n",
       "    </tr>\n",
       "    <tr>\n",
       "      <th>49550</th>\n",
       "      <td>616931</td>\n",
       "      <td></td>\n",
       "      <td>2013-08-22 07:28:00</td>\n",
       "      <td>Consent Dobutamine Stress Test</td>\n",
       "      <td>3</td>\n",
       "    </tr>\n",
       "    <tr>\n",
       "      <th>49873</th>\n",
       "      <td>1374054</td>\n",
       "      <td>Initial -H&amp;P/Assessment obtained from Referrin...</td>\n",
       "      <td>2019-08-30 11:09:00</td>\n",
       "      <td>Transfer Center Initial Clinical Screen</td>\n",
       "      <td>622</td>\n",
       "    </tr>\n",
       "    <tr>\n",
       "      <th>49897</th>\n",
       "      <td>1262668</td>\n",
       "      <td></td>\n",
       "      <td>2013-04-23 15:02:00</td>\n",
       "      <td>ORD OUTPT ANTI-ANXIETY MED INSTR AND ADMIN</td>\n",
       "      <td>3</td>\n",
       "    </tr>\n",
       "  </tbody>\n",
       "</table>\n",
       "<p>165 rows × 5 columns</p>\n",
       "</div>"
      ],
      "text/plain": [
       "       PAT_DEID                                               NOTE  \\\n",
       "1345     375611  STANFORD HOSPITAL AND CLINICS  EMERGENCY DEPAR...   \n",
       "1430    3727954     Vascular Clinic and Lab  300 Pasteur Drive,...   \n",
       "1540    2936693  STANFORD HOSPITAL AND CLINICS  EMERGENCY DEPAR...   \n",
       "1755    1742521  STANFORD HOSPITAL AND CLINICS  EMERGENCY DEPAR...   \n",
       "1883     616931   Jill and John Freidenrich Breast Center  Stan...   \n",
       "...         ...                                                ...   \n",
       "48626   3122045   Interventional Radiology  Patient Discharge E...   \n",
       "48877     91863  You have pneumonia on the left side.      You ...   \n",
       "49550    616931                                                      \n",
       "49873   1374054  Initial -H&P/Assessment obtained from Referrin...   \n",
       "49897   1262668                                                      \n",
       "\n",
       "           EFFECTIVE_TIME                                   NOTE_DESC  \\\n",
       "1345  2013-02-14 00:00:00                                      Letter   \n",
       "1430  2018-03-16 00:00:00                                      Letter   \n",
       "1540  2014-05-10 00:00:00                                      Letter   \n",
       "1755  2014-01-29 00:00:00                                      Letter   \n",
       "1883  2013-08-20 00:00:00                                      Letter   \n",
       "...                   ...                                         ...   \n",
       "48626 2019-06-17 17:03:00                      Discharge Instructions   \n",
       "48877 2018-12-07 17:58:00                      Discharge Instructions   \n",
       "49550 2013-08-22 07:28:00              Consent Dobutamine Stress Test   \n",
       "49873 2019-08-30 11:09:00     Transfer Center Initial Clinical Screen   \n",
       "49897 2013-04-23 15:02:00  ORD OUTPT ANTI-ANXIETY MED INSTR AND ADMIN   \n",
       "\n",
       "       WORD_COUNT  \n",
       "1345          321  \n",
       "1430          381  \n",
       "1540          277  \n",
       "1755          315  \n",
       "1883         2131  \n",
       "...           ...  \n",
       "48626        1290  \n",
       "48877          57  \n",
       "49550           3  \n",
       "49873         622  \n",
       "49897           3  \n",
       "\n",
       "[165 rows x 5 columns]"
      ]
     },
     "execution_count": 47,
     "metadata": {},
     "output_type": "execute_result"
    }
   ],
   "source": [
    "# TODO: look at the text of the removed patients\n",
    "note_table[note_table[\"PAT_DEID\"].isin(removed_patient)]"
   ]
  },
  {
   "cell_type": "code",
   "execution_count": 30,
   "id": "ad6bb532",
   "metadata": {},
   "outputs": [
    {
     "data": {
      "text/plain": [
       "LoadJob<project=som-nero-phi-boussard, location=US, id=3bcc8d70-a515-4823-a231-6d081a1a9280>"
      ]
     },
     "execution_count": 30,
     "metadata": {},
     "output_type": "execute_result"
    }
   ],
   "source": [
    "# Save the cohort patient informations \n",
    "# Specify destination for storing dataframe\n",
    "destination = f\"som-nero-phi-boussard.ES_ACU_Oncology.note_by_type\"\n",
    "\n",
    "# Save file to Big Query\n",
    "load_job = client.load_table_from_dataframe(dataframe = note_by_type,                                  \n",
    "                                                   destination = destination,\n",
    "                                                   job_config = job_config)\n",
    "\n",
    "# Run the job:\n",
    "load_job.result()"
   ]
  },
  {
   "cell_type": "markdown",
   "id": "243f0d79",
   "metadata": {},
   "source": [
    "### Check patients with few or too much notes"
   ]
  },
  {
   "cell_type": "code",
   "execution_count": 12,
   "id": "62b13c8d",
   "metadata": {},
   "outputs": [],
   "source": [
    "# Load relevant note table\n",
    "sql_query = f\"\"\" SELECT * FROM {es}.note_by_type\"\"\"\n",
    "note_by_type = (client.query(sql_query)).to_dataframe()"
   ]
  },
  {
   "cell_type": "code",
   "execution_count": 41,
   "id": "8a58f5c9",
   "metadata": {},
   "outputs": [],
   "source": [
    "df = note_by_type.groupby([\"PAT_DEID\"]).count()"
   ]
  },
  {
   "cell_type": "markdown",
   "id": "2e3f9f98",
   "metadata": {},
   "source": [
    "**Check patients with a few number of notes**"
   ]
  },
  {
   "cell_type": "code",
   "execution_count": 49,
   "id": "41e407ce",
   "metadata": {},
   "outputs": [
    {
     "data": {
      "text/plain": [
       "(106, 4)"
      ]
     },
     "execution_count": 49,
     "metadata": {},
     "output_type": "execute_result"
    }
   ],
   "source": [
    "df_one = df[df.NOTE == 1]\n",
    "df_one.shape"
   ]
  },
  {
   "cell_type": "markdown",
   "id": "66214024",
   "metadata": {},
   "source": [
    "=> 106 patients have only one notes"
   ]
  },
  {
   "cell_type": "code",
   "execution_count": 50,
   "id": "2c0502d2",
   "metadata": {},
   "outputs": [
    {
     "data": {
      "text/html": [
       "<div>\n",
       "<style scoped>\n",
       "    .dataframe tbody tr th:only-of-type {\n",
       "        vertical-align: middle;\n",
       "    }\n",
       "\n",
       "    .dataframe tbody tr th {\n",
       "        vertical-align: top;\n",
       "    }\n",
       "\n",
       "    .dataframe thead th {\n",
       "        text-align: right;\n",
       "    }\n",
       "</style>\n",
       "<table border=\"1\" class=\"dataframe\">\n",
       "  <thead>\n",
       "    <tr style=\"text-align: right;\">\n",
       "      <th></th>\n",
       "      <th>NOTE</th>\n",
       "      <th>EFFECTIVE_TIME</th>\n",
       "      <th>NOTE_DESC</th>\n",
       "      <th>WORD_COUNT</th>\n",
       "    </tr>\n",
       "    <tr>\n",
       "      <th>PAT_DEID</th>\n",
       "      <th></th>\n",
       "      <th></th>\n",
       "      <th></th>\n",
       "      <th></th>\n",
       "    </tr>\n",
       "  </thead>\n",
       "  <tbody>\n",
       "    <tr>\n",
       "      <th>38474</th>\n",
       "      <td>1</td>\n",
       "      <td>1</td>\n",
       "      <td>1</td>\n",
       "      <td>1</td>\n",
       "    </tr>\n",
       "    <tr>\n",
       "      <th>71347</th>\n",
       "      <td>1</td>\n",
       "      <td>1</td>\n",
       "      <td>1</td>\n",
       "      <td>1</td>\n",
       "    </tr>\n",
       "    <tr>\n",
       "      <th>87359</th>\n",
       "      <td>1</td>\n",
       "      <td>1</td>\n",
       "      <td>1</td>\n",
       "      <td>1</td>\n",
       "    </tr>\n",
       "    <tr>\n",
       "      <th>98007</th>\n",
       "      <td>1</td>\n",
       "      <td>1</td>\n",
       "      <td>1</td>\n",
       "      <td>1</td>\n",
       "    </tr>\n",
       "    <tr>\n",
       "      <th>132939</th>\n",
       "      <td>1</td>\n",
       "      <td>1</td>\n",
       "      <td>1</td>\n",
       "      <td>1</td>\n",
       "    </tr>\n",
       "    <tr>\n",
       "      <th>...</th>\n",
       "      <td>...</td>\n",
       "      <td>...</td>\n",
       "      <td>...</td>\n",
       "      <td>...</td>\n",
       "    </tr>\n",
       "    <tr>\n",
       "      <th>3822000</th>\n",
       "      <td>1</td>\n",
       "      <td>1</td>\n",
       "      <td>1</td>\n",
       "      <td>1</td>\n",
       "    </tr>\n",
       "    <tr>\n",
       "      <th>3866679</th>\n",
       "      <td>1</td>\n",
       "      <td>1</td>\n",
       "      <td>1</td>\n",
       "      <td>1</td>\n",
       "    </tr>\n",
       "    <tr>\n",
       "      <th>3901667</th>\n",
       "      <td>1</td>\n",
       "      <td>1</td>\n",
       "      <td>1</td>\n",
       "      <td>1</td>\n",
       "    </tr>\n",
       "    <tr>\n",
       "      <th>3985406</th>\n",
       "      <td>1</td>\n",
       "      <td>1</td>\n",
       "      <td>1</td>\n",
       "      <td>1</td>\n",
       "    </tr>\n",
       "    <tr>\n",
       "      <th>4171060</th>\n",
       "      <td>1</td>\n",
       "      <td>1</td>\n",
       "      <td>1</td>\n",
       "      <td>1</td>\n",
       "    </tr>\n",
       "  </tbody>\n",
       "</table>\n",
       "<p>106 rows × 4 columns</p>\n",
       "</div>"
      ],
      "text/plain": [
       "          NOTE  EFFECTIVE_TIME  NOTE_DESC  WORD_COUNT\n",
       "PAT_DEID                                             \n",
       "38474        1               1          1           1\n",
       "71347        1               1          1           1\n",
       "87359        1               1          1           1\n",
       "98007        1               1          1           1\n",
       "132939       1               1          1           1\n",
       "...        ...             ...        ...         ...\n",
       "3822000      1               1          1           1\n",
       "3866679      1               1          1           1\n",
       "3901667      1               1          1           1\n",
       "3985406      1               1          1           1\n",
       "4171060      1               1          1           1\n",
       "\n",
       "[106 rows x 4 columns]"
      ]
     },
     "execution_count": 50,
     "metadata": {},
     "output_type": "execute_result"
    }
   ],
   "source": [
    "df_one"
   ]
  },
  {
   "cell_type": "code",
   "execution_count": 65,
   "id": "39bd73a3",
   "metadata": {},
   "outputs": [
    {
     "data": {
      "text/html": [
       "<div>\n",
       "<style scoped>\n",
       "    .dataframe tbody tr th:only-of-type {\n",
       "        vertical-align: middle;\n",
       "    }\n",
       "\n",
       "    .dataframe tbody tr th {\n",
       "        vertical-align: top;\n",
       "    }\n",
       "\n",
       "    .dataframe thead th {\n",
       "        text-align: right;\n",
       "    }\n",
       "</style>\n",
       "<table border=\"1\" class=\"dataframe\">\n",
       "  <thead>\n",
       "    <tr style=\"text-align: right;\">\n",
       "      <th></th>\n",
       "      <th>PAT_DEID</th>\n",
       "      <th>NOTE</th>\n",
       "      <th>EFFECTIVE_TIME</th>\n",
       "      <th>NOTE_DESC</th>\n",
       "      <th>WORD_COUNT</th>\n",
       "    </tr>\n",
       "  </thead>\n",
       "  <tbody>\n",
       "    <tr>\n",
       "      <th>74</th>\n",
       "      <td>3788812</td>\n",
       "      <td>Stanford Hospital and Clinics  History and Phy...</td>\n",
       "      <td>2018-05-09 08:52:00</td>\n",
       "      <td>H&amp;P</td>\n",
       "      <td>2907</td>\n",
       "    </tr>\n",
       "    <tr>\n",
       "      <th>106</th>\n",
       "      <td>1817618</td>\n",
       "      <td>Stanford Hospital and Clinics  History and Phy...</td>\n",
       "      <td>2017-12-27 14:12:00</td>\n",
       "      <td>H&amp;P</td>\n",
       "      <td>2445</td>\n",
       "    </tr>\n",
       "    <tr>\n",
       "      <th>147</th>\n",
       "      <td>219931</td>\n",
       "      <td>Stanford Hospital and Clinics  Interventional ...</td>\n",
       "      <td>2014-05-02 12:33:00</td>\n",
       "      <td>H&amp;P</td>\n",
       "      <td>393</td>\n",
       "    </tr>\n",
       "    <tr>\n",
       "      <th>161</th>\n",
       "      <td>1587486</td>\n",
       "      <td>Stanford Hospital and Clinics  Interventional ...</td>\n",
       "      <td>2016-02-26 09:46:00</td>\n",
       "      <td>H&amp;P</td>\n",
       "      <td>645</td>\n",
       "    </tr>\n",
       "    <tr>\n",
       "      <th>329</th>\n",
       "      <td>2304324</td>\n",
       "      <td>Stanford Hospital and Clinics  Interventional ...</td>\n",
       "      <td>2020-01-13 06:55:00</td>\n",
       "      <td>H&amp;P</td>\n",
       "      <td>1448</td>\n",
       "    </tr>\n",
       "    <tr>\n",
       "      <th>...</th>\n",
       "      <td>...</td>\n",
       "      <td>...</td>\n",
       "      <td>...</td>\n",
       "      <td>...</td>\n",
       "      <td>...</td>\n",
       "    </tr>\n",
       "    <tr>\n",
       "      <th>33072</th>\n",
       "      <td>598766</td>\n",
       "      <td>Patient came to ITA for Firmagon 240mg   injec...</td>\n",
       "      <td>2018-05-09 13:48:00</td>\n",
       "      <td>Progress Notes</td>\n",
       "      <td>62</td>\n",
       "    </tr>\n",
       "    <tr>\n",
       "      <th>33135</th>\n",
       "      <td>3053550</td>\n",
       "      <td>RADIATION ONCOLOGY ON-TREATMENT NOTE    Name: ...</td>\n",
       "      <td>2018-11-08 13:35:00</td>\n",
       "      <td>Progress Notes</td>\n",
       "      <td>901</td>\n",
       "    </tr>\n",
       "    <tr>\n",
       "      <th>33189</th>\n",
       "      <td>2376175</td>\n",
       "      <td>ITA SW covering note:    SW briefly met pt and...</td>\n",
       "      <td>2013-03-15 15:38:00</td>\n",
       "      <td>Progress Notes</td>\n",
       "      <td>153</td>\n",
       "    </tr>\n",
       "    <tr>\n",
       "      <th>33428</th>\n",
       "      <td>2766580</td>\n",
       "      <td>Patient tolerated Rituxan infusion well. Vital...</td>\n",
       "      <td>2016-03-24 16:21:00</td>\n",
       "      <td>Progress Notes</td>\n",
       "      <td>36</td>\n",
       "    </tr>\n",
       "    <tr>\n",
       "      <th>34011</th>\n",
       "      <td>3985406</td>\n",
       "      <td>STANFORD HOSPITAL AND CLINICS   LYMPHOMA CLINI...</td>\n",
       "      <td>2020-02-27 10:15:00</td>\n",
       "      <td>Progress Notes</td>\n",
       "      <td>1297</td>\n",
       "    </tr>\n",
       "  </tbody>\n",
       "</table>\n",
       "<p>106 rows × 5 columns</p>\n",
       "</div>"
      ],
      "text/plain": [
       "       PAT_DEID                                               NOTE  \\\n",
       "74      3788812  Stanford Hospital and Clinics  History and Phy...   \n",
       "106     1817618  Stanford Hospital and Clinics  History and Phy...   \n",
       "147      219931  Stanford Hospital and Clinics  Interventional ...   \n",
       "161     1587486  Stanford Hospital and Clinics  Interventional ...   \n",
       "329     2304324  Stanford Hospital and Clinics  Interventional ...   \n",
       "...         ...                                                ...   \n",
       "33072    598766  Patient came to ITA for Firmagon 240mg   injec...   \n",
       "33135   3053550  RADIATION ONCOLOGY ON-TREATMENT NOTE    Name: ...   \n",
       "33189   2376175  ITA SW covering note:    SW briefly met pt and...   \n",
       "33428   2766580  Patient tolerated Rituxan infusion well. Vital...   \n",
       "34011   3985406  STANFORD HOSPITAL AND CLINICS   LYMPHOMA CLINI...   \n",
       "\n",
       "           EFFECTIVE_TIME       NOTE_DESC  WORD_COUNT  \n",
       "74    2018-05-09 08:52:00             H&P        2907  \n",
       "106   2017-12-27 14:12:00             H&P        2445  \n",
       "147   2014-05-02 12:33:00             H&P         393  \n",
       "161   2016-02-26 09:46:00             H&P         645  \n",
       "329   2020-01-13 06:55:00             H&P        1448  \n",
       "...                   ...             ...         ...  \n",
       "33072 2018-05-09 13:48:00  Progress Notes          62  \n",
       "33135 2018-11-08 13:35:00  Progress Notes         901  \n",
       "33189 2013-03-15 15:38:00  Progress Notes         153  \n",
       "33428 2016-03-24 16:21:00  Progress Notes          36  \n",
       "34011 2020-02-27 10:15:00  Progress Notes        1297  \n",
       "\n",
       "[106 rows x 5 columns]"
      ]
     },
     "execution_count": 65,
     "metadata": {},
     "output_type": "execute_result"
    }
   ],
   "source": [
    "note_by_type[note_by_type[\"PAT_DEID\"].isin(df_one.index)]"
   ]
  },
  {
   "cell_type": "markdown",
   "id": "4bd06e92",
   "metadata": {},
   "source": [
    "**Check patients with too much notes**"
   ]
  },
  {
   "cell_type": "code",
   "execution_count": 60,
   "id": "ddc13fd1",
   "metadata": {},
   "outputs": [],
   "source": [
    "df_max = df[df.NOTE == df.NOTE.max()]"
   ]
  },
  {
   "cell_type": "code",
   "execution_count": 61,
   "id": "4bb7e4b5",
   "metadata": {},
   "outputs": [
    {
     "data": {
      "text/html": [
       "<div>\n",
       "<style scoped>\n",
       "    .dataframe tbody tr th:only-of-type {\n",
       "        vertical-align: middle;\n",
       "    }\n",
       "\n",
       "    .dataframe tbody tr th {\n",
       "        vertical-align: top;\n",
       "    }\n",
       "\n",
       "    .dataframe thead th {\n",
       "        text-align: right;\n",
       "    }\n",
       "</style>\n",
       "<table border=\"1\" class=\"dataframe\">\n",
       "  <thead>\n",
       "    <tr style=\"text-align: right;\">\n",
       "      <th></th>\n",
       "      <th>NOTE</th>\n",
       "      <th>EFFECTIVE_TIME</th>\n",
       "      <th>NOTE_DESC</th>\n",
       "      <th>WORD_COUNT</th>\n",
       "    </tr>\n",
       "    <tr>\n",
       "      <th>PAT_DEID</th>\n",
       "      <th></th>\n",
       "      <th></th>\n",
       "      <th></th>\n",
       "      <th></th>\n",
       "    </tr>\n",
       "  </thead>\n",
       "  <tbody>\n",
       "    <tr>\n",
       "      <th>3177403</th>\n",
       "      <td>103</td>\n",
       "      <td>103</td>\n",
       "      <td>103</td>\n",
       "      <td>103</td>\n",
       "    </tr>\n",
       "  </tbody>\n",
       "</table>\n",
       "</div>"
      ],
      "text/plain": [
       "          NOTE  EFFECTIVE_TIME  NOTE_DESC  WORD_COUNT\n",
       "PAT_DEID                                             \n",
       "3177403    103             103        103         103"
      ]
     },
     "execution_count": 61,
     "metadata": {},
     "output_type": "execute_result"
    }
   ],
   "source": [
    "df_max"
   ]
  },
  {
   "cell_type": "code",
   "execution_count": 72,
   "id": "f7ac7aaa",
   "metadata": {},
   "outputs": [
    {
     "data": {
      "text/plain": [
       "['Stanford Health Care   Occupational Therapy  Progress Note     Mitul Patel is a 27 Y male.  Room:B318    Admitting Diagnosis: CAUDA EQUINA COMPRESSION  Patient/Caregiver goals reviewed and integrated into rehab treatment plan?: Yes  Patient/Caregiver teaching performed?: Yes  Participants: Patient    Abbreviated Patient History: Cauda equina compression due to mets to spine     Precautions:  Precautions: Fall Risk Precautions, Spinal Precautions - No bending, no twisting, no lifting >5lbs    Subjective: \"Pop it, poke a hole in it.\"  Pt did not like the firmness of the mattress when max-inflating the bed prior to therapy.           Pain Level:  (Pt reports pain. Pt stated he declined pain meds because he doesn\\'t want to become addicted. )/10   Scale: Verbal 0-10   Location: Abdomen   Intervention: Repositioned, Rest, Ambulation/Increased Activity, RN Notified (Comments)     Reassessment: Patient in no acute distress    Coordinated care with PT.   Pt received in supine. NAD. Pt consented to OT session.  Pt left as received. NAD. Call light and needs in reach.      Objective:   SpO2 91% on RA, HR 115 (with activity)  Pt denies lightheadedness/dizziness throughout session.       Overall Cognitive Status: Exception  Arousal/Alertness: Alert  Attention Span: Difficulty attending to directions, Difficulty dividing attention  Memory: Decreased short term memory  Orientation Level: Oriented to person  Following Commands: Follows one step commands without difficulty  Problem Solving: Assistance required to generate solutions, Assistance required to implement solutions  Safety Judgment: Decreased awareness of need for safety  Barriers to learning: Cognitive Limitations  Sequencing: Fair  Initiation: Fair         WBC   Date Value Ref Range Status   11/17/2016 0.1 4.0 - 11.0 K/uL Final     HEMOGLOBIN   Date Value Ref Range Status   11/17/2016 7.1 13.5 - 17.7 g/dL Final     HEMATOCRIT   Date Value Ref Range Status   11/17/2016 \\n21.9 40.0 - 52.0 % Final     PLATELET COUNT   Date Value Ref Range Status   11/17/2016 20 150 - 400 K/uL Final         AM-PAC Daily Activity Domain Short Form (\"6 Clicks\")  Feeding: 4  O/F Hygiene: 4  Dressing Uppers: 4  Dressing Lowers: 2  Toilet (Toilet, Urinal, Bedpan): 1  Bathing (Wash, Rinse, Dry): 2  Total Score: 17    Scoring:  1 = Unable (Total Assist)  2 = A Lot (Mod/Max Assist)  3 = A Little (Min Assist/CGA/Supervision)  4 = None (Ind/Modified Independent)        Self Care Deficit - Lower Body Dressing     Daily Status  Target Goal   Assistance Level: Total Assistance  Position: Bed level  Time Frame: Reasonable Time Frame  Outcome: Ongoing   Donn B socks  Assistance Level: Minimal Assistance  Position: Bed level     Impaired Mobility     Daily Status  Target Goal   Daily - Bed Mobility  Assistance Level: Moderate Assistance for trunk, Total A for LEs  Activity: Rolling  Outcome: Ongoing  Total A x2 for scooting up in bed in supine.   Verbal and tactile cues for sequencing and hand/foot placement.          Target - Bed Mobility   Assistance Level: Minimal Assistance     Target - Wheelchair Mobility  Manage/Propel Assistance Level: Modified Independent  Distance: 100 Feet  Propulsion Technique: Manual BUE                     Functional Cognition     Daily Status  Target Goal   Daily - Concentrates on Task to Completion  Assistance Level: Moderate Assistance  Outcome: Ongoing     High anxiety  Verbal cues to redirect      Target - Concentrates on Task to Completion  Concentrate on Task to Completion Assist: Supervision         Education:   -Safety & fall precautions  -Sitting up with staff only  -Benefits for mobility and risk for immobility  -Pursed lip breathing and relaxation techniques   -Importance for maintaining skin integrity (floating heels on pillow)  -Creating a daily routine/schedule. Schedule written on white board (PT/OT 3PM on weekdays). Pt agreeable to posting a schedule in room. \\n        Assessment:   Initially pt reluctant to participate in therapy. After education and encouragement, pt agreeable. Session limited by BM and requiring assistance by NA to get cleaned up. Pt able to assist with turning in bed using BUEs. Pt started to get uncomfortable (pain in abdomin and chest), anxious, and had a difficult time breathing when lying on his L side. Once repositioned in supine and instructed in deep breathing, pt was able to relax. Pt receptive to the information provided this session. All questions and concerns addressed. Pt will benefit from continued skilled Occupational Therapy in order to increase performance in ADLs and maximize independence in functional mobility.             Plan: Cont OT per treatment plan:   Patient agrees to the treatment plan as follows: Self Care, Patient Education, AROM, Functional Training, Balance, Therapeutic Activities, Neuromuscular Re-education   Frequency: Three times per week   Duration: until specified    Discharge Recommendations:  Discharge Recommendations: Acute Rehab Unit  Mode of Transport for Discharge: Gurney       Total Treatment Time: 20 min Medical      Charge Code Tx PC     Minutes 20 15     Billed Units 1 1          Therapist: Mandy Kusumoto, MS, OTR/L   Pager: 17077  Date: 11/18/2016      ']"
      ]
     },
     "execution_count": 72,
     "metadata": {},
     "output_type": "execute_result"
    }
   ],
   "source": [
    "list(note_by_type[note_by_type[\"PAT_DEID\"].isin(df_max.index)][:1].NOTE)"
   ]
  },
  {
   "cell_type": "markdown",
   "id": "acaa97d1",
   "metadata": {},
   "source": [
    "**Check the length of the notes**"
   ]
  },
  {
   "cell_type": "code",
   "execution_count": 117,
   "id": "92859d63",
   "metadata": {},
   "outputs": [],
   "source": [
    "df = note_by_type[note_by_type[\"WORD_COUNT\"] <= 12]"
   ]
  },
  {
   "cell_type": "code",
   "execution_count": 118,
   "id": "a03002f6",
   "metadata": {},
   "outputs": [
    {
     "data": {
      "text/plain": [
       "(190, 5)"
      ]
     },
     "execution_count": 118,
     "metadata": {},
     "output_type": "execute_result"
    }
   ],
   "source": [
    "df.shape"
   ]
  },
  {
   "cell_type": "code",
   "execution_count": 119,
   "id": "168fd9e8",
   "metadata": {},
   "outputs": [
    {
     "data": {
      "text/plain": [
       "['Please see Gail Egan noted 9/5/2019    ',\n",
       " 'NO SHOW    ',\n",
       " 'Paged   ',\n",
       " 'Patient left with transport for radiation therapy.    ',\n",
       " 'Informed husband of the $1004.38 co-pay for Neupogen.   ',\n",
       " 'Entered in Error.   ',\n",
       " 'No Adherence call needed,Patient has appointment today at Oncology Clinic  ',\n",
       " 'Lab drawn as ordered, no complication.   ',\n",
       " 'Coram and Pathways updated of possible D/C Wednesday or Thursday.  ',\n",
       " 'Error    ',\n",
       " 'Wellness survey reviewed. No referrals needed.     ',\n",
       " 'Associated Pathology Medical Group, Inc  Outside Path  ',\n",
       " 'Faxed order/facesheet for hip abduction brace  ',\n",
       " 'Erroneously opened encounter  ',\n",
       " 'To MRI at 1845  ',\n",
       " 'Charted in error  ',\n",
       " 'Infusion completed at 0130.  ',\n",
       " '  ',\n",
       " 'Saline mouth wash   ',\n",
       " 'Pt refused arimedex, would like to spw team first.   ',\n",
       " 'Oxygen tank delivered to pt for discharge  ',\n",
       " '1150ml of sang. Pleural fluid obtained during pleural cath placement  ',\n",
       " 'Verbal report given to Gila RN on fground.  ',\n",
       " 'Informed the team med 9 via smartpager  ',\n",
       " 'While reacting  ',\n",
       " 'Called report to Mong at Mountain View SNF  ',\n",
       " 'Baseline peak flow measured 140 L/min.  ',\n",
       " 'Pleurx drainage teaching by RN today  ',\n",
       " 'Interpreted for RN, patient and family member during discharge.  ',\n",
       " 'Port deaccssed, patient tolerated well  ',\n",
       " 'Please see our full dictated note for this patient visit.  ',\n",
       " 'Declined by Manor Care, accepted by LASA.  ',\n",
       " 'DR. LU notified  ',\n",
       " \"Procedure tolerated well.Uneventful run.DC'd in satisfactory condition.  \",\n",
       " \"Procedure tolerated well.Uneventful run.DC instructions reiterated.DC'd in satisfactory condition.  \",\n",
       " 'Notes done by michelle  ',\n",
       " 'Procedure only   ',\n",
       " \"Fwd to NPC's to add on sooner 3/28  \",\n",
       " 'Given report Constantine, Rn at F ground.   ',\n",
       " 'ERROR    ',\n",
       " 'CXR done.  ',\n",
       " 'Addendum:  Aloxi stop time 1337 on 04/20/15  ',\n",
       " 'Covid 19 drive thru  Pulse oximtry    ',\n",
       " 'Review of the nurse triage encounter conducted.   ',\n",
       " 'To Echo via w/c at 0915 accompanied by transporter.  ',\n",
       " 'Ativan 2mg SIVP, for anxiety.  ',\n",
       " '1500 DC home with son in no distress  ',\n",
       " 'Covid 19 drive thru  Pulse oximtry    ',\n",
       " '    ',\n",
       " 'Error  ',\n",
       " 'Opened in error  ',\n",
       " 'Report given to F Ground nurse Tania, RN.  ',\n",
       " 'Patient transferred to ED via emergency services.  ',\n",
       " '    ',\n",
       " 'Letter dictated # 721090  ',\n",
       " 'Error.    ',\n",
       " 'Please refer to ICD-ID consultation f/u note dated 7/13/16.  ',\n",
       " 'Patient transported to Stanford ER  ',\n",
       " 'Out 1728  ',\n",
       " 'Ica@      ',\n",
       " 'SBAR report given Stephanie RN for continued care.   ',\n",
       " 'error  ',\n",
       " 'error  ',\n",
       " '  This encounter was opened erroneously.  ',\n",
       " 'Report called to Esther RN on DGR.   ',\n",
       " 'Avs explained and given by Jane RN  ',\n",
       " 'Bed Alarm On  ',\n",
       " 'There were no vitals taken for this visit.    ',\n",
       " \"Labs ordered for pt's upcoming appointment.     \",\n",
       " 'Patient transferred to H1 via wheelchair. Report given to Charles,RN.  ',\n",
       " 'Report given to B3 nurse -Monica RN  ',\n",
       " \"Procedure tolerated well.DC instructions reiterated.Uneventful run.DC'd in satisfactory condition.  \",\n",
       " 'No transfusions needed today per parameters.  ',\n",
       " 'Kerri at bedside discussing DC instructions.  ',\n",
       " 'Report called to Jabari.  ',\n",
       " 'error  This encounter was opened erroneously.  ',\n",
       " 'SBAR Report from Cassie RN FG.   ',\n",
       " 'righrt upper exttremity  ',\n",
       " 'Dr. Barakat at bedside to speak to pt  ',\n",
       " 'Report given to D2 nurse Ria, RN.  ',\n",
       " 'Read right upper extremity  ',\n",
       " 'Right upper extremity  ',\n",
       " '346167  Spanish interpreter   via telephone    ',\n",
       " 'Clinic letter dictated - Job ID 586329    ',\n",
       " 'RITUXAN STARTED  ',\n",
       " 'Report given to FG Rn Lilya  ',\n",
       " 'Error   ',\n",
       " 'Education binder and handout on mucositis given to the patient.  ',\n",
       " 'Pt here for Lab draw.  Tolerated well.  ',\n",
       " 'Per pt request to Dr Pollom, referral sent to genetics.  ',\n",
       " 'No show  ',\n",
       " 'PAtient   ',\n",
       " 'Report called to Lauren RN  ',\n",
       " 'Interpreted for RN, patient and her husband.  ',\n",
       " '      ',\n",
       " 'Labs drawn from picc without incidence. Stable to d/c.  ',\n",
       " '  This encounter was opened erroneously.  ',\n",
       " 'Dispense  # 42 syringes of Neupogen to pt.  ',\n",
       " 'No adherence call patient followed up by lymphoma clinic.  ',\n",
       " 'Note entered in error  ',\n",
       " 'Pt will meet NP Imoto in radiology for IT chemo.  ',\n",
       " 'This note was dictated 6022259  ',\n",
       " 'This note was dictated 6033039  ',\n",
       " 'Erroneously opened encounter  ',\n",
       " '   ',\n",
       " 'Sent AFB #3 to lab    ',\n",
       " 'No Adherence Call needed,patient seen at Stanford ED  ',\n",
       " 'Completed treatment.    Home with her sister.  ',\n",
       " 'Report given to Casey RN  on Fgr   ',\n",
       " 'Report given to RN at Webster House.  ',\n",
       " 'Patient transported to ER  ',\n",
       " 'Report given to Michelle, RN, on H1.     ',\n",
       " 'Gave report to Alexandra Pennekamp, RN, patient transferred to L5.  ',\n",
       " 'LAB WAS DRAWN FOR POSSIBLE COLLECTION THIS AFTERNOON  ',\n",
       " \"Hep B screening added to today's blood work  \",\n",
       " 'For possible bone marrow biopsy today 03/31.  ',\n",
       " 'Patient to go home with family tonight  ',\n",
       " 'Dex infused on 4/23 at 8:14 and completed at 8:26.  ',\n",
       " '1400- Pt tolerate PBC collection. VSS,afibrile,no c/o Citrate toxicity.  ',\n",
       " 'EKG for NP Visit in CV Clinic  ',\n",
       " 'Patient at Stanford ER, no adherence call completed.  ',\n",
       " 'Patient did not have vaginal bleeding through the night.   ',\n",
       " '  This encounter was opened erroneously.  ',\n",
       " 'IV started and labs drawn. Discharged to the clinic.  ',\n",
       " \"Arterial line d/c'd at this time  \",\n",
       " \"Platelet transfusion completed without reaction.Uneventful run.DC'd in satisfactory condition.  \",\n",
       " 'PA sent to insurance for Fentanyl patches 75 mcg  ',\n",
       " '  ',\n",
       " 'This note has been dictated 6022441  ',\n",
       " '  This encounter was opened erroneously.  ',\n",
       " '  This encounter was opened erroneously.  ',\n",
       " 'Ambisome given on 5/30/14. Completed at 1645.   ',\n",
       " 'Pt transported to Pre-op accompanied by husband.  ',\n",
       " 'Labs drawn from picc and sent.Picc drsg changed per protocol.  ',\n",
       " 'Vitals taken while patient lying down  ',\n",
       " 'Vitals taken while patient standing up  ',\n",
       " 'Vitals taken while patient sitting up  ',\n",
       " 'No reading present. Poor waveform   ',\n",
       " 'Note dictated  ',\n",
       " 'error  ',\n",
       " 'Not seen  ',\n",
       " 'Full report given to C1.  ',\n",
       " 'Dr Bedi and Dr. Anderson both evaluated pt  ',\n",
       " 'Report and care of pt endorsed to Jerry RN  ',\n",
       " '    err  ',\n",
       " '  ',\n",
       " 'Please see 10/4/16 Hematology Consult Note  ',\n",
       " 'Report given to Marisa FGR RN  ',\n",
       " 'No adherence call patient followed up by Oncology service.  ',\n",
       " 'Vitals by ma ea  ',\n",
       " 'Patient did not show for scheduled appointment.  ',\n",
       " \"Discussed with dr.sing, low h/h and recent prbc's x2.   \",\n",
       " 'D034 Grumet, F. BP=145/75, HR=60  ',\n",
       " 'Pt to MRI in WC with transport and family  ',\n",
       " 'Encounter opened in error.  ',\n",
       " 'Shift report given to Konstantin, RN  ',\n",
       " 'Cbc drawn waiting for result if pt needed blood transfusion  ',\n",
       " 'Searching for a pharmacy in California that can dispense enzalutamide.  ',\n",
       " '  This encounter was opened erroneously.  ',\n",
       " 'Carol at Aetna for any DCP needs: 614-933-5827.  ',\n",
       " 'Pt completed 1 L NS. Discharged home in stable condition  ',\n",
       " 'Declined by The Sequoias.  ',\n",
       " 'MD Pandey came  To see pt.  ',\n",
       " 'Alisa NP aware of temperature.  ',\n",
       " 'ABOx2 , SSN and DOB verified in UNOS  ',\n",
       " 'SBAR report given Stephanie RN for continued care.   ',\n",
       " 'Vitals taken by MP  ',\n",
       " 'Vitas taken by MP  ',\n",
       " 'Report given to Sandra RN on C3.  ',\n",
       " 'Pt transferred to C3 via bed by transporter.  ',\n",
       " 'Pt refused accucheck prior to dinner.  ',\n",
       " 'Pump Increase  ',\n",
       " 'Accentcare unable to accept patient due to staff unavailability.  ',\n",
       " 'Note opened in error. See other documentation.  ',\n",
       " 'No hypersensitivity to Rituxan  ',\n",
       " 'ENTERED IN ERROR  ',\n",
       " '.    ',\n",
       " 'For neurosurgery consult note, see dictation 1060649  ',\n",
       " '1064091  ',\n",
       " 'Notified nurse     ',\n",
       " 'Vital taken by MP.  ',\n",
       " 'Face sheet faxed to SOAR Medical.  ',\n",
       " \"David's neupogen dose is changed to 960mcg.  \",\n",
       " 'Report given to FGR. VSS.  ',\n",
       " 'Encounter opened in error  ',\n",
       " \"Labs ordered for pt's upcoming appointment.     \",\n",
       " 'Duplicate note created in error.   ',\n",
       " 'ERROR    ',\n",
       " \"Pt requesting Lomotil so he doesn't have diarrhea  \",\n",
       " 'Note entered in error  ']"
      ]
     },
     "execution_count": 119,
     "metadata": {},
     "output_type": "execute_result"
    }
   ],
   "source": [
    "list(df.NOTE)"
   ]
  },
  {
   "cell_type": "markdown",
   "id": "f1f07f61",
   "metadata": {},
   "source": [
    "**we remove 460 patients**"
   ]
  },
  {
   "cell_type": "code",
   "execution_count": 95,
   "id": "eefe2730",
   "metadata": {},
   "outputs": [],
   "source": [
    "irrelevant_note = note_by_type['NOTE'].str.upper().apply(lambda x: any(y in x for y in [\"SOCIAL WORK PROGRESS NOTE\"]))\n",
    "irrelevant_note_table = note_by_type.loc[irrelevant_note]\n",
    "relevant_note_table = note_by_type.loc[~irrelevant_note]"
   ]
  },
  {
   "cell_type": "code",
   "execution_count": 118,
   "id": "eb23bf27",
   "metadata": {},
   "outputs": [
    {
     "data": {
      "text/plain": [
       "\"SOCIAL WORK PROGRESS NOTE    SWer received voicemail message from patient's wife Jamie and call was returned.     SWer inquired with Jaime about intent to stay locally based on patient's conditioned to which she replied patient is headed toward being neutropenic. As SWer began presentation related to housing away from construction Jamie informed her she moved from the HOME apartments to the Foster City apartments this past week. Patient will join wife there when discharged. Plan is for patient and his wife to continue use of local Foster City apartment until patient has no medical reason to remain in the area.    SWer inquired as to other matters that she could assist with. Jamie had no additional concerns for now. SWer will visit with patient late today.    Mattie' Nogaye, LCSW      \""
      ]
     },
     "execution_count": 118,
     "metadata": {},
     "output_type": "execute_result"
    }
   ],
   "source": [
    "irrelevant_note_table.NOTE.iloc[1]"
   ]
  },
  {
   "cell_type": "code",
   "execution_count": 97,
   "id": "4a6ad7ab",
   "metadata": {},
   "outputs": [
    {
     "data": {
      "text/plain": [
       "(20340, 5)"
      ]
     },
     "execution_count": 97,
     "metadata": {},
     "output_type": "execute_result"
    }
   ],
   "source": [
    "relevant_note_table.shape"
   ]
  },
  {
   "cell_type": "code",
   "execution_count": 98,
   "id": "1fe607f4",
   "metadata": {},
   "outputs": [
    {
     "name": "stdout",
     "output_type": "stream",
     "text": [
      "Number of patient with relevant types of notes: 1795\n"
     ]
    }
   ],
   "source": [
    "print(f'Number of patient with relevant types of notes: {len(pd.unique(relevant_note_table[\"PAT_DEID\"]))}')"
   ]
  },
  {
   "cell_type": "code",
   "execution_count": 99,
   "id": "3290dc28",
   "metadata": {},
   "outputs": [
    {
     "data": {
      "text/html": [
       "<div>\n",
       "<style scoped>\n",
       "    .dataframe tbody tr th:only-of-type {\n",
       "        vertical-align: middle;\n",
       "    }\n",
       "\n",
       "    .dataframe tbody tr th {\n",
       "        vertical-align: top;\n",
       "    }\n",
       "\n",
       "    .dataframe thead th {\n",
       "        text-align: right;\n",
       "    }\n",
       "</style>\n",
       "<table border=\"1\" class=\"dataframe\">\n",
       "  <thead>\n",
       "    <tr style=\"text-align: right;\">\n",
       "      <th></th>\n",
       "      <th>PAT_DEID</th>\n",
       "      <th>NOTE</th>\n",
       "      <th>EFFECTIVE_TIME</th>\n",
       "      <th>NOTE_DESC</th>\n",
       "      <th>WORD_COUNT</th>\n",
       "    </tr>\n",
       "  </thead>\n",
       "  <tbody>\n",
       "    <tr>\n",
       "      <th>1</th>\n",
       "      <td>400384</td>\n",
       "      <td>Stanford Hospital and Clinics  History and Phy...</td>\n",
       "      <td>2016-08-31 13:05:00</td>\n",
       "      <td>H&amp;P</td>\n",
       "      <td>2031</td>\n",
       "    </tr>\n",
       "    <tr>\n",
       "      <th>2</th>\n",
       "      <td>400384</td>\n",
       "      <td>Stanford Hospital and Clinics  History and Phy...</td>\n",
       "      <td>2016-08-10 17:31:00</td>\n",
       "      <td>H&amp;P</td>\n",
       "      <td>2361</td>\n",
       "    </tr>\n",
       "    <tr>\n",
       "      <th>3</th>\n",
       "      <td>1618176</td>\n",
       "      <td>Stanford Hospital and Clinics  Interventional ...</td>\n",
       "      <td>2013-03-11 08:57:00</td>\n",
       "      <td>H&amp;P</td>\n",
       "      <td>471</td>\n",
       "    </tr>\n",
       "    <tr>\n",
       "      <th>4</th>\n",
       "      <td>2360321</td>\n",
       "      <td>Stanford Hospital and Clinics  Interventional ...</td>\n",
       "      <td>2015-02-09 14:55:00</td>\n",
       "      <td>H&amp;P</td>\n",
       "      <td>1484</td>\n",
       "    </tr>\n",
       "    <tr>\n",
       "      <th>5</th>\n",
       "      <td>2360321</td>\n",
       "      <td>Stanford Hospital and Clinics  History and P...</td>\n",
       "      <td>2015-02-06 18:12:00</td>\n",
       "      <td>H&amp;P</td>\n",
       "      <td>2070</td>\n",
       "    </tr>\n",
       "    <tr>\n",
       "      <th>...</th>\n",
       "      <td>...</td>\n",
       "      <td>...</td>\n",
       "      <td>...</td>\n",
       "      <td>...</td>\n",
       "      <td>...</td>\n",
       "    </tr>\n",
       "    <tr>\n",
       "      <th>35267</th>\n",
       "      <td>258815</td>\n",
       "      <td>Age: 54 Y Sex: male  Diagnosis: Mantle cell ly...</td>\n",
       "      <td>2019-01-05 17:32:00</td>\n",
       "      <td>Progress Notes</td>\n",
       "      <td>737</td>\n",
       "    </tr>\n",
       "    <tr>\n",
       "      <th>35268</th>\n",
       "      <td>258815</td>\n",
       "      <td>Age: 54 Y Sex: male  Diagnosis: Mantle Cell Ly...</td>\n",
       "      <td>2018-12-29 14:28:00</td>\n",
       "      <td>Progress Notes</td>\n",
       "      <td>154</td>\n",
       "    </tr>\n",
       "    <tr>\n",
       "      <th>35269</th>\n",
       "      <td>258815</td>\n",
       "      <td>Age: 54 Y Sex: male  Diagnosis: Mantle cell ly...</td>\n",
       "      <td>2019-01-04 18:07:00</td>\n",
       "      <td>Progress Notes</td>\n",
       "      <td>980</td>\n",
       "    </tr>\n",
       "    <tr>\n",
       "      <th>35270</th>\n",
       "      <td>258815</td>\n",
       "      <td>RN asked provider to see patient for \"not feel...</td>\n",
       "      <td>2019-01-17 08:44:00</td>\n",
       "      <td>Progress Notes</td>\n",
       "      <td>685</td>\n",
       "    </tr>\n",
       "    <tr>\n",
       "      <th>35271</th>\n",
       "      <td>258815</td>\n",
       "      <td>Stanford Hospital and Clinics  Return Visit (A...</td>\n",
       "      <td>2019-01-04 13:29:00</td>\n",
       "      <td>Progress Notes</td>\n",
       "      <td>926</td>\n",
       "    </tr>\n",
       "  </tbody>\n",
       "</table>\n",
       "<p>20340 rows × 5 columns</p>\n",
       "</div>"
      ],
      "text/plain": [
       "       PAT_DEID                                               NOTE  \\\n",
       "1        400384  Stanford Hospital and Clinics  History and Phy...   \n",
       "2        400384  Stanford Hospital and Clinics  History and Phy...   \n",
       "3       1618176  Stanford Hospital and Clinics  Interventional ...   \n",
       "4       2360321  Stanford Hospital and Clinics  Interventional ...   \n",
       "5       2360321    Stanford Hospital and Clinics  History and P...   \n",
       "...         ...                                                ...   \n",
       "35267    258815  Age: 54 Y Sex: male  Diagnosis: Mantle cell ly...   \n",
       "35268    258815  Age: 54 Y Sex: male  Diagnosis: Mantle Cell Ly...   \n",
       "35269    258815  Age: 54 Y Sex: male  Diagnosis: Mantle cell ly...   \n",
       "35270    258815  RN asked provider to see patient for \"not feel...   \n",
       "35271    258815  Stanford Hospital and Clinics  Return Visit (A...   \n",
       "\n",
       "           EFFECTIVE_TIME       NOTE_DESC  WORD_COUNT  \n",
       "1     2016-08-31 13:05:00             H&P        2031  \n",
       "2     2016-08-10 17:31:00             H&P        2361  \n",
       "3     2013-03-11 08:57:00             H&P         471  \n",
       "4     2015-02-09 14:55:00             H&P        1484  \n",
       "5     2015-02-06 18:12:00             H&P        2070  \n",
       "...                   ...             ...         ...  \n",
       "35267 2019-01-05 17:32:00  Progress Notes         737  \n",
       "35268 2018-12-29 14:28:00  Progress Notes         154  \n",
       "35269 2019-01-04 18:07:00  Progress Notes         980  \n",
       "35270 2019-01-17 08:44:00  Progress Notes         685  \n",
       "35271 2019-01-04 13:29:00  Progress Notes         926  \n",
       "\n",
       "[20340 rows x 5 columns]"
      ]
     },
     "execution_count": 99,
     "metadata": {},
     "output_type": "execute_result"
    }
   ],
   "source": [
    "relevant_note_table"
   ]
  },
  {
   "cell_type": "markdown",
   "id": "c8fcaa2e",
   "metadata": {},
   "source": [
    "**Modify the cohort**"
   ]
  },
  {
   "cell_type": "code",
   "execution_count": 31,
   "id": "8c3115d7",
   "metadata": {},
   "outputs": [],
   "source": [
    "# Load relevant note table\n",
    "sql_query = f\"\"\" SELECT * FROM {es}.note_by_type\"\"\"\n",
    "note_by_type = (client.query(sql_query)).to_dataframe()"
   ]
  },
  {
   "cell_type": "code",
   "execution_count": 32,
   "id": "7ab37e1e",
   "metadata": {},
   "outputs": [],
   "source": [
    "cohort_by_type = note_by_type[['PAT_DEID']]"
   ]
  },
  {
   "cell_type": "code",
   "execution_count": 33,
   "id": "f9031a4e",
   "metadata": {},
   "outputs": [],
   "source": [
    "cohort_by_type = pd.merge(cohort_by_type.drop_duplicates(subset=\"PAT_DEID\"), cohort, how = 'left', on = ['PAT_DEID'])"
   ]
  },
  {
   "cell_type": "code",
   "execution_count": 34,
   "id": "62268977",
   "metadata": {},
   "outputs": [
    {
     "name": "stdout",
     "output_type": "stream",
     "text": [
      "Number of patient with relevant types of notes: 1724\n"
     ]
    }
   ],
   "source": [
    "print(f'Number of patient with relevant types of notes: {len(pd.unique(cohort_by_type[\"PAT_DEID\"]))}')"
   ]
  },
  {
   "cell_type": "code",
   "execution_count": 35,
   "id": "7193e56a",
   "metadata": {},
   "outputs": [
    {
     "data": {
      "text/plain": [
       "LoadJob<project=som-nero-phi-boussard, location=US, id=b556c52c-bafb-4922-a297-07aaff95662b>"
      ]
     },
     "execution_count": 35,
     "metadata": {},
     "output_type": "execute_result"
    }
   ],
   "source": [
    "# Save the cohort patient informations \n",
    "# Specify destination for storing dataframe\n",
    "destination = f\"som-nero-phi-boussard.ES_ACU_Oncology.cohort_by_type\"\n",
    "\n",
    "# Save file to Big Query\n",
    "load_job = client.load_table_from_dataframe(dataframe = cohort_by_type,                                  \n",
    "                                                   destination = destination,\n",
    "                                                   job_config = job_config)\n",
    "\n",
    "# Run the job:\n",
    "load_job.result()"
   ]
  },
  {
   "cell_type": "code",
   "execution_count": null,
   "id": "9abac082",
   "metadata": {},
   "outputs": [],
   "source": []
  },
  {
   "cell_type": "markdown",
   "id": "b068ec29",
   "metadata": {},
   "source": [
    "### Select only the notes with relevant terms"
   ]
  },
  {
   "cell_type": "code",
   "execution_count": 267,
   "id": "af674a0c",
   "metadata": {},
   "outputs": [],
   "source": [
    "# Initialize the vocabulary using the words used to define DX_NAME \n",
    "# Class_1 = Pain \n",
    "class_1 = [\"PAIN\",\"HEADACH\",\"ALGIA\",\"DYSURIA\",\"DYNIA\",\"ACHE\",\"PRESSURE\",\"DISCOMFORT\",\"CRAMP\", \"TIGHTNESS\",\"RADICULOPATHY\",\"TENDERNES\", \"ABDOMINAL CRIS\"]\n",
    "# Class_2 = Nausea, Vomitting, Dehydration, diarrhea\n",
    "dehydration = [\"DEHY\",\"HYPERNAT\"]\n",
    "diarrhea = [\"DIAR\"]\n",
    "nausea = [\"NAUS\"]\n",
    "emesis = [\"EMES\",\"VOMIT\",\"GASTROENTER\",\"GASTRIT\"]\n",
    "class_2 = dehydration + diarrhea + nausea + emesis \n",
    "# Class_3 = Anemia \n",
    "class_3 = [\"ANEM\",\"RED CELL\"]\n",
    "# Class_4 = Sepsis, neutropenia, fever, pneuomia \n",
    "fever =  [\"FEVER\",\"FEBRILE\",\"HYPERTHERM\",\"PYREX\"]\n",
    "neutropenia = [\"NEUT\",\"PANCY\",\"AGRAN\"]\n",
    "sepsis = [\"SEPS\",\"INFLAM\",\"CANDIDEMIA\",\"SEPTIC\"]\n",
    "pneumonia = [\"PNEUMO\",\"CONSOLID\"]\n",
    "class_4 = fever + neutropenia + sepsis + pneumonia \n",
    "all_classes = class_1 + class_2 + class_3 + class_4"
   ]
  },
  {
   "cell_type": "markdown",
   "id": "9bb5c18c",
   "metadata": {},
   "source": [
    "- Filter the notes & save relevant note table"
   ]
  },
  {
   "cell_type": "code",
   "execution_count": 37,
   "id": "b2834434",
   "metadata": {},
   "outputs": [],
   "source": [
    "relevant_note = note_by_type['NOTE'].str.upper().apply(lambda x: any(y in x for y in all_classes))\n",
    "relevant_note_table = note_by_type.loc[relevant_note]\n",
    "irrelevant_note_table = note_by_type.loc[~relevant_note]"
   ]
  },
  {
   "cell_type": "code",
   "execution_count": 39,
   "id": "f07ee547",
   "metadata": {},
   "outputs": [
    {
     "data": {
      "text/plain": [
       "((31291, 6), (18065, 6), 13226)"
      ]
     },
     "execution_count": 39,
     "metadata": {},
     "output_type": "execute_result"
    }
   ],
   "source": [
    "note_removed_count = note_by_type.shape[0] - relevant_note_table.shape[0]\n",
    "note_by_type.shape, relevant_note_table.shape, note_removed_count"
   ]
  },
  {
   "cell_type": "code",
   "execution_count": 40,
   "id": "bb0bbaa8",
   "metadata": {},
   "outputs": [
    {
     "name": "stdout",
     "output_type": "stream",
     "text": [
      "No of unique patients with at least one relevant note 1793\n"
     ]
    }
   ],
   "source": [
    "print(\"No of unique patients with at least one relevant note\", len(pd.unique(relevant_note_table['PAT_DEID'])))"
   ]
  },
  {
   "cell_type": "code",
   "execution_count": 41,
   "id": "babe494f",
   "metadata": {},
   "outputs": [
    {
     "data": {
      "text/plain": [
       "22"
      ]
     },
     "execution_count": 41,
     "metadata": {},
     "output_type": "execute_result"
    }
   ],
   "source": [
    "patient_removed_count = len(pd.unique(note_by_type['PAT_DEID'])) - len(pd.unique(relevant_note_table['PAT_DEID']))\n",
    "patient_removed_count"
   ]
  },
  {
   "cell_type": "code",
   "execution_count": 185,
   "id": "bb051ecb",
   "metadata": {},
   "outputs": [],
   "source": [
    "patient_removed = pd.concat([pd.Series(pd.unique(relevant_note_table['PAT_DEID'])), pd.Series(pd.unique(note_by_type['PAT_DEID']))]).drop_duplicates(keep=False) "
   ]
  },
  {
   "cell_type": "code",
   "execution_count": 189,
   "id": "9d1223f7",
   "metadata": {},
   "outputs": [
    {
     "data": {
      "text/plain": [
       "109     2614543\n",
       "181     1698842\n",
       "362     1146163\n",
       "499     1460038\n",
       "502     1675846\n",
       "537       38474\n",
       "540     2876746\n",
       "733      732261\n",
       "756      154216\n",
       "797      883310\n",
       "985     1553033\n",
       "1090    1294489\n",
       "1251    1009842\n",
       "1257      71347\n",
       "1264    2205619\n",
       "1330     384187\n",
       "1373     655809\n",
       "1528    4054999\n",
       "1648    2935783\n",
       "1654    2533352\n",
       "1665    3277034\n",
       "1738    2766580\n",
       "dtype: Int64"
      ]
     },
     "execution_count": 189,
     "metadata": {},
     "output_type": "execute_result"
    }
   ],
   "source": [
    "patient_removed"
   ]
  },
  {
   "cell_type": "code",
   "execution_count": 43,
   "id": "0dafaff4",
   "metadata": {},
   "outputs": [
    {
     "data": {
      "text/plain": [
       "LoadJob<project=som-nero-phi-boussard, location=US, id=dff51e7a-1480-4326-8d79-5d62488b9158>"
      ]
     },
     "execution_count": 43,
     "metadata": {},
     "output_type": "execute_result"
    }
   ],
   "source": [
    "# Save relevant note table\n",
    "# Specify destination for storing dataframe\n",
    "destination = f\"som-nero-phi-boussard.ES_ACU_Oncology.relevant_note_table\"\n",
    "\n",
    "# Save file to Big Query\n",
    "load_job = client.load_table_from_dataframe(dataframe = relevant_note_table,                                  \n",
    "                                                   destination = destination,\n",
    "                                                   job_config = job_config)\n",
    "\n",
    "# Run the job:\n",
    "load_job.result()"
   ]
  },
  {
   "cell_type": "markdown",
   "id": "9063118f",
   "metadata": {},
   "source": [
    "**(Optional:) Look at the removed patients**"
   ]
  },
  {
   "cell_type": "markdown",
   "id": "2e3965e8",
   "metadata": {},
   "source": [
    "- PAT_DEID = 1698842"
   ]
  },
  {
   "cell_type": "code",
   "execution_count": 119,
   "id": "ae24b738",
   "metadata": {},
   "outputs": [],
   "source": [
    "df_notes = note_by_type.copy()"
   ]
  },
  {
   "cell_type": "code",
   "execution_count": 217,
   "id": "80e0f769",
   "metadata": {},
   "outputs": [
    {
     "data": {
      "text/plain": [
       "(2, 6)"
      ]
     },
     "execution_count": 217,
     "metadata": {},
     "output_type": "execute_result"
    }
   ],
   "source": [
    "sub_note_table = df_notes[df_notes[\"PAT_DEID\"] == 2766580].copy()\n",
    "sub_note_table.shape"
   ]
  },
  {
   "cell_type": "code",
   "execution_count": 218,
   "id": "c59a95d6",
   "metadata": {},
   "outputs": [
    {
     "data": {
      "text/html": [
       "<div>\n",
       "<style scoped>\n",
       "    .dataframe tbody tr th:only-of-type {\n",
       "        vertical-align: middle;\n",
       "    }\n",
       "\n",
       "    .dataframe tbody tr th {\n",
       "        vertical-align: top;\n",
       "    }\n",
       "\n",
       "    .dataframe thead th {\n",
       "        text-align: right;\n",
       "    }\n",
       "</style>\n",
       "<table border=\"1\" class=\"dataframe\">\n",
       "  <thead>\n",
       "    <tr style=\"text-align: right;\">\n",
       "      <th></th>\n",
       "      <th>PAT_DEID</th>\n",
       "      <th>NOTE</th>\n",
       "      <th>ENCOUNTER_DATE</th>\n",
       "      <th>EFFECTIVE_TIME</th>\n",
       "      <th>NOTE_DESC</th>\n",
       "      <th>WORD_COUNT</th>\n",
       "    </tr>\n",
       "  </thead>\n",
       "  <tbody>\n",
       "    <tr>\n",
       "      <th>47552</th>\n",
       "      <td>2766580</td>\n",
       "      <td>Patient tolerated Rituxan infusion well. Vital...</td>\n",
       "      <td>2016-03-24</td>\n",
       "      <td>2016-03-24 16:21:00</td>\n",
       "      <td>Progress Notes</td>\n",
       "      <td>36</td>\n",
       "    </tr>\n",
       "    <tr>\n",
       "      <th>47553</th>\n",
       "      <td>2766580</td>\n",
       "      <td>Sent 4/1 cough assist order and Dr. So's note ...</td>\n",
       "      <td>2016-04-01</td>\n",
       "      <td>2016-04-01 13:46:00</td>\n",
       "      <td>Telephone Encounter</td>\n",
       "      <td>20</td>\n",
       "    </tr>\n",
       "  </tbody>\n",
       "</table>\n",
       "</div>"
      ],
      "text/plain": [
       "       PAT_DEID                                               NOTE  \\\n",
       "47552   2766580  Patient tolerated Rituxan infusion well. Vital...   \n",
       "47553   2766580  Sent 4/1 cough assist order and Dr. So's note ...   \n",
       "\n",
       "      ENCOUNTER_DATE      EFFECTIVE_TIME            NOTE_DESC  WORD_COUNT  \n",
       "47552     2016-03-24 2016-03-24 16:21:00       Progress Notes          36  \n",
       "47553     2016-04-01 2016-04-01 13:46:00  Telephone Encounter          20  "
      ]
     },
     "execution_count": 218,
     "metadata": {},
     "output_type": "execute_result"
    }
   ],
   "source": [
    "sub_note_table"
   ]
  },
  {
   "cell_type": "code",
   "execution_count": 221,
   "id": "1f7ac0fc",
   "metadata": {},
   "outputs": [
    {
     "data": {
      "text/plain": [
       "\"Sent 4/1 cough assist order and Dr. So's note from 2/25 to MBHC.    Fax: 408-934-9607  \""
      ]
     },
     "execution_count": 221,
     "metadata": {},
     "output_type": "execute_result"
    }
   ],
   "source": [
    "sub_note_table.NOTE.iloc[1]"
   ]
  },
  {
   "cell_type": "code",
   "execution_count": 220,
   "id": "f58967d5",
   "metadata": {},
   "outputs": [
    {
     "data": {
      "text/html": [
       "<div>\n",
       "<style scoped>\n",
       "    .dataframe tbody tr th:only-of-type {\n",
       "        vertical-align: middle;\n",
       "    }\n",
       "\n",
       "    .dataframe tbody tr th {\n",
       "        vertical-align: top;\n",
       "    }\n",
       "\n",
       "    .dataframe thead th {\n",
       "        text-align: right;\n",
       "    }\n",
       "</style>\n",
       "<table border=\"1\" class=\"dataframe\">\n",
       "  <thead>\n",
       "    <tr style=\"text-align: right;\">\n",
       "      <th></th>\n",
       "      <th>PAT_DEID</th>\n",
       "      <th>CONTACT_DATE</th>\n",
       "      <th>CHE_TX_DATE</th>\n",
       "    </tr>\n",
       "  </thead>\n",
       "  <tbody>\n",
       "    <tr>\n",
       "      <th>1148</th>\n",
       "      <td>2766580</td>\n",
       "      <td>2016-04-13</td>\n",
       "      <td>2016-03-24</td>\n",
       "    </tr>\n",
       "  </tbody>\n",
       "</table>\n",
       "</div>"
      ],
      "text/plain": [
       "      PAT_DEID CONTACT_DATE CHE_TX_DATE\n",
       "1148   2766580   2016-04-13  2016-03-24"
      ]
     },
     "execution_count": 220,
     "metadata": {},
     "output_type": "execute_result"
    }
   ],
   "source": [
    "cohort[cohort[\"PAT_DEID\"] == 2766580]"
   ]
  },
  {
   "cell_type": "markdown",
   "id": "c547bc5e",
   "metadata": {},
   "source": [
    "Patient that should not be removed: \n",
    "- 38474: include \"mouth soreness\" or soreness or sore (\"No ulcerations noted\" -> include ulcerations?)\n",
    "\"lingering problems\"?\n",
    "- 732261: \"abdomen is getting quite large and uncomfortable\", \"ascites worsens\", \"SOB\"\n",
    "- 154216: \"Fatigue/weakness with walking\"? Active Issues:   -Neuropathy in LLE r/t surgery per pt, uses cane  -Fatigue/weakness with walking \n",
    "- 1553033: \"having hard time tolerating Prednisone\"; \"experienced bad anxiety and tachycardia\"; \"taking Ativan with Prednisone to help counter the side effects, and if still has terrible side effects to notify us\"; \"side effects of prednisone after 40 mg anxiety nervous\"; \"qod heart beating aster\".\n",
    "- 655809: \"Treatment diagnosis:  Myositis\"\n",
    "- 2766580: \"Sent 4/1 cough assist order and Dr. So's note from 2/25 to MBHC.    Fax: 408-934-9607  \" -> include cough? \n",
    "\n",
    "\"Patient is experiencing the following symptoms\"? I don't think i should include the word symptom in my vocabulary\"\n",
    "\n",
    "\n",
    "I think when it start with this: \"SOCIAL WORK ASSESSMENT\" (progress notes) you can remove it\n",
    "\n",
    "Removed patients that don't have the same number in note_table (all notes) and note_by_type (note of certain types): \n",
    "1698842\n",
    "1460038\n",
    "1675846\n",
    "38474\n",
    "2876746\n",
    "732261\n",
    "154216\n",
    "883310\n",
    "1553033\n",
    "1294489\n",
    "71347\n",
    "2205619\n",
    "655809\n",
    "2935783\n",
    "2533352\n",
    "3277034"
   ]
  },
  {
   "cell_type": "markdown",
   "id": "63bbf452",
   "metadata": {},
   "source": [
    "### Modify the cohort "
   ]
  },
  {
   "cell_type": "markdown",
   "id": "964d2018",
   "metadata": {},
   "source": [
    "Need to modify the cohort -> check the stats; ask behzad for the proposal; run bert on small concatenated data on carina "
   ]
  },
  {
   "cell_type": "code",
   "execution_count": 1,
   "id": "482f16da",
   "metadata": {},
   "outputs": [],
   "source": [
    "# Check patient with only one or 2 notes and check their notees"
   ]
  },
  {
   "cell_type": "code",
   "execution_count": null,
   "id": "04814a33",
   "metadata": {},
   "outputs": [],
   "source": [
    "## Check patients with min number and max number of notes"
   ]
  },
  {
   "cell_type": "code",
   "execution_count": null,
   "id": "e1b33d3b",
   "metadata": {},
   "outputs": [],
   "source": []
  },
  {
   "cell_type": "code",
   "execution_count": null,
   "id": "beb4e44a",
   "metadata": {},
   "outputs": [],
   "source": [
    "#"
   ]
  }
 ],
 "metadata": {
  "kernelspec": {
   "display_name": "Python 3",
   "language": "python",
   "name": "python3"
  },
  "language_info": {
   "codemirror_mode": {
    "name": "ipython",
    "version": 3
   },
   "file_extension": ".py",
   "mimetype": "text/x-python",
   "name": "python",
   "nbconvert_exporter": "python",
   "pygments_lexer": "ipython3",
   "version": "3.9.15"
  }
 },
 "nbformat": 4,
 "nbformat_minor": 5
}
