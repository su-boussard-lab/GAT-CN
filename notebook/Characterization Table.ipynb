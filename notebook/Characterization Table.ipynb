{
 "cells": [
  {
   "cell_type": "code",
   "execution_count": 1,
   "id": "e9727e61",
   "metadata": {},
   "outputs": [],
   "source": [
    "# Load packages for data analysis\n",
    "import pandas as pd\n",
    "from tableone import TableOne\n",
    "import matplotlib.pyplot as plt\n",
    "\n",
    "# Load packages for Big Query \n",
    "from google.cloud import bigquery\n",
    "import os"
   ]
  },
  {
   "cell_type": "markdown",
   "id": "0819f68c",
   "metadata": {},
   "source": [
    "### Set-up"
   ]
  },
  {
   "cell_type": "markdown",
   "id": "2986b945",
   "metadata": {},
   "source": [
    "**Set-up: GCP interface** "
   ]
  },
  {
   "cell_type": "markdown",
   "id": "deb56c63",
   "metadata": {},
   "source": [
    "Run before querying to setup Big Query"
   ]
  },
  {
   "cell_type": "code",
   "execution_count": 2,
   "id": "caf39378",
   "metadata": {},
   "outputs": [
    {
     "name": "stderr",
     "output_type": "stream",
     "text": [
      "/Users/eliasaquand/miniforge3/envs/env/lib/python3.9/site-packages/ipykernel/ipkernel.py:283: DeprecationWarning: `should_run_async` will not call `transform_cell` automatically in the future. Please pass the result to `transformed_cell` argument and any exception that happen during thetransform in `preprocessing_exc_tuple` in IPython 7.17 and above.\n",
      "  and should_run_async(code)\n",
      "/Users/eliasaquand/miniforge3/envs/env/lib/python3.9/site-packages/google/auth/_default.py:83: UserWarning: Your application has authenticated using end user credentials from Google Cloud SDK without a quota project. You might receive a \"quota exceeded\" or \"API not enabled\" error. We recommend you rerun `gcloud auth application-default login` and make sure a quota project is added. Or you can use service accounts instead. For more information about service accounts, see https://cloud.google.com/docs/authentication/\n",
      "  warnings.warn(_CLOUD_SDK_CREDENTIALS_WARNING)\n"
     ]
    }
   ],
   "source": [
    "# Define configurations for Big Query - Stride Datalake\n",
    "project_id = 'som-nero-phi-boussard' # Location of stride datalake\n",
    "db = \"som-nero-phi-boussard.stride_datalake\" # Define the database\n",
    "msc = \"som!-nero-phi-boussard.MSc_ACU_Oncology\"\n",
    "es = \"som-nero-phi-boussard.ES_ACU_Oncology\"\n",
    "client = bigquery.Client(project=project_id) # Set project to project_id\n",
    "os.environ['GOOGLE_APPLICATION_CREDENTIALS'] = '/path/to/your/credentials.json'\n",
    "os.environ['GCLOUD_PROJECT'] = \"som-nero-phi-boussard\" # specify environment\n",
    "db = \"som-nero-phi-boussard\" # Define the database"
   ]
  },
  {
   "cell_type": "markdown",
   "id": "05bfbb5a",
   "metadata": {},
   "source": [
    "**Set-up: GCP data table creation in Big Query**"
   ]
  },
  {
   "cell_type": "code",
   "execution_count": 3,
   "id": "9a357e59",
   "metadata": {},
   "outputs": [
    {
     "name": "stderr",
     "output_type": "stream",
     "text": [
      "/Users/eliasaquand/miniforge3/envs/env/lib/python3.9/site-packages/ipykernel/ipkernel.py:283: DeprecationWarning: `should_run_async` will not call `transform_cell` automatically in the future. Please pass the result to `transformed_cell` argument and any exception that happen during thetransform in `preprocessing_exc_tuple` in IPython 7.17 and above.\n",
      "  and should_run_async(code)\n"
     ]
    }
   ],
   "source": [
    "# 1) Specify the job config to properly read the file\n",
    "job_config = bigquery.LoadJobConfig()\n",
    "job_config.autodetect = True # determines the datatype of the variable\n",
    "job_config.write_disposition = 'WRITE_TRUNCATE'\n",
    "job_config.max_bad_records = 1 # allow 5 bad records; \n",
    "\n",
    "# Read schema from JSON\n",
    "# job_config.schema = self.bq_client.schema_from_json(\n",
    "# f\"{json_schema_dir}/{custom_mapping_table}.json\")\n",
    "\n",
    "# 2) Specify destination\n",
    "# destination = f\"som-nero-phi-boussard.MSc_ACU_Oncology.[COHORT NAME]\"\n",
    "\n",
    "# 3) Save file ob Big Query, using result from so far; client is specified above - implemented in the file \n",
    "# load_job = client.load_table_from_dataframe(dataframe = chemo_tx_dd,                                  \n",
    "#                                                     destination = destination,\n",
    "#                                                     job_config = job_config)\n",
    "\n",
    "# Run the job:\n",
    "# load_job.result()"
   ]
  },
  {
   "cell_type": "markdown",
   "id": "c1da14e4",
   "metadata": {},
   "source": [
    "### Get cohort patient table"
   ]
  },
  {
   "cell_type": "code",
   "execution_count": 4,
   "id": "3ec6d78c",
   "metadata": {},
   "outputs": [
    {
     "name": "stderr",
     "output_type": "stream",
     "text": [
      "/Users/eliasaquand/miniforge3/envs/env/lib/python3.9/site-packages/ipykernel/ipkernel.py:283: DeprecationWarning: `should_run_async` will not call `transform_cell` automatically in the future. Please pass the result to `transformed_cell` argument and any exception that happen during thetransform in `preprocessing_exc_tuple` in IPython 7.17 and above.\n",
      "  and should_run_async(code)\n"
     ]
    }
   ],
   "source": [
    "sql_query = f\"\"\" SELECT * FROM {es}.cohort_p1_text\"\"\"\n",
    "cohort = (client.query(sql_query)).to_dataframe()"
   ]
  },
  {
   "cell_type": "code",
   "execution_count": 5,
   "id": "40bbdf3b",
   "metadata": {},
   "outputs": [
    {
     "name": "stderr",
     "output_type": "stream",
     "text": [
      "/Users/eliasaquand/miniforge3/envs/env/lib/python3.9/site-packages/ipykernel/ipkernel.py:283: DeprecationWarning: `should_run_async` will not call `transform_cell` automatically in the future. Please pass the result to `transformed_cell` argument and any exception that happen during thetransform in `preprocessing_exc_tuple` in IPython 7.17 and above.\n",
      "  and should_run_async(code)\n"
     ]
    },
    {
     "data": {
      "text/html": [
       "<div>\n",
       "<style scoped>\n",
       "    .dataframe tbody tr th:only-of-type {\n",
       "        vertical-align: middle;\n",
       "    }\n",
       "\n",
       "    .dataframe tbody tr th {\n",
       "        vertical-align: top;\n",
       "    }\n",
       "\n",
       "    .dataframe thead th {\n",
       "        text-align: right;\n",
       "    }\n",
       "</style>\n",
       "<table border=\"1\" class=\"dataframe\">\n",
       "  <thead>\n",
       "    <tr style=\"text-align: right;\">\n",
       "      <th></th>\n",
       "      <th>PAT_DEID</th>\n",
       "      <th>HOSP_ADMSN_TIME</th>\n",
       "      <th>CHE_TX_DATE</th>\n",
       "    </tr>\n",
       "  </thead>\n",
       "  <tbody>\n",
       "    <tr>\n",
       "      <th>0</th>\n",
       "      <td>1770802</td>\n",
       "      <td>2020-02-07 20:54:00</td>\n",
       "      <td>2020-01-16 00:00:00</td>\n",
       "    </tr>\n",
       "    <tr>\n",
       "      <th>1</th>\n",
       "      <td>3945576</td>\n",
       "      <td>2020-02-01 09:14:00</td>\n",
       "      <td>2020-01-24 00:00:00</td>\n",
       "    </tr>\n",
       "    <tr>\n",
       "      <th>2</th>\n",
       "      <td>1045640</td>\n",
       "      <td>2016-02-15 20:12:00</td>\n",
       "      <td>2016-02-08 00:00:00</td>\n",
       "    </tr>\n",
       "    <tr>\n",
       "      <th>3</th>\n",
       "      <td>1289918</td>\n",
       "      <td>2016-04-15 23:13:00</td>\n",
       "      <td>2016-03-16 00:00:00</td>\n",
       "    </tr>\n",
       "    <tr>\n",
       "      <th>4</th>\n",
       "      <td>2766580</td>\n",
       "      <td>2016-04-13 17:43:00</td>\n",
       "      <td>2016-03-24 00:00:00</td>\n",
       "    </tr>\n",
       "    <tr>\n",
       "      <th>...</th>\n",
       "      <td>...</td>\n",
       "      <td>...</td>\n",
       "      <td>...</td>\n",
       "    </tr>\n",
       "    <tr>\n",
       "      <th>1748</th>\n",
       "      <td>538184</td>\n",
       "      <td>2015-02-13 13:13:00</td>\n",
       "      <td>2015-01-16 08:59:00</td>\n",
       "    </tr>\n",
       "    <tr>\n",
       "      <th>1749</th>\n",
       "      <td>1253627</td>\n",
       "      <td>2019-03-14 16:38:00</td>\n",
       "      <td>2019-03-08 23:59:00</td>\n",
       "    </tr>\n",
       "    <tr>\n",
       "      <th>1750</th>\n",
       "      <td>3456627</td>\n",
       "      <td>2018-11-12 13:20:00</td>\n",
       "      <td>2018-10-17 09:59:00</td>\n",
       "    </tr>\n",
       "    <tr>\n",
       "      <th>1751</th>\n",
       "      <td>3316652</td>\n",
       "      <td>2014-06-06 19:31:00</td>\n",
       "      <td>2014-06-05 23:59:00</td>\n",
       "    </tr>\n",
       "    <tr>\n",
       "      <th>1752</th>\n",
       "      <td>2239905</td>\n",
       "      <td>2016-05-15 10:36:00</td>\n",
       "      <td>2016-05-06 23:59:00</td>\n",
       "    </tr>\n",
       "  </tbody>\n",
       "</table>\n",
       "<p>1753 rows × 3 columns</p>\n",
       "</div>"
      ],
      "text/plain": [
       "      PAT_DEID     HOSP_ADMSN_TIME         CHE_TX_DATE\n",
       "0      1770802 2020-02-07 20:54:00 2020-01-16 00:00:00\n",
       "1      3945576 2020-02-01 09:14:00 2020-01-24 00:00:00\n",
       "2      1045640 2016-02-15 20:12:00 2016-02-08 00:00:00\n",
       "3      1289918 2016-04-15 23:13:00 2016-03-16 00:00:00\n",
       "4      2766580 2016-04-13 17:43:00 2016-03-24 00:00:00\n",
       "...        ...                 ...                 ...\n",
       "1748    538184 2015-02-13 13:13:00 2015-01-16 08:59:00\n",
       "1749   1253627 2019-03-14 16:38:00 2019-03-08 23:59:00\n",
       "1750   3456627 2018-11-12 13:20:00 2018-10-17 09:59:00\n",
       "1751   3316652 2014-06-06 19:31:00 2014-06-05 23:59:00\n",
       "1752   2239905 2016-05-15 10:36:00 2016-05-06 23:59:00\n",
       "\n",
       "[1753 rows x 3 columns]"
      ]
     },
     "execution_count": 5,
     "metadata": {},
     "output_type": "execute_result"
    }
   ],
   "source": [
    "cohort"
   ]
  },
  {
   "cell_type": "markdown",
   "id": "b30f20e1",
   "metadata": {},
   "source": [
    "## Build characterization table"
   ]
  },
  {
   "cell_type": "code",
   "execution_count": 7,
   "id": "d8db64bd",
   "metadata": {},
   "outputs": [
    {
     "name": "stderr",
     "output_type": "stream",
     "text": [
      "/Users/eliasaquand/miniforge3/envs/env/lib/python3.9/site-packages/ipykernel/ipkernel.py:283: DeprecationWarning: `should_run_async` will not call `transform_cell` automatically in the future. Please pass the result to `transformed_cell` argument and any exception that happen during thetransform in `preprocessing_exc_tuple` in IPython 7.17 and above.\n",
      "  and should_run_async(code)\n"
     ]
    }
   ],
   "source": [
    "sql_query = f\"\"\" SELECT * FROM {es}.cohort_p1_large\"\"\"\n",
    "cohort_p1_large = (client.query(sql_query)).to_dataframe()"
   ]
  },
  {
   "cell_type": "code",
   "execution_count": 8,
   "id": "4f2606b7",
   "metadata": {},
   "outputs": [
    {
     "name": "stderr",
     "output_type": "stream",
     "text": [
      "/Users/eliasaquand/miniforge3/envs/env/lib/python3.9/site-packages/ipykernel/ipkernel.py:283: DeprecationWarning: `should_run_async` will not call `transform_cell` automatically in the future. Please pass the result to `transformed_cell` argument and any exception that happen during thetransform in `preprocessing_exc_tuple` in IPython 7.17 and above.\n",
      "  and should_run_async(code)\n"
     ]
    }
   ],
   "source": [
    "# Get the demographic information for our cohort patient \n",
    "cohort_p1_large_symp = pd.merge(cohort[\"PAT_DEID\"], cohort_p1_large, how=\"left\", on = ['PAT_DEID'])"
   ]
  },
  {
   "cell_type": "code",
   "execution_count": 10,
   "id": "ac53b454",
   "metadata": {},
   "outputs": [
    {
     "name": "stderr",
     "output_type": "stream",
     "text": [
      "/Users/eliasaquand/miniforge3/envs/env/lib/python3.9/site-packages/ipykernel/ipkernel.py:283: DeprecationWarning: `should_run_async` will not call `transform_cell` automatically in the future. Please pass the result to `transformed_cell` argument and any exception that happen during thetransform in `preprocessing_exc_tuple` in IPython 7.17 and above.\n",
      "  and should_run_async(code)\n"
     ]
    }
   ],
   "source": [
    "sql_query = f\"\"\" SELECT * FROM {es}.cohort_p1_class\"\"\"\n",
    "cohort_p1_class = (client.query(sql_query)).to_dataframe()"
   ]
  },
  {
   "cell_type": "code",
   "execution_count": 11,
   "id": "db84cc2a",
   "metadata": {},
   "outputs": [
    {
     "name": "stderr",
     "output_type": "stream",
     "text": [
      "/Users/eliasaquand/miniforge3/envs/env/lib/python3.9/site-packages/ipykernel/ipkernel.py:283: DeprecationWarning: `should_run_async` will not call `transform_cell` automatically in the future. Please pass the result to `transformed_cell` argument and any exception that happen during thetransform in `preprocessing_exc_tuple` in IPython 7.17 and above.\n",
      "  and should_run_async(code)\n"
     ]
    }
   ],
   "source": [
    "cohort_p1_large_class = pd.merge(cohort_p1_large, cohort_p1_class[['PAT_DEID', 'AE_CLASS']], how=\"inner\", on = ['PAT_DEID'])"
   ]
  },
  {
   "cell_type": "markdown",
   "id": "ae270ed6",
   "metadata": {},
   "source": [
    "**Build df ready for characterization**"
   ]
  },
  {
   "cell_type": "code",
   "execution_count": 12,
   "id": "020c6e66",
   "metadata": {},
   "outputs": [
    {
     "name": "stderr",
     "output_type": "stream",
     "text": [
      "/Users/eliasaquand/miniforge3/envs/env/lib/python3.9/site-packages/ipykernel/ipkernel.py:283: DeprecationWarning: `should_run_async` will not call `transform_cell` automatically in the future. Please pass the result to `transformed_cell` argument and any exception that happen during thetransform in `preprocessing_exc_tuple` in IPython 7.17 and above.\n",
      "  and should_run_async(code)\n"
     ]
    },
    {
     "data": {
      "text/plain": [
       "White    1610\n",
       "Other     825\n",
       "Asian     798\n",
       "Black     134\n",
       "Name: RACE, dtype: int64"
      ]
     },
     "execution_count": 12,
     "metadata": {},
     "output_type": "execute_result"
    }
   ],
   "source": [
    "# Race \n",
    "class_characterization = cohort_p1_large_class.replace([\"Other\", \"Hawaiian or Pacific Islander\", \"Ethnic group not given - patient refused\", \"Native American\", \"Unknown\"], [\"Other\", \"Other\", \"Other\", \"Other\", \"Other\"])\n",
    "class_characterization.RACE.value_counts()"
   ]
  },
  {
   "cell_type": "code",
   "execution_count": 13,
   "id": "3ed589f4",
   "metadata": {},
   "outputs": [
    {
     "name": "stderr",
     "output_type": "stream",
     "text": [
      "/Users/eliasaquand/miniforge3/envs/env/lib/python3.9/site-packages/ipykernel/ipkernel.py:283: DeprecationWarning: `should_run_async` will not call `transform_cell` automatically in the future. Please pass the result to `transformed_cell` argument and any exception that happen during thetransform in `preprocessing_exc_tuple` in IPython 7.17 and above.\n",
      "  and should_run_async(code)\n"
     ]
    },
    {
     "data": {
      "text/plain": [
       "Non-Hispanic/Non-Latino    2780\n",
       "Hispanic/Latino             564\n",
       "Other                        23\n",
       "Name: ETHNIC_GROUP, dtype: int64"
      ]
     },
     "execution_count": 13,
     "metadata": {},
     "output_type": "execute_result"
    }
   ],
   "source": [
    "# Ethnic Group \n",
    "class_characterization = class_characterization.replace([\"Patient Refused\", \"Unknown\"], [\"Other\", \"Other\"])\n",
    "class_characterization.ETHNIC_GROUP.value_counts() "
   ]
  },
  {
   "cell_type": "code",
   "execution_count": 16,
   "id": "cc9fa502",
   "metadata": {},
   "outputs": [
    {
     "name": "stderr",
     "output_type": "stream",
     "text": [
      "/Users/eliasaquand/miniforge3/envs/env/lib/python3.9/site-packages/ipykernel/ipkernel.py:283: DeprecationWarning: `should_run_async` will not call `transform_cell` automatically in the future. Please pass the result to `transformed_cell` argument and any exception that happen during thetransform in `preprocessing_exc_tuple` in IPython 7.17 and above.\n",
      "  and should_run_async(code)\n"
     ]
    },
    {
     "data": {
      "text/plain": [
       "LoadJob<project=som-nero-phi-boussard, location=US, id=297681a9-561c-474b-be1c-3a34c2d6e6cb>"
      ]
     },
     "execution_count": 16,
     "metadata": {},
     "output_type": "execute_result"
    }
   ],
   "source": [
    "# Specify destination for storing dataframe\n",
    "destination = f\"som-nero-phi-boussard.ES_ACU_Oncology.class_characterization\"\n",
    "\n",
    "# Save file to Big Query\n",
    "load_job = client.load_table_from_dataframe(dataframe = class_characterization,                                  \n",
    "                                                   destination = destination,\n",
    "                                                   job_config = job_config)\n",
    "\n",
    "# Run the job:\n",
    "load_job.result()"
   ]
  },
  {
   "cell_type": "markdown",
   "id": "53adb494",
   "metadata": {},
   "source": [
    "### Build characterization table of the target cohort stratified by CLASSES"
   ]
  },
  {
   "cell_type": "code",
   "execution_count": 17,
   "id": "a8568b40",
   "metadata": {},
   "outputs": [
    {
     "name": "stderr",
     "output_type": "stream",
     "text": [
      "/Users/eliasaquand/miniforge3/envs/env/lib/python3.9/site-packages/ipykernel/ipkernel.py:283: DeprecationWarning: `should_run_async` will not call `transform_cell` automatically in the future. Please pass the result to `transformed_cell` argument and any exception that happen during thetransform in `preprocessing_exc_tuple` in IPython 7.17 and above.\n",
      "  and should_run_async(code)\n",
      "/Users/eliasaquand/miniforge3/envs/env/lib/python3.9/site-packages/tableone/tableone.py:225: DeprecationWarning: The labels argument is deprecated; use rename instead.\n",
      "  warnings.warn(\"The labels argument is deprecated; use \"\n",
      "/Users/eliasaquand/miniforge3/envs/env/lib/python3.9/site-packages/tableone/tableone.py:1458: FutureWarning: iteritems is deprecated and will be removed in a future version. Use .items instead.\n",
      "  for k, _ in levelcounts.iteritems():\n"
     ]
    },
    {
     "data": {
      "text/html": [
       "<div>\n",
       "<style scoped>\n",
       "    .dataframe tbody tr th:only-of-type {\n",
       "        vertical-align: middle;\n",
       "    }\n",
       "\n",
       "    .dataframe tbody tr th {\n",
       "        vertical-align: top;\n",
       "    }\n",
       "\n",
       "    .dataframe thead tr th {\n",
       "        text-align: left;\n",
       "    }\n",
       "</style>\n",
       "<table border=\"1\" class=\"dataframe\">\n",
       "  <thead>\n",
       "    <tr>\n",
       "      <th></th>\n",
       "      <th></th>\n",
       "      <th colspan=\"4\" halign=\"left\">Grouped by AE_CLASS</th>\n",
       "    </tr>\n",
       "    <tr>\n",
       "      <th></th>\n",
       "      <th></th>\n",
       "      <th>CLASS_1</th>\n",
       "      <th>CLASS_2</th>\n",
       "      <th>CLASS_3</th>\n",
       "      <th>CLASS_4</th>\n",
       "    </tr>\n",
       "  </thead>\n",
       "  <tbody>\n",
       "    <tr>\n",
       "      <th>n</th>\n",
       "      <th></th>\n",
       "      <td>1140</td>\n",
       "      <td>773</td>\n",
       "      <td>574</td>\n",
       "      <td>884</td>\n",
       "    </tr>\n",
       "    <tr>\n",
       "      <th>SEX, n (%)</th>\n",
       "      <th>Female</th>\n",
       "      <td>600 (52.6)</td>\n",
       "      <td>433 (56.0)</td>\n",
       "      <td>265 (46.2)</td>\n",
       "      <td>426 (48.2)</td>\n",
       "    </tr>\n",
       "    <tr>\n",
       "      <th>AGE, mean (SD)</th>\n",
       "      <th></th>\n",
       "      <td>56.4 (15.5)</td>\n",
       "      <td>56.3 (15.8)</td>\n",
       "      <td>56.0 (16.1)</td>\n",
       "      <td>57.6 (15.7)</td>\n",
       "    </tr>\n",
       "    <tr>\n",
       "      <th rowspan=\"4\" valign=\"top\">RACE, n (%)</th>\n",
       "      <th>Asian</th>\n",
       "      <td>275 (24.1)</td>\n",
       "      <td>178 (23.1)</td>\n",
       "      <td>120 (20.9)</td>\n",
       "      <td>225 (25.5)</td>\n",
       "    </tr>\n",
       "    <tr>\n",
       "      <th>White</th>\n",
       "      <td>536 (47.1)</td>\n",
       "      <td>369 (47.8)</td>\n",
       "      <td>279 (48.7)</td>\n",
       "      <td>426 (48.2)</td>\n",
       "    </tr>\n",
       "    <tr>\n",
       "      <th>Black</th>\n",
       "      <td>46 (4.0)</td>\n",
       "      <td>30 (3.9)</td>\n",
       "      <td>23 (4.0)</td>\n",
       "      <td>35 (4.0)</td>\n",
       "    </tr>\n",
       "    <tr>\n",
       "      <th>Other</th>\n",
       "      <td>282 (24.8)</td>\n",
       "      <td>195 (25.3)</td>\n",
       "      <td>151 (26.4)</td>\n",
       "      <td>197 (22.3)</td>\n",
       "    </tr>\n",
       "    <tr>\n",
       "      <th rowspan=\"3\" valign=\"top\">ETHNIC_GROUP, n (%)</th>\n",
       "      <th>Hispanic/Latino</th>\n",
       "      <td>201 (17.6)</td>\n",
       "      <td>130 (16.8)</td>\n",
       "      <td>107 (18.7)</td>\n",
       "      <td>126 (14.3)</td>\n",
       "    </tr>\n",
       "    <tr>\n",
       "      <th>Non-Hispanic/Non-Latino</th>\n",
       "      <td>932 (81.8)</td>\n",
       "      <td>637 (82.5)</td>\n",
       "      <td>459 (80.1)</td>\n",
       "      <td>752 (85.2)</td>\n",
       "    </tr>\n",
       "    <tr>\n",
       "      <th>Other</th>\n",
       "      <td>6 (0.5)</td>\n",
       "      <td>5 (0.6)</td>\n",
       "      <td>7 (1.2)</td>\n",
       "      <td>5 (0.6)</td>\n",
       "    </tr>\n",
       "    <tr>\n",
       "      <th rowspan=\"12\" valign=\"top\">CANCER_GROUP, n (%)</th>\n",
       "      <th>hematopoietic_lymph</th>\n",
       "      <td>211 (18.5)</td>\n",
       "      <td>146 (18.9)</td>\n",
       "      <td>166 (28.9)</td>\n",
       "      <td>213 (24.1)</td>\n",
       "    </tr>\n",
       "    <tr>\n",
       "      <th>hepatobiliary_pancreas</th>\n",
       "      <td>156 (13.7)</td>\n",
       "      <td>95 (12.3)</td>\n",
       "      <td>61 (10.6)</td>\n",
       "      <td>102 (11.5)</td>\n",
       "    </tr>\n",
       "    <tr>\n",
       "      <th>gastrointestinal</th>\n",
       "      <td>122 (10.7)</td>\n",
       "      <td>103 (13.3)</td>\n",
       "      <td>48 (8.4)</td>\n",
       "      <td>82 (9.3)</td>\n",
       "    </tr>\n",
       "    <tr>\n",
       "      <th>breast</th>\n",
       "      <td>127 (11.1)</td>\n",
       "      <td>89 (11.5)</td>\n",
       "      <td>38 (6.6)</td>\n",
       "      <td>100 (11.3)</td>\n",
       "    </tr>\n",
       "    <tr>\n",
       "      <th>lung_thoracic</th>\n",
       "      <td>119 (10.4)</td>\n",
       "      <td>59 (7.6)</td>\n",
       "      <td>57 (9.9)</td>\n",
       "      <td>117 (13.2)</td>\n",
       "    </tr>\n",
       "    <tr>\n",
       "      <th>gynecologic</th>\n",
       "      <td>95 (8.3)</td>\n",
       "      <td>70 (9.1)</td>\n",
       "      <td>35 (6.1)</td>\n",
       "      <td>45 (5.1)</td>\n",
       "    </tr>\n",
       "    <tr>\n",
       "      <th>head_neck</th>\n",
       "      <td>80 (7.0)</td>\n",
       "      <td>56 (7.2)</td>\n",
       "      <td>40 (7.0)</td>\n",
       "      <td>68 (7.7)</td>\n",
       "    </tr>\n",
       "    <tr>\n",
       "      <th>genitourinary</th>\n",
       "      <td>85 (7.5)</td>\n",
       "      <td>53 (6.9)</td>\n",
       "      <td>45 (7.8)</td>\n",
       "      <td>60 (6.8)</td>\n",
       "    </tr>\n",
       "    <tr>\n",
       "      <th>sarcoma</th>\n",
       "      <td>77 (6.8)</td>\n",
       "      <td>56 (7.2)</td>\n",
       "      <td>53 (9.2)</td>\n",
       "      <td>50 (5.7)</td>\n",
       "    </tr>\n",
       "    <tr>\n",
       "      <th>skin</th>\n",
       "      <td>33 (2.9)</td>\n",
       "      <td>21 (2.7)</td>\n",
       "      <td>13 (2.3)</td>\n",
       "      <td>17 (1.9)</td>\n",
       "    </tr>\n",
       "    <tr>\n",
       "      <th>neurologic</th>\n",
       "      <td>20 (1.8)</td>\n",
       "      <td>18 (2.3)</td>\n",
       "      <td>13 (2.3)</td>\n",
       "      <td>19 (2.1)</td>\n",
       "    </tr>\n",
       "    <tr>\n",
       "      <th>prostate</th>\n",
       "      <td>15 (1.3)</td>\n",
       "      <td>7 (0.9)</td>\n",
       "      <td>5 (0.9)</td>\n",
       "      <td>11 (1.2)</td>\n",
       "    </tr>\n",
       "    <tr>\n",
       "      <th rowspan=\"4\" valign=\"top\">STAGE_FOUR, n (%)</th>\n",
       "      <th>1.0</th>\n",
       "      <td>110 (18.8)</td>\n",
       "      <td>80 (19.9)</td>\n",
       "      <td>53 (20.0)</td>\n",
       "      <td>90 (18.0)</td>\n",
       "    </tr>\n",
       "    <tr>\n",
       "      <th>2.0</th>\n",
       "      <td>106 (18.1)</td>\n",
       "      <td>81 (20.1)</td>\n",
       "      <td>42 (15.8)</td>\n",
       "      <td>82 (16.4)</td>\n",
       "    </tr>\n",
       "    <tr>\n",
       "      <th>3.0</th>\n",
       "      <td>104 (17.7)</td>\n",
       "      <td>70 (17.4)</td>\n",
       "      <td>40 (15.1)</td>\n",
       "      <td>81 (16.2)</td>\n",
       "    </tr>\n",
       "    <tr>\n",
       "      <th>4.0</th>\n",
       "      <td>266 (45.4)</td>\n",
       "      <td>172 (42.7)</td>\n",
       "      <td>130 (49.1)</td>\n",
       "      <td>247 (49.4)</td>\n",
       "    </tr>\n",
       "    <tr>\n",
       "      <th rowspan=\"3\" valign=\"top\">INSURANCE_PAYOR, n (%)</th>\n",
       "      <th>MEDICARE</th>\n",
       "      <td>265 (54.9)</td>\n",
       "      <td>188 (57.1)</td>\n",
       "      <td>147 (57.0)</td>\n",
       "      <td>230 (59.0)</td>\n",
       "    </tr>\n",
       "    <tr>\n",
       "      <th>PRIVATE</th>\n",
       "      <td>167 (34.6)</td>\n",
       "      <td>115 (35.0)</td>\n",
       "      <td>87 (33.7)</td>\n",
       "      <td>128 (32.8)</td>\n",
       "    </tr>\n",
       "    <tr>\n",
       "      <th>MediCal_MEDICAID</th>\n",
       "      <td>51 (10.6)</td>\n",
       "      <td>26 (7.9)</td>\n",
       "      <td>24 (9.3)</td>\n",
       "      <td>32 (8.2)</td>\n",
       "    </tr>\n",
       "  </tbody>\n",
       "</table>\n",
       "</div><br />"
      ],
      "text/plain": [
       "                                               Grouped by AE_CLASS                                       \n",
       "                                                           CLASS_1      CLASS_2      CLASS_3      CLASS_4\n",
       "n                                                             1140          773          574          884\n",
       "SEX, n (%)             Female                           600 (52.6)   433 (56.0)   265 (46.2)   426 (48.2)\n",
       "AGE, mean (SD)                                         56.4 (15.5)  56.3 (15.8)  56.0 (16.1)  57.6 (15.7)\n",
       "RACE, n (%)            Asian                            275 (24.1)   178 (23.1)   120 (20.9)   225 (25.5)\n",
       "                       White                            536 (47.1)   369 (47.8)   279 (48.7)   426 (48.2)\n",
       "                       Black                              46 (4.0)     30 (3.9)     23 (4.0)     35 (4.0)\n",
       "                       Other                            282 (24.8)   195 (25.3)   151 (26.4)   197 (22.3)\n",
       "ETHNIC_GROUP, n (%)    Hispanic/Latino                  201 (17.6)   130 (16.8)   107 (18.7)   126 (14.3)\n",
       "                       Non-Hispanic/Non-Latino          932 (81.8)   637 (82.5)   459 (80.1)   752 (85.2)\n",
       "                       Other                               6 (0.5)      5 (0.6)      7 (1.2)      5 (0.6)\n",
       "CANCER_GROUP, n (%)    hematopoietic_lymph              211 (18.5)   146 (18.9)   166 (28.9)   213 (24.1)\n",
       "                       hepatobiliary_pancreas           156 (13.7)    95 (12.3)    61 (10.6)   102 (11.5)\n",
       "                       gastrointestinal                 122 (10.7)   103 (13.3)     48 (8.4)     82 (9.3)\n",
       "                       breast                           127 (11.1)    89 (11.5)     38 (6.6)   100 (11.3)\n",
       "                       lung_thoracic                    119 (10.4)     59 (7.6)     57 (9.9)   117 (13.2)\n",
       "                       gynecologic                        95 (8.3)     70 (9.1)     35 (6.1)     45 (5.1)\n",
       "                       head_neck                          80 (7.0)     56 (7.2)     40 (7.0)     68 (7.7)\n",
       "                       genitourinary                      85 (7.5)     53 (6.9)     45 (7.8)     60 (6.8)\n",
       "                       sarcoma                            77 (6.8)     56 (7.2)     53 (9.2)     50 (5.7)\n",
       "                       skin                               33 (2.9)     21 (2.7)     13 (2.3)     17 (1.9)\n",
       "                       neurologic                         20 (1.8)     18 (2.3)     13 (2.3)     19 (2.1)\n",
       "                       prostate                           15 (1.3)      7 (0.9)      5 (0.9)     11 (1.2)\n",
       "STAGE_FOUR, n (%)      1.0                              110 (18.8)    80 (19.9)    53 (20.0)    90 (18.0)\n",
       "                       2.0                              106 (18.1)    81 (20.1)    42 (15.8)    82 (16.4)\n",
       "                       3.0                              104 (17.7)    70 (17.4)    40 (15.1)    81 (16.2)\n",
       "                       4.0                              266 (45.4)   172 (42.7)   130 (49.1)   247 (49.4)\n",
       "INSURANCE_PAYOR, n (%) MEDICARE                         265 (54.9)   188 (57.1)   147 (57.0)   230 (59.0)\n",
       "                       PRIVATE                          167 (34.6)   115 (35.0)    87 (33.7)   128 (32.8)\n",
       "                       MediCal_MEDICAID                  51 (10.6)     26 (7.9)     24 (9.3)     32 (8.2)"
      ]
     },
     "execution_count": 17,
     "metadata": {},
     "output_type": "execute_result"
    }
   ],
   "source": [
    "# columns to summarize\n",
    "columns = ['SEX', \"AGE_AT_DX\", \"RACE\", \"ETHNIC_GROUP\", \"CANCER_GROUP\", \"STAGE_FOUR\", \"INSURANCE_PAYOR\"]\n",
    "\n",
    "# columns containing categorical variables\n",
    "categorical = ['SEX', \"RACE\", \"ETHNIC_GROUP\", \"CANCER_GROUP\", \"STAGE_FOUR\", \"INSURANCE_PAYOR\"]\n",
    "\n",
    "# limit the binary variable \"death\" to a single row\n",
    "limit = {'SEX': 1}\n",
    "\n",
    "# set the order of the categorical variables\n",
    "order = {\"RACE\": [\"Asian\", \"White\", \"Black\", \"Other\"],\n",
    "         \"ETHNIC_GROUP\": [\"Hispanic/Latino\", \"Non-Hispanic/Non-Latino\", \"Other\"],\n",
    "         \"INSURANCE_PAYOR\": [\"MEDICARE\", \"PRIVATE\", \"MediCal_MEDICAID\"],\n",
    "         \"STAGE_FOUR\": [1.0, 2.0, 3.0, 4.0],\n",
    "         \"CANCER_GROUP\": [\"hematopoietic_lymph\", \"hepatobiliary_pancreas\", \"gastrointestinal\", \"breast\", \n",
    "                        \"lung_thoracic\", \"gynecologic\", \"head_neck\", \"genitourinary\", \"sarcoma\", \"skin\", \"neurologic\", \"prostate\"]\n",
    "        }\n",
    "\n",
    "# alternative labels\n",
    "labels={'AGE_AT_DX': 'AGE'}\n",
    "\n",
    "# non-normal variables\n",
    "#nonnormal = [\"AGE_AT_DX\"]\n",
    "\n",
    "# optionally, a categorical variable for stratification\n",
    "groupby = ['AE_CLASS']\n",
    "\n",
    "table1 = TableOne(class_characterization, columns=columns, categorical=categorical, groupby=groupby,\n",
    "                   label_suffix=True, limit=limit, order=order, overall=False, missing=False, labels=labels)\n",
    "\n",
    "table1"
   ]
  },
  {
   "cell_type": "markdown",
   "id": "d4dd5a5c",
   "metadata": {},
   "source": [
    "### Build characterization table of the target cohort"
   ]
  },
  {
   "cell_type": "code",
   "execution_count": 21,
   "id": "3786efe0",
   "metadata": {},
   "outputs": [
    {
     "name": "stderr",
     "output_type": "stream",
     "text": [
      "/Users/eliasaquand/miniforge3/envs/env/lib/python3.9/site-packages/ipykernel/ipkernel.py:283: DeprecationWarning: `should_run_async` will not call `transform_cell` automatically in the future. Please pass the result to `transformed_cell` argument and any exception that happen during thetransform in `preprocessing_exc_tuple` in IPython 7.17 and above.\n",
      "  and should_run_async(code)\n"
     ]
    }
   ],
   "source": [
    "# target cohort \n",
    "cohort_characterization = class_characterization.copy()\n",
    "del cohort_characterization[\"AE_CLASS\"]\n",
    "cohort_characterization.drop_duplicates(inplace=True)"
   ]
  },
  {
   "cell_type": "code",
   "execution_count": 22,
   "id": "84e42f98",
   "metadata": {},
   "outputs": [
    {
     "name": "stderr",
     "output_type": "stream",
     "text": [
      "/Users/eliasaquand/miniforge3/envs/env/lib/python3.9/site-packages/ipykernel/ipkernel.py:283: DeprecationWarning: `should_run_async` will not call `transform_cell` automatically in the future. Please pass the result to `transformed_cell` argument and any exception that happen during thetransform in `preprocessing_exc_tuple` in IPython 7.17 and above.\n",
      "  and should_run_async(code)\n"
     ]
    },
    {
     "data": {
      "text/plain": [
       "(1753, 15)"
      ]
     },
     "execution_count": 22,
     "metadata": {},
     "output_type": "execute_result"
    }
   ],
   "source": [
    "cohort_characterization.shape"
   ]
  },
  {
   "cell_type": "code",
   "execution_count": 23,
   "id": "c2bccb7d",
   "metadata": {},
   "outputs": [
    {
     "name": "stderr",
     "output_type": "stream",
     "text": [
      "/Users/eliasaquand/miniforge3/envs/env/lib/python3.9/site-packages/ipykernel/ipkernel.py:283: DeprecationWarning: `should_run_async` will not call `transform_cell` automatically in the future. Please pass the result to `transformed_cell` argument and any exception that happen during thetransform in `preprocessing_exc_tuple` in IPython 7.17 and above.\n",
      "  and should_run_async(code)\n"
     ]
    },
    {
     "data": {
      "text/plain": [
       "LoadJob<project=som-nero-phi-boussard, location=US, id=a7279df7-48f1-410b-8a17-ffc84ddabfa4>"
      ]
     },
     "execution_count": 23,
     "metadata": {},
     "output_type": "execute_result"
    }
   ],
   "source": [
    "# Specify destination for storing dataframe\n",
    "destination = f\"som-nero-phi-boussard.ES_ACU_Oncology.cohort_characterization\"\n",
    "\n",
    "# Save file to Big Query\n",
    "load_job = client.load_table_from_dataframe(dataframe = cohort_characterization,                                  \n",
    "                                                   destination = destination,\n",
    "                                                   job_config = job_config)\n",
    "\n",
    "# Run the job:\n",
    "load_job.result()"
   ]
  },
  {
   "cell_type": "code",
   "execution_count": 24,
   "id": "23b52079",
   "metadata": {},
   "outputs": [
    {
     "name": "stderr",
     "output_type": "stream",
     "text": [
      "/Users/eliasaquand/miniforge3/envs/env/lib/python3.9/site-packages/ipykernel/ipkernel.py:283: DeprecationWarning: `should_run_async` will not call `transform_cell` automatically in the future. Please pass the result to `transformed_cell` argument and any exception that happen during thetransform in `preprocessing_exc_tuple` in IPython 7.17 and above.\n",
      "  and should_run_async(code)\n",
      "/Users/eliasaquand/miniforge3/envs/env/lib/python3.9/site-packages/tableone/tableone.py:225: DeprecationWarning: The labels argument is deprecated; use rename instead.\n",
      "  warnings.warn(\"The labels argument is deprecated; use \"\n",
      "/Users/eliasaquand/miniforge3/envs/env/lib/python3.9/site-packages/tableone/tableone.py:1458: FutureWarning: iteritems is deprecated and will be removed in a future version. Use .items instead.\n",
      "  for k, _ in levelcounts.iteritems():\n"
     ]
    },
    {
     "data": {
      "text/html": [
       "<div>\n",
       "<style scoped>\n",
       "    .dataframe tbody tr th:only-of-type {\n",
       "        vertical-align: middle;\n",
       "    }\n",
       "\n",
       "    .dataframe tbody tr th {\n",
       "        vertical-align: top;\n",
       "    }\n",
       "\n",
       "    .dataframe thead th {\n",
       "        text-align: right;\n",
       "    }\n",
       "</style>\n",
       "<table border=\"1\" class=\"dataframe\">\n",
       "  <thead>\n",
       "    <tr style=\"text-align: right;\">\n",
       "      <th></th>\n",
       "      <th></th>\n",
       "      <th>Overall</th>\n",
       "    </tr>\n",
       "  </thead>\n",
       "  <tbody>\n",
       "    <tr>\n",
       "      <th>n</th>\n",
       "      <th></th>\n",
       "      <td>1753</td>\n",
       "    </tr>\n",
       "    <tr>\n",
       "      <th>SEX, n (%)</th>\n",
       "      <th>Male</th>\n",
       "      <td>883 (50.4)</td>\n",
       "    </tr>\n",
       "    <tr>\n",
       "      <th>AGE, mean (SD)</th>\n",
       "      <th></th>\n",
       "      <td>56.9 (15.8)</td>\n",
       "    </tr>\n",
       "    <tr>\n",
       "      <th rowspan=\"4\" valign=\"top\">RACE, n (%)</th>\n",
       "      <th>Asian</th>\n",
       "      <td>418 (23.9)</td>\n",
       "    </tr>\n",
       "    <tr>\n",
       "      <th>White</th>\n",
       "      <td>854 (48.7)</td>\n",
       "    </tr>\n",
       "    <tr>\n",
       "      <th>Black</th>\n",
       "      <td>67 (3.8)</td>\n",
       "    </tr>\n",
       "    <tr>\n",
       "      <th>Other</th>\n",
       "      <td>413 (23.6)</td>\n",
       "    </tr>\n",
       "    <tr>\n",
       "      <th rowspan=\"3\" valign=\"top\">ETHNIC_GROUP, n (%)</th>\n",
       "      <th>Hispanic/Latino</th>\n",
       "      <td>283 (16.2)</td>\n",
       "    </tr>\n",
       "    <tr>\n",
       "      <th>Non-Hispanic/Non-Latino</th>\n",
       "      <td>1458 (83.2)</td>\n",
       "    </tr>\n",
       "    <tr>\n",
       "      <th>Other</th>\n",
       "      <td>11 (0.6)</td>\n",
       "    </tr>\n",
       "    <tr>\n",
       "      <th rowspan=\"12\" valign=\"top\">CANCER_GROUP, n (%)</th>\n",
       "      <th>hematopoietic_lymph</th>\n",
       "      <td>377 (21.5)</td>\n",
       "    </tr>\n",
       "    <tr>\n",
       "      <th>hepatobiliary_pancreas</th>\n",
       "      <td>203 (11.6)</td>\n",
       "    </tr>\n",
       "    <tr>\n",
       "      <th>gastrointestinal</th>\n",
       "      <td>181 (10.3)</td>\n",
       "    </tr>\n",
       "    <tr>\n",
       "      <th>breast</th>\n",
       "      <td>191 (10.9)</td>\n",
       "    </tr>\n",
       "    <tr>\n",
       "      <th>lung_thoracic</th>\n",
       "      <td>184 (10.5)</td>\n",
       "    </tr>\n",
       "    <tr>\n",
       "      <th>gynecologic</th>\n",
       "      <td>123 (7.0)</td>\n",
       "    </tr>\n",
       "    <tr>\n",
       "      <th>head_neck</th>\n",
       "      <td>136 (7.8)</td>\n",
       "    </tr>\n",
       "    <tr>\n",
       "      <th>genitourinary</th>\n",
       "      <td>131 (7.5)</td>\n",
       "    </tr>\n",
       "    <tr>\n",
       "      <th>sarcoma</th>\n",
       "      <td>117 (6.7)</td>\n",
       "    </tr>\n",
       "    <tr>\n",
       "      <th>skin</th>\n",
       "      <td>46 (2.6)</td>\n",
       "    </tr>\n",
       "    <tr>\n",
       "      <th>neurologic</th>\n",
       "      <td>42 (2.4)</td>\n",
       "    </tr>\n",
       "    <tr>\n",
       "      <th>prostate</th>\n",
       "      <td>22 (1.3)</td>\n",
       "    </tr>\n",
       "    <tr>\n",
       "      <th rowspan=\"4\" valign=\"top\">STAGE_FOUR, n (%)</th>\n",
       "      <th>1.0</th>\n",
       "      <td>176 (18.5)</td>\n",
       "    </tr>\n",
       "    <tr>\n",
       "      <th>2.0</th>\n",
       "      <td>168 (17.7)</td>\n",
       "    </tr>\n",
       "    <tr>\n",
       "      <th>3.0</th>\n",
       "      <td>167 (17.6)</td>\n",
       "    </tr>\n",
       "    <tr>\n",
       "      <th>4.0</th>\n",
       "      <td>438 (46.2)</td>\n",
       "    </tr>\n",
       "    <tr>\n",
       "      <th rowspan=\"3\" valign=\"top\">INSURANCE_PAYOR, n (%)</th>\n",
       "      <th>MEDICARE</th>\n",
       "      <td>437 (57.1)</td>\n",
       "    </tr>\n",
       "    <tr>\n",
       "      <th>PRIVATE</th>\n",
       "      <td>257 (33.6)</td>\n",
       "    </tr>\n",
       "    <tr>\n",
       "      <th>MediCal_MEDICAID</th>\n",
       "      <td>71 (9.3)</td>\n",
       "    </tr>\n",
       "  </tbody>\n",
       "</table>\n",
       "</div><br />"
      ],
      "text/plain": [
       "                                                    Overall\n",
       "n                                                      1753\n",
       "SEX, n (%)             Male                      883 (50.4)\n",
       "AGE, mean (SD)                                  56.9 (15.8)\n",
       "RACE, n (%)            Asian                     418 (23.9)\n",
       "                       White                     854 (48.7)\n",
       "                       Black                       67 (3.8)\n",
       "                       Other                     413 (23.6)\n",
       "ETHNIC_GROUP, n (%)    Hispanic/Latino           283 (16.2)\n",
       "                       Non-Hispanic/Non-Latino  1458 (83.2)\n",
       "                       Other                       11 (0.6)\n",
       "CANCER_GROUP, n (%)    hematopoietic_lymph       377 (21.5)\n",
       "                       hepatobiliary_pancreas    203 (11.6)\n",
       "                       gastrointestinal          181 (10.3)\n",
       "                       breast                    191 (10.9)\n",
       "                       lung_thoracic             184 (10.5)\n",
       "                       gynecologic                123 (7.0)\n",
       "                       head_neck                  136 (7.8)\n",
       "                       genitourinary              131 (7.5)\n",
       "                       sarcoma                    117 (6.7)\n",
       "                       skin                        46 (2.6)\n",
       "                       neurologic                  42 (2.4)\n",
       "                       prostate                    22 (1.3)\n",
       "STAGE_FOUR, n (%)      1.0                       176 (18.5)\n",
       "                       2.0                       168 (17.7)\n",
       "                       3.0                       167 (17.6)\n",
       "                       4.0                       438 (46.2)\n",
       "INSURANCE_PAYOR, n (%) MEDICARE                  437 (57.1)\n",
       "                       PRIVATE                   257 (33.6)\n",
       "                       MediCal_MEDICAID            71 (9.3)"
      ]
     },
     "execution_count": 24,
     "metadata": {},
     "output_type": "execute_result"
    }
   ],
   "source": [
    "table2 = TableOne(cohort_characterization, columns=columns, categorical=categorical, \n",
    "                   label_suffix=True, limit=limit, order=order, missing=False, labels=labels)\n",
    "\n",
    "table2"
   ]
  },
  {
   "cell_type": "markdown",
   "id": "e40a502f",
   "metadata": {},
   "source": [
    "**Save characterization table**"
   ]
  },
  {
   "cell_type": "code",
   "execution_count": 64,
   "id": "f4728a8e",
   "metadata": {},
   "outputs": [
    {
     "name": "stderr",
     "output_type": "stream",
     "text": [
      "/Users/eliasaquand/miniforge3/envs/env/lib/python3.9/site-packages/ipykernel/ipkernel.py:283: DeprecationWarning: `should_run_async` will not call `transform_cell` automatically in the future. Please pass the result to `transformed_cell` argument and any exception that happen during thetransform in `preprocessing_exc_tuple` in IPython 7.17 and above.\n",
      "  and should_run_async(code)\n",
      "<ipython-input-64-5abfd0e89567>:7: FutureWarning: In future versions `DataFrame.to_latex` is expected to utilise the base implementation of `Styler.to_latex` for formatting and rendering. The arguments signature may therefore change. It is recommended instead to use `DataFrame.style.to_latex` which also contains additional functionality.\n",
      "  table1.to_latex(fn2)\n"
     ]
    }
   ],
   "source": [
    "# Save to Excel\n",
    "fn1 = 'tableone.xlsx'\n",
    "table1.to_excel(fn1)\n",
    "\n",
    "# Save table to LaTeX\n",
    "fn2 = 'tableone.tex'\n",
    "table1.to_latex(fn2)\n",
    "\n",
    "# Save table to HTML\n",
    "fn3 = 'tableone.html'\n",
    "table1.to_html(fn3)\n",
    "\n",
    "# Save table to HTML\n",
    "fn4 = 'tableone.csv'\n",
    "table1.to_csv(fn4)"
   ]
  },
  {
   "cell_type": "markdown",
   "id": "cbea98ab",
   "metadata": {},
   "source": [
    "### Below is to do it manually, without using TableOne"
   ]
  },
  {
   "cell_type": "markdown",
   "id": "b392d608",
   "metadata": {},
   "source": [
    "#### Sex"
   ]
  },
  {
   "cell_type": "code",
   "execution_count": 13,
   "id": "148143b8",
   "metadata": {},
   "outputs": [
    {
     "data": {
      "text/plain": [
       "Male      883\n",
       "Female    870\n",
       "Name: SEX, dtype: int64"
      ]
     },
     "execution_count": 13,
     "metadata": {},
     "output_type": "execute_result"
    }
   ],
   "source": [
    "cohort_p1_large_symp.SEX.value_counts()"
   ]
  },
  {
   "cell_type": "code",
   "execution_count": 14,
   "id": "ddb23aa3",
   "metadata": {},
   "outputs": [
    {
     "data": {
      "text/plain": [
       "SEX     AE_CLASS\n",
       "Female  CLASS_1     600\n",
       "        CLASS_2     433\n",
       "        CLASS_3     265\n",
       "        CLASS_4     426\n",
       "Male    CLASS_1     540\n",
       "        CLASS_2     340\n",
       "        CLASS_3     309\n",
       "        CLASS_4     458\n",
       "Name: PAT_DEID, dtype: int64"
      ]
     },
     "execution_count": 14,
     "metadata": {},
     "output_type": "execute_result"
    }
   ],
   "source": [
    "cohort_p1_large_class.groupby([\"SEX\", \"AE_CLASS\"])[\"PAT_DEID\"].count()"
   ]
  },
  {
   "cell_type": "markdown",
   "id": "0c80880b",
   "metadata": {},
   "source": [
    "**Ethnic group**"
   ]
  },
  {
   "cell_type": "code",
   "execution_count": 15,
   "id": "b5b4caf7",
   "metadata": {},
   "outputs": [
    {
     "data": {
      "text/plain": [
       "Non-Hispanic/Non-Latino    1458\n",
       "Hispanic/Latino             283\n",
       "Patient Refused               9\n",
       "Unknown                       2\n",
       "Name: ETHNIC_GROUP, dtype: int64"
      ]
     },
     "execution_count": 15,
     "metadata": {},
     "output_type": "execute_result"
    }
   ],
   "source": [
    "cohort_p1_large_symp.ETHNIC_GROUP.value_counts()"
   ]
  },
  {
   "cell_type": "code",
   "execution_count": 16,
   "id": "65915bde",
   "metadata": {},
   "outputs": [
    {
     "data": {
      "text/plain": [
       "ETHNIC_GROUP             AE_CLASS\n",
       "Hispanic/Latino          CLASS_1     201\n",
       "                         CLASS_2     130\n",
       "                         CLASS_3     107\n",
       "                         CLASS_4     126\n",
       "Non-Hispanic/Non-Latino  CLASS_1     932\n",
       "                         CLASS_2     637\n",
       "                         CLASS_3     459\n",
       "                         CLASS_4     752\n",
       "Patient Refused          CLASS_1       4\n",
       "                         CLASS_2       5\n",
       "                         CLASS_3       6\n",
       "                         CLASS_4       5\n",
       "Unknown                  CLASS_1       2\n",
       "                         CLASS_3       1\n",
       "Name: PAT_DEID, dtype: int64"
      ]
     },
     "execution_count": 16,
     "metadata": {},
     "output_type": "execute_result"
    }
   ],
   "source": [
    "cohort_p1_large_class.groupby([\"ETHNIC_GROUP\", \"AE_CLASS\"])[\"PAT_DEID\"].count()"
   ]
  },
  {
   "cell_type": "markdown",
   "id": "41df378f",
   "metadata": {},
   "source": [
    "**Race**"
   ]
  },
  {
   "cell_type": "code",
   "execution_count": 17,
   "id": "85aaa439",
   "metadata": {},
   "outputs": [
    {
     "data": {
      "text/plain": [
       "White                                       854\n",
       "Asian                                       418\n",
       "Other                                       364\n",
       "Black                                        67\n",
       "Hawaiian or Pacific Islander                 26\n",
       "Ethnic group not given - patient refused      9\n",
       "Native American                               8\n",
       "Unknown                                       6\n",
       "Name: RACE, dtype: int64"
      ]
     },
     "execution_count": 17,
     "metadata": {},
     "output_type": "execute_result"
    }
   ],
   "source": [
    "cohort_p1_large_symp.RACE.value_counts()"
   ]
  },
  {
   "cell_type": "code",
   "execution_count": 18,
   "id": "56c29413",
   "metadata": {},
   "outputs": [
    {
     "data": {
      "text/plain": [
       "RACE                                      AE_CLASS\n",
       "Asian                                     CLASS_1     275\n",
       "                                          CLASS_2     178\n",
       "                                          CLASS_3     120\n",
       "                                          CLASS_4     225\n",
       "Black                                     CLASS_1      46\n",
       "                                          CLASS_2      30\n",
       "                                          CLASS_3      23\n",
       "                                          CLASS_4      35\n",
       "Ethnic group not given - patient refused  CLASS_1       5\n",
       "                                          CLASS_2       5\n",
       "                                          CLASS_3       5\n",
       "                                          CLASS_4       6\n",
       "Hawaiian or Pacific Islander              CLASS_1      18\n",
       "                                          CLASS_2      11\n",
       "                                          CLASS_3       9\n",
       "                                          CLASS_4      12\n",
       "Native American                           CLASS_1       5\n",
       "                                          CLASS_2       4\n",
       "                                          CLASS_3       2\n",
       "                                          CLASS_4       4\n",
       "Other                                     CLASS_1     249\n",
       "                                          CLASS_2     173\n",
       "                                          CLASS_3     133\n",
       "                                          CLASS_4     172\n",
       "Unknown                                   CLASS_1       5\n",
       "                                          CLASS_2       2\n",
       "                                          CLASS_3       2\n",
       "                                          CLASS_4       3\n",
       "White                                     CLASS_1     536\n",
       "                                          CLASS_2     369\n",
       "                                          CLASS_3     279\n",
       "                                          CLASS_4     426\n",
       "Name: PAT_DEID, dtype: int64"
      ]
     },
     "execution_count": 18,
     "metadata": {},
     "output_type": "execute_result"
    }
   ],
   "source": [
    "cohort_p1_large_class.groupby([\"RACE\", \"AE_CLASS\"])[\"PAT_DEID\"].count()"
   ]
  },
  {
   "cell_type": "markdown",
   "id": "71260a07",
   "metadata": {},
   "source": [
    "**Age**"
   ]
  },
  {
   "cell_type": "code",
   "execution_count": 19,
   "id": "087f9a6d",
   "metadata": {},
   "outputs": [
    {
     "data": {
      "text/plain": [
       "60<age<70    438\n",
       "50<age<60    377\n",
       "70<age<80    324\n",
       "age<40       279\n",
       "40<age<50    245\n",
       "age>80        90\n",
       "Name: BIN_AGE, dtype: int64"
      ]
     },
     "execution_count": 19,
     "metadata": {},
     "output_type": "execute_result"
    }
   ],
   "source": [
    "cohort_p1_large_symp.BIN_AGE.value_counts()"
   ]
  },
  {
   "cell_type": "code",
   "execution_count": 20,
   "id": "277b29b1",
   "metadata": {},
   "outputs": [
    {
     "data": {
      "text/plain": [
       "BIN_AGE    AE_CLASS\n",
       "40<age<50  CLASS_1     168\n",
       "           CLASS_2     108\n",
       "           CLASS_3      79\n",
       "           CLASS_4     121\n",
       "50<age<60  CLASS_1     241\n",
       "           CLASS_2     174\n",
       "           CLASS_3     128\n",
       "           CLASS_4     187\n",
       "60<age<70  CLASS_1     297\n",
       "           CLASS_2     184\n",
       "           CLASS_3     144\n",
       "           CLASS_4     219\n",
       "70<age<80  CLASS_1     190\n",
       "           CLASS_2     149\n",
       "           CLASS_3      95\n",
       "           CLASS_4     179\n",
       "age<40     CLASS_1     190\n",
       "           CLASS_2     128\n",
       "           CLASS_3     100\n",
       "           CLASS_4     130\n",
       "age>80     CLASS_1      54\n",
       "           CLASS_2      30\n",
       "           CLASS_3      28\n",
       "           CLASS_4      48\n",
       "Name: PAT_DEID, dtype: int64"
      ]
     },
     "execution_count": 20,
     "metadata": {},
     "output_type": "execute_result"
    }
   ],
   "source": [
    "cohort_p1_large_class.groupby([\"BIN_AGE\", \"AE_CLASS\"])[\"PAT_DEID\"].count()"
   ]
  },
  {
   "cell_type": "code",
   "execution_count": 21,
   "id": "b7a95e66",
   "metadata": {},
   "outputs": [
    {
     "data": {
      "image/png": "[encoded data removed]",
      "text/plain": [
       "<Figure size 432x288 with 1 Axes>"
      ]
     },
     "metadata": {
      "needs_background": "light"
     },
     "output_type": "display_data"
    }
   ],
   "source": [
    "cohort_p1_large_symp.BIN_AGE.hist(bins=6, grid=False)\n",
    "plt.title('Age Group')\n",
    "plt.tight_layout()\n",
    "plt.savefig('age.png', bbox_inches='tight')"
   ]
  },
  {
   "cell_type": "markdown",
   "id": "90d11dc1",
   "metadata": {},
   "source": [
    "**Depressed**"
   ]
  },
  {
   "cell_type": "code",
   "execution_count": 22,
   "id": "789187cd",
   "metadata": {},
   "outputs": [
    {
     "data": {
      "text/plain": [
       "0.0    1300\n",
       "1.0     453\n",
       "Name: DEPRESSED, dtype: int64"
      ]
     },
     "execution_count": 22,
     "metadata": {},
     "output_type": "execute_result"
    }
   ],
   "source": [
    "cohort_p1_large_symp.DEPRESSED.value_counts()"
   ]
  },
  {
   "cell_type": "code",
   "execution_count": 23,
   "id": "94905557",
   "metadata": {},
   "outputs": [
    {
     "data": {
      "text/plain": [
       "DEPRESSED  AE_CLASS\n",
       "0.0        CLASS_1     815\n",
       "           CLASS_2     567\n",
       "           CLASS_3     412\n",
       "           CLASS_4     672\n",
       "1.0        CLASS_1     325\n",
       "           CLASS_2     206\n",
       "           CLASS_3     162\n",
       "           CLASS_4     212\n",
       "Name: PAT_DEID, dtype: int64"
      ]
     },
     "execution_count": 23,
     "metadata": {},
     "output_type": "execute_result"
    }
   ],
   "source": [
    "cohort_p1_large_class.groupby([\"DEPRESSED\", \"AE_CLASS\"])[\"PAT_DEID\"].count()"
   ]
  },
  {
   "cell_type": "markdown",
   "id": "1e243f59",
   "metadata": {},
   "source": [
    "**Insurance payor**"
   ]
  },
  {
   "cell_type": "code",
   "execution_count": 24,
   "id": "569a0cfb",
   "metadata": {},
   "outputs": [
    {
     "data": {
      "text/plain": [
       "MEDICARE            437\n",
       "PRIVATE             257\n",
       "MediCal_MEDICAID     71\n",
       "Name: INSURANCE_PAYOR, dtype: int64"
      ]
     },
     "execution_count": 24,
     "metadata": {},
     "output_type": "execute_result"
    }
   ],
   "source": [
    "cohort_p1_large_symp.INSURANCE_PAYOR.value_counts()"
   ]
  },
  {
   "cell_type": "code",
   "execution_count": 25,
   "id": "1330042f",
   "metadata": {},
   "outputs": [
    {
     "data": {
      "text/plain": [
       "INSURANCE_PAYOR   AE_CLASS\n",
       "MEDICARE          CLASS_1     265\n",
       "                  CLASS_2     188\n",
       "                  CLASS_3     147\n",
       "                  CLASS_4     230\n",
       "MediCal_MEDICAID  CLASS_1      51\n",
       "                  CLASS_2      26\n",
       "                  CLASS_3      24\n",
       "                  CLASS_4      32\n",
       "PRIVATE           CLASS_1     167\n",
       "                  CLASS_2     115\n",
       "                  CLASS_3      87\n",
       "                  CLASS_4     128\n",
       "Name: PAT_DEID, dtype: int64"
      ]
     },
     "execution_count": 25,
     "metadata": {},
     "output_type": "execute_result"
    }
   ],
   "source": [
    "cohort_p1_large_class.groupby([\"INSURANCE_PAYOR\", \"AE_CLASS\"])[\"PAT_DEID\"].count()"
   ]
  },
  {
   "cell_type": "code",
   "execution_count": 26,
   "id": "559d7398",
   "metadata": {},
   "outputs": [
    {
     "data": {
      "text/plain": [
       "CLASS_1    657\n",
       "CLASS_4    494\n",
       "CLASS_2    444\n",
       "CLASS_3    316\n",
       "Name: AE_CLASS, dtype: int64"
      ]
     },
     "execution_count": 26,
     "metadata": {},
     "output_type": "execute_result"
    }
   ],
   "source": [
    "cohort_p1_large_class[cohort_p1_large_class[\"INSURANCE_PAYOR\"].isnull()][\"AE_CLASS\"].value_counts()"
   ]
  },
  {
   "cell_type": "markdown",
   "id": "8bf4d225",
   "metadata": {},
   "source": [
    "**Cancer Stage**"
   ]
  },
  {
   "cell_type": "code",
   "execution_count": 27,
   "id": "dc1deefc",
   "metadata": {},
   "outputs": [
    {
     "data": {
      "text/plain": [
       "4.0    438\n",
       "1.0    176\n",
       "2.0    168\n",
       "3.0    167\n",
       "Name: STAGE_FOUR, dtype: int64"
      ]
     },
     "execution_count": 27,
     "metadata": {},
     "output_type": "execute_result"
    }
   ],
   "source": [
    "cohort_p1_large_symp.STAGE_FOUR.value_counts()"
   ]
  },
  {
   "cell_type": "code",
   "execution_count": 28,
   "id": "a9c5bf92",
   "metadata": {},
   "outputs": [
    {
     "data": {
      "text/plain": [
       "STAGE_FOUR  AE_CLASS\n",
       "1.0         CLASS_1     110\n",
       "            CLASS_2      80\n",
       "            CLASS_3      53\n",
       "            CLASS_4      90\n",
       "2.0         CLASS_1     106\n",
       "            CLASS_2      81\n",
       "            CLASS_3      42\n",
       "            CLASS_4      82\n",
       "3.0         CLASS_1     104\n",
       "            CLASS_2      70\n",
       "            CLASS_3      40\n",
       "            CLASS_4      81\n",
       "4.0         CLASS_1     266\n",
       "            CLASS_2     172\n",
       "            CLASS_3     130\n",
       "            CLASS_4     247\n",
       "Name: PAT_DEID, dtype: int64"
      ]
     },
     "execution_count": 28,
     "metadata": {},
     "output_type": "execute_result"
    }
   ],
   "source": [
    "cohort_p1_large_class.groupby([\"STAGE_FOUR\", \"AE_CLASS\"])[\"PAT_DEID\"].count()"
   ]
  },
  {
   "cell_type": "code",
   "execution_count": 29,
   "id": "a0edfb87",
   "metadata": {},
   "outputs": [
    {
     "data": {
      "text/plain": [
       "CLASS_1    554\n",
       "CLASS_4    384\n",
       "CLASS_2    370\n",
       "CLASS_3    309\n",
       "Name: AE_CLASS, dtype: int64"
      ]
     },
     "execution_count": 29,
     "metadata": {},
     "output_type": "execute_result"
    }
   ],
   "source": [
    "cohort_p1_large_class[cohort_p1_large_class[\"STAGE_FOUR\"].isnull()][\"AE_CLASS\"].value_counts()"
   ]
  },
  {
   "cell_type": "code",
   "execution_count": 30,
   "id": "3a5baba3",
   "metadata": {},
   "outputs": [
    {
     "data": {
      "image/png": "[encoded data removed]",
      "text/plain": [
       "<Figure size 432x288 with 1 Axes>"
      ]
     },
     "metadata": {
      "needs_background": "light"
     },
     "output_type": "display_data"
    }
   ],
   "source": [
    "fig,ax = plt.subplots()\n",
    "(cohort_p1_large_symp.INSURANCE_PAYOR.value_counts()[::-1]).plot(kind=\"barh\", title=\"Cancer stage\",ax=ax)\n",
    "plt.tight_layout()\n",
    "plt.savefig('cancer_stage.png', bbox_inches='tight')"
   ]
  },
  {
   "cell_type": "code",
   "execution_count": 32,
   "id": "98f75c85",
   "metadata": {},
   "outputs": [
    {
     "data": {
      "text/plain": [
       "64.0    58\n",
       "63.0    50\n",
       "51.0    45\n",
       "54.0    44\n",
       "73.0    43\n",
       "        ..\n",
       "87.0     2\n",
       "94.0     2\n",
       "91.0     2\n",
       "89.0     1\n",
       "93.0     1\n",
       "Name: AGE_AT_DX, Length: 77, dtype: int64"
      ]
     },
     "execution_count": 32,
     "metadata": {},
     "output_type": "execute_result"
    }
   ],
   "source": [
    "cohort_p1_large_symp.AGE_AT_DX.value_counts()"
   ]
  },
  {
   "cell_type": "code",
   "execution_count": null,
   "id": "9cd140e9",
   "metadata": {},
   "outputs": [],
   "source": []
  },
  {
   "cell_type": "code",
   "execution_count": null,
   "id": "a220fffc",
   "metadata": {},
   "outputs": [],
   "source": []
  },
  {
   "cell_type": "code",
   "execution_count": null,
   "id": "ad9b6adf",
   "metadata": {},
   "outputs": [],
   "source": []
  },
  {
   "cell_type": "code",
   "execution_count": null,
   "id": "3fb40a88",
   "metadata": {},
   "outputs": [],
   "source": []
  },
  {
   "cell_type": "code",
   "execution_count": null,
   "id": "84b1d964",
   "metadata": {},
   "outputs": [],
   "source": []
  },
  {
   "cell_type": "code",
   "execution_count": null,
   "id": "a57d1324",
   "metadata": {},
   "outputs": [],
   "source": []
  },
  {
   "cell_type": "code",
   "execution_count": null,
   "id": "d75c38e1",
   "metadata": {},
   "outputs": [],
   "source": []
  },
  {
   "cell_type": "code",
   "execution_count": null,
   "id": "bb261cb3",
   "metadata": {},
   "outputs": [],
   "source": []
  },
  {
   "cell_type": "code",
   "execution_count": null,
   "id": "5f2989f0",
   "metadata": {},
   "outputs": [],
   "source": []
  }
 ],
 "metadata": {
  "kernelspec": {
   "display_name": "Python 3",
   "language": "python",
   "name": "python3"
  },
  "language_info": {
   "codemirror_mode": {
    "name": "ipython",
    "version": 3
   },
   "file_extension": ".py",
   "mimetype": "text/x-python",
   "name": "python",
   "nbconvert_exporter": "python",
   "pygments_lexer": "ipython3",
   "version": "3.9.15"
  }
 },
 "nbformat": 4,
 "nbformat_minor": 5
}
