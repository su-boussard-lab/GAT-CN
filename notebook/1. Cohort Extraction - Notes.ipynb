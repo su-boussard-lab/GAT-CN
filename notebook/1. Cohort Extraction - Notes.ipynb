{
 "cells": [
  {
   "cell_type": "code",
   "execution_count": 5,
   "id": "68809c99",
   "metadata": {},
   "outputs": [],
   "source": [
    "# Load packages for data analysis\n",
    "import pandas as pd\n",
    "import numpy as np\n",
    "import matplotlib.pyplot as plt\n",
    "from datetime import datetime, timedelta\n",
    "\n",
    "# Load packages for Big Query \n",
    "from google.cloud import bigquery\n",
    "import os"
   ]
  },
  {
   "cell_type": "markdown",
   "id": "82d73832",
   "metadata": {},
   "source": [
    "### Set-up"
   ]
  },
  {
   "cell_type": "markdown",
   "id": "36096605",
   "metadata": {},
   "source": [
    "**Set-up: GCP interface** "
   ]
  },
  {
   "cell_type": "markdown",
   "id": "09522e0c",
   "metadata": {},
   "source": [
    "Run before querying to setup Big Query"
   ]
  },
  {
   "cell_type": "code",
   "execution_count": 6,
   "id": "96d64cdd",
   "metadata": {},
   "outputs": [
    {
     "name": "stderr",
     "output_type": "stream",
     "text": [
      "/Users/eliasaquand/miniforge3/envs/env/lib/python3.9/site-packages/google/auth/_default.py:83: UserWarning: Your application has authenticated using end user credentials from Google Cloud SDK without a quota project. You might receive a \"quota exceeded\" or \"API not enabled\" error. We recommend you rerun `gcloud auth application-default login` and make sure a quota project is added. Or you can use service accounts instead. For more information about service accounts, see https://cloud.google.com/docs/authentication/\n",
      "  warnings.warn(_CLOUD_SDK_CREDENTIALS_WARNING)\n"
     ]
    }
   ],
   "source": [
    "# Define configurations for Big Query - Stride Datalake\n",
    "project_id = 'som-nero-phi-boussard' # Location of stride datalake\n",
    "db = \"som-nero-phi-boussard.stride_datalake\" # Define the database\n",
    "msc = \"som-nero-phi-boussard.MSc_ACU_Oncology\"\n",
    "es = \"som-nero-phi-boussard.ES_ACU_Oncology\"\n",
    "client = bigquery.Client(project=project_id) # Set project to project_id\n",
    "os.environ['GOOGLE_APPLICATION_CREDENTIALS'] = '/Users/eliasaquand/.config/gcloud/application_default_credentials.json'\n",
    "os.environ['GCLOUD_PROJECT'] = \"som-nero-phi-boussard\" # specify environment\n",
    "db = \"som-nero-phi-boussard\" # Define the database"
   ]
  },
  {
   "cell_type": "markdown",
   "id": "33493ed2",
   "metadata": {},
   "source": [
    "**Set-up: GCP data table creation in Big Query**"
   ]
  },
  {
   "cell_type": "code",
   "execution_count": 7,
   "id": "d2548bda",
   "metadata": {},
   "outputs": [],
   "source": [
    "# 1) Specify the job config to properly read the file\n",
    "job_config = bigquery.LoadJobConfig()\n",
    "job_config.autodetect = True # determines the datatype of the variable\n",
    "job_config.write_disposition = 'WRITE_TRUNCATE'\n",
    "job_config.max_bad_records = 1 # allow 5 bad records; \n",
    "\n",
    "# Read schema from JSON\n",
    "# job_config.schema = self.bq_client.schema_from_json(\n",
    "# f\"{json_schema_dir}/{custom_mapping_table}.json\")\n",
    "\n",
    "# 2) Specify destination\n",
    "# destination = f\"som-nero-phi-boussard.MSc_ACU_Oncology.[COHORT NAME]\"\n",
    "\n",
    "# 3) Save file ob Big Query, using result from so far; client is specified above - implemented in the file \n",
    "# load_job = client.load_table_from_dataframe(dataframe = chemo_tx_dd,                                  \n",
    "#                                                     destination = destination,\n",
    "#                                                     job_config = job_config)\n",
    "\n",
    "# Run the job:\n",
    "# load_job.result()"
   ]
  },
  {
   "cell_type": "markdown",
   "id": "c5b5a89a",
   "metadata": {},
   "source": [
    "### Select patients after OP-35 criteria\n",
    "- cohort_p1: Max's cohort patient after OP-35 criteria\n",
    "- cohort_p1_large: Max's cohort patient after OP-35 criteria + demographics information\n",
    "\n",
    "These datasets are obtained after identifying the cancer patients that undergone chemotherapy and applying OP-35 inclusion and exclusion criteraataset. Both contains 16409 patients."
   ]
  },
  {
   "cell_type": "code",
   "execution_count": 8,
   "id": "23273acc",
   "metadata": {},
   "outputs": [],
   "source": [
    "# Load cohort_p1 & remove INDEX_PRE_CHE col\n",
    "sql_query = f\"\"\" SELECT * FROM {msc}.cohort_p1\"\"\"\n",
    "cohort_p1 = (client.query(sql_query)).to_dataframe()\n",
    "cohort_p1= cohort_p1.drop(columns=['INDEX_PRE_CHE'])"
   ]
  },
  {
   "cell_type": "code",
   "execution_count": 9,
   "id": "e0ab9e75",
   "metadata": {},
   "outputs": [
    {
     "data": {
      "text/plain": [
       "['PAT_DEID', 'CHE_TX_DATE']"
      ]
     },
     "execution_count": 9,
     "metadata": {},
     "output_type": "execute_result"
    }
   ],
   "source": [
    "list(cohort_p1.columns)"
   ]
  },
  {
   "cell_type": "code",
   "execution_count": 10,
   "id": "13c7c9c3",
   "metadata": {},
   "outputs": [
    {
     "data": {
      "text/plain": [
       "LoadJob<project=som-nero-phi-boussard, location=US, id=a0d82063-c49d-4212-8c6d-0aee1a633e59>"
      ]
     },
     "execution_count": 10,
     "metadata": {},
     "output_type": "execute_result"
    }
   ],
   "source": [
    "# Save cohort patient with OP-35 criteria\n",
    "# Specify destination for storing dataframe\n",
    "destination = f\"som-nero-phi-boussard.ES_ACU_Oncology.cohort_p1\"\n",
    "\n",
    "# Save file to Big Query\n",
    "load_job = client.load_table_from_dataframe(dataframe = cohort_p1,                                  \n",
    "                                                   destination = destination,\n",
    "                                                   job_config = job_config)\n",
    "\n",
    "# Run the job:\n",
    "load_job.result()"
   ]
  },
  {
   "cell_type": "code",
   "execution_count": 11,
   "id": "911b96ca",
   "metadata": {},
   "outputs": [],
   "source": [
    "# Load cohort_p1_large & remove INDEX_PRE_CHE col\n",
    "sql_query = f\"\"\" SELECT * FROM {msc}.cohort_p1_large\"\"\"\n",
    "cohort_p1_large = (client.query(sql_query)).to_dataframe()\n",
    "cohort_p1_large = cohort_p1_large.drop(columns=['INDEX_PRE_CHE'])"
   ]
  },
  {
   "cell_type": "code",
   "execution_count": 12,
   "id": "40edb43a",
   "metadata": {},
   "outputs": [
    {
     "data": {
      "text/plain": [
       "['PAT_DEID',\n",
       " 'CHE_TX_DATE',\n",
       " 'BIRTH_DATE',\n",
       " 'SEX',\n",
       " 'ETHNIC_GROUP',\n",
       " 'RACE',\n",
       " 'HISPANIC',\n",
       " 'TYPE_OF_DISEASE',\n",
       " 'DX_DATE',\n",
       " 'STAGE_FOUR',\n",
       " 'AGE_AT_DX',\n",
       " 'INSURANCE_PAYOR',\n",
       " 'DEPRESSED',\n",
       " 'CANCER_GROUP',\n",
       " 'BIN_AGE']"
      ]
     },
     "execution_count": 12,
     "metadata": {},
     "output_type": "execute_result"
    }
   ],
   "source": [
    "list(cohort_p1_large.columns)"
   ]
  },
  {
   "cell_type": "code",
   "execution_count": 13,
   "id": "fcc576d0",
   "metadata": {},
   "outputs": [
    {
     "data": {
      "text/plain": [
       "LoadJob<project=som-nero-phi-boussard, location=US, id=9b0f0140-5ee1-44f3-aea4-739bfd6e1310>"
      ]
     },
     "execution_count": 13,
     "metadata": {},
     "output_type": "execute_result"
    }
   ],
   "source": [
    "# Save cohort patient with OP-35 criteria + demographic informations\n",
    "# Specify destination for storing dataframe\n",
    "destination = f\"som-nero-phi-boussard.ES_ACU_Oncology.cohort_p1_large\"\n",
    "\n",
    "# Save file to Big Query\n",
    "load_job = client.load_table_from_dataframe(dataframe = cohort_p1_large,                                  \n",
    "                                                   destination = destination,\n",
    "                                                   job_config = job_config)\n",
    "\n",
    "# Run the job:\n",
    "load_job.result()"
   ]
  },
  {
   "cell_type": "markdown",
   "id": "319a8874",
   "metadata": {},
   "source": [
    "### Augment and clean cohort_op35 table form Max "
   ]
  },
  {
   "cell_type": "markdown",
   "id": "d4a19f82",
   "metadata": {},
   "source": [
    "- Add HOSP_DISCHRG_TIME column"
   ]
  },
  {
   "cell_type": "code",
   "execution_count": 14,
   "id": "c7d38a3e",
   "metadata": {},
   "outputs": [],
   "source": [
    "db = \"som-nero-phi-boussard.stride_datalake\" # Define the database\n",
    "db_max = \"som-nero-phi-boussard.MSc_ACU_Oncology\" # Define the database\n",
    "sql_query = f\"\"\"\n",
    "    SELECT DISTINCT cohort_op35.pat_deid, cohort_op35.dx_id, cohort_op35.dx_name, cohort_op35.icd9, cohort_op35.icd10, cohort_op35.primary, cohort_op35.chronic, cohort_op35.principal, cohort_op35.contact_date, cohort_op35.hosp_admsn_time, enc.hosp_dischrg_time, cohort_op35.pt_class, cohort_op35.pat_enc_csn_deid, cohort_op35.che_tx_date\n",
    "    FROM {db_max}.cohort_op35 cohort_op35 \n",
    "    LEFT JOIN {db}.shc_encounter enc ON cohort_op35.pat_deid = enc.pat_deid and cohort_op35.hosp_admsn_time = enc.hosp_admsn_time and cohort_op35.contact_date = enc.contact_date and cohort_op35.pt_class = enc.pt_class\n",
    "\"\"\"\n",
    "cohort_op35 = (client.query(sql_query)).to_dataframe()\n",
    "cohort_op35.columns = [c.upper() for c in cohort_op35.columns]"
   ]
  },
  {
   "cell_type": "code",
   "execution_count": 15,
   "id": "855d6d16",
   "metadata": {},
   "outputs": [
    {
     "data": {
      "text/plain": [
       "(103620, 14)"
      ]
     },
     "execution_count": 15,
     "metadata": {},
     "output_type": "execute_result"
    }
   ],
   "source": [
    "cohort_op35.shape"
   ]
  },
  {
   "cell_type": "code",
   "execution_count": 16,
   "id": "c3f41c76",
   "metadata": {},
   "outputs": [
    {
     "data": {
      "text/plain": [
       "0"
      ]
     },
     "execution_count": 16,
     "metadata": {},
     "output_type": "execute_result"
    }
   ],
   "source": [
    "cohort_op35.duplicated().sum()"
   ]
  },
  {
   "cell_type": "code",
   "execution_count": 17,
   "id": "8c6c09f6",
   "metadata": {},
   "outputs": [
    {
     "data": {
      "text/plain": [
       "PAT_DEID                  0\n",
       "DX_ID                     0\n",
       "DX_NAME                   0\n",
       "ICD9                  68061\n",
       "ICD10                  1997\n",
       "PRIMARY               47198\n",
       "CHRONIC               81721\n",
       "PRINCIPAL            101037\n",
       "CONTACT_DATE              0\n",
       "HOSP_ADMSN_TIME          44\n",
       "HOSP_DISCHRG_TIME        59\n",
       "PT_CLASS                  0\n",
       "PAT_ENC_CSN_DEID          0\n",
       "CHE_TX_DATE               0\n",
       "dtype: int64"
      ]
     },
     "execution_count": 17,
     "metadata": {},
     "output_type": "execute_result"
    }
   ],
   "source": [
    "cohort_op35.isna().sum()"
   ]
  },
  {
   "cell_type": "code",
   "execution_count": 18,
   "id": "150f5a7e",
   "metadata": {},
   "outputs": [
    {
     "data": {
      "text/plain": [
       "LoadJob<project=som-nero-phi-boussard, location=US, id=a275877c-52cd-4c74-8dd3-871dbff15a94>"
      ]
     },
     "execution_count": 18,
     "metadata": {},
     "output_type": "execute_result"
    }
   ],
   "source": [
    "# Save cohort patient with OP-35 criteria + demographic informations\n",
    "# Specify destination for storing dataframe\n",
    "destination = f\"som-nero-phi-boussard.ES_ACU_Oncology.cohort_op35_dschrg\"\n",
    "\n",
    "# Save file to Big Query\n",
    "load_job = client.load_table_from_dataframe(dataframe = cohort_op35,                                  \n",
    "                                                   destination = destination,\n",
    "                                                   job_config = job_config)\n",
    "\n",
    "# Run the job:\n",
    "load_job.result()"
   ]
  },
  {
   "cell_type": "markdown",
   "id": "a20d1e55",
   "metadata": {},
   "source": [
    "- Add diagnosis source (check shc_diagnosis_source to get source description)"
   ]
  },
  {
   "cell_type": "code",
   "execution_count": 19,
   "id": "12d610e3",
   "metadata": {},
   "outputs": [],
   "source": [
    "db = \"som-nero-phi-boussard.stride_datalake\" # Define the database\n",
    "db_elia = \"som-nero-phi-boussard.ES_ACU_Oncology\" # Define the database\n",
    "sql_query = f\"\"\"\n",
    "    SELECT DISTINCT cohort_op35.pat_deid, cohort_op35.dx_id, cohort_op35.dx_name, cohort_op35.icd9, cohort_op35.icd10, cohort_op35.primary, cohort_op35.chronic, cohort_op35.principal, cohort_op35.contact_date, cohort_op35.hosp_admsn_time, cohort_op35.hosp_dischrg_time, cohort_op35.pt_class, cohort_op35.pat_enc_csn_deid, cohort_op35.che_tx_date, diag.source\n",
    "    FROM {db_elia}.cohort_op35_dschrg cohort_op35 \n",
    "    LEFT JOIN {db}.shc_diagnosis diag ON cohort_op35.pat_deid = diag.pat_deid and cohort_op35.dx_id = diag.dx_id and cohort_op35.dx_name = diag.dx_name and cohort_op35.primary = diag.primary and cohort_op35.chronic = diag.chronic and cohort_op35.principal = diag.principal\n",
    "    \"\"\"\n",
    "df = (client.query(sql_query)).to_dataframe()\n",
    "df.columns = [c.upper() for c in df.columns]"
   ]
  },
  {
   "cell_type": "code",
   "execution_count": 20,
   "id": "9227bb75",
   "metadata": {},
   "outputs": [
    {
     "data": {
      "text/plain": [
       "(103620, 15)"
      ]
     },
     "execution_count": 20,
     "metadata": {},
     "output_type": "execute_result"
    }
   ],
   "source": [
    "df.shape"
   ]
  },
  {
   "cell_type": "code",
   "execution_count": 21,
   "id": "993308c6",
   "metadata": {
    "scrolled": true
   },
   "outputs": [
    {
     "data": {
      "text/plain": [
       "PAT_DEID                  0\n",
       "DX_ID                     0\n",
       "DX_NAME                   0\n",
       "ICD9                  68061\n",
       "ICD10                  1997\n",
       "PRIMARY               47198\n",
       "CHRONIC               81721\n",
       "PRINCIPAL            101037\n",
       "CONTACT_DATE              0\n",
       "HOSP_ADMSN_TIME          44\n",
       "HOSP_DISCHRG_TIME        59\n",
       "PT_CLASS                  0\n",
       "PAT_ENC_CSN_DEID          0\n",
       "CHE_TX_DATE               0\n",
       "SOURCE               103620\n",
       "dtype: int64"
      ]
     },
     "execution_count": 21,
     "metadata": {},
     "output_type": "execute_result"
    }
   ],
   "source": [
    "df.isna().sum()"
   ]
  },
  {
   "cell_type": "code",
   "execution_count": 22,
   "id": "427576ad",
   "metadata": {},
   "outputs": [
    {
     "data": {
      "text/plain": [
       "0"
      ]
     },
     "execution_count": 22,
     "metadata": {},
     "output_type": "execute_result"
    }
   ],
   "source": [
    "df.duplicated().sum()"
   ]
  },
  {
   "cell_type": "code",
   "execution_count": 23,
   "id": "f4dcc4bf",
   "metadata": {},
   "outputs": [
    {
     "data": {
      "text/plain": [
       "LoadJob<project=som-nero-phi-boussard, location=US, id=30842bb8-7322-4351-8ca8-d31366ed4d53>"
      ]
     },
     "execution_count": 23,
     "metadata": {},
     "output_type": "execute_result"
    }
   ],
   "source": [
    "# Save cohort patient with OP-35 criteria + demographic informations\n",
    "# Specify destination for storing dataframe\n",
    "destination = f\"som-nero-phi-boussard.ES_ACU_Oncology.full_cohort_op35\"\n",
    "\n",
    "# Save file to Big Query\n",
    "load_job = client.load_table_from_dataframe(dataframe = df,                                  \n",
    "                                                   destination = destination,\n",
    "                                                   job_config = job_config)\n",
    "\n",
    "# Run the job:\n",
    "load_job.result()"
   ]
  },
  {
   "cell_type": "markdown",
   "id": "ec3eaf45",
   "metadata": {},
   "source": [
    "### Select patients with at least one ED visit or hospitalization within the 30 days follow-up"
   ]
  },
  {
   "cell_type": "code",
   "execution_count": 24,
   "id": "c486a514",
   "metadata": {},
   "outputs": [],
   "source": [
    "# Load clean cohort_op35 table \n",
    "sql_query = f\"\"\" SELECT * FROM {es}.full_cohort_op35\"\"\"\n",
    "cohort_op35 = (client.query(sql_query)).to_dataframe()"
   ]
  },
  {
   "cell_type": "code",
   "execution_count": 25,
   "id": "e197efa9",
   "metadata": {},
   "outputs": [
    {
     "name": "stdout",
     "output_type": "stream",
     "text": [
      "No of unique patients in reference cohort, chemo patients):  16409\n",
      "No of unique patients in op35 cohort (positive OP-35 criteria):  7484\n"
     ]
    }
   ],
   "source": [
    "print(\"No of unique patients in reference cohort, chemo patients): \", len(pd.unique(cohort_p1['PAT_DEID'])))\n",
    "print(\"No of unique patients in op35 cohort (positive OP-35 criteria): \", len(pd.unique(cohort_op35['PAT_DEID'])))"
   ]
  },
  {
   "cell_type": "code",
   "execution_count": 26,
   "id": "66fc6c30",
   "metadata": {},
   "outputs": [
    {
     "data": {
      "text/plain": [
       "(103620, 15)"
      ]
     },
     "execution_count": 26,
     "metadata": {},
     "output_type": "execute_result"
    }
   ],
   "source": [
    "cohort_op35.shape"
   ]
  },
  {
   "cell_type": "code",
   "execution_count": 27,
   "id": "96cdfe92",
   "metadata": {},
   "outputs": [
    {
     "data": {
      "text/html": [
       "<div>\n",
       "<style scoped>\n",
       "    .dataframe tbody tr th:only-of-type {\n",
       "        vertical-align: middle;\n",
       "    }\n",
       "\n",
       "    .dataframe tbody tr th {\n",
       "        vertical-align: top;\n",
       "    }\n",
       "\n",
       "    .dataframe thead th {\n",
       "        text-align: right;\n",
       "    }\n",
       "</style>\n",
       "<table border=\"1\" class=\"dataframe\">\n",
       "  <thead>\n",
       "    <tr style=\"text-align: right;\">\n",
       "      <th></th>\n",
       "      <th>PAT_DEID</th>\n",
       "      <th>DX_ID</th>\n",
       "      <th>DX_NAME</th>\n",
       "      <th>ICD9</th>\n",
       "      <th>ICD10</th>\n",
       "      <th>PRIMARY</th>\n",
       "      <th>CHRONIC</th>\n",
       "      <th>PRINCIPAL</th>\n",
       "      <th>CONTACT_DATE</th>\n",
       "      <th>HOSP_ADMSN_TIME</th>\n",
       "      <th>HOSP_DISCHRG_TIME</th>\n",
       "      <th>PT_CLASS</th>\n",
       "      <th>PAT_ENC_CSN_DEID</th>\n",
       "      <th>CHE_TX_DATE</th>\n",
       "      <th>SOURCE</th>\n",
       "    </tr>\n",
       "  </thead>\n",
       "  <tbody>\n",
       "    <tr>\n",
       "      <th>0</th>\n",
       "      <td>3145984</td>\n",
       "      <td>1024734</td>\n",
       "      <td>Other acute pain</td>\n",
       "      <td>338.19</td>\n",
       "      <td>R52</td>\n",
       "      <td>Y</td>\n",
       "      <td>None</td>\n",
       "      <td>None</td>\n",
       "      <td>2015-02-09</td>\n",
       "      <td>2015-02-09 18:46:00</td>\n",
       "      <td>2015-02-13 13:27:00</td>\n",
       "      <td>Inpatient</td>\n",
       "      <td>131071108332</td>\n",
       "      <td>2014-12-23</td>\n",
       "      <td>&lt;NA&gt;</td>\n",
       "    </tr>\n",
       "    <tr>\n",
       "      <th>1</th>\n",
       "      <td>3145984</td>\n",
       "      <td>8940</td>\n",
       "      <td>Pain in limb</td>\n",
       "      <td>729.5</td>\n",
       "      <td>M79.609</td>\n",
       "      <td>N</td>\n",
       "      <td>N</td>\n",
       "      <td>None</td>\n",
       "      <td>2015-02-09</td>\n",
       "      <td>2015-02-09 18:46:00</td>\n",
       "      <td>2015-02-13 13:27:00</td>\n",
       "      <td>Inpatient</td>\n",
       "      <td>131071108332</td>\n",
       "      <td>2014-12-23</td>\n",
       "      <td>&lt;NA&gt;</td>\n",
       "    </tr>\n",
       "    <tr>\n",
       "      <th>2</th>\n",
       "      <td>3145984</td>\n",
       "      <td>8940</td>\n",
       "      <td>Pain in limb</td>\n",
       "      <td>729.5</td>\n",
       "      <td>M79.609</td>\n",
       "      <td>None</td>\n",
       "      <td>None</td>\n",
       "      <td>None</td>\n",
       "      <td>2015-02-09</td>\n",
       "      <td>2015-02-09 18:46:00</td>\n",
       "      <td>2015-02-13 13:27:00</td>\n",
       "      <td>Inpatient</td>\n",
       "      <td>131071108332</td>\n",
       "      <td>2014-12-23</td>\n",
       "      <td>&lt;NA&gt;</td>\n",
       "    </tr>\n",
       "    <tr>\n",
       "      <th>3</th>\n",
       "      <td>3145984</td>\n",
       "      <td>8940</td>\n",
       "      <td>Pain in limb</td>\n",
       "      <td>729.5</td>\n",
       "      <td>M79.609</td>\n",
       "      <td>Y</td>\n",
       "      <td>None</td>\n",
       "      <td>None</td>\n",
       "      <td>2015-02-09</td>\n",
       "      <td>2015-02-09 18:46:00</td>\n",
       "      <td>2015-02-13 13:27:00</td>\n",
       "      <td>Inpatient</td>\n",
       "      <td>131071108332</td>\n",
       "      <td>2014-12-23</td>\n",
       "      <td>&lt;NA&gt;</td>\n",
       "    </tr>\n",
       "    <tr>\n",
       "      <th>4</th>\n",
       "      <td>3145984</td>\n",
       "      <td>1024732</td>\n",
       "      <td>Acute pain</td>\n",
       "      <td>338.19</td>\n",
       "      <td>R52</td>\n",
       "      <td>N</td>\n",
       "      <td>N</td>\n",
       "      <td>None</td>\n",
       "      <td>2015-02-09</td>\n",
       "      <td>2015-02-09 18:46:00</td>\n",
       "      <td>2015-02-13 13:27:00</td>\n",
       "      <td>Inpatient</td>\n",
       "      <td>131071108332</td>\n",
       "      <td>2014-12-23</td>\n",
       "      <td>&lt;NA&gt;</td>\n",
       "    </tr>\n",
       "  </tbody>\n",
       "</table>\n",
       "</div>"
      ],
      "text/plain": [
       "   PAT_DEID    DX_ID           DX_NAME    ICD9    ICD10 PRIMARY CHRONIC  \\\n",
       "0   3145984  1024734  Other acute pain  338.19      R52       Y    None   \n",
       "1   3145984     8940      Pain in limb   729.5  M79.609       N       N   \n",
       "2   3145984     8940      Pain in limb   729.5  M79.609    None    None   \n",
       "3   3145984     8940      Pain in limb   729.5  M79.609       Y    None   \n",
       "4   3145984  1024732        Acute pain  338.19      R52       N       N   \n",
       "\n",
       "  PRINCIPAL CONTACT_DATE     HOSP_ADMSN_TIME   HOSP_DISCHRG_TIME   PT_CLASS  \\\n",
       "0      None   2015-02-09 2015-02-09 18:46:00 2015-02-13 13:27:00  Inpatient   \n",
       "1      None   2015-02-09 2015-02-09 18:46:00 2015-02-13 13:27:00  Inpatient   \n",
       "2      None   2015-02-09 2015-02-09 18:46:00 2015-02-13 13:27:00  Inpatient   \n",
       "3      None   2015-02-09 2015-02-09 18:46:00 2015-02-13 13:27:00  Inpatient   \n",
       "4      None   2015-02-09 2015-02-09 18:46:00 2015-02-13 13:27:00  Inpatient   \n",
       "\n",
       "   PAT_ENC_CSN_DEID CHE_TX_DATE  SOURCE  \n",
       "0      131071108332  2014-12-23    <NA>  \n",
       "1      131071108332  2014-12-23    <NA>  \n",
       "2      131071108332  2014-12-23    <NA>  \n",
       "3      131071108332  2014-12-23    <NA>  \n",
       "4      131071108332  2014-12-23    <NA>  "
      ]
     },
     "execution_count": 27,
     "metadata": {},
     "output_type": "execute_result"
    }
   ],
   "source": [
    "cohort_op35.head()"
   ]
  },
  {
   "cell_type": "markdown",
   "id": "74f23c4e",
   "metadata": {},
   "source": [
    "The OP-35 cohot is smaller because not everyone has an ACU event. "
   ]
  },
  {
   "cell_type": "markdown",
   "id": "9ce8056c",
   "metadata": {},
   "source": [
    "- We continue working with all the patients from cohort_p1 that have an ACU = cohort_op35"
   ]
  },
  {
   "cell_type": "code",
   "execution_count": 28,
   "id": "4608baba",
   "metadata": {},
   "outputs": [],
   "source": [
    "# Calculate dates between contact and begin of chemotherapy = days until event happens\n",
    "cohort_op35[\"CHE_TO_HOSP\"] = (cohort_op35[\"HOSP_ADMSN_TIME\"] - cohort_op35[\"CHE_TX_DATE\"]).dt.days"
   ]
  },
  {
   "cell_type": "code",
   "execution_count": 29,
   "id": "635c8b23",
   "metadata": {},
   "outputs": [],
   "source": [
    "op_df = cohort_op35.loc[(cohort_op35['CHE_TX_DATE']>='2013-01-01 00:00:00')]"
   ]
  },
  {
   "cell_type": "code",
   "execution_count": 30,
   "id": "080781ef",
   "metadata": {},
   "outputs": [
    {
     "data": {
      "text/plain": [
       "LoadJob<project=som-nero-phi-boussard, location=US, id=6fd54ed0-5d40-4b2f-ac80-7e8ca8701e80>"
      ]
     },
     "execution_count": 30,
     "metadata": {},
     "output_type": "execute_result"
    }
   ],
   "source": [
    "# Specify destination for storing dataframe\n",
    "destination = f\"som-nero-phi-boussard.ES_ACU_Oncology.op_df\"\n",
    "\n",
    "# Save file to Big Query\n",
    "load_job = client.load_table_from_dataframe(dataframe = op_df,                                  \n",
    "                                                   destination = destination,\n",
    "                                                   job_config = job_config)\n",
    "\n",
    "# Run the job:\n",
    "load_job.result()"
   ]
  },
  {
   "cell_type": "code",
   "execution_count": 31,
   "id": "146d8529",
   "metadata": {},
   "outputs": [
    {
     "data": {
      "text/plain": [
       "(11565, 16)"
      ]
     },
     "execution_count": 31,
     "metadata": {},
     "output_type": "execute_result"
    }
   ],
   "source": [
    "# Select patients with CHE_TO_HOSP less or equal than 30 days\n",
    "op_df_30 = op_df.loc[op_df['CHE_TO_HOSP']<=30]\n",
    "op_df_30.shape"
   ]
  },
  {
   "cell_type": "code",
   "execution_count": 32,
   "id": "59a5fe70",
   "metadata": {},
   "outputs": [
    {
     "name": "stdout",
     "output_type": "stream",
     "text": [
      "# of cancer patients with OP admit or ED w/in 1 mo:  1848\n"
     ]
    }
   ],
   "source": [
    "print(\"# of cancer patients with OP admit or ED w/in 1 mo: \", len(pd.unique(op_df_30['PAT_DEID'])))"
   ]
  },
  {
   "cell_type": "code",
   "execution_count": 33,
   "id": "3be1f4fc",
   "metadata": {},
   "outputs": [
    {
     "data": {
      "text/plain": [
       "<AxesSubplot: >"
      ]
     },
     "execution_count": 33,
     "metadata": {},
     "output_type": "execute_result"
    },
    {
     "data": {
      "image/png": "[encoded data removed]",
      "text/plain": [
       "<Figure size 432x288 with 1 Axes>"
      ]
     },
     "metadata": {
      "needs_background": "light"
     },
     "output_type": "display_data"
    }
   ],
   "source": [
    "op_df_30['CHE_TO_HOSP'].hist(bins=30)"
   ]
  },
  {
   "cell_type": "markdown",
   "id": "584b1f63",
   "metadata": {},
   "source": [
    "**Check the number of patients that have an ACU on chemotherapy day**"
   ]
  },
  {
   "cell_type": "code",
   "execution_count": 35,
   "id": "15037958",
   "metadata": {},
   "outputs": [],
   "source": [
    "C = np.where(op_df_30.CHE_TO_HOSP == 0.0, True, False)"
   ]
  },
  {
   "cell_type": "code",
   "execution_count": 37,
   "id": "842b0f5c",
   "metadata": {},
   "outputs": [],
   "source": [
    "ids = pd.unique(op_df_30[C].PAT_DEID)"
   ]
  },
  {
   "cell_type": "code",
   "execution_count": 38,
   "id": "1554e4e2",
   "metadata": {},
   "outputs": [
    {
     "data": {
      "text/plain": [
       "97"
      ]
     },
     "execution_count": 38,
     "metadata": {},
     "output_type": "execute_result"
    }
   ],
   "source": [
    "# Check the number of patients having an ACU on the chemotherapy day\n",
    "len(ids)"
   ]
  },
  {
   "cell_type": "code",
   "execution_count": 41,
   "id": "ebd87eb9",
   "metadata": {},
   "outputs": [],
   "source": [
    "only_chemo_ids = []\n",
    "for pat_id in ids: \n",
    "    if op_df_30[op_df_30[\"PAT_DEID\"] == pat_id].CHE_TO_HOSP.sum() == 0: \n",
    "        only_chemo_ids.append(pat_id)"
   ]
  },
  {
   "cell_type": "code",
   "execution_count": 42,
   "id": "683d1aef",
   "metadata": {},
   "outputs": [
    {
     "data": {
      "text/plain": [
       "57"
      ]
     },
     "execution_count": 42,
     "metadata": {},
     "output_type": "execute_result"
    }
   ],
   "source": [
    "# Check the number of patients having only one ACU on the chemotherapy day\n",
    "len(only_chemo_ids)"
   ]
  },
  {
   "cell_type": "code",
   "execution_count": 45,
   "id": "fdfde266",
   "metadata": {},
   "outputs": [],
   "source": [
    "df_only_chemo = op_df_30[op_df_30[\"PAT_DEID\"].isin(only_chemo_ids)]"
   ]
  },
  {
   "cell_type": "code",
   "execution_count": 46,
   "id": "7b04162c",
   "metadata": {},
   "outputs": [
    {
     "data": {
      "text/plain": [
       "Inpatient             149\n",
       "Emergency Services     52\n",
       "Name: PT_CLASS, dtype: int64"
      ]
     },
     "execution_count": 46,
     "metadata": {},
     "output_type": "execute_result"
    }
   ],
   "source": [
    "df_only_chemo.PT_CLASS.value_counts()"
   ]
  },
  {
   "cell_type": "markdown",
   "id": "f91de5d9",
   "metadata": {},
   "source": [
    "- Look at patients that had an ED visit "
   ]
  },
  {
   "cell_type": "code",
   "execution_count": 47,
   "id": "d4342ddc",
   "metadata": {},
   "outputs": [
    {
     "data": {
      "text/plain": [
       "16"
      ]
     },
     "execution_count": 47,
     "metadata": {},
     "output_type": "execute_result"
    }
   ],
   "source": [
    "df_only_chemo_ed = df_only_chemo[df_only_chemo[\"PT_CLASS\"] == 'Emergency Services']\n",
    "only_chemo_ids_ed = pd.unique(df_only_chemo_ed.PAT_DEID)\n",
    "len(only_chemo_ids_ed)"
   ]
  },
  {
   "cell_type": "code",
   "execution_count": 51,
   "id": "7fffeb0c",
   "metadata": {},
   "outputs": [
    {
     "data": {
      "text/plain": [
       "Timedelta('0 days 02:38:46.153846153')"
      ]
     },
     "execution_count": 51,
     "metadata": {},
     "output_type": "execute_result"
    }
   ],
   "source": [
    "abs(df_only_chemo_ed.HOSP_ADMSN_TIME - df_only_chemo_ed.HOSP_DISCHRG_TIME).mean()"
   ]
  },
  {
   "cell_type": "markdown",
   "id": "b78229dc",
   "metadata": {},
   "source": [
    "- Look at patients that has been admitted to the hospital for hospitalization "
   ]
  },
  {
   "cell_type": "code",
   "execution_count": 52,
   "id": "f25f54e5",
   "metadata": {},
   "outputs": [
    {
     "data": {
      "text/plain": [
       "41"
      ]
     },
     "execution_count": 52,
     "metadata": {},
     "output_type": "execute_result"
    }
   ],
   "source": [
    "df_only_chemo_hosp = df_only_chemo[df_only_chemo[\"PT_CLASS\"] == 'Inpatient']\n",
    "only_chemo_ids_hosp = pd.unique(df_only_chemo_hosp.PAT_DEID)\n",
    "len(only_chemo_ids_hosp)"
   ]
  },
  {
   "cell_type": "code",
   "execution_count": 53,
   "id": "5d2a6160",
   "metadata": {},
   "outputs": [
    {
     "data": {
      "text/plain": [
       "Timedelta('27 days 17:48:00')"
      ]
     },
     "execution_count": 53,
     "metadata": {},
     "output_type": "execute_result"
    }
   ],
   "source": [
    "abs(df_only_chemo_hosp.HOSP_ADMSN_TIME - df_only_chemo_hosp.HOSP_DISCHRG_TIME).max()"
   ]
  },
  {
   "cell_type": "markdown",
   "id": "d11c79cf",
   "metadata": {},
   "source": [
    "- Remove the 16 patients that only had an ED visit on the chemotherapy day "
   ]
  },
  {
   "cell_type": "code",
   "execution_count": 55,
   "id": "ace74369",
   "metadata": {},
   "outputs": [],
   "source": [
    "op_df_30 = op_df_30[~op_df_30.PAT_DEID.isin(only_chemo_ids_ed)]"
   ]
  },
  {
   "cell_type": "code",
   "execution_count": 58,
   "id": "6e9fcbf6",
   "metadata": {},
   "outputs": [
    {
     "name": "stdout",
     "output_type": "stream",
     "text": [
      "# of cancer patients with OP admit or ED w/in 1 mo:  1832\n"
     ]
    }
   ],
   "source": [
    "print(\"# of cancer patients with OP admit or ED w/in 1 mo: \", len(pd.unique(op_df_30['PAT_DEID'])))"
   ]
  },
  {
   "cell_type": "markdown",
   "id": "81f8a7c8",
   "metadata": {},
   "source": [
    "**Create cohort patient with at least one ED visit or hospitalization within the 30 days follow-up**"
   ]
  },
  {
   "cell_type": "code",
   "execution_count": 59,
   "id": "c1ccd99f",
   "metadata": {},
   "outputs": [],
   "source": [
    "# We take the last HOSP_ADMSN_TIME for each patient \n",
    "cohort_p1_acu = pd.merge(op_df_30.sort_values(by=['PAT_DEID','HOSP_ADMSN_TIME']).drop_duplicates(subset='PAT_DEID', keep='last')[['PAT_DEID','HOSP_ADMSN_TIME']], cohort_p1, how=\"left\",on = ['PAT_DEID']) \n"
   ]
  },
  {
   "cell_type": "code",
   "execution_count": 60,
   "id": "383b8da2",
   "metadata": {},
   "outputs": [
    {
     "data": {
      "text/html": [
       "<div>\n",
       "<style scoped>\n",
       "    .dataframe tbody tr th:only-of-type {\n",
       "        vertical-align: middle;\n",
       "    }\n",
       "\n",
       "    .dataframe tbody tr th {\n",
       "        vertical-align: top;\n",
       "    }\n",
       "\n",
       "    .dataframe thead th {\n",
       "        text-align: right;\n",
       "    }\n",
       "</style>\n",
       "<table border=\"1\" class=\"dataframe\">\n",
       "  <thead>\n",
       "    <tr style=\"text-align: right;\">\n",
       "      <th></th>\n",
       "      <th>PAT_DEID</th>\n",
       "      <th>HOSP_ADMSN_TIME</th>\n",
       "      <th>CHE_TX_DATE</th>\n",
       "    </tr>\n",
       "  </thead>\n",
       "  <tbody>\n",
       "    <tr>\n",
       "      <th>0</th>\n",
       "      <td>31</td>\n",
       "      <td>2014-02-24 15:04:00</td>\n",
       "      <td>2014-02-04 12:27:00</td>\n",
       "    </tr>\n",
       "    <tr>\n",
       "      <th>1</th>\n",
       "      <td>2374</td>\n",
       "      <td>2019-05-20 19:22:00</td>\n",
       "      <td>2019-05-20 00:00:00</td>\n",
       "    </tr>\n",
       "    <tr>\n",
       "      <th>2</th>\n",
       "      <td>4067</td>\n",
       "      <td>2019-03-22 23:26:00</td>\n",
       "      <td>2019-03-21 00:00:00</td>\n",
       "    </tr>\n",
       "    <tr>\n",
       "      <th>3</th>\n",
       "      <td>10540</td>\n",
       "      <td>2014-11-24 13:16:00</td>\n",
       "      <td>2014-11-19 00:00:00</td>\n",
       "    </tr>\n",
       "    <tr>\n",
       "      <th>4</th>\n",
       "      <td>10789</td>\n",
       "      <td>2018-02-14 14:47:00</td>\n",
       "      <td>2018-02-02 00:00:00</td>\n",
       "    </tr>\n",
       "    <tr>\n",
       "      <th>...</th>\n",
       "      <td>...</td>\n",
       "      <td>...</td>\n",
       "      <td>...</td>\n",
       "    </tr>\n",
       "    <tr>\n",
       "      <th>1827</th>\n",
       "      <td>4230712</td>\n",
       "      <td>2021-02-10 19:43:00</td>\n",
       "      <td>2021-01-25 00:00:00</td>\n",
       "    </tr>\n",
       "    <tr>\n",
       "      <th>1828</th>\n",
       "      <td>4244010</td>\n",
       "      <td>2021-06-22 12:26:00</td>\n",
       "      <td>2021-06-01 00:00:00</td>\n",
       "    </tr>\n",
       "    <tr>\n",
       "      <th>1829</th>\n",
       "      <td>4259783</td>\n",
       "      <td>2021-02-02 03:44:00</td>\n",
       "      <td>2021-01-22 00:00:00</td>\n",
       "    </tr>\n",
       "    <tr>\n",
       "      <th>1830</th>\n",
       "      <td>4316371</td>\n",
       "      <td>2021-02-23 16:07:00</td>\n",
       "      <td>2021-02-23 00:00:00</td>\n",
       "    </tr>\n",
       "    <tr>\n",
       "      <th>1831</th>\n",
       "      <td>4317533</td>\n",
       "      <td>2021-04-19 10:03:00</td>\n",
       "      <td>2021-03-29 00:00:00</td>\n",
       "    </tr>\n",
       "  </tbody>\n",
       "</table>\n",
       "<p>1832 rows × 3 columns</p>\n",
       "</div>"
      ],
      "text/plain": [
       "      PAT_DEID     HOSP_ADMSN_TIME         CHE_TX_DATE\n",
       "0           31 2014-02-24 15:04:00 2014-02-04 12:27:00\n",
       "1         2374 2019-05-20 19:22:00 2019-05-20 00:00:00\n",
       "2         4067 2019-03-22 23:26:00 2019-03-21 00:00:00\n",
       "3        10540 2014-11-24 13:16:00 2014-11-19 00:00:00\n",
       "4        10789 2018-02-14 14:47:00 2018-02-02 00:00:00\n",
       "...        ...                 ...                 ...\n",
       "1827   4230712 2021-02-10 19:43:00 2021-01-25 00:00:00\n",
       "1828   4244010 2021-06-22 12:26:00 2021-06-01 00:00:00\n",
       "1829   4259783 2021-02-02 03:44:00 2021-01-22 00:00:00\n",
       "1830   4316371 2021-02-23 16:07:00 2021-02-23 00:00:00\n",
       "1831   4317533 2021-04-19 10:03:00 2021-03-29 00:00:00\n",
       "\n",
       "[1832 rows x 3 columns]"
      ]
     },
     "execution_count": 60,
     "metadata": {},
     "output_type": "execute_result"
    }
   ],
   "source": [
    "cohort_p1_acu"
   ]
  },
  {
   "cell_type": "code",
   "execution_count": 61,
   "id": "6419e50f",
   "metadata": {},
   "outputs": [
    {
     "data": {
      "text/plain": [
       "LoadJob<project=som-nero-phi-boussard, location=US, id=2daa0539-e419-4bf2-8139-9fa732510afd>"
      ]
     },
     "execution_count": 61,
     "metadata": {},
     "output_type": "execute_result"
    }
   ],
   "source": [
    "# Save cohort patient with at least one ED visit or hospitalization within the 30 days follow-up\n",
    "# Specify destination for storing dataframe\n",
    "destination = f\"som-nero-phi-boussard.ES_ACU_Oncology.cohort_p1_acu\"\n",
    "\n",
    "# Save file to Big Query\n",
    "load_job = client.load_table_from_dataframe(dataframe = cohort_p1_acu,                                  \n",
    "                                                   destination = destination,\n",
    "                                                   job_config = job_config)\n",
    "\n",
    "# Run the job:\n",
    "load_job.result()"
   ]
  },
  {
   "cell_type": "code",
   "execution_count": 62,
   "id": "7395c828",
   "metadata": {},
   "outputs": [
    {
     "data": {
      "text/plain": [
       "1832"
      ]
     },
     "execution_count": 62,
     "metadata": {},
     "output_type": "execute_result"
    }
   ],
   "source": [
    "# Check that we have only one entry for each patient \n",
    "cohort_p1_acu.groupby(['PAT_DEID'])['PAT_DEID'].value_counts().sum()"
   ]
  },
  {
   "cell_type": "markdown",
   "id": "fa34b39f",
   "metadata": {},
   "source": [
    "### Select patients with at least one symptom in predefined symptom classes\n",
    "\n",
    "Predefined symptom classes:\n",
    "- Pain\n",
    "- Nausea-Vomiting(Emesis)-Dehydration-Diarrhea\n",
    "- Anemia\n",
    "- Sepsis-Neutropenia-Fever-Pneuomia\n"
   ]
  },
  {
   "cell_type": "code",
   "execution_count": 63,
   "id": "20fc4d9d",
   "metadata": {},
   "outputs": [],
   "source": [
    "sql_query = f\"\"\" SELECT * FROM {es}.cohort_p1_acu\"\"\"\n",
    "cohort_p1_acu = (client.query(sql_query)).to_dataframe()"
   ]
  },
  {
   "cell_type": "code",
   "execution_count": 64,
   "id": "ec399923",
   "metadata": {},
   "outputs": [],
   "source": [
    "# Get all DX_NAME for all ACU event within 30 days \n",
    "cohort_p1_sym = pd.merge(cohort_p1_acu[[\"PAT_DEID\"]], op_df_30, how=\"left\", on=[\"PAT_DEID\"])"
   ]
  },
  {
   "cell_type": "code",
   "execution_count": 65,
   "id": "551b2dff",
   "metadata": {},
   "outputs": [
    {
     "data": {
      "text/plain": [
       "0"
      ]
     },
     "execution_count": 65,
     "metadata": {},
     "output_type": "execute_result"
    }
   ],
   "source": [
    "# Check for duplicates rows  \n",
    "cohort_p1_sym.duplicated().sum()"
   ]
  },
  {
   "cell_type": "code",
   "execution_count": 66,
   "id": "e4038d4e",
   "metadata": {},
   "outputs": [
    {
     "data": {
      "text/plain": [
       "(11513, 16)"
      ]
     },
     "execution_count": 66,
     "metadata": {},
     "output_type": "execute_result"
    }
   ],
   "source": [
    "# Remove duplicate rows\n",
    "cohort_p1_sym.drop_duplicates(inplace=True)\n",
    "cohort_p1_sym.shape"
   ]
  },
  {
   "cell_type": "code",
   "execution_count": 67,
   "id": "8512cf17",
   "metadata": {},
   "outputs": [],
   "source": [
    "anemia = cohort_p1_sym['DX_NAME'].str.upper().apply(lambda x: any(y in x for y in [\"ANEM\",\"RED CELL\"]))\n",
    "dehydration = cohort_p1_sym['DX_NAME'].str.upper().apply(lambda x: any(y in x for y in [\"DEHY\",\"HYPERNAT\"]))\n",
    "diarrhea = cohort_p1_sym['DX_NAME'].str.upper().apply(lambda x: x.find(\"DIAR\")!=-1)\n",
    "emesis = cohort_p1_sym['DX_NAME'].str.upper().apply(lambda x: any(y in x for y in [\"EMES\",\"VOMIT\",\"GASTROENTER\",\"GASTRIT\"]))\n",
    "fever =  cohort_p1_sym['DX_NAME'].str.upper().apply(lambda x: any(y in x for y in [\"FEVER\",\"FEBRILE\",\"HYPERTHERM\",\"PYREX\"]))\n",
    "nausea = cohort_p1_sym['DX_NAME'].str.upper().apply(lambda x: x.find(\"NAUS\")!=-1)\n",
    "neutropenia = cohort_p1_sym['DX_NAME'].str.upper().apply(lambda x: any(y in x for y in [\"NEUT\",\"PANCY\",\"AGRAN\"]))\n",
    "pain = cohort_p1_sym['DX_NAME'].str.upper().apply(lambda x: any(y in x for y in [\"PAIN\",\"HEADACH\",\"ALGIA\",\"DYSURIA\",\"DYNIA\",\"ACHE\",\"PRESSURE\",\"DISCOMFORT\",\"CRAMP\", \"TIGHTNESS\",\"RADICULOPATHY\",\"TENDERNES\", \"ABDOMINAL CRIS\"]))\n",
    "pneumonia = cohort_p1_sym['DX_NAME'].str.upper().apply(lambda x: any(y in x for y in [\"PNEUMO\",\"CONSOLID\"]))\n",
    "sepsis = cohort_p1_sym['DX_NAME'].str.upper().apply(lambda x: any(y in x for y in [\"SEPS\",\"INFLAM\",\"CANDIDEMIA\",\"SEPTIC\"]))\n",
    "\n",
    "# Shorten diagnosis names and call it dx_short\n",
    "cohort_p1_sym['DX_SHORT'] = np.nan\n",
    "cohort_p1_sym.loc[anemia,'DX_SHORT'] = \"ANEMIA\"\n",
    "cohort_p1_sym.loc[dehydration,'DX_SHORT'] = \"DEHYDRATION\"\n",
    "cohort_p1_sym.loc[diarrhea,'DX_SHORT'] = \"DIARRHEA\"\n",
    "cohort_p1_sym.loc[nausea,'DX_SHORT'] = \"NAUSEA\"\n",
    "cohort_p1_sym.loc[emesis,'DX_SHORT'] = \"EMESIS\"\n",
    "cohort_p1_sym.loc[fever,'DX_SHORT'] = \"FEVER\"\n",
    "cohort_p1_sym.loc[neutropenia,'DX_SHORT'] = \"NEUTROPENIA\"\n",
    "cohort_p1_sym.loc[pain,'DX_SHORT'] = \"PAIN\"\n",
    "cohort_p1_sym.loc[pneumonia,'DX_SHORT'] = \"PNEUMONIA\"\n",
    "cohort_p1_sym.loc[sepsis,'DX_SHORT'] = \"SEPSIS\""
   ]
  },
  {
   "cell_type": "code",
   "execution_count": 68,
   "id": "0a5d21e7",
   "metadata": {},
   "outputs": [
    {
     "data": {
      "image/png": "[encoded data removed]",
      "text/plain": [
       "<Figure size 432x288 with 1 Axes>"
      ]
     },
     "metadata": {
      "needs_background": "light"
     },
     "output_type": "display_data"
    }
   ],
   "source": [
    "fig,ax = plt.subplots()\n",
    "(cohort_p1_sym.DX_SHORT.value_counts()[::-1]).plot(kind=\"barh\",title=\"OP-35 Events within 30 days of chemotherapy initiation\\nby Diagnosis\",ax=ax)\n",
    "plt.tight_layout()"
   ]
  },
  {
   "cell_type": "code",
   "execution_count": 69,
   "id": "34a0ec24",
   "metadata": {},
   "outputs": [
    {
     "data": {
      "text/plain": [
       "PAIN           3873\n",
       "FEVER          1597\n",
       "NEUTROPENIA    1144\n",
       "ANEMIA          992\n",
       "SEPSIS          989\n",
       "EMESIS          933\n",
       "PNEUMONIA       413\n",
       "DIARRHEA        412\n",
       "DEHYDRATION     387\n",
       "NAUSEA          375\n",
       "Name: DX_SHORT, dtype: int64"
      ]
     },
     "execution_count": 69,
     "metadata": {},
     "output_type": "execute_result"
    }
   ],
   "source": [
    "cohort_p1_sym.DX_SHORT.value_counts()"
   ]
  },
  {
   "cell_type": "code",
   "execution_count": 70,
   "id": "ddcbb2fb",
   "metadata": {},
   "outputs": [],
   "source": [
    "cohort_p1_sym.dropna(subset=['DX_SHORT'], inplace=True)"
   ]
  },
  {
   "cell_type": "code",
   "execution_count": 71,
   "id": "33e87b86",
   "metadata": {},
   "outputs": [
    {
     "name": "stdout",
     "output_type": "stream",
     "text": [
      "No of unique patients with at least one symptom:  1817\n"
     ]
    }
   ],
   "source": [
    "print(\"No of unique patients with at least one symptom: \", len(pd.unique(cohort_p1_sym['PAT_DEID'])))"
   ]
  },
  {
   "cell_type": "code",
   "execution_count": 72,
   "id": "96aba827",
   "metadata": {},
   "outputs": [
    {
     "data": {
      "text/plain": [
       "LoadJob<project=som-nero-phi-boussard, location=US, id=6e38b714-729f-40af-aec3-50251f04ecac>"
      ]
     },
     "execution_count": 72,
     "metadata": {},
     "output_type": "execute_result"
    }
   ],
   "source": [
    "# Save cohort patient with at least one symptom in predefined symptom classes -> save all the information\n",
    "# Specify destination for storing dataframe\n",
    "destination = f\"som-nero-phi-boussard.ES_ACU_Oncology.cohort_p1_sym_op30\"\n",
    "\n",
    "# Save file to Big Query\n",
    "load_job = client.load_table_from_dataframe(dataframe = cohort_p1_sym,                                  \n",
    "                                                   destination = destination,\n",
    "                                                   job_config = job_config)\n",
    "\n",
    "# Run the job:\n",
    "load_job.result()"
   ]
  },
  {
   "cell_type": "markdown",
   "id": "10d863a5",
   "metadata": {},
   "source": [
    "- Create cohort patient with at least one symptom in predefined symptom classes"
   ]
  },
  {
   "cell_type": "code",
   "execution_count": 73,
   "id": "d4cc7425",
   "metadata": {},
   "outputs": [],
   "source": [
    "cohort_p1_symptom = pd.merge(cohort_p1_sym.drop_duplicates(['PAT_DEID'])[['PAT_DEID']], cohort_p1_acu, how = 'left', on = ['PAT_DEID'])"
   ]
  },
  {
   "cell_type": "code",
   "execution_count": 74,
   "id": "318642cd",
   "metadata": {},
   "outputs": [
    {
     "data": {
      "text/html": [
       "<div>\n",
       "<style scoped>\n",
       "    .dataframe tbody tr th:only-of-type {\n",
       "        vertical-align: middle;\n",
       "    }\n",
       "\n",
       "    .dataframe tbody tr th {\n",
       "        vertical-align: top;\n",
       "    }\n",
       "\n",
       "    .dataframe thead th {\n",
       "        text-align: right;\n",
       "    }\n",
       "</style>\n",
       "<table border=\"1\" class=\"dataframe\">\n",
       "  <thead>\n",
       "    <tr style=\"text-align: right;\">\n",
       "      <th></th>\n",
       "      <th>PAT_DEID</th>\n",
       "      <th>HOSP_ADMSN_TIME</th>\n",
       "      <th>CHE_TX_DATE</th>\n",
       "    </tr>\n",
       "  </thead>\n",
       "  <tbody>\n",
       "    <tr>\n",
       "      <th>0</th>\n",
       "      <td>1770802</td>\n",
       "      <td>2020-02-07 20:54:00</td>\n",
       "      <td>2020-01-16 00:00:00</td>\n",
       "    </tr>\n",
       "    <tr>\n",
       "      <th>1</th>\n",
       "      <td>3945576</td>\n",
       "      <td>2020-02-01 09:14:00</td>\n",
       "      <td>2020-01-24 00:00:00</td>\n",
       "    </tr>\n",
       "    <tr>\n",
       "      <th>2</th>\n",
       "      <td>1045640</td>\n",
       "      <td>2016-02-15 20:12:00</td>\n",
       "      <td>2016-02-08 00:00:00</td>\n",
       "    </tr>\n",
       "    <tr>\n",
       "      <th>3</th>\n",
       "      <td>1289918</td>\n",
       "      <td>2016-04-15 23:13:00</td>\n",
       "      <td>2016-03-16 00:00:00</td>\n",
       "    </tr>\n",
       "    <tr>\n",
       "      <th>4</th>\n",
       "      <td>2440956</td>\n",
       "      <td>2016-04-14 16:51:00</td>\n",
       "      <td>2016-03-24 00:00:00</td>\n",
       "    </tr>\n",
       "    <tr>\n",
       "      <th>...</th>\n",
       "      <td>...</td>\n",
       "      <td>...</td>\n",
       "      <td>...</td>\n",
       "    </tr>\n",
       "    <tr>\n",
       "      <th>1812</th>\n",
       "      <td>538184</td>\n",
       "      <td>2015-02-13 13:13:00</td>\n",
       "      <td>2015-01-16 08:59:00</td>\n",
       "    </tr>\n",
       "    <tr>\n",
       "      <th>1813</th>\n",
       "      <td>1253627</td>\n",
       "      <td>2019-03-14 16:38:00</td>\n",
       "      <td>2019-03-08 23:59:00</td>\n",
       "    </tr>\n",
       "    <tr>\n",
       "      <th>1814</th>\n",
       "      <td>3456627</td>\n",
       "      <td>2018-11-12 13:20:00</td>\n",
       "      <td>2018-10-17 09:59:00</td>\n",
       "    </tr>\n",
       "    <tr>\n",
       "      <th>1815</th>\n",
       "      <td>3316652</td>\n",
       "      <td>2014-06-06 19:31:00</td>\n",
       "      <td>2014-06-05 23:59:00</td>\n",
       "    </tr>\n",
       "    <tr>\n",
       "      <th>1816</th>\n",
       "      <td>2239905</td>\n",
       "      <td>2016-05-15 10:36:00</td>\n",
       "      <td>2016-05-06 23:59:00</td>\n",
       "    </tr>\n",
       "  </tbody>\n",
       "</table>\n",
       "<p>1817 rows × 3 columns</p>\n",
       "</div>"
      ],
      "text/plain": [
       "      PAT_DEID     HOSP_ADMSN_TIME         CHE_TX_DATE\n",
       "0      1770802 2020-02-07 20:54:00 2020-01-16 00:00:00\n",
       "1      3945576 2020-02-01 09:14:00 2020-01-24 00:00:00\n",
       "2      1045640 2016-02-15 20:12:00 2016-02-08 00:00:00\n",
       "3      1289918 2016-04-15 23:13:00 2016-03-16 00:00:00\n",
       "4      2440956 2016-04-14 16:51:00 2016-03-24 00:00:00\n",
       "...        ...                 ...                 ...\n",
       "1812    538184 2015-02-13 13:13:00 2015-01-16 08:59:00\n",
       "1813   1253627 2019-03-14 16:38:00 2019-03-08 23:59:00\n",
       "1814   3456627 2018-11-12 13:20:00 2018-10-17 09:59:00\n",
       "1815   3316652 2014-06-06 19:31:00 2014-06-05 23:59:00\n",
       "1816   2239905 2016-05-15 10:36:00 2016-05-06 23:59:00\n",
       "\n",
       "[1817 rows x 3 columns]"
      ]
     },
     "execution_count": 74,
     "metadata": {},
     "output_type": "execute_result"
    }
   ],
   "source": [
    "cohort_p1_symptom"
   ]
  },
  {
   "cell_type": "code",
   "execution_count": 75,
   "id": "30f29798",
   "metadata": {},
   "outputs": [
    {
     "data": {
      "text/plain": [
       "LoadJob<project=som-nero-phi-boussard, location=US, id=66534523-ac32-4a1b-b0e4-dae685282f55>"
      ]
     },
     "execution_count": 75,
     "metadata": {},
     "output_type": "execute_result"
    }
   ],
   "source": [
    "# Save cohort patient with at least one symptom in predefined symptom classes\n",
    "# Specify destination for storing dataframe\n",
    "destination = f\"som-nero-phi-boussard.ES_ACU_Oncology.cohort_p1_symptom\"\n",
    "\n",
    "# Save file to Big Query\n",
    "load_job = client.load_table_from_dataframe(dataframe = cohort_p1_symptom,                                  \n",
    "                                                   destination = destination,\n",
    "                                                   job_config = job_config)\n",
    "\n",
    "# Run the job:\n",
    "load_job.result()"
   ]
  },
  {
   "cell_type": "markdown",
   "id": "2ab9192f",
   "metadata": {},
   "source": [
    "### Select patients with at least one text in the observation period           \n",
    "\n",
    "- Observation period: [CHE_TX_DATE,HOSP_ADMSN_TIME]"
   ]
  },
  {
   "cell_type": "markdown",
   "id": "757bef56",
   "metadata": {},
   "source": [
    "#### Build Text Table \n"
   ]
  },
  {
   "cell_type": "code",
   "execution_count": 76,
   "id": "4e2fc619",
   "metadata": {},
   "outputs": [],
   "source": [
    "         sql_query = f\"\"\" SELECT * FROM {es}.cohort_p1_symptom\"\"\"\n",
    "cohort_p1_symptom = (client.query(sql_query)).to_dataframe()"
   ]
  },
  {
   "cell_type": "markdown",
   "id": "ce9f8258",
   "metadata": {},
   "source": [
    "**-Build Note Table**"
   ]
  },
  {
   "cell_type": "markdown",
   "id": "44447069",
   "metadata": {},
   "source": [
    "Note: The encounter date corresponds to the admission date for hospitalization and thus will collect all the notes relevant to this ACU event and thus all the ones written during the hospitalization period (even if hosp last a very long time)\n",
    "\n",
    "The effective time seems to be when the notes was written/uploaded to the DB so might have an encounter date outside our observation period and this is not what we want"
   ]
  },
  {
   "cell_type": "code",
   "execution_count": 77,
   "id": "598a2a06",
   "metadata": {},
   "outputs": [],
   "source": [
    "# Obtain the patients' notes in the observation period i.e created_time in [che_tx_date, HOSP_ADMSN_TIME] \n",
    "db = \"som-nero-phi-boussard.stride_cancer_notes_msgs\" # Define the database\n",
    "db_elia = \"som-nero-phi-boussard.ES_ACU_Oncology\" # Define the database\n",
    "sql_query = f\"\"\"\n",
    "    SELECT DISTINCT cohort.pat_deid, notes.note, notes.encounter_date, notes.effective_time, notes.note_desc\n",
    "    FROM {db_elia}.cohort_p1_symptom cohort\n",
    "    INNER JOIN {db}.shc_cancer_notes notes ON cohort.pat_deid = notes.pat_deid\n",
    "    WHERE (notes.encounter_date <= cohort.hosp_admsn_time \n",
    "    AND notes.encounter_date >= cohort.che_tx_date)\n",
    "\"\"\"\n",
    "df_notes = (client.query(sql_query)).to_dataframe()\n",
    "df_notes.columns = [c.upper() for c in df_notes.columns]"
   ]
  },
  {
   "cell_type": "code",
   "execution_count": 78,
   "id": "22645916",
   "metadata": {},
   "outputs": [
    {
     "name": "stdout",
     "output_type": "stream",
     "text": [
      "No of unique patients with at least one note in the observation period:  1753\n"
     ]
    }
   ],
   "source": [
    "print(\"No of unique patients with at least one note in the observation period: \", len(pd.unique(df_notes['PAT_DEID'])))"
   ]
  },
  {
   "cell_type": "code",
   "execution_count": 79,
   "id": "c79ecdce",
   "metadata": {},
   "outputs": [
    {
     "data": {
      "text/plain": [
       "PAT_DEID          0\n",
       "NOTE              0\n",
       "ENCOUNTER_DATE    0\n",
       "EFFECTIVE_TIME    0\n",
       "NOTE_DESC         0\n",
       "dtype: int64"
      ]
     },
     "execution_count": 79,
     "metadata": {},
     "output_type": "execute_result"
    }
   ],
   "source": [
    "# Check for null values\n",
    "df_notes.isna().sum()"
   ]
  },
  {
   "cell_type": "code",
   "execution_count": 80,
   "id": "7aa6418b",
   "metadata": {},
   "outputs": [
    {
     "data": {
      "text/plain": [
       "4377"
      ]
     },
     "execution_count": 80,
     "metadata": {},
     "output_type": "execute_result"
    }
   ],
   "source": [
    "# Check for duplicates notes for each patient\n",
    "df_notes.duplicated(subset=['PAT_DEID', 'NOTE']).sum()"
   ]
  },
  {
   "cell_type": "code",
   "execution_count": 81,
   "id": "b8c93173",
   "metadata": {},
   "outputs": [
    {
     "data": {
      "text/plain": [
       "(95536, 5)"
      ]
     },
     "execution_count": 81,
     "metadata": {},
     "output_type": "execute_result"
    }
   ],
   "source": [
    "df_notes.drop_duplicates(subset=['PAT_DEID', 'NOTE'], inplace=True)\n",
    "df_notes.shape"
   ]
  },
  {
   "cell_type": "code",
   "execution_count": 82,
   "id": "92ba8c35",
   "metadata": {},
   "outputs": [],
   "source": [
    "# Add WORD_COUNT column (approximatif since account for long white spaces in the notes) \n",
    "df_notes[\"WORD_COUNT\"] = df_notes[\"NOTE\"].str.split(' ').str.len()"
   ]
  },
  {
   "cell_type": "code",
   "execution_count": 83,
   "id": "81e1e680",
   "metadata": {},
   "outputs": [
    {
     "data": {
      "text/html": [
       "<div>\n",
       "<style scoped>\n",
       "    .dataframe tbody tr th:only-of-type {\n",
       "        vertical-align: middle;\n",
       "    }\n",
       "\n",
       "    .dataframe tbody tr th {\n",
       "        vertical-align: top;\n",
       "    }\n",
       "\n",
       "    .dataframe thead th {\n",
       "        text-align: right;\n",
       "    }\n",
       "</style>\n",
       "<table border=\"1\" class=\"dataframe\">\n",
       "  <thead>\n",
       "    <tr style=\"text-align: right;\">\n",
       "      <th></th>\n",
       "      <th>PAT_DEID</th>\n",
       "      <th>NOTE</th>\n",
       "      <th>ENCOUNTER_DATE</th>\n",
       "      <th>EFFECTIVE_TIME</th>\n",
       "      <th>NOTE_DESC</th>\n",
       "      <th>WORD_COUNT</th>\n",
       "    </tr>\n",
       "  </thead>\n",
       "  <tbody>\n",
       "    <tr>\n",
       "      <th>0</th>\n",
       "      <td>1863459</td>\n",
       "      <td>Principal Investigator: Dr.Elisabeth Diver  Nu...</td>\n",
       "      <td>2019-05-14</td>\n",
       "      <td>2019-05-14 11:49:00</td>\n",
       "      <td>Progress Notes</td>\n",
       "      <td>104</td>\n",
       "    </tr>\n",
       "    <tr>\n",
       "      <th>1</th>\n",
       "      <td>793691</td>\n",
       "      <td>Urologic Oncology Clinic  875 Blake Wilbur Dr...</td>\n",
       "      <td>2013-02-28</td>\n",
       "      <td>2013-02-28 00:00:00</td>\n",
       "      <td>Letter</td>\n",
       "      <td>472</td>\n",
       "    </tr>\n",
       "    <tr>\n",
       "      <th>2</th>\n",
       "      <td>3454010</td>\n",
       "      <td>Hand-off given to RN, Jennifer from F wing. Pa...</td>\n",
       "      <td>2015-05-10</td>\n",
       "      <td>2015-05-10 19:48:00</td>\n",
       "      <td>ED Notes</td>\n",
       "      <td>19</td>\n",
       "    </tr>\n",
       "    <tr>\n",
       "      <th>3</th>\n",
       "      <td>1078094</td>\n",
       "      <td>Pt and pt's wife upset about waiting time for ...</td>\n",
       "      <td>2019-09-02</td>\n",
       "      <td>2019-09-02 18:29:00</td>\n",
       "      <td>ED Notes</td>\n",
       "      <td>26</td>\n",
       "    </tr>\n",
       "    <tr>\n",
       "      <th>4</th>\n",
       "      <td>154216</td>\n",
       "      <td>OT Eval: Independent bed mob, STS, mobility wi...</td>\n",
       "      <td>2020-11-08</td>\n",
       "      <td>2020-11-09 09:50:00</td>\n",
       "      <td>Care Plan Note</td>\n",
       "      <td>35</td>\n",
       "    </tr>\n",
       "    <tr>\n",
       "      <th>...</th>\n",
       "      <td>...</td>\n",
       "      <td>...</td>\n",
       "      <td>...</td>\n",
       "      <td>...</td>\n",
       "      <td>...</td>\n",
       "      <td>...</td>\n",
       "    </tr>\n",
       "    <tr>\n",
       "      <th>99907</th>\n",
       "      <td>3594682</td>\n",
       "      <td>Stanf...</td>\n",
       "      <td>2019-09-20</td>\n",
       "      <td>2019-09-27 17:03:00</td>\n",
       "      <td>Progress Notes</td>\n",
       "      <td>620</td>\n",
       "    </tr>\n",
       "    <tr>\n",
       "      <th>99908</th>\n",
       "      <td>87359</td>\n",
       "      <td>I was asked to place Cortrak feeding tube for ...</td>\n",
       "      <td>2015-01-28</td>\n",
       "      <td>2015-02-11 23:55:00</td>\n",
       "      <td>Progress Notes</td>\n",
       "      <td>90</td>\n",
       "    </tr>\n",
       "    <tr>\n",
       "      <th>99909</th>\n",
       "      <td>2830373</td>\n",
       "      <td>Problem: CONSTIPATION - RISK OF, DUE TO CHEMOT...</td>\n",
       "      <td>2013-11-06</td>\n",
       "      <td>2013-11-06 19:44:00</td>\n",
       "      <td>Progress Notes</td>\n",
       "      <td>45</td>\n",
       "    </tr>\n",
       "    <tr>\n",
       "      <th>99910</th>\n",
       "      <td>815873</td>\n",
       "      <td>Stanford Hospital and Clinics  Discharge Summa...</td>\n",
       "      <td>2013-05-31</td>\n",
       "      <td>2013-06-05 08:08:00</td>\n",
       "      <td>Discharge Summary</td>\n",
       "      <td>1076</td>\n",
       "    </tr>\n",
       "    <tr>\n",
       "      <th>99911</th>\n",
       "      <td>2378035</td>\n",
       "      <td>- Respiratory cultures, blood cultures, UA wit...</td>\n",
       "      <td>2014-01-06</td>\n",
       "      <td>2014-01-06 18:28:00</td>\n",
       "      <td>Assessment &amp; Plan Note</td>\n",
       "      <td>53</td>\n",
       "    </tr>\n",
       "  </tbody>\n",
       "</table>\n",
       "<p>95536 rows × 6 columns</p>\n",
       "</div>"
      ],
      "text/plain": [
       "       PAT_DEID                                               NOTE  \\\n",
       "0       1863459  Principal Investigator: Dr.Elisabeth Diver  Nu...   \n",
       "1        793691   Urologic Oncology Clinic  875 Blake Wilbur Dr...   \n",
       "2       3454010  Hand-off given to RN, Jennifer from F wing. Pa...   \n",
       "3       1078094  Pt and pt's wife upset about waiting time for ...   \n",
       "4        154216  OT Eval: Independent bed mob, STS, mobility wi...   \n",
       "...         ...                                                ...   \n",
       "99907   3594682                                           Stanf...   \n",
       "99908     87359  I was asked to place Cortrak feeding tube for ...   \n",
       "99909   2830373  Problem: CONSTIPATION - RISK OF, DUE TO CHEMOT...   \n",
       "99910    815873  Stanford Hospital and Clinics  Discharge Summa...   \n",
       "99911   2378035  - Respiratory cultures, blood cultures, UA wit...   \n",
       "\n",
       "      ENCOUNTER_DATE      EFFECTIVE_TIME               NOTE_DESC  WORD_COUNT  \n",
       "0         2019-05-14 2019-05-14 11:49:00          Progress Notes         104  \n",
       "1         2013-02-28 2013-02-28 00:00:00                  Letter         472  \n",
       "2         2015-05-10 2015-05-10 19:48:00                ED Notes          19  \n",
       "3         2019-09-02 2019-09-02 18:29:00                ED Notes          26  \n",
       "4         2020-11-08 2020-11-09 09:50:00          Care Plan Note          35  \n",
       "...              ...                 ...                     ...         ...  \n",
       "99907     2019-09-20 2019-09-27 17:03:00          Progress Notes         620  \n",
       "99908     2015-01-28 2015-02-11 23:55:00          Progress Notes          90  \n",
       "99909     2013-11-06 2013-11-06 19:44:00          Progress Notes          45  \n",
       "99910     2013-05-31 2013-06-05 08:08:00       Discharge Summary        1076  \n",
       "99911     2014-01-06 2014-01-06 18:28:00  Assessment & Plan Note          53  \n",
       "\n",
       "[95536 rows x 6 columns]"
      ]
     },
     "execution_count": 83,
     "metadata": {},
     "output_type": "execute_result"
    }
   ],
   "source": [
    "df_notes"
   ]
  },
  {
   "cell_type": "code",
   "execution_count": 84,
   "id": "f0df1e75",
   "metadata": {},
   "outputs": [
    {
     "data": {
      "text/plain": [
       "LoadJob<project=som-nero-phi-boussard, location=US, id=ae85cd46-ed1d-48a3-b342-198cda44d044>"
      ]
     },
     "execution_count": 84,
     "metadata": {},
     "output_type": "execute_result"
    }
   ],
   "source": [
    "# Save cohort patient with at least one symptom in predefined symptom classes\n",
    "# Specify destination for storing dataframe\n",
    "destination = f\"som-nero-phi-boussard.ES_ACU_Oncology.note_table\"\n",
    "\n",
    "# Save file to Big Query\n",
    "load_job = client.load_table_from_dataframe(dataframe = df_notes,                                  \n",
    "                                                   destination = destination,\n",
    "                                                   job_config = job_config)\n",
    "\n",
    "# Run the job:\n",
    "load_job.result()"
   ]
  },
  {
   "cell_type": "markdown",
   "id": "b5bc6648",
   "metadata": {},
   "source": [
    "#### Get the target cohort patient (with at least one text)"
   ]
  },
  {
   "cell_type": "code",
   "execution_count": 85,
   "id": "6bb270d5",
   "metadata": {},
   "outputs": [],
   "source": [
    "# Load relevant note table\n",
    "sql_query = f\"\"\" SELECT * FROM {es}.note_table\"\"\"\n",
    "note_table = (client.query(sql_query)).to_dataframe()"
   ]
  },
  {
   "cell_type": "code",
   "execution_count": 86,
   "id": "94ab8a1f",
   "metadata": {},
   "outputs": [],
   "source": [
    "# Select patients that have at least one note or one message in the observation period \n",
    "#cohort_p1_text = pd.merge(message_table['PAT_DEID'], note_table['PAT_DEID'], how = 'outer', on = ['PAT_DEID'])\n",
    "cohort_p1_text = note_table[['PAT_DEID']]"
   ]
  },
  {
   "cell_type": "code",
   "execution_count": 87,
   "id": "63848029",
   "metadata": {},
   "outputs": [
    {
     "name": "stdout",
     "output_type": "stream",
     "text": [
      "No of unique patients with at least one relevant note in the observation period:  1753\n"
     ]
    }
   ],
   "source": [
    "print(\"No of unique patients with at least one relevant note in the observation period: \", len(pd.unique(cohort_p1_text['PAT_DEID'])))"
   ]
  },
  {
   "cell_type": "code",
   "execution_count": 88,
   "id": "2d516b74",
   "metadata": {},
   "outputs": [],
   "source": [
    "cohort_p1_text = pd.merge(cohort_p1_text.drop_duplicates(subset=\"PAT_DEID\"), cohort_p1_symptom, how = 'left', on = ['PAT_DEID'])"
   ]
  },
  {
   "cell_type": "code",
   "execution_count": 89,
   "id": "8772207b",
   "metadata": {},
   "outputs": [
    {
     "data": {
      "text/plain": [
       "LoadJob<project=som-nero-phi-boussard, location=US, id=832c7228-e571-4d0e-89b3-3ca3cbe932ca>"
      ]
     },
     "execution_count": 89,
     "metadata": {},
     "output_type": "execute_result"
    }
   ],
   "source": [
    "# Save cohort patient with at least one symptom in predefined symptom classes\n",
    "# Specify destination for storing dataframe\n",
    "destination = f\"som-nero-phi-boussard.ES_ACU_Oncology.cohort_p1_text\"\n",
    "\n",
    "# Save file to Big Query\n",
    "load_job = client.load_table_from_dataframe(dataframe = cohort_p1_text,                                  \n",
    "                                                   destination = destination,\n",
    "                                                   job_config = job_config)\n",
    "\n",
    "# Run the job:\n",
    "load_job.result()"
   ]
  },
  {
   "cell_type": "markdown",
   "id": "549c18e5",
   "metadata": {},
   "source": [
    "- Save the cohort patient information table "
   ]
  },
  {
   "cell_type": "code",
   "execution_count": 90,
   "id": "8b50c76a",
   "metadata": {},
   "outputs": [],
   "source": [
    "sql_query = f\"\"\" SELECT * FROM {es}.cohort_p1_sym_op30\"\"\"\n",
    "cohort_p1_sym_op30 = (client.query(sql_query)).to_dataframe()"
   ]
  },
  {
   "cell_type": "code",
   "execution_count": 91,
   "id": "ba70db7f",
   "metadata": {},
   "outputs": [],
   "source": [
    "cohort_p1_sym_op30 = pd.merge(cohort_p1_text[[\"PAT_DEID\"]], cohort_p1_sym_op30, how = 'left', on = ['PAT_DEID'])"
   ]
  },
  {
   "cell_type": "code",
   "execution_count": 92,
   "id": "6d61da58",
   "metadata": {},
   "outputs": [
    {
     "name": "stdout",
     "output_type": "stream",
     "text": [
      "No of unique patients:  1753\n"
     ]
    }
   ],
   "source": [
    "print(\"No of unique patients: \", len(pd.unique(cohort_p1_sym_op30['PAT_DEID'])))"
   ]
  },
  {
   "cell_type": "code",
   "execution_count": 93,
   "id": "8c9f27a8",
   "metadata": {},
   "outputs": [
    {
     "data": {
      "text/plain": [
       "LoadJob<project=som-nero-phi-boussard, location=US, id=4f312659-572c-48fb-891a-81c4452818fa>"
      ]
     },
     "execution_count": 93,
     "metadata": {},
     "output_type": "execute_result"
    }
   ],
   "source": [
    "# Save cohort patient with at least one symptom in predefined symptom classes\n",
    "# Specify destination for storing dataframe\n",
    "destination = f\"som-nero-phi-boussard.ES_ACU_Oncology.cohort_p1_sym_op30\"\n",
    "\n",
    "# Save file to Big Query\n",
    "load_job = client.load_table_from_dataframe(dataframe = cohort_p1_sym_op30,                                  \n",
    "                                                   destination = destination,\n",
    "                                                   job_config = job_config)\n",
    "\n",
    "# Run the job:\n",
    "load_job.result()"
   ]
  },
  {
   "cell_type": "code",
   "execution_count": null,
   "id": "08019186",
   "metadata": {},
   "outputs": [],
   "source": []
  }
 ],
 "metadata": {
  "kernelspec": {
   "display_name": "Python 3",
   "language": "python",
   "name": "python3"
  },
  "language_info": {
   "codemirror_mode": {
    "name": "ipython",
    "version": 3
   },
   "file_extension": ".py",
   "mimetype": "text/x-python",
   "name": "python",
   "nbconvert_exporter": "python",
   "pygments_lexer": "ipython3",
   "version": "3.9.15"
  }
 },
 "nbformat": 4,
 "nbformat_minor": 5
}
