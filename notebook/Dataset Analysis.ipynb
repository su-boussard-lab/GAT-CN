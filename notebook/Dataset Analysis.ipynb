{
 "cells": [
  {
   "cell_type": "code",
   "execution_count": 1,
   "id": "b9f831a5",
   "metadata": {},
   "outputs": [],
   "source": [
    "# Load packages for data analysis\n",
    "import pandas as pd\n",
    "import numpy as np\n",
    "import matplotlib.pyplot as plt\n",
    "from datetime import datetime, timedelta\n",
    "\n",
    "# Load packages for Big Query \n",
    "from google.cloud import bigquery\n",
    "import os"
   ]
  },
  {
   "cell_type": "markdown",
   "id": "7cb87e21",
   "metadata": {},
   "source": [
    "### Set-up"
   ]
  },
  {
   "cell_type": "markdown",
   "id": "00162df1",
   "metadata": {},
   "source": [
    "**Set-up: GCP interface** "
   ]
  },
  {
   "cell_type": "markdown",
   "id": "fd0f9448",
   "metadata": {},
   "source": [
    "Run before querying to setup Big Query"
   ]
  },
  {
   "cell_type": "code",
   "execution_count": 2,
   "id": "18225c63",
   "metadata": {},
   "outputs": [
    {
     "name": "stderr",
     "output_type": "stream",
     "text": [
      "/Users/eliasaquand/miniforge3/envs/env/lib/python3.9/site-packages/google/auth/_default.py:83: UserWarning: Your application has authenticated using end user credentials from Google Cloud SDK without a quota project. You might receive a \"quota exceeded\" or \"API not enabled\" error. We recommend you rerun `gcloud auth application-default login` and make sure a quota project is added. Or you can use service accounts instead. For more information about service accounts, see https://cloud.google.com/docs/authentication/\n",
      "  warnings.warn(_CLOUD_SDK_CREDENTIALS_WARNING)\n"
     ]
    }
   ],
   "source": [
    "# Define configurations for Big Query - Stride Datalake\n",
    "project_id = 'som-nero-phi-boussard' # Location of stride datalake\n",
    "db = \"som-nero-phi-boussard.stride_datalake\" # Define the database\n",
    "msc = \"som!-nero-phi-boussard.MSc_ACU_Oncology\"\n",
    "es = \"som-nero-phi-boussard.ES_ACU_Oncology\"\n",
    "client = bigquery.Client(project=project_id) # Set project to project_id\n",
    "os.environ['GOOGLE_APPLICATION_CREDENTIALS'] = '/Users/eliasaquand/.config/gcloud/application_default_credentials.json'\n",
    "os.environ['GCLOUD_PROJECT'] = \"som-nero-phi-boussard\" # specify environment\n",
    "db = \"som-nero-phi-boussard\" # Define the database"
   ]
  },
  {
   "cell_type": "markdown",
   "id": "a9487912",
   "metadata": {},
   "source": [
    "**Set-up: GCP data table creation in Big Query**"
   ]
  },
  {
   "cell_type": "code",
   "execution_count": 3,
   "id": "e6f3949d",
   "metadata": {},
   "outputs": [],
   "source": [
    "# 1) Specify the job config to properly read the file\n",
    "job_config = bigquery.LoadJobConfig()\n",
    "job_config.autodetect = True # determines the datatype of the variable\n",
    "job_config.write_disposition = 'WRITE_TRUNCATE'\n",
    "job_config.max_bad_records = 1 # allow 5 bad records; \n",
    "\n",
    "# Read schema from JSON\n",
    "# job_config.schema = self.bq_client.schema_from_json(\n",
    "# f\"{json_schema_dir}/{custom_mapping_table}.json\")\n",
    "\n",
    "# 2) Specify destination\n",
    "# destination = f\"som-nero-phi-boussard.MSc_ACU_Oncology.[COHORT NAME]\"\n",
    "\n",
    "# 3) Save file ob Big Query, using result from so far; client is specified above - implemented in the file \n",
    "# load_job = client.load_table_from_dataframe(dataframe = chemo_tx_dd,                                  \n",
    "#                                                     destination = destination,\n",
    "#                                                     job_config = job_config)\n",
    "\n",
    "# Run the job:\n",
    "# load_job.result()"
   ]
  },
  {
   "cell_type": "markdown",
   "id": "0e9adf20",
   "metadata": {},
   "source": [
    "**Get cohort patient table**"
   ]
  },
  {
   "cell_type": "code",
   "execution_count": 4,
   "id": "9c18bd68",
   "metadata": {},
   "outputs": [],
   "source": [
    "sql_query = f\"\"\" SELECT * FROM {es}.cohort_p1_text\"\"\"\n",
    "cohort = (client.query(sql_query)).to_dataframe()"
   ]
  },
  {
   "cell_type": "code",
   "execution_count": 5,
   "id": "65dcd7e8",
   "metadata": {},
   "outputs": [
    {
     "data": {
      "text/html": [
       "<div>\n",
       "<style scoped>\n",
       "    .dataframe tbody tr th:only-of-type {\n",
       "        vertical-align: middle;\n",
       "    }\n",
       "\n",
       "    .dataframe tbody tr th {\n",
       "        vertical-align: top;\n",
       "    }\n",
       "\n",
       "    .dataframe thead th {\n",
       "        text-align: right;\n",
       "    }\n",
       "</style>\n",
       "<table border=\"1\" class=\"dataframe\">\n",
       "  <thead>\n",
       "    <tr style=\"text-align: right;\">\n",
       "      <th></th>\n",
       "      <th>PAT_DEID</th>\n",
       "      <th>HOSP_ADMSN_TIME</th>\n",
       "      <th>CHE_TX_DATE</th>\n",
       "    </tr>\n",
       "  </thead>\n",
       "  <tbody>\n",
       "    <tr>\n",
       "      <th>0</th>\n",
       "      <td>1770802</td>\n",
       "      <td>2020-02-07 20:54:00</td>\n",
       "      <td>2020-01-16 00:00:00</td>\n",
       "    </tr>\n",
       "    <tr>\n",
       "      <th>1</th>\n",
       "      <td>3945576</td>\n",
       "      <td>2020-02-01 09:14:00</td>\n",
       "      <td>2020-01-24 00:00:00</td>\n",
       "    </tr>\n",
       "    <tr>\n",
       "      <th>2</th>\n",
       "      <td>1045640</td>\n",
       "      <td>2016-02-15 20:12:00</td>\n",
       "      <td>2016-02-08 00:00:00</td>\n",
       "    </tr>\n",
       "    <tr>\n",
       "      <th>3</th>\n",
       "      <td>1289918</td>\n",
       "      <td>2016-04-15 23:13:00</td>\n",
       "      <td>2016-03-16 00:00:00</td>\n",
       "    </tr>\n",
       "    <tr>\n",
       "      <th>4</th>\n",
       "      <td>2766580</td>\n",
       "      <td>2016-04-13 17:43:00</td>\n",
       "      <td>2016-03-24 00:00:00</td>\n",
       "    </tr>\n",
       "    <tr>\n",
       "      <th>...</th>\n",
       "      <td>...</td>\n",
       "      <td>...</td>\n",
       "      <td>...</td>\n",
       "    </tr>\n",
       "    <tr>\n",
       "      <th>1748</th>\n",
       "      <td>538184</td>\n",
       "      <td>2015-02-13 13:13:00</td>\n",
       "      <td>2015-01-16 08:59:00</td>\n",
       "    </tr>\n",
       "    <tr>\n",
       "      <th>1749</th>\n",
       "      <td>1253627</td>\n",
       "      <td>2019-03-14 16:38:00</td>\n",
       "      <td>2019-03-08 23:59:00</td>\n",
       "    </tr>\n",
       "    <tr>\n",
       "      <th>1750</th>\n",
       "      <td>3456627</td>\n",
       "      <td>2018-11-12 13:20:00</td>\n",
       "      <td>2018-10-17 09:59:00</td>\n",
       "    </tr>\n",
       "    <tr>\n",
       "      <th>1751</th>\n",
       "      <td>3316652</td>\n",
       "      <td>2014-06-06 19:31:00</td>\n",
       "      <td>2014-06-05 23:59:00</td>\n",
       "    </tr>\n",
       "    <tr>\n",
       "      <th>1752</th>\n",
       "      <td>2239905</td>\n",
       "      <td>2016-05-15 10:36:00</td>\n",
       "      <td>2016-05-06 23:59:00</td>\n",
       "    </tr>\n",
       "  </tbody>\n",
       "</table>\n",
       "<p>1753 rows × 3 columns</p>\n",
       "</div>"
      ],
      "text/plain": [
       "      PAT_DEID     HOSP_ADMSN_TIME         CHE_TX_DATE\n",
       "0      1770802 2020-02-07 20:54:00 2020-01-16 00:00:00\n",
       "1      3945576 2020-02-01 09:14:00 2020-01-24 00:00:00\n",
       "2      1045640 2016-02-15 20:12:00 2016-02-08 00:00:00\n",
       "3      1289918 2016-04-15 23:13:00 2016-03-16 00:00:00\n",
       "4      2766580 2016-04-13 17:43:00 2016-03-24 00:00:00\n",
       "...        ...                 ...                 ...\n",
       "1748    538184 2015-02-13 13:13:00 2015-01-16 08:59:00\n",
       "1749   1253627 2019-03-14 16:38:00 2019-03-08 23:59:00\n",
       "1750   3456627 2018-11-12 13:20:00 2018-10-17 09:59:00\n",
       "1751   3316652 2014-06-06 19:31:00 2014-06-05 23:59:00\n",
       "1752   2239905 2016-05-15 10:36:00 2016-05-06 23:59:00\n",
       "\n",
       "[1753 rows x 3 columns]"
      ]
     },
     "execution_count": 5,
     "metadata": {},
     "output_type": "execute_result"
    }
   ],
   "source": [
    "cohort"
   ]
  },
  {
   "cell_type": "markdown",
   "id": "cb9800bd",
   "metadata": {},
   "source": [
    "**Define new outcome tables**"
   ]
  },
  {
   "cell_type": "markdown",
   "id": "85efbb15",
   "metadata": {},
   "source": [
    "TODO: Built the relevant outcome table with only the selected patient after filtering"
   ]
  },
  {
   "cell_type": "markdown",
   "id": "a88fdd4a",
   "metadata": {},
   "source": [
    "### Build Patient Table "
   ]
  },
  {
   "cell_type": "code",
   "execution_count": 6,
   "id": "a8748d66",
   "metadata": {},
   "outputs": [],
   "source": [
    "# Load the note table \n",
    "#sql_query = f\"\"\" SELECT * FROM {es}.relevant_note_table\"\"\"\n",
    "sql_query = f\"\"\" SELECT * FROM {es}.note_by_type\"\"\"\n",
    "note_table  = (client.query(sql_query)).to_dataframe()"
   ]
  },
  {
   "cell_type": "code",
   "execution_count": 8,
   "id": "088c76d5",
   "metadata": {},
   "outputs": [
    {
     "data": {
      "text/plain": [
       "(5002, 6)"
      ]
     },
     "execution_count": 8,
     "metadata": {},
     "output_type": "execute_result"
    }
   ],
   "source": [
    "note_table.shape"
   ]
  },
  {
   "cell_type": "code",
   "execution_count": 34,
   "id": "def249da",
   "metadata": {},
   "outputs": [],
   "source": [
    "patient_table = cohort[\"PAT_DEID\"]"
   ]
  },
  {
   "cell_type": "markdown",
   "id": "171e4104",
   "metadata": {},
   "source": [
    "**Add note count per patient**"
   ]
  },
  {
   "cell_type": "code",
   "execution_count": 35,
   "id": "692a74d4",
   "metadata": {},
   "outputs": [],
   "source": [
    "# Create column with the number of notes per patient\n",
    "patient_table = pd.merge(patient_table, note_table.groupby([\"PAT_DEID\"], as_index=False)[\"PAT_DEID\"].value_counts(), how='left', on=\"PAT_DEID\")"
   ]
  },
  {
   "cell_type": "code",
   "execution_count": 36,
   "id": "970f92cf",
   "metadata": {},
   "outputs": [],
   "source": [
    "patient_table.rename(columns={\"count\": \"NOTE_COUNT\"}, inplace=True)"
   ]
  },
  {
   "cell_type": "markdown",
   "id": "f7d1a4d5",
   "metadata": {},
   "source": [
    "**Add average word count in the notes per patient**"
   ]
  },
  {
   "cell_type": "code",
   "execution_count": 37,
   "id": "24f8d15d",
   "metadata": {},
   "outputs": [],
   "source": [
    "# Create column with the average word count in the notes per patient: SUM(WORD_COUNT)/ NOTE_COUNT)\n",
    "patient_table = pd.merge(patient_table, note_table.groupby([\"PAT_DEID\"], as_index=False)[\"WORD_COUNT\"].sum(), how='left', on=\"PAT_DEID\")\n",
    "patient_table[\"AVG_WORD_COUNT_NOTE\"] = patient_table[\"WORD_COUNT\"] / patient_table[\"NOTE_COUNT\"] \n",
    "del patient_table[\"WORD_COUNT\"]"
   ]
  },
  {
   "cell_type": "code",
   "execution_count": 38,
   "id": "d2852346",
   "metadata": {},
   "outputs": [
    {
     "data": {
      "text/html": [
       "<div>\n",
       "<style scoped>\n",
       "    .dataframe tbody tr th:only-of-type {\n",
       "        vertical-align: middle;\n",
       "    }\n",
       "\n",
       "    .dataframe tbody tr th {\n",
       "        vertical-align: top;\n",
       "    }\n",
       "\n",
       "    .dataframe thead th {\n",
       "        text-align: right;\n",
       "    }\n",
       "</style>\n",
       "<table border=\"1\" class=\"dataframe\">\n",
       "  <thead>\n",
       "    <tr style=\"text-align: right;\">\n",
       "      <th></th>\n",
       "      <th>PAT_DEID</th>\n",
       "      <th>NOTE_COUNT</th>\n",
       "      <th>AVG_WORD_COUNT_NOTE</th>\n",
       "    </tr>\n",
       "  </thead>\n",
       "  <tbody>\n",
       "    <tr>\n",
       "      <th>0</th>\n",
       "      <td>1770802</td>\n",
       "      <td>2</td>\n",
       "      <td>2799.5</td>\n",
       "    </tr>\n",
       "    <tr>\n",
       "      <th>1</th>\n",
       "      <td>3945576</td>\n",
       "      <td>2</td>\n",
       "      <td>2795.0</td>\n",
       "    </tr>\n",
       "    <tr>\n",
       "      <th>2</th>\n",
       "      <td>1045640</td>\n",
       "      <td>2</td>\n",
       "      <td>2675.5</td>\n",
       "    </tr>\n",
       "    <tr>\n",
       "      <th>3</th>\n",
       "      <td>1289918</td>\n",
       "      <td>3</td>\n",
       "      <td>3020.333333</td>\n",
       "    </tr>\n",
       "    <tr>\n",
       "      <th>4</th>\n",
       "      <td>2766580</td>\n",
       "      <td>3</td>\n",
       "      <td>3338.666667</td>\n",
       "    </tr>\n",
       "    <tr>\n",
       "      <th>...</th>\n",
       "      <td>...</td>\n",
       "      <td>...</td>\n",
       "      <td>...</td>\n",
       "    </tr>\n",
       "    <tr>\n",
       "      <th>1748</th>\n",
       "      <td>538184</td>\n",
       "      <td>4</td>\n",
       "      <td>2845.25</td>\n",
       "    </tr>\n",
       "    <tr>\n",
       "      <th>1749</th>\n",
       "      <td>1253627</td>\n",
       "      <td>2</td>\n",
       "      <td>2308.5</td>\n",
       "    </tr>\n",
       "    <tr>\n",
       "      <th>1750</th>\n",
       "      <td>3456627</td>\n",
       "      <td>1</td>\n",
       "      <td>2014.0</td>\n",
       "    </tr>\n",
       "    <tr>\n",
       "      <th>1751</th>\n",
       "      <td>3316652</td>\n",
       "      <td>2</td>\n",
       "      <td>2890.5</td>\n",
       "    </tr>\n",
       "    <tr>\n",
       "      <th>1752</th>\n",
       "      <td>2239905</td>\n",
       "      <td>2</td>\n",
       "      <td>2589.0</td>\n",
       "    </tr>\n",
       "  </tbody>\n",
       "</table>\n",
       "<p>1753 rows × 3 columns</p>\n",
       "</div>"
      ],
      "text/plain": [
       "      PAT_DEID  NOTE_COUNT  AVG_WORD_COUNT_NOTE\n",
       "0      1770802           2               2799.5\n",
       "1      3945576           2               2795.0\n",
       "2      1045640           2               2675.5\n",
       "3      1289918           3          3020.333333\n",
       "4      2766580           3          3338.666667\n",
       "...        ...         ...                  ...\n",
       "1748    538184           4              2845.25\n",
       "1749   1253627           2               2308.5\n",
       "1750   3456627           1               2014.0\n",
       "1751   3316652           2               2890.5\n",
       "1752   2239905           2               2589.0\n",
       "\n",
       "[1753 rows x 3 columns]"
      ]
     },
     "execution_count": 38,
     "metadata": {},
     "output_type": "execute_result"
    }
   ],
   "source": [
    "patient_table"
   ]
  },
  {
   "cell_type": "markdown",
   "id": "6cae0725",
   "metadata": {},
   "source": [
    "**Add number of classes per patient**"
   ]
  },
  {
   "cell_type": "code",
   "execution_count": 39,
   "id": "7b258673",
   "metadata": {},
   "outputs": [],
   "source": [
    "# Load outcome_table_1 with a binary column for each class\n",
    "sql_query = f\"\"\" SELECT * FROM {es}.outcome_table_1\"\"\"\n",
    "outcome_table_1 = (client.query(sql_query)).to_dataframe()"
   ]
  },
  {
   "cell_type": "code",
   "execution_count": 40,
   "id": "1ef6bd86",
   "metadata": {},
   "outputs": [
    {
     "data": {
      "text/html": [
       "<div>\n",
       "<style scoped>\n",
       "    .dataframe tbody tr th:only-of-type {\n",
       "        vertical-align: middle;\n",
       "    }\n",
       "\n",
       "    .dataframe tbody tr th {\n",
       "        vertical-align: top;\n",
       "    }\n",
       "\n",
       "    .dataframe thead th {\n",
       "        text-align: right;\n",
       "    }\n",
       "</style>\n",
       "<table border=\"1\" class=\"dataframe\">\n",
       "  <thead>\n",
       "    <tr style=\"text-align: right;\">\n",
       "      <th></th>\n",
       "      <th>PAT_DEID</th>\n",
       "      <th>CLASS_1</th>\n",
       "      <th>CLASS_2</th>\n",
       "      <th>CLASS_3</th>\n",
       "      <th>CLASS_4</th>\n",
       "      <th>CLASSES</th>\n",
       "      <th>TOTAL</th>\n",
       "    </tr>\n",
       "  </thead>\n",
       "  <tbody>\n",
       "    <tr>\n",
       "      <th>0</th>\n",
       "      <td>10789</td>\n",
       "      <td>1.0</td>\n",
       "      <td>1.0</td>\n",
       "      <td>0.0</td>\n",
       "      <td>0.0</td>\n",
       "      <td>[class_1, class_2]</td>\n",
       "      <td>2.0</td>\n",
       "    </tr>\n",
       "    <tr>\n",
       "      <th>1</th>\n",
       "      <td>13408</td>\n",
       "      <td>1.0</td>\n",
       "      <td>1.0</td>\n",
       "      <td>0.0</td>\n",
       "      <td>0.0</td>\n",
       "      <td>[class_1, class_2]</td>\n",
       "      <td>2.0</td>\n",
       "    </tr>\n",
       "    <tr>\n",
       "      <th>2</th>\n",
       "      <td>93047</td>\n",
       "      <td>1.0</td>\n",
       "      <td>1.0</td>\n",
       "      <td>0.0</td>\n",
       "      <td>0.0</td>\n",
       "      <td>[class_1, class_2]</td>\n",
       "      <td>2.0</td>\n",
       "    </tr>\n",
       "    <tr>\n",
       "      <th>3</th>\n",
       "      <td>132939</td>\n",
       "      <td>1.0</td>\n",
       "      <td>1.0</td>\n",
       "      <td>0.0</td>\n",
       "      <td>0.0</td>\n",
       "      <td>[class_1, class_2]</td>\n",
       "      <td>2.0</td>\n",
       "    </tr>\n",
       "    <tr>\n",
       "      <th>4</th>\n",
       "      <td>135150</td>\n",
       "      <td>1.0</td>\n",
       "      <td>1.0</td>\n",
       "      <td>0.0</td>\n",
       "      <td>0.0</td>\n",
       "      <td>[class_1, class_2]</td>\n",
       "      <td>2.0</td>\n",
       "    </tr>\n",
       "    <tr>\n",
       "      <th>...</th>\n",
       "      <td>...</td>\n",
       "      <td>...</td>\n",
       "      <td>...</td>\n",
       "      <td>...</td>\n",
       "      <td>...</td>\n",
       "      <td>...</td>\n",
       "      <td>...</td>\n",
       "    </tr>\n",
       "    <tr>\n",
       "      <th>1748</th>\n",
       "      <td>4037090</td>\n",
       "      <td>0.0</td>\n",
       "      <td>0.0</td>\n",
       "      <td>0.0</td>\n",
       "      <td>1.0</td>\n",
       "      <td>[class_4]</td>\n",
       "      <td>1.0</td>\n",
       "    </tr>\n",
       "    <tr>\n",
       "      <th>1749</th>\n",
       "      <td>4037662</td>\n",
       "      <td>0.0</td>\n",
       "      <td>0.0</td>\n",
       "      <td>0.0</td>\n",
       "      <td>1.0</td>\n",
       "      <td>[class_4]</td>\n",
       "      <td>1.0</td>\n",
       "    </tr>\n",
       "    <tr>\n",
       "      <th>1750</th>\n",
       "      <td>4054999</td>\n",
       "      <td>0.0</td>\n",
       "      <td>0.0</td>\n",
       "      <td>0.0</td>\n",
       "      <td>1.0</td>\n",
       "      <td>[class_4]</td>\n",
       "      <td>1.0</td>\n",
       "    </tr>\n",
       "    <tr>\n",
       "      <th>1751</th>\n",
       "      <td>4092738</td>\n",
       "      <td>0.0</td>\n",
       "      <td>0.0</td>\n",
       "      <td>0.0</td>\n",
       "      <td>1.0</td>\n",
       "      <td>[class_4]</td>\n",
       "      <td>1.0</td>\n",
       "    </tr>\n",
       "    <tr>\n",
       "      <th>1752</th>\n",
       "      <td>4112475</td>\n",
       "      <td>0.0</td>\n",
       "      <td>0.0</td>\n",
       "      <td>0.0</td>\n",
       "      <td>1.0</td>\n",
       "      <td>[class_4]</td>\n",
       "      <td>1.0</td>\n",
       "    </tr>\n",
       "  </tbody>\n",
       "</table>\n",
       "<p>1753 rows × 7 columns</p>\n",
       "</div>"
      ],
      "text/plain": [
       "      PAT_DEID  CLASS_1  CLASS_2  CLASS_3  CLASS_4             CLASSES  TOTAL\n",
       "0        10789      1.0      1.0      0.0      0.0  [class_1, class_2]    2.0\n",
       "1        13408      1.0      1.0      0.0      0.0  [class_1, class_2]    2.0\n",
       "2        93047      1.0      1.0      0.0      0.0  [class_1, class_2]    2.0\n",
       "3       132939      1.0      1.0      0.0      0.0  [class_1, class_2]    2.0\n",
       "4       135150      1.0      1.0      0.0      0.0  [class_1, class_2]    2.0\n",
       "...        ...      ...      ...      ...      ...                 ...    ...\n",
       "1748   4037090      0.0      0.0      0.0      1.0           [class_4]    1.0\n",
       "1749   4037662      0.0      0.0      0.0      1.0           [class_4]    1.0\n",
       "1750   4054999      0.0      0.0      0.0      1.0           [class_4]    1.0\n",
       "1751   4092738      0.0      0.0      0.0      1.0           [class_4]    1.0\n",
       "1752   4112475      0.0      0.0      0.0      1.0           [class_4]    1.0\n",
       "\n",
       "[1753 rows x 7 columns]"
      ]
     },
     "execution_count": 40,
     "metadata": {},
     "output_type": "execute_result"
    }
   ],
   "source": [
    "outcome_table_1"
   ]
  },
  {
   "cell_type": "code",
   "execution_count": 41,
   "id": "d8ef2b59",
   "metadata": {},
   "outputs": [],
   "source": [
    "# Create column with the number of classes associated with each patient \n",
    "patient_table = pd.merge(patient_table, outcome_table_1[[\"PAT_DEID\", \"TOTAL\"]], how='inner', on=\"PAT_DEID\")\n",
    "patient_table.rename(columns={\"TOTAL\": \"CLASS_COUNT\"}, inplace=True)"
   ]
  },
  {
   "cell_type": "markdown",
   "id": "43c14e8d",
   "metadata": {},
   "source": [
    "**Add number of distinct symtpom in each class per patient**"
   ]
  },
  {
   "cell_type": "code",
   "execution_count": 42,
   "id": "aae24140",
   "metadata": {},
   "outputs": [],
   "source": [
    "# Load outcome_table_2 with the number of distinct symtpom in each class\n",
    "sql_query = f\"\"\" SELECT * FROM {es}.outcome_table_2\"\"\"\n",
    "outcome_table_2 = (client.query(sql_query)).to_dataframe()"
   ]
  },
  {
   "cell_type": "code",
   "execution_count": 43,
   "id": "136cb786",
   "metadata": {},
   "outputs": [],
   "source": [
    "# Create column the number of distinct symptoms associated with each patient \n",
    "patient_table = pd.merge(patient_table, outcome_table_2[[\"PAT_DEID\", \"TOTAL\"]], how='inner', on=\"PAT_DEID\")\n",
    "patient_table.rename(columns={\"TOTAL\": \"DISTINCT_SYMPTOM_COUNT\"}, inplace=True)"
   ]
  },
  {
   "cell_type": "markdown",
   "id": "26fd4ca7",
   "metadata": {},
   "source": [
    "**Add number of AE occurence per patient**"
   ]
  },
  {
   "cell_type": "code",
   "execution_count": 44,
   "id": "dbe94aef",
   "metadata": {},
   "outputs": [],
   "source": [
    "# Load outcome_table_3 with a frequency column (# of AE occurence) column for each class\n",
    "sql_query = f\"\"\" SELECT * FROM {es}.outcome_table_3\"\"\"\n",
    "outcome_table_3 = (client.query(sql_query)).to_dataframe()"
   ]
  },
  {
   "cell_type": "code",
   "execution_count": 45,
   "id": "d4bd8ec9",
   "metadata": {},
   "outputs": [],
   "source": [
    "# Create column the number of symptoms associated with each patient \n",
    "patient_table = pd.merge(patient_table, outcome_table_3[[\"PAT_DEID\", \"TOTAL\"]], how='inner', on=\"PAT_DEID\")\n",
    "patient_table.rename(columns={\"TOTAL\": \"SYMPTOM_COUNT\"}, inplace=True)"
   ]
  },
  {
   "cell_type": "code",
   "execution_count": 46,
   "id": "e273b980",
   "metadata": {},
   "outputs": [
    {
     "data": {
      "text/html": [
       "<div>\n",
       "<style scoped>\n",
       "    .dataframe tbody tr th:only-of-type {\n",
       "        vertical-align: middle;\n",
       "    }\n",
       "\n",
       "    .dataframe tbody tr th {\n",
       "        vertical-align: top;\n",
       "    }\n",
       "\n",
       "    .dataframe thead th {\n",
       "        text-align: right;\n",
       "    }\n",
       "</style>\n",
       "<table border=\"1\" class=\"dataframe\">\n",
       "  <thead>\n",
       "    <tr style=\"text-align: right;\">\n",
       "      <th></th>\n",
       "      <th>PAT_DEID</th>\n",
       "      <th>NOTE_COUNT</th>\n",
       "      <th>AVG_WORD_COUNT_NOTE</th>\n",
       "      <th>CLASS_COUNT</th>\n",
       "      <th>DISTINCT_SYMPTOM_COUNT</th>\n",
       "      <th>SYMPTOM_COUNT</th>\n",
       "    </tr>\n",
       "  </thead>\n",
       "  <tbody>\n",
       "    <tr>\n",
       "      <th>0</th>\n",
       "      <td>1770802</td>\n",
       "      <td>2</td>\n",
       "      <td>2799.5</td>\n",
       "      <td>2.0</td>\n",
       "      <td>2.0</td>\n",
       "      <td>3.0</td>\n",
       "    </tr>\n",
       "    <tr>\n",
       "      <th>1</th>\n",
       "      <td>3945576</td>\n",
       "      <td>2</td>\n",
       "      <td>2795.0</td>\n",
       "      <td>2.0</td>\n",
       "      <td>2.0</td>\n",
       "      <td>3.0</td>\n",
       "    </tr>\n",
       "    <tr>\n",
       "      <th>2</th>\n",
       "      <td>1045640</td>\n",
       "      <td>2</td>\n",
       "      <td>2675.5</td>\n",
       "      <td>2.0</td>\n",
       "      <td>2.0</td>\n",
       "      <td>8.0</td>\n",
       "    </tr>\n",
       "    <tr>\n",
       "      <th>3</th>\n",
       "      <td>1289918</td>\n",
       "      <td>3</td>\n",
       "      <td>3020.333333</td>\n",
       "      <td>2.0</td>\n",
       "      <td>2.0</td>\n",
       "      <td>7.0</td>\n",
       "    </tr>\n",
       "    <tr>\n",
       "      <th>4</th>\n",
       "      <td>2766580</td>\n",
       "      <td>3</td>\n",
       "      <td>3338.666667</td>\n",
       "      <td>3.0</td>\n",
       "      <td>4.0</td>\n",
       "      <td>6.0</td>\n",
       "    </tr>\n",
       "    <tr>\n",
       "      <th>...</th>\n",
       "      <td>...</td>\n",
       "      <td>...</td>\n",
       "      <td>...</td>\n",
       "      <td>...</td>\n",
       "      <td>...</td>\n",
       "      <td>...</td>\n",
       "    </tr>\n",
       "    <tr>\n",
       "      <th>1748</th>\n",
       "      <td>538184</td>\n",
       "      <td>4</td>\n",
       "      <td>2845.25</td>\n",
       "      <td>2.0</td>\n",
       "      <td>2.0</td>\n",
       "      <td>4.0</td>\n",
       "    </tr>\n",
       "    <tr>\n",
       "      <th>1749</th>\n",
       "      <td>1253627</td>\n",
       "      <td>2</td>\n",
       "      <td>2308.5</td>\n",
       "      <td>3.0</td>\n",
       "      <td>4.0</td>\n",
       "      <td>8.0</td>\n",
       "    </tr>\n",
       "    <tr>\n",
       "      <th>1750</th>\n",
       "      <td>3456627</td>\n",
       "      <td>1</td>\n",
       "      <td>2014.0</td>\n",
       "      <td>1.0</td>\n",
       "      <td>1.0</td>\n",
       "      <td>2.0</td>\n",
       "    </tr>\n",
       "    <tr>\n",
       "      <th>1751</th>\n",
       "      <td>3316652</td>\n",
       "      <td>2</td>\n",
       "      <td>2890.5</td>\n",
       "      <td>2.0</td>\n",
       "      <td>3.0</td>\n",
       "      <td>9.0</td>\n",
       "    </tr>\n",
       "    <tr>\n",
       "      <th>1752</th>\n",
       "      <td>2239905</td>\n",
       "      <td>2</td>\n",
       "      <td>2589.0</td>\n",
       "      <td>1.0</td>\n",
       "      <td>1.0</td>\n",
       "      <td>1.0</td>\n",
       "    </tr>\n",
       "  </tbody>\n",
       "</table>\n",
       "<p>1753 rows × 6 columns</p>\n",
       "</div>"
      ],
      "text/plain": [
       "      PAT_DEID  NOTE_COUNT  AVG_WORD_COUNT_NOTE  CLASS_COUNT  \\\n",
       "0      1770802           2               2799.5          2.0   \n",
       "1      3945576           2               2795.0          2.0   \n",
       "2      1045640           2               2675.5          2.0   \n",
       "3      1289918           3          3020.333333          2.0   \n",
       "4      2766580           3          3338.666667          3.0   \n",
       "...        ...         ...                  ...          ...   \n",
       "1748    538184           4              2845.25          2.0   \n",
       "1749   1253627           2               2308.5          3.0   \n",
       "1750   3456627           1               2014.0          1.0   \n",
       "1751   3316652           2               2890.5          2.0   \n",
       "1752   2239905           2               2589.0          1.0   \n",
       "\n",
       "      DISTINCT_SYMPTOM_COUNT  SYMPTOM_COUNT  \n",
       "0                        2.0            3.0  \n",
       "1                        2.0            3.0  \n",
       "2                        2.0            8.0  \n",
       "3                        2.0            7.0  \n",
       "4                        4.0            6.0  \n",
       "...                      ...            ...  \n",
       "1748                     2.0            4.0  \n",
       "1749                     4.0            8.0  \n",
       "1750                     1.0            2.0  \n",
       "1751                     3.0            9.0  \n",
       "1752                     1.0            1.0  \n",
       "\n",
       "[1753 rows x 6 columns]"
      ]
     },
     "execution_count": 46,
     "metadata": {},
     "output_type": "execute_result"
    }
   ],
   "source": [
    "patient_table"
   ]
  },
  {
   "cell_type": "code",
   "execution_count": 47,
   "id": "03530513",
   "metadata": {},
   "outputs": [
    {
     "data": {
      "text/plain": [
       "LoadJob<project=som-nero-phi-boussard, location=US, id=f0953493-ea9b-4f7b-beb3-392b022c6997>"
      ]
     },
     "execution_count": 47,
     "metadata": {},
     "output_type": "execute_result"
    }
   ],
   "source": [
    "# Save patient table with information on the patients \n",
    "# Specify destination for storing dataframe\n",
    "destination = f\"som-nero-phi-boussard.ES_ACU_Oncology.patient_table\"\n",
    "\n",
    "# Save file to Big Query\n",
    "load_job = client.load_table_from_dataframe(dataframe = patient_table,                                  \n",
    "                                                   destination = destination,\n",
    "                                                   job_config = job_config)\n",
    "\n",
    "# Run the job:\n",
    "load_job.result()"
   ]
  },
  {
   "cell_type": "code",
   "execution_count": 48,
   "id": "800fade7",
   "metadata": {},
   "outputs": [],
   "source": [
    "# Get the id of the patients that have more than or equal to 200 notes \n",
    "# patient_table[patient_table[\"NOTE_COUNT\"] >= 200].PAT_DEID"
   ]
  },
  {
   "cell_type": "markdown",
   "id": "e6ab25e4",
   "metadata": {},
   "source": [
    "### Build statistic table"
   ]
  },
  {
   "cell_type": "code",
   "execution_count": 49,
   "id": "80d77e3e",
   "metadata": {},
   "outputs": [],
   "source": [
    "stats_table = pd.DataFrame()"
   ]
  },
  {
   "cell_type": "code",
   "execution_count": 50,
   "id": "86b7b803",
   "metadata": {},
   "outputs": [],
   "source": [
    "# Total number of patients\n",
    "stats_table[\"PATIENT_COUNT\"] = pd.Series(patient_table.shape[0])"
   ]
  },
  {
   "cell_type": "code",
   "execution_count": 51,
   "id": "b4e53af8",
   "metadata": {},
   "outputs": [],
   "source": [
    "# Total number of notes\n",
    "stats_table[\"NOTE_COUNT\"] = pd.Series(note_table.shape[0])"
   ]
  },
  {
   "cell_type": "code",
   "execution_count": 52,
   "id": "64d514c4",
   "metadata": {},
   "outputs": [],
   "source": [
    "# Average number of note per patient AVG(NOTE_COUNT) calculated with the mean (sensitive to outliers)\n",
    "stats_table[\"AVG_MEAN_NOTE_COUNT\"] = patient_table[\"NOTE_COUNT\"].mean()\n",
    "# Average number of note per patient AVG(NOTE_COUNT) calculated with the median (not sensitive to outliers)\n",
    "stats_table[\"AVG_MEDIAN_NOTE_COUNT\"] = patient_table[\"NOTE_COUNT\"].median()\n",
    "# Minimum number of notes\n",
    "stats_table[\"MIN_NOTE_COUNT\"] = patient_table[\"NOTE_COUNT\"].min()\n",
    "# Max number of notes \n",
    "stats_table[\"MAX_NOTE_COUNT\"] = patient_table[\"NOTE_COUNT\"].max()"
   ]
  },
  {
   "cell_type": "code",
   "execution_count": 53,
   "id": "d35bf69c",
   "metadata": {},
   "outputs": [],
   "source": [
    "# Create column with the average of average word count in the notes per patient calculated with the mean\n",
    "stats_table[\"AVG_MEAN_AVG_WORD_COUNT_NOTE\"] = patient_table[\"AVG_WORD_COUNT_NOTE\"].mean()\n",
    "# Create column with the average of average word count in the messages per patient calculated with the median\n",
    "stats_table[\"AVG_MEDIAN_AVG_WORD_COUNT_NOTE\"] = patient_table[\"AVG_WORD_COUNT_NOTE\"].median()\n",
    "# Minimum avg word count in the messages\n",
    "stats_table[\"MIN_AVG_WORD_COUNT_NOTE\"] = patient_table[\"AVG_WORD_COUNT_NOTE\"].min()\n",
    "# Maximum avg word count in the messages\n",
    "stats_table[\"MAX_AVG_WORD_COUNT_NOTE\"] = patient_table[\"AVG_WORD_COUNT_NOTE\"].max()"
   ]
  },
  {
   "cell_type": "code",
   "execution_count": 54,
   "id": "0cf066a3",
   "metadata": {},
   "outputs": [],
   "source": [
    "# Create column with the average number of classes per patient: MEAN(CLASS_COUNT) \n",
    "stats_table[\"AVG_MEAN_CLASS_COUNT\"] = patient_table[\"CLASS_COUNT\"].mean()\n",
    "# Create column with the average number of classes per patient: MEDIAN(CLASS_COUNT)\n",
    "stats_table[\"AVG_MEDIAN_CLASS_COUNT\"] = patient_table[\"CLASS_COUNT\"].median()\n",
    "# Create column with the min number of classes per patient\n",
    "stats_table[\"MIN_CLASS_COUNT\"] = patient_table[\"CLASS_COUNT\"].min()\n",
    "# Create column with the max number of classes per patient\n",
    "stats_table[\"MAX_CLASS_COUNT\"] = patient_table[\"CLASS_COUNT\"].max()"
   ]
  },
  {
   "cell_type": "code",
   "execution_count": 55,
   "id": "b43fc80d",
   "metadata": {},
   "outputs": [],
   "source": [
    "# Create column with the average number of AE per patient: MEAN(DISTINCT_SYMPTOM_COUNT)\n",
    "stats_table[\"AVG_MEAN_DISTINCT_SYMPTOM_COUNT\"] = patient_table[\"DISTINCT_SYMPTOM_COUNT\"].mean()\n",
    "# Create column with the average number of AE per patient: MEDIAN(DISTINCT_SYMPTOM_COUNT)\n",
    "stats_table[\"AVG_MEDIAN_DISTINCT_SYMPTOM_COUNT\"] = patient_table[\"DISTINCT_SYMPTOM_COUNT\"].median()\n",
    "# Create column with the min number of AE per patient\n",
    "stats_table[\"MIN_DISTINCT_SYMPTOM_COUNT\"] = patient_table[\"DISTINCT_SYMPTOM_COUNT\"].min()\n",
    "# Create column with the max number of AE per patient\n",
    "stats_table[\"MAX_DISTINCT_SYMPTOM_COUNT\"] = patient_table[\"DISTINCT_SYMPTOM_COUNT\"].max()"
   ]
  },
  {
   "cell_type": "code",
   "execution_count": 56,
   "id": "68d27ce9",
   "metadata": {},
   "outputs": [],
   "source": [
    "# Create column with the average number of AE per patient: MEAN(SYMPTOM_COUNT)\n",
    "stats_table[\"AVG_MEAN_SYMPTOM_COUNT\"] = patient_table[\"SYMPTOM_COUNT\"].mean()\n",
    "# Create column with the average number of AE per patient: MEDIAN(SYMPTOM_COUNT)\n",
    "stats_table[\"AVG_MEDIAN_SYMPTOM_COUNT\"] = patient_table[\"SYMPTOM_COUNT\"].median()\n",
    "# Create column with the average number of AE per patient: MEDIAN(SYMPTOM_COUNT)\n",
    "stats_table[\"MIN_SYMPTOM_COUNT\"] = patient_table[\"SYMPTOM_COUNT\"].min()\n",
    "# Create column with the average number of AE per patient: MEDIAN(SYMPTOM_COUNT)\n",
    "stats_table[\"MAX_SYMPTOM_COUNT\"] = patient_table[\"SYMPTOM_COUNT\"].max()"
   ]
  },
  {
   "cell_type": "code",
   "execution_count": 57,
   "id": "e59f9eea",
   "metadata": {},
   "outputs": [
    {
     "data": {
      "text/plain": [
       "0    7903.0\n",
       "Name: MAX_AVG_WORD_COUNT_NOTE, dtype: float64"
      ]
     },
     "execution_count": 57,
     "metadata": {},
     "output_type": "execute_result"
    }
   ],
   "source": [
    "stats_table.MAX_AVG_WORD_COUNT_NOTE"
   ]
  },
  {
   "cell_type": "code",
   "execution_count": 58,
   "id": "9f4052ee",
   "metadata": {},
   "outputs": [
    {
     "data": {
      "text/plain": [
       "LoadJob<project=som-nero-phi-boussard, location=US, id=170e5857-6455-45d5-a51d-72b8996d153a>"
      ]
     },
     "execution_count": 58,
     "metadata": {},
     "output_type": "execute_result"
    }
   ],
   "source": [
    "# Save patient table with information on the patients \n",
    "# Specify destination for storing dataframe\n",
    "destination = f\"som-nero-phi-boussard.ES_ACU_Oncology.stats_table\"\n",
    "\n",
    "# Save file to Big Query\n",
    "load_job = client.load_table_from_dataframe(dataframe = stats_table,                                  \n",
    "                                                   destination = destination,\n",
    "                                                   job_config = job_config)\n",
    "\n",
    "# Run the job:\n",
    "load_job.result()"
   ]
  },
  {
   "cell_type": "code",
   "execution_count": 59,
   "id": "53d48674",
   "metadata": {},
   "outputs": [
    {
     "data": {
      "text/plain": [
       "0    2.0\n",
       "Name: AVG_MEDIAN_CLASS_COUNT, dtype: float64"
      ]
     },
     "execution_count": 59,
     "metadata": {},
     "output_type": "execute_result"
    }
   ],
   "source": [
    "stats_table.AVG_MEDIAN_CLASS_COUNT"
   ]
  },
  {
   "cell_type": "code",
   "execution_count": 60,
   "id": "f4aea827",
   "metadata": {},
   "outputs": [
    {
     "data": {
      "text/html": [
       "<div>\n",
       "<style scoped>\n",
       "    .dataframe tbody tr th:only-of-type {\n",
       "        vertical-align: middle;\n",
       "    }\n",
       "\n",
       "    .dataframe tbody tr th {\n",
       "        vertical-align: top;\n",
       "    }\n",
       "\n",
       "    .dataframe thead th {\n",
       "        text-align: right;\n",
       "    }\n",
       "</style>\n",
       "<table border=\"1\" class=\"dataframe\">\n",
       "  <thead>\n",
       "    <tr style=\"text-align: right;\">\n",
       "      <th></th>\n",
       "      <th>PATIENT_COUNT</th>\n",
       "      <th>NOTE_COUNT</th>\n",
       "      <th>AVG_MEAN_NOTE_COUNT</th>\n",
       "      <th>AVG_MEDIAN_NOTE_COUNT</th>\n",
       "      <th>MIN_NOTE_COUNT</th>\n",
       "      <th>MAX_NOTE_COUNT</th>\n",
       "      <th>AVG_MEAN_AVG_WORD_COUNT_NOTE</th>\n",
       "      <th>AVG_MEDIAN_AVG_WORD_COUNT_NOTE</th>\n",
       "      <th>MIN_AVG_WORD_COUNT_NOTE</th>\n",
       "      <th>MAX_AVG_WORD_COUNT_NOTE</th>\n",
       "      <th>...</th>\n",
       "      <th>MIN_CLASS_COUNT</th>\n",
       "      <th>MAX_CLASS_COUNT</th>\n",
       "      <th>AVG_MEAN_DISTINCT_SYMPTOM_COUNT</th>\n",
       "      <th>AVG_MEDIAN_DISTINCT_SYMPTOM_COUNT</th>\n",
       "      <th>MIN_DISTINCT_SYMPTOM_COUNT</th>\n",
       "      <th>MAX_DISTINCT_SYMPTOM_COUNT</th>\n",
       "      <th>AVG_MEAN_SYMPTOM_COUNT</th>\n",
       "      <th>AVG_MEDIAN_SYMPTOM_COUNT</th>\n",
       "      <th>MIN_SYMPTOM_COUNT</th>\n",
       "      <th>MAX_SYMPTOM_COUNT</th>\n",
       "    </tr>\n",
       "  </thead>\n",
       "  <tbody>\n",
       "    <tr>\n",
       "      <th>0</th>\n",
       "      <td>1753</td>\n",
       "      <td>5002</td>\n",
       "      <td>2.853394</td>\n",
       "      <td>2.0</td>\n",
       "      <td>1</td>\n",
       "      <td>15</td>\n",
       "      <td>2297.050998</td>\n",
       "      <td>2256.0</td>\n",
       "      <td>304.0</td>\n",
       "      <td>7903.0</td>\n",
       "      <td>...</td>\n",
       "      <td>1.0</td>\n",
       "      <td>4.0</td>\n",
       "      <td>2.480319</td>\n",
       "      <td>2.0</td>\n",
       "      <td>1.0</td>\n",
       "      <td>8.0</td>\n",
       "      <td>6.219624</td>\n",
       "      <td>5.0</td>\n",
       "      <td>1.0</td>\n",
       "      <td>43.0</td>\n",
       "    </tr>\n",
       "  </tbody>\n",
       "</table>\n",
       "<p>1 rows × 22 columns</p>\n",
       "</div>"
      ],
      "text/plain": [
       "   PATIENT_COUNT  NOTE_COUNT  AVG_MEAN_NOTE_COUNT  AVG_MEDIAN_NOTE_COUNT  \\\n",
       "0           1753        5002             2.853394                    2.0   \n",
       "\n",
       "   MIN_NOTE_COUNT  MAX_NOTE_COUNT  AVG_MEAN_AVG_WORD_COUNT_NOTE  \\\n",
       "0               1              15                   2297.050998   \n",
       "\n",
       "   AVG_MEDIAN_AVG_WORD_COUNT_NOTE  MIN_AVG_WORD_COUNT_NOTE  \\\n",
       "0                          2256.0                    304.0   \n",
       "\n",
       "   MAX_AVG_WORD_COUNT_NOTE  ...  MIN_CLASS_COUNT  MAX_CLASS_COUNT  \\\n",
       "0                   7903.0  ...              1.0              4.0   \n",
       "\n",
       "   AVG_MEAN_DISTINCT_SYMPTOM_COUNT  AVG_MEDIAN_DISTINCT_SYMPTOM_COUNT  \\\n",
       "0                         2.480319                                2.0   \n",
       "\n",
       "   MIN_DISTINCT_SYMPTOM_COUNT  MAX_DISTINCT_SYMPTOM_COUNT  \\\n",
       "0                         1.0                         8.0   \n",
       "\n",
       "   AVG_MEAN_SYMPTOM_COUNT  AVG_MEDIAN_SYMPTOM_COUNT  MIN_SYMPTOM_COUNT  \\\n",
       "0                6.219624                       5.0                1.0   \n",
       "\n",
       "   MAX_SYMPTOM_COUNT  \n",
       "0               43.0  \n",
       "\n",
       "[1 rows x 22 columns]"
      ]
     },
     "execution_count": 60,
     "metadata": {},
     "output_type": "execute_result"
    }
   ],
   "source": [
    "stats_table"
   ]
  },
  {
   "cell_type": "markdown",
   "id": "88aca0a6",
   "metadata": {},
   "source": [
    "**Build histograms**"
   ]
  },
  {
   "cell_type": "code",
   "execution_count": 61,
   "id": "b215f941",
   "metadata": {},
   "outputs": [
    {
     "data": {
      "text/html": [
       "<div>\n",
       "<style scoped>\n",
       "    .dataframe tbody tr th:only-of-type {\n",
       "        vertical-align: middle;\n",
       "    }\n",
       "\n",
       "    .dataframe tbody tr th {\n",
       "        vertical-align: top;\n",
       "    }\n",
       "\n",
       "    .dataframe thead th {\n",
       "        text-align: right;\n",
       "    }\n",
       "</style>\n",
       "<table border=\"1\" class=\"dataframe\">\n",
       "  <thead>\n",
       "    <tr style=\"text-align: right;\">\n",
       "      <th></th>\n",
       "      <th>PAT_DEID</th>\n",
       "      <th>NOTE_COUNT</th>\n",
       "      <th>AVG_WORD_COUNT_NOTE</th>\n",
       "      <th>CLASS_COUNT</th>\n",
       "      <th>DISTINCT_SYMPTOM_COUNT</th>\n",
       "      <th>SYMPTOM_COUNT</th>\n",
       "    </tr>\n",
       "  </thead>\n",
       "  <tbody>\n",
       "    <tr>\n",
       "      <th>0</th>\n",
       "      <td>1770802</td>\n",
       "      <td>2</td>\n",
       "      <td>2799.5</td>\n",
       "      <td>2.0</td>\n",
       "      <td>2.0</td>\n",
       "      <td>3.0</td>\n",
       "    </tr>\n",
       "    <tr>\n",
       "      <th>1</th>\n",
       "      <td>3945576</td>\n",
       "      <td>2</td>\n",
       "      <td>2795.0</td>\n",
       "      <td>2.0</td>\n",
       "      <td>2.0</td>\n",
       "      <td>3.0</td>\n",
       "    </tr>\n",
       "    <tr>\n",
       "      <th>2</th>\n",
       "      <td>1045640</td>\n",
       "      <td>2</td>\n",
       "      <td>2675.5</td>\n",
       "      <td>2.0</td>\n",
       "      <td>2.0</td>\n",
       "      <td>8.0</td>\n",
       "    </tr>\n",
       "    <tr>\n",
       "      <th>3</th>\n",
       "      <td>1289918</td>\n",
       "      <td>3</td>\n",
       "      <td>3020.333333</td>\n",
       "      <td>2.0</td>\n",
       "      <td>2.0</td>\n",
       "      <td>7.0</td>\n",
       "    </tr>\n",
       "    <tr>\n",
       "      <th>4</th>\n",
       "      <td>2766580</td>\n",
       "      <td>3</td>\n",
       "      <td>3338.666667</td>\n",
       "      <td>3.0</td>\n",
       "      <td>4.0</td>\n",
       "      <td>6.0</td>\n",
       "    </tr>\n",
       "    <tr>\n",
       "      <th>...</th>\n",
       "      <td>...</td>\n",
       "      <td>...</td>\n",
       "      <td>...</td>\n",
       "      <td>...</td>\n",
       "      <td>...</td>\n",
       "      <td>...</td>\n",
       "    </tr>\n",
       "    <tr>\n",
       "      <th>1748</th>\n",
       "      <td>538184</td>\n",
       "      <td>4</td>\n",
       "      <td>2845.25</td>\n",
       "      <td>2.0</td>\n",
       "      <td>2.0</td>\n",
       "      <td>4.0</td>\n",
       "    </tr>\n",
       "    <tr>\n",
       "      <th>1749</th>\n",
       "      <td>1253627</td>\n",
       "      <td>2</td>\n",
       "      <td>2308.5</td>\n",
       "      <td>3.0</td>\n",
       "      <td>4.0</td>\n",
       "      <td>8.0</td>\n",
       "    </tr>\n",
       "    <tr>\n",
       "      <th>1750</th>\n",
       "      <td>3456627</td>\n",
       "      <td>1</td>\n",
       "      <td>2014.0</td>\n",
       "      <td>1.0</td>\n",
       "      <td>1.0</td>\n",
       "      <td>2.0</td>\n",
       "    </tr>\n",
       "    <tr>\n",
       "      <th>1751</th>\n",
       "      <td>3316652</td>\n",
       "      <td>2</td>\n",
       "      <td>2890.5</td>\n",
       "      <td>2.0</td>\n",
       "      <td>3.0</td>\n",
       "      <td>9.0</td>\n",
       "    </tr>\n",
       "    <tr>\n",
       "      <th>1752</th>\n",
       "      <td>2239905</td>\n",
       "      <td>2</td>\n",
       "      <td>2589.0</td>\n",
       "      <td>1.0</td>\n",
       "      <td>1.0</td>\n",
       "      <td>1.0</td>\n",
       "    </tr>\n",
       "  </tbody>\n",
       "</table>\n",
       "<p>1753 rows × 6 columns</p>\n",
       "</div>"
      ],
      "text/plain": [
       "      PAT_DEID  NOTE_COUNT  AVG_WORD_COUNT_NOTE  CLASS_COUNT  \\\n",
       "0      1770802           2               2799.5          2.0   \n",
       "1      3945576           2               2795.0          2.0   \n",
       "2      1045640           2               2675.5          2.0   \n",
       "3      1289918           3          3020.333333          2.0   \n",
       "4      2766580           3          3338.666667          3.0   \n",
       "...        ...         ...                  ...          ...   \n",
       "1748    538184           4              2845.25          2.0   \n",
       "1749   1253627           2               2308.5          3.0   \n",
       "1750   3456627           1               2014.0          1.0   \n",
       "1751   3316652           2               2890.5          2.0   \n",
       "1752   2239905           2               2589.0          1.0   \n",
       "\n",
       "      DISTINCT_SYMPTOM_COUNT  SYMPTOM_COUNT  \n",
       "0                        2.0            3.0  \n",
       "1                        2.0            3.0  \n",
       "2                        2.0            8.0  \n",
       "3                        2.0            7.0  \n",
       "4                        4.0            6.0  \n",
       "...                      ...            ...  \n",
       "1748                     2.0            4.0  \n",
       "1749                     4.0            8.0  \n",
       "1750                     1.0            2.0  \n",
       "1751                     3.0            9.0  \n",
       "1752                     1.0            1.0  \n",
       "\n",
       "[1753 rows x 6 columns]"
      ]
     },
     "execution_count": 61,
     "metadata": {},
     "output_type": "execute_result"
    }
   ],
   "source": [
    "# Load patient table\n",
    "#sql_query = f\"\"\" SELECT * FROM {es}.patient_table\"\"\"\n",
    "#patient_table = (client.query(sql_query)).to_dataframe()\n",
    "patient_table"
   ]
  },
  {
   "cell_type": "code",
   "execution_count": 62,
   "id": "459e8a65",
   "metadata": {},
   "outputs": [
    {
     "data": {
      "text/plain": [
       "2     595\n",
       "1     376\n",
       "4     306\n",
       "3     212\n",
       "5     129\n",
       "6      76\n",
       "7      29\n",
       "8      15\n",
       "10      6\n",
       "9       6\n",
       "15      1\n",
       "11      1\n",
       "12      1\n",
       "Name: NOTE_COUNT, dtype: int64"
      ]
     },
     "execution_count": 62,
     "metadata": {},
     "output_type": "execute_result"
    }
   ],
   "source": [
    "patient_table['NOTE_COUNT'].value_counts()"
   ]
  },
  {
   "cell_type": "code",
   "execution_count": 66,
   "id": "fbbcdf31",
   "metadata": {},
   "outputs": [
    {
     "data": {
      "image/png": "[encoded data removed]",
      "text/plain": [
       "<Figure size 432x288 with 1 Axes>"
      ]
     },
     "metadata": {
      "needs_background": "light"
     },
     "output_type": "display_data"
    }
   ],
   "source": [
    "# Create histogram of the number of notes per patient \n",
    "patient_table['NOTE_COUNT'].hist(bins=15, grid=False, color = \"purple\",)\n",
    "plt.title('Number of notes per patient')\n",
    "plt.savefig(\"notes_per_patient.png\")"
   ]
  },
  {
   "cell_type": "code",
   "execution_count": 67,
   "id": "75af30bf",
   "metadata": {},
   "outputs": [
    {
     "data": {
      "text/plain": [
       "1.0    533\n",
       "2.0    524\n",
       "3.0    303\n",
       "4.0    204\n",
       "5.0    111\n",
       "6.0     61\n",
       "7.0     15\n",
       "8.0      2\n",
       "Name: DISTINCT_SYMPTOM_COUNT, dtype: int64"
      ]
     },
     "execution_count": 67,
     "metadata": {},
     "output_type": "execute_result"
    }
   ],
   "source": [
    "patient_table.DISTINCT_SYMPTOM_COUNT.value_counts()"
   ]
  },
  {
   "cell_type": "code",
   "execution_count": 69,
   "id": "a114369f",
   "metadata": {},
   "outputs": [
    {
     "data": {
      "text/plain": [
       "2.0    673\n",
       "1.0    659\n",
       "3.0    318\n",
       "4.0    103\n",
       "Name: CLASS_COUNT, dtype: int64"
      ]
     },
     "execution_count": 69,
     "metadata": {},
     "output_type": "execute_result"
    }
   ],
   "source": [
    "patient_table.CLASS_COUNT.value_counts()"
   ]
  },
  {
   "cell_type": "code",
   "execution_count": 68,
   "id": "eb8ca6f2",
   "metadata": {},
   "outputs": [
    {
     "data": {
      "text/html": [
       "<div>\n",
       "<style scoped>\n",
       "    .dataframe tbody tr th:only-of-type {\n",
       "        vertical-align: middle;\n",
       "    }\n",
       "\n",
       "    .dataframe tbody tr th {\n",
       "        vertical-align: top;\n",
       "    }\n",
       "\n",
       "    .dataframe thead th {\n",
       "        text-align: right;\n",
       "    }\n",
       "</style>\n",
       "<table border=\"1\" class=\"dataframe\">\n",
       "  <thead>\n",
       "    <tr style=\"text-align: right;\">\n",
       "      <th></th>\n",
       "      <th>PAT_DEID</th>\n",
       "      <th>NOTE_COUNT</th>\n",
       "      <th>AVG_WORD_COUNT_NOTE</th>\n",
       "      <th>CLASS_COUNT</th>\n",
       "      <th>DISTINCT_SYMPTOM_COUNT</th>\n",
       "      <th>SYMPTOM_COUNT</th>\n",
       "    </tr>\n",
       "  </thead>\n",
       "  <tbody>\n",
       "    <tr>\n",
       "      <th>0</th>\n",
       "      <td>1770802</td>\n",
       "      <td>2</td>\n",
       "      <td>2799.5</td>\n",
       "      <td>2.0</td>\n",
       "      <td>2.0</td>\n",
       "      <td>3.0</td>\n",
       "    </tr>\n",
       "    <tr>\n",
       "      <th>1</th>\n",
       "      <td>3945576</td>\n",
       "      <td>2</td>\n",
       "      <td>2795.0</td>\n",
       "      <td>2.0</td>\n",
       "      <td>2.0</td>\n",
       "      <td>3.0</td>\n",
       "    </tr>\n",
       "    <tr>\n",
       "      <th>2</th>\n",
       "      <td>1045640</td>\n",
       "      <td>2</td>\n",
       "      <td>2675.5</td>\n",
       "      <td>2.0</td>\n",
       "      <td>2.0</td>\n",
       "      <td>8.0</td>\n",
       "    </tr>\n",
       "    <tr>\n",
       "      <th>3</th>\n",
       "      <td>1289918</td>\n",
       "      <td>3</td>\n",
       "      <td>3020.333333</td>\n",
       "      <td>2.0</td>\n",
       "      <td>2.0</td>\n",
       "      <td>7.0</td>\n",
       "    </tr>\n",
       "    <tr>\n",
       "      <th>4</th>\n",
       "      <td>2766580</td>\n",
       "      <td>3</td>\n",
       "      <td>3338.666667</td>\n",
       "      <td>3.0</td>\n",
       "      <td>4.0</td>\n",
       "      <td>6.0</td>\n",
       "    </tr>\n",
       "    <tr>\n",
       "      <th>...</th>\n",
       "      <td>...</td>\n",
       "      <td>...</td>\n",
       "      <td>...</td>\n",
       "      <td>...</td>\n",
       "      <td>...</td>\n",
       "      <td>...</td>\n",
       "    </tr>\n",
       "    <tr>\n",
       "      <th>1748</th>\n",
       "      <td>538184</td>\n",
       "      <td>4</td>\n",
       "      <td>2845.25</td>\n",
       "      <td>2.0</td>\n",
       "      <td>2.0</td>\n",
       "      <td>4.0</td>\n",
       "    </tr>\n",
       "    <tr>\n",
       "      <th>1749</th>\n",
       "      <td>1253627</td>\n",
       "      <td>2</td>\n",
       "      <td>2308.5</td>\n",
       "      <td>3.0</td>\n",
       "      <td>4.0</td>\n",
       "      <td>8.0</td>\n",
       "    </tr>\n",
       "    <tr>\n",
       "      <th>1750</th>\n",
       "      <td>3456627</td>\n",
       "      <td>1</td>\n",
       "      <td>2014.0</td>\n",
       "      <td>1.0</td>\n",
       "      <td>1.0</td>\n",
       "      <td>2.0</td>\n",
       "    </tr>\n",
       "    <tr>\n",
       "      <th>1751</th>\n",
       "      <td>3316652</td>\n",
       "      <td>2</td>\n",
       "      <td>2890.5</td>\n",
       "      <td>2.0</td>\n",
       "      <td>3.0</td>\n",
       "      <td>9.0</td>\n",
       "    </tr>\n",
       "    <tr>\n",
       "      <th>1752</th>\n",
       "      <td>2239905</td>\n",
       "      <td>2</td>\n",
       "      <td>2589.0</td>\n",
       "      <td>1.0</td>\n",
       "      <td>1.0</td>\n",
       "      <td>1.0</td>\n",
       "    </tr>\n",
       "  </tbody>\n",
       "</table>\n",
       "<p>1753 rows × 6 columns</p>\n",
       "</div>"
      ],
      "text/plain": [
       "      PAT_DEID  NOTE_COUNT  AVG_WORD_COUNT_NOTE  CLASS_COUNT  \\\n",
       "0      1770802           2               2799.5          2.0   \n",
       "1      3945576           2               2795.0          2.0   \n",
       "2      1045640           2               2675.5          2.0   \n",
       "3      1289918           3          3020.333333          2.0   \n",
       "4      2766580           3          3338.666667          3.0   \n",
       "...        ...         ...                  ...          ...   \n",
       "1748    538184           4              2845.25          2.0   \n",
       "1749   1253627           2               2308.5          3.0   \n",
       "1750   3456627           1               2014.0          1.0   \n",
       "1751   3316652           2               2890.5          2.0   \n",
       "1752   2239905           2               2589.0          1.0   \n",
       "\n",
       "      DISTINCT_SYMPTOM_COUNT  SYMPTOM_COUNT  \n",
       "0                        2.0            3.0  \n",
       "1                        2.0            3.0  \n",
       "2                        2.0            8.0  \n",
       "3                        2.0            7.0  \n",
       "4                        4.0            6.0  \n",
       "...                      ...            ...  \n",
       "1748                     2.0            4.0  \n",
       "1749                     4.0            8.0  \n",
       "1750                     1.0            2.0  \n",
       "1751                     3.0            9.0  \n",
       "1752                     1.0            1.0  \n",
       "\n",
       "[1753 rows x 6 columns]"
      ]
     },
     "execution_count": 68,
     "metadata": {},
     "output_type": "execute_result"
    }
   ],
   "source": [
    "patient_table"
   ]
  },
  {
   "cell_type": "code",
   "execution_count": null,
   "id": "fec64392",
   "metadata": {},
   "outputs": [],
   "source": []
  },
  {
   "cell_type": "code",
   "execution_count": null,
   "id": "42237012",
   "metadata": {},
   "outputs": [],
   "source": []
  },
  {
   "cell_type": "code",
   "execution_count": null,
   "id": "06b718e1",
   "metadata": {},
   "outputs": [],
   "source": []
  },
  {
   "cell_type": "code",
   "execution_count": null,
   "id": "ac7a4962",
   "metadata": {},
   "outputs": [],
   "source": []
  }
 ],
 "metadata": {
  "kernelspec": {
   "display_name": "Python 3",
   "language": "python",
   "name": "python3"
  },
  "language_info": {
   "codemirror_mode": {
    "name": "ipython",
    "version": 3
   },
   "file_extension": ".py",
   "mimetype": "text/x-python",
   "name": "python",
   "nbconvert_exporter": "python",
   "pygments_lexer": "ipython3",
   "version": "3.9.15"
  },
  "vscode": {
   "interpreter": {
    "hash": "b0fa6594d8f4cbf19f97940f81e996739fb7646882a419484c72d19e05852a7e"
   }
  }
 },
 "nbformat": 4,
 "nbformat_minor": 5
}
