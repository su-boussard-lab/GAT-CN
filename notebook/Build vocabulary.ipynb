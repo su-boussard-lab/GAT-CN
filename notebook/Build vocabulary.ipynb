{
 "cells": [
  {
   "cell_type": "code",
   "execution_count": 2,
   "id": "4cd1141b",
   "metadata": {},
   "outputs": [],
   "source": [
    "# Load packages for data analysis\n",
    "import pandas as pd\n",
    "import numpy as np\n",
    "\n",
    "# Load packages for Big Query \n",
    "from google.cloud import bigquery\n",
    "import os"
   ]
  },
  {
   "cell_type": "markdown",
   "id": "55c455e5",
   "metadata": {},
   "source": [
    "### Set-up"
   ]
  },
  {
   "cell_type": "markdown",
   "id": "f62e0ba0",
   "metadata": {},
   "source": [
    "**Set-up: GCP interface** "
   ]
  },
  {
   "cell_type": "markdown",
   "id": "b2382bc3",
   "metadata": {},
   "source": [
    "Run before querying to setup Big Query"
   ]
  },
  {
   "cell_type": "code",
   "execution_count": 3,
   "id": "c1833560",
   "metadata": {},
   "outputs": [
    {
     "name": "stderr",
     "output_type": "stream",
     "text": [
      "/Users/eliasaquand/miniforge3/envs/env/lib/python3.9/site-packages/google/auth/_default.py:83: UserWarning: Your application has authenticated using end user credentials from Google Cloud SDK without a quota project. You might receive a \"quota exceeded\" or \"API not enabled\" error. We recommend you rerun `gcloud auth application-default login` and make sure a quota project is added. Or you can use service accounts instead. For more information about service accounts, see https://cloud.google.com/docs/authentication/\n",
      "  warnings.warn(_CLOUD_SDK_CREDENTIALS_WARNING)\n"
     ]
    }
   ],
   "source": [
    "# Define configurations for Big Query - Stride Datalake\n",
    "project_id = 'som-nero-phi-boussard' # Location of stride datalake\n",
    "db = \"som-nero-phi-boussard.stride_datalake\" # Define the database\n",
    "msc = \"som-nero-phi-boussard.MSc_ACU_Oncology\"\n",
    "es = \"som-nero-phi-boussard.ES_ACU_Oncology\"\n",
    "client = bigquery.Client(project=project_id) # Set project to project_id\n",
    "os.environ['GOOGLE_APPLICATION_CREDENTIALS'] = '/path/to/your/credentials.json'\n",
    "os.environ['GCLOUD_PROJECT'] = \"som-nero-phi-boussard\" # specify environment\n",
    "db = \"som-nero-phi-boussard\" # Define the database"
   ]
  },
  {
   "cell_type": "code",
   "execution_count": 4,
   "id": "11eeb29d",
   "metadata": {},
   "outputs": [],
   "source": [
    "# 1) Specify the job config to properly read the file\n",
    "job_config = bigquery.LoadJobConfig()\n",
    "job_config.autodetect = True # determines the datatype of the variable\n",
    "job_config.write_disposition = 'WRITE_TRUNCATE'\n",
    "job_config.max_bad_records = 1 # allow 5 bad records; "
   ]
  },
  {
   "cell_type": "markdown",
   "id": "fe3d32ee",
   "metadata": {},
   "source": [
    "## Vocabulary Development"
   ]
  },
  {
   "cell_type": "markdown",
   "id": "4dda8a20",
   "metadata": {},
   "source": [
    "### 1) Seed terms used to define DX_SHORT"
   ]
  },
  {
   "cell_type": "code",
   "execution_count": 5,
   "id": "44519f92",
   "metadata": {},
   "outputs": [],
   "source": [
    "diagnoses = {}\n",
    "# Class_1 = Pain\n",
    "diagnoses[\"class_1\"] = [\"PAIN\",\"HEADACH\",\"ALGIA\",\"DYSURIA\",\"DYNIA\",\"ACHE\",\"PRESSURE\",\"DISCOMFORT\",\"CRAMP\", \"TIGHTNESS\",\"RADICULOPATHY\",\"TENDERNES\", \"ABDOMINAL CRIS\"]\n",
    "# Class_2 = Nausea, Vomitting, Dehydration, diarrhea\n",
    "diagnoses[\"class_2\"] =  [\"DEHY\",\"HYPERNAT\", \"DIAR\", \"NAUS\", \"EMES\",\"VOMIT\",\"GASTROENTER\",\"GASTRIT\"]\n",
    "# Class_3 = Anemia \n",
    "diagnoses[\"class_3\"] = [\"ANEM\",\"RED CELL\"]\n",
    "# Class_4 = Sepsis, nesutropenia, fever, pneuomia \n",
    "diagnoses[\"class_4\"] =  [\"FEVER\",\"FEBRILE\",\"HYPERTHERM\",\"PYREX\", \"NEUT\",\"PANCY\",\"AGRAN\", \"SEPS\",\"INFLAM\",\"CANDIDEMIA\",\"SEPTIC\", \"PNEUMO\",\"CONSOLID\"]"
   ]
  },
  {
   "cell_type": "code",
   "execution_count": 6,
   "id": "e02a1550",
   "metadata": {},
   "outputs": [
    {
     "data": {
      "text/plain": [
       "(36, 3)"
      ]
     },
     "execution_count": 6,
     "metadata": {},
     "output_type": "execute_result"
    }
   ],
   "source": [
    "df = pd.DataFrame(columns=[\"NAME\", \"DIAGNOSE\"])\n",
    "for k,v in diagnoses.items():\n",
    "    dict_words = df[df[\"DIAGNOSE\"] == k].NAME.values.tolist()\n",
    "    new_words = [*set([w.lower() for w in v])]\n",
    "    new_words = list(set(new_words) - set(dict_words))\n",
    "    df2 = pd.DataFrame.from_dict({\"NAME\": pd.Series(new_words), \"DIAGNOSE\": k})\n",
    "    df = pd.concat([df, df2], axis=0)\n",
    "df[\"TYPE\"] = \"seed\"\n",
    "df.shape"
   ]
  },
  {
   "cell_type": "code",
   "execution_count": 7,
   "id": "c51b2513",
   "metadata": {},
   "outputs": [
    {
     "data": {
      "text/plain": [
       "(13, 8, 2, 13)"
      ]
     },
     "execution_count": 7,
     "metadata": {},
     "output_type": "execute_result"
    }
   ],
   "source": [
    "len(df[df[\"DIAGNOSE\"] == \"class_1\"]), len(df[df[\"DIAGNOSE\"] == \"class_2\"]), len(df[df[\"DIAGNOSE\"] == \"class_3\"]), len(df[df[\"DIAGNOSE\"] == \"class_4\"])"
   ]
  },
  {
   "cell_type": "markdown",
   "id": "9d88e3c7",
   "metadata": {},
   "source": [
    "### 2) Clinician suggestions"
   ]
  },
  {
   "cell_type": "code",
   "execution_count": 8,
   "id": "f02c2de9",
   "metadata": {},
   "outputs": [],
   "source": [
    "diagnoses = {}\n",
    "# Class 1\n",
    "diagnoses[\"class_1\"] = [\"pain\", \"painful\", \"noxious\", \"excruciating\", \"agonizing\", \"pleurisy\", \"neuropathy\",\n",
    "                    \"dyspareunia\", \"low back pain\", \"hyperasthesia\", \"migraine\", \"throbbing\", \"aching\", \"pounding\", \"splitting\", \"knife-like\", \"stabbing\",\n",
    "                    \"sharp\", \"burning\", \"dull\", \"shooting\", \"hurts\", \"localize\", \"tender\", \"radiating\", \"radiates\", \"radiat\"]\n",
    "# radiat for radiating and radiates \n",
    "\n",
    "# Class 2\n",
    "diagnoses[\"class_2\"] = [\"hyponatremic\", \"hyponatremia\", \"enteritis\", \"bowel movement\", \"stool\", \"stooling\", \"vomit\", \"vomitted\", \"vomitus\", \"nauseated\", \"puke\", \"puking\", \"puked\", \n",
    "                       \"loose\", \"thirsty\", \"thirst\", \"dry lips\", \"cracked lips\", \"non-bloody, non-bilious\", \"gastro\", \"gastroeneritis\", \"bloody\", \"watery\", \"loose\", \"mucousy\", \"tenesmus\", \"loose stools\", \"light headed\", \"passsed out\", \"loss of consciousness\", \"lose consciousness\"]\n",
    "\n",
    "# Class 3: \n",
    "\n",
    "diagnoses[\"class_3\"] = ['red blood cell', 'iron deficiency', 'macrocytic', 'microcytic', 'normocytic', 'myelodysplastic', 'marrow', 'light headed', 'weak', 'fatigue', 'get out of bed', 'pale', 'dyspnea']\n",
    "\n",
    "# Class 4: for all diagnoses in the class\n",
    "diagnoses[\"class_4\"] = ['low count', 'cough', 'fever', 'dyspnea', 'shortness of breath', 'productive cough', 'chest X-ray', 'infiltrate', 'consolidation', 'streaking', 'hypoxia', 'oxygen', 'hypoxemia', 'low-grade', 'high-grade', 'oral', 'rectal', 'core', 'thermometer', 'elevated', 'body temperature', 'pyrexia', 'pyrexia of unknown origin', 'fever of unknown origin', 'systemic inflammatory response', \n",
    "                      'quick systematic organ failure assessment', 'systemic organ failure assessment', 'antibiotics', 'febrile', 'rigor', 'chills', 'shaking', 'septic', 'shock', 'vasopressors', 'pressors', 'systolic blood pressure', 'blood pressure', 'mean arterial pressure', 'presumed source', 'urosepsis', 'lower respiratory tract infection', 'white blood cell','low white count', 'neupogen', 'neulasta'] \n",
    "\n"
   ]
  },
  {
   "cell_type": "code",
   "execution_count": 9,
   "id": "806198c7",
   "metadata": {},
   "outputs": [
    {
     "data": {
      "text/plain": [
       "(147, 3)"
      ]
     },
     "execution_count": 9,
     "metadata": {},
     "output_type": "execute_result"
    }
   ],
   "source": [
    "for k,v in diagnoses.items():\n",
    "    dict_words = df[df[\"DIAGNOSE\"] == k].NAME.values.tolist()\n",
    "    new_words = [*set([w.lower() for w in v])]\n",
    "    new_words = list(set(new_words) - set(dict_words))\n",
    "    df2 = pd.DataFrame.from_dict({\"NAME\": pd.Series(new_words), \"DIAGNOSE\": k})\n",
    "    df = pd.concat([df, df2], axis=0)\n",
    "df.shape"
   ]
  },
  {
   "cell_type": "code",
   "execution_count": 10,
   "id": "08e89d47",
   "metadata": {},
   "outputs": [],
   "source": [
    "df.fillna({\"TYPE\": \"clinician\"}, inplace=True)"
   ]
  },
  {
   "cell_type": "code",
   "execution_count": 11,
   "id": "a152f740",
   "metadata": {},
   "outputs": [
    {
     "data": {
      "text/plain": [
       "(39, 37, 15, 56)"
      ]
     },
     "execution_count": 11,
     "metadata": {},
     "output_type": "execute_result"
    }
   ],
   "source": [
    "len(df[df[\"DIAGNOSE\"] == \"class_1\"]), len(df[df[\"DIAGNOSE\"] == \"class_2\"]), len(df[df[\"DIAGNOSE\"] == \"class_3\"]), len(df[df[\"DIAGNOSE\"] == \"class_4\"])"
   ]
  },
  {
   "cell_type": "markdown",
   "id": "6f254826",
   "metadata": {},
   "source": [
    "### 3) Add SNOMED associated terms from UMLS browser"
   ]
  },
  {
   "cell_type": "code",
   "execution_count": 12,
   "id": "7ee2a8d7",
   "metadata": {},
   "outputs": [],
   "source": [
    "diagnoses = {}\n",
    "# UMLS terms for class_1: \n",
    "diagnoses[\"class_1\"] = pd.read_csv(f\"../vocabulary/pain.csv\")[\"NAME\"].str.upper()\n",
    "# UMLS terms for class_2: \n",
    "class_2 = []\n",
    "class_2.extend(pd.read_csv(f\"../vocabulary/nausea.csv\")[\"NAME\"].str.upper())\n",
    "class_2.extend(pd.read_csv(f\"../vocabulary/dehydration.csv\")[\"NAME\"].str.upper())\n",
    "class_2.extend(pd.read_csv(f\"../vocabulary/diarrhea.csv\")[\"NAME\"].str.upper())\n",
    "class_2.extend(pd.read_csv(f\"../vocabulary/emesis.csv\")[\"NAME\"].str.upper())\n",
    "class_2.extend(pd.read_csv(f\"../vocabulary/vomiting.csv\")[\"NAME\"].str.upper())\n",
    "diagnoses[\"class_2\"] = class_2\n",
    "# UMLS terms for class 3: \n",
    "diagnoses[\"class_3\"] = pd.read_csv(f\"../vocabulary/anemia.csv\")[\"NAME\"].str.upper()\n",
    "# UMLS terms for class 4:\n",
    "class_4 = []\n",
    "class_4.extend(pd.read_csv(f\"../vocabulary/neutropenia.csv\")[\"NAME\"].str.upper())\n",
    "class_4.extend(pd.read_csv(f\"../vocabulary/fever.csv\")[\"NAME\"].str.upper())\n",
    "class_4.extend(pd.read_csv(f\"../vocabulary/pneumonia.csv\")[\"NAME\"].str.upper())\n",
    "class_4.extend(pd.read_csv(f\"../vocabulary/sepsis.csv\")[\"NAME\"].str.upper())\n",
    "diagnoses[\"class_4\"] = class_4"
   ]
  },
  {
   "cell_type": "code",
   "execution_count": 13,
   "id": "918107de",
   "metadata": {},
   "outputs": [
    {
     "data": {
      "text/plain": [
       "(3033, 3)"
      ]
     },
     "execution_count": 13,
     "metadata": {},
     "output_type": "execute_result"
    }
   ],
   "source": [
    "for k,v in diagnoses.items():\n",
    "    dict_words = df[df[\"DIAGNOSE\"] == k].NAME.values.tolist()\n",
    "    new_words = [*set([w.lower() for w in v])]\n",
    "    new_words = list(set(new_words) - set(dict_words))\n",
    "    df2 = pd.DataFrame.from_dict({\"NAME\": pd.Series(new_words), \"DIAGNOSE\": k})\n",
    "    df = pd.concat([df, df2], axis=0)\n",
    "df.shape"
   ]
  },
  {
   "cell_type": "code",
   "execution_count": 14,
   "id": "532dd60b",
   "metadata": {},
   "outputs": [],
   "source": [
    "df.fillna({\"TYPE\": \"snomedct_us\"}, inplace=True)"
   ]
  },
  {
   "cell_type": "code",
   "execution_count": 15,
   "id": "38b8fe48",
   "metadata": {},
   "outputs": [
    {
     "data": {
      "text/plain": [
       "(1084, 236, 437, 1276)"
      ]
     },
     "execution_count": 15,
     "metadata": {},
     "output_type": "execute_result"
    }
   ],
   "source": [
    "len(df[df[\"DIAGNOSE\"] == \"class_1\"]), len(df[df[\"DIAGNOSE\"] == \"class_2\"]), len(df[df[\"DIAGNOSE\"] == \"class_3\"]), len(df[df[\"DIAGNOSE\"] == \"class_4\"])"
   ]
  },
  {
   "cell_type": "markdown",
   "id": "93359b96",
   "metadata": {},
   "source": [
    "## 4) Add Abbreviation"
   ]
  },
  {
   "cell_type": "markdown",
   "id": "f4c88591",
   "metadata": {},
   "source": [
    "How: from the notes and internet and from clinicians survey \n",
    "\n",
    "Ressources:\n",
    "\n",
    "- https://madisonmemorial.org/wp-content/uploads/Abbreviation-List-for-Medical-Record-Documentation-V20.pdf\n",
    "\n",
    "- https://en.wikipedia.org/wiki/List_of_medical_abbreviations:_P\n",
    "\n",
    "- https://reader.elsevier.com/reader/sd/pii/S1386505611002383?token=8417991568AECEDEC869D00482E710CF5EAF5B89D5B35C65560A1EAFA86F79ED086E60256632DCFE530401F31F933EC3&originRegion=us-east-1&originCreation=20230302215156 (appendix B)"
   ]
  },
  {
   "cell_type": "markdown",
   "id": "34c8d6ac",
   "metadata": {},
   "source": [
    "Checker si l'espace devant and apres bonne idee -> car pour moi possible quil y ait que un espace avant or apres. Regarder comment checker les notes better que avec is in (faire comme oualid avec le regexp)"
   ]
  },
  {
   "cell_type": "code",
   "execution_count": 16,
   "id": "a9a18098",
   "metadata": {},
   "outputs": [],
   "source": [
    "diagnoses = {}"
   ]
  },
  {
   "cell_type": "code",
   "execution_count": 17,
   "id": "1168d190",
   "metadata": {},
   "outputs": [],
   "source": [
    "# Abbreviations for class 1:\n",
    "diagnoses[\"class_1\"] = [' HA ', 'H/A', 'D.O.E.', ' CP ', ' LBP ']\n",
    "\n",
    "# HA = headache\n",
    "# N/T: numbness and tingling \n",
    "# LBP: low back pain"
   ]
  },
  {
   "cell_type": "code",
   "execution_count": 18,
   "id": "1087100c",
   "metadata": {},
   "outputs": [],
   "source": [
    "# Abbreviation for class 2:\n",
    "diagnoses[\"class_2\"] = [' GI ', ' CINV ','N/V', 'N/V/D' ' NBNB ', ' GERD ', ' BM ', ' NVD ', ' NVDC ', 'N&V', 'N&V&D',  ' ABD ', ' PONV ', ' RINV ', ' NV ', ' IBS ', 'NB/NB', ' NB ', ' AGE ', ' CID', ' CRD ', ' AAD ', ' WBM ', 'D&D', 'D&V']\n",
    "\n",
    "# NVD = nausea, vomiting, diarrhea\n",
    "# MVDC = nausea, vomiting, diarrhea, constipation\n",
    "# N&V = nausea and vomiting \n",
    "# AAD = antibiotic-associate diarrhea\n",
    "# A verifier mais pour moi les biobert doivent comprendre ces abbreviations\n",
    "# NB/NB (non-bloody, non-bilious)\n",
    "# NB \n",
    "# AGE: Acute gastroenteritis \n",
    "\n"
   ]
  },
  {
   "cell_type": "code",
   "execution_count": 19,
   "id": "527acac1",
   "metadata": {},
   "outputs": [],
   "source": [
    "# Abbreviation for class 3:\n",
    "diagnoses[\"class_3\"] = [' RBC ', ' CBC',' EBL ', ' HBP ', ' FE ', ' AIHA ', ' SHOB ', ' ABLA ', ' AHA ', 'get OOB']\n",
    "\n",
    "# AIHA: autoimmune hemolytic anemia\n",
    "# SS: hemoglobin \n",
    "# ABLA: Acute Blood Loss Anemia"
   ]
  },
  {
   "cell_type": "code",
   "execution_count": 20,
   "id": "4afacf62",
   "metadata": {},
   "outputs": [],
   "source": [
    "# Abbreviation for class 4:\n",
    "diagnoses[\"class_4\"] = [' FUO ', 'F/C', 'F&C', ' ANC ', ' AIN ', ' FN ', ' CIN ','Nφ', ' NE ', ' WBC ', ' CBC', ' CXR ', ' FUO ', ' PUO ', ' qSOFA ', ' BP ', ' SOFA ', ' SIRS ', ' SBP ', ' MAP ', ' LRTI ', ' INF ', ' SHOB ', ' PNA ', ' PCP ', ' PSI ']\n",
    "\n",
    "# ANC: A measure of the number of neutrophils in the blood\n",
    "# CN = cyclic neutropenia\n",
    "# AIN : Alloimmune neutroenia \n",
    "# FN febrile neutropenia \n",
    "# CIN Chemotherapy induced neutropenia \n",
    "# PCP : Pneumocystis pneumonia\n",
    "# PNA = Pneumonia\n",
    "# PSI = Pneumonia severity index\n",
    "# Nφ = neutrophil\n",
    "# NE = neutropil granulocytes\n",
    "# SHOB = shortness of breath "
   ]
  },
  {
   "cell_type": "code",
   "execution_count": 21,
   "id": "61f2d48a",
   "metadata": {},
   "outputs": [
    {
     "data": {
      "text/plain": [
       "(3097, 3)"
      ]
     },
     "execution_count": 21,
     "metadata": {},
     "output_type": "execute_result"
    }
   ],
   "source": [
    "for k,v in diagnoses.items():\n",
    "    dict_words = df[df[\"DIAGNOSE\"] == k].NAME.values.tolist()\n",
    "    new_words = [*set([w.lower() for w in v])]\n",
    "    new_words = list(set(new_words) - set(dict_words))\n",
    "    df2 = pd.DataFrame.from_dict({\"NAME\": pd.Series(new_words), \"DIAGNOSE\": k})\n",
    "    df = pd.concat([df, df2], axis=0)\n",
    "df.shape"
   ]
  },
  {
   "cell_type": "code",
   "execution_count": 22,
   "id": "98217178",
   "metadata": {},
   "outputs": [],
   "source": [
    "df.fillna({\"TYPE\": \"abbreviation\"}, inplace=True)"
   ]
  },
  {
   "cell_type": "code",
   "execution_count": 23,
   "id": "321022a9",
   "metadata": {},
   "outputs": [
    {
     "data": {
      "text/plain": [
       "(1089, 260, 447, 1301)"
      ]
     },
     "execution_count": 23,
     "metadata": {},
     "output_type": "execute_result"
    }
   ],
   "source": [
    "len(df[df[\"DIAGNOSE\"] == \"class_1\"]), len(df[df[\"DIAGNOSE\"] == \"class_2\"]), len(df[df[\"DIAGNOSE\"] == \"class_3\"]), len(df[df[\"DIAGNOSE\"] == \"class_4\"])"
   ]
  },
  {
   "cell_type": "markdown",
   "id": "f30e67eb",
   "metadata": {},
   "source": [
    "### 5) Extend vocabulary with synonym, symptoms, definitions"
   ]
  },
  {
   "cell_type": "markdown",
   "id": "65546357",
   "metadata": {},
   "source": [
    "**a) Use synonyms online tools**"
   ]
  },
  {
   "cell_type": "code",
   "execution_count": 24,
   "id": "d083fbac",
   "metadata": {},
   "outputs": [],
   "source": [
    "diagnoses = {}"
   ]
  },
  {
   "cell_type": "code",
   "execution_count": 25,
   "id": "3e63ec7d",
   "metadata": {},
   "outputs": [],
   "source": [
    "# Add synonyms for class 1\n",
    "diagnoses[\"class_1\"] = [\"HURT\", \"SUFFER\", \"DIFFIC\", \"TENS\", \"SPASM\", \"ANNOY\", \"BOTHER\", \"IRRIT\", \"SORE\", \"UNCOMFORT\", \"DISTRESS\", \"RAWNESS\", \"CRISI\", \"BAD\", \"WOUND\", \"HEAV\", \"SWOLLEN\", \"NUMB\", \"TINGL\", \"ACH\", \"ANGUISH\", \"AGONY\", \"STINGING\", \"BURN\", \"INJUR\" \"SENSITIVITY\", \"INFLAMMATION\", \"SHARP\", \"LANCINATING\"]"
   ]
  },
  {
   "cell_type": "code",
   "execution_count": 26,
   "id": "54143a1a",
   "metadata": {},
   "outputs": [],
   "source": [
    "# Add synonyms for class 2\n",
    "diagnoses[\"class_2\"] = [\"QUEASINESS\", \"DISGUST\", \"DIZZ\", \"THROAT\", \"LIGHT-HEADED\", \"LIGHTHEADED\", \"GIDDY\", \"SICK\", \"VISCERAL\", \"VERTIGO\", \"REGURGITAT\", \"REFLUX\", \"ACID REFLUX\",  \"PUK\", \"BARF\", \"THROW\", \"THREW\", \"DIGEST\",  \"DISGORGE\", \"UPSET STOMACH\", \"STOMACH\", \"DYSPEPSIA\", \"RETCHING\", \"STOMACH ACHE\", \"THROWING UP\", \"QUEASY\", \"HEART BURN\", \"MOTION SICKNESS\", \"DRY HEAVE\", \"SICK TO MY STOMACH\",\"DESSICC\", \"DRY\", \"DRI\", \"THIRST\", \"EXHAUST\", \"WATER LOSS\", \"REDUCED FLUID INTAKE\", \"LACK OF HYDRATION\", \"DEPLETION OF FLUIDS\", \"EXCESSIVE SWEATING\", \"LOSS OF ELECTROLYTES\", \"ELECTROLYTE\",\"BURN\", \"LOSSE\", \"DYSENTERY\", \"BLOAT\", \"RECTUM\", \"ABDOM\"]\n"
   ]
  },
  {
   "cell_type": "code",
   "execution_count": 27,
   "id": "8b2d72a9",
   "metadata": {},
   "outputs": [],
   "source": [
    "# Add synonyms for class 3\n",
    "diagnoses[\"class_3\"] = [\"SKIN\", \"YELLOW\", \"IRON-DEFICIENCY\", \"HYPOTHYROID\", \"JAUNDICE\", \"FATIGUE\",  \"LISTLESS \", \"WEARINESS\", \"WEARY\", \"SLEEPY\", \"EXHAUST\", \n",
    "               \"WORN OUT\", \"LETHARG\", \"NO ENERGY\", \"TIRED\", \"IRON\", \"RED BLOOD CELL\", \n",
    "               \"HEMOGLOBIN\", \"HEMATOCRIT\", \"BLOOD\", \"DEFICIEN\",  \"PALLOR\", \"PALE SKIN\", \"PALPIT\", \"OXYGEN\", \n",
    "               \"SHORTNESS OF BREATH\",  \"COLD\", \"HEARTBEAT\", \n",
    "               \"RAPID HEART RATE\", \"DROWS\", \"SLEEPINESS\", \"WEAK\", \"DIZZ\", \"LIGHT-HEADED\", \"LIGHTHEADED\"] "
   ]
  },
  {
   "cell_type": "markdown",
   "id": "1c1fdd70",
   "metadata": {},
   "source": [
    "**What lab values indicate anemia?**\n",
    "The diagnostic criterion for anemia is\n",
    "\n",
    "For men: Hemoglobin < 14 g/dL (140 g/L), hematocrit < 42% (< 0.42), or RBC < 4.5 million/mcL (< 4.5 × 10 12/L)\n",
    "\n",
    "For women: Hemoglobin < 12 g/dL (120 g/l), hematocrit < 37% (< 0.37), or RBC < 4 million/mcL (< 4 × 10 12/L)\n",
    "\n",
    "Source: https://www.merckmanuals.com/professional/hematology-and-oncology/approach-to-the-patient-with-anemia/evaluation-of-anemia"
   ]
  },
  {
   "cell_type": "code",
   "execution_count": 28,
   "id": "3c399256",
   "metadata": {},
   "outputs": [],
   "source": [
    "# Add synonyms for class 4 \n",
    "diagnoses[\"class_4\"] = [\"FEBRI\", \"SWEAT\", \"CHILL\", \"SHIVER\", \"SHUDDER\", \"TREMBL\",  \"WASHED OUT\", \"ELEVATED BODY TEMPERATURE\", \"HIGH TEMPERATURE\", \"FLUSHING\", \"HOT FLASHES\", \"FLUSHED FACE\", \"GLASSY EYES\",\"LEUKOPENIA\", \"LEUKOCYTE\", \"WHITE BLOOD CELL\", \"GRANULOCYTO\", \"WEAK\", \"FATIGUE\", \"BACTERIA\", \"FAINT\",  \"CONFUS\",  \"DISORIENT\", \"TOXIN\", \"TISSUE\", \"VIRUS\", \"INFECT\",\"RESPIRAT\", \"VIRAL\", \"COUGH\", \"ENERGY\",  \"SHAKING CHILLS\", \"PULMONARY INFECTION\", \"DIFFICULTY BREATHING\", \"CHEST INFECTION\", \"RESPIRATORY INFECTION\"]"
   ]
  },
  {
   "cell_type": "code",
   "execution_count": 29,
   "id": "d884f217",
   "metadata": {},
   "outputs": [
    {
     "data": {
      "text/plain": [
       "(3236, 3)"
      ]
     },
     "execution_count": 29,
     "metadata": {},
     "output_type": "execute_result"
    }
   ],
   "source": [
    "for k,v in diagnoses.items():\n",
    "    dict_words = df[df[\"DIAGNOSE\"] == k].NAME.values.tolist()\n",
    "    new_words = [*set([w.lower() for w in v])]\n",
    "    new_words = list(set(new_words) - set(dict_words))\n",
    "    df2 = pd.DataFrame.from_dict({\"NAME\": pd.Series(new_words), \"DIAGNOSE\": k})\n",
    "    df = pd.concat([df, df2], axis=0)\n",
    "df.shape"
   ]
  },
  {
   "cell_type": "code",
   "execution_count": 30,
   "id": "e55278e1",
   "metadata": {},
   "outputs": [
    {
     "data": {
      "text/plain": [
       "(3236, 3)"
      ]
     },
     "execution_count": 30,
     "metadata": {},
     "output_type": "execute_result"
    }
   ],
   "source": [
    "df.shape"
   ]
  },
  {
   "cell_type": "markdown",
   "id": "be8b418d",
   "metadata": {},
   "source": [
    "**b) Add definition from UMLS**"
   ]
  },
  {
   "cell_type": "code",
   "execution_count": 31,
   "id": "bf873dc7",
   "metadata": {},
   "outputs": [],
   "source": [
    "diagnoses = {}"
   ]
  },
  {
   "cell_type": "code",
   "execution_count": 32,
   "id": "4f25e599",
   "metadata": {},
   "outputs": [],
   "source": [
    "# Add definition for class 1\n",
    "diagnoses[\"class_1\"] = [\"DAMAGE\", \"DISTRESS\", \"AGONY\", \"MISERY\", \"PRICK\", \"STING\"]"
   ]
  },
  {
   "cell_type": "code",
   "execution_count": 33,
   "id": "2a1bfbe5",
   "metadata": {},
   "outputs": [],
   "source": [
    "# Add definition for class 2\n",
    "diagnoses[\"class_2\"] = [\"URGE TO VOMIT\", \"UPPER ABDOMINAL DISCOMFORT\", \"THROAT\", \"FORCEFUL EJECTION\", \"EJECTION\", \"SPASM\", \"CONTRACIONS\", \"SPASMIC CONTRACTIONS\", \"EXPULSION\", \"FLUID\", \"FEELING VERY THIRSTY\", \"DRY MOUTH\", \"SWEAT\", \"DRY SKIN\", \"FEELING TIREDD\", \"DIZZINESS\", \"WATER LOSS\", \"WATERY BOWEL MOVEMENTS\", \"BOWEL\", \"BOWEL MOVEMENTS\", \"LOOSE\", \"WATERY\", \"LIQUID\", \"STOOL\",\"CRAMP\"]"
   ]
  },
  {
   "cell_type": "code",
   "execution_count": 34,
   "id": "709a1609",
   "metadata": {},
   "outputs": [],
   "source": [
    "# Add definition for class 3 \n",
    "diagnoses[\"class_3\"] = [\"ERYTHROCYTES\", \"PALLOR OF THE SKIN\", \"MUCOUS MEMBRANES\", \"MUCOUS\", \"SHORTNESS OF BREATH\", \"SOB\", \"PALPILTATIONS\", \"LETHARGY\", \"SOFT SYSTOLIC MURMURS\", \"FATIGABILITY\"]"
   ]
  },
  {
   "cell_type": "code",
   "execution_count": 35,
   "id": "a8e0091e",
   "metadata": {},
   "outputs": [],
   "source": [
    "# Add definition for class 4\n",
    "diagnoses[\"class_4\"] = [\"BODY TEMPERATURE\",\"SHORTNESS OF BREATH\", \"SOB\", \"CONFUSION\", \"DISORIENTATION\", \"RAPID BREATHING\", \"HEART RATE\", \"CLAMMY\", \"SWEATY\", \"SKIN\", \"LUNG\", \"PARENCHYMA\", \"INFLAMMATION\", \"CHILLS\", \"PHLEGM\"]"
   ]
  },
  {
   "cell_type": "code",
   "execution_count": 36,
   "id": "f8c41fbc",
   "metadata": {},
   "outputs": [
    {
     "data": {
      "text/plain": [
       "(3281, 3)"
      ]
     },
     "execution_count": 36,
     "metadata": {},
     "output_type": "execute_result"
    }
   ],
   "source": [
    "for k,v in diagnoses.items():\n",
    "    dict_words = df[df[\"DIAGNOSE\"] == k].NAME.values.tolist()\n",
    "    new_words = [*set([w.lower() for w in v])]\n",
    "    new_words = list(set(new_words) - set(dict_words))\n",
    "    df2 = pd.DataFrame.from_dict({\"NAME\": pd.Series(new_words), \"DIAGNOSE\": k})\n",
    "    df = pd.concat([df, df2], axis=0)\n",
    "df.shape"
   ]
  },
  {
   "cell_type": "markdown",
   "id": "beb6caf0",
   "metadata": {},
   "source": [
    "**c) Use existing dictionary from existing vocabularies from similar studies:**"
   ]
  },
  {
   "cell_type": "markdown",
   "id": "da534859",
   "metadata": {},
   "source": [
    "Ressources: \n",
    "- https://github.com/KHP-Informatics/ADRApp/tree/master/application-resources/ADR\n",
    "\n",
    "It has vocabulary for diarrhoa; nausea; vomiting; pneumonia and fever. There is also specific vocabularies like fatigue; headaches; muscle pain; numbness; stomach pain; adbominal pain;  but I didn't use them cause they are too precised in my opinion. A lot of the words are already captured by the seed terms and included by a) and b) \n"
   ]
  },
  {
   "cell_type": "code",
   "execution_count": 37,
   "id": "643be420",
   "metadata": {},
   "outputs": [],
   "source": [
    "diagnoses = {}"
   ]
  },
  {
   "cell_type": "code",
   "execution_count": 38,
   "id": "ffe2b81a",
   "metadata": {},
   "outputs": [],
   "source": [
    "### Add words from ADRApp\n",
    "# Class 2\n",
    "diagnoses[\"class_2\"] = [\"FREQUENT STOOL\"] \n",
    "# Class 4\n",
    "diagnoses[\"class_4\"] = [\"FEELING HOT\", \"HIGH TEMPERATURE\", \"INCREASED TEMPERATURE\", \"RAISED BODY TEMPERATURE\"]\n"
   ]
  },
  {
   "cell_type": "code",
   "execution_count": 39,
   "id": "dbe42839",
   "metadata": {},
   "outputs": [
    {
     "data": {
      "text/plain": [
       "(3285, 3)"
      ]
     },
     "execution_count": 39,
     "metadata": {},
     "output_type": "execute_result"
    }
   ],
   "source": [
    "for k,v in diagnoses.items():\n",
    "    dict_words = df[df[\"DIAGNOSE\"] == k].NAME.values.tolist()\n",
    "    new_words = [*set([w.lower() for w in v])]\n",
    "    new_words = list(set(new_words) - set(dict_words))\n",
    "    df2 = pd.DataFrame.from_dict({\"NAME\": pd.Series(new_words), \"DIAGNOSE\": k})\n",
    "    df = pd.concat([df, df2], axis=0)\n",
    "df.shape"
   ]
  },
  {
   "cell_type": "code",
   "execution_count": 40,
   "id": "775a3838",
   "metadata": {},
   "outputs": [],
   "source": [
    "df.fillna({\"TYPE\": \"additional\"}, inplace=True)"
   ]
  },
  {
   "cell_type": "code",
   "execution_count": 41,
   "id": "6636c1b0",
   "metadata": {},
   "outputs": [
    {
     "data": {
      "text/plain": [
       "(1120, 327, 488, 1350)"
      ]
     },
     "execution_count": 41,
     "metadata": {},
     "output_type": "execute_result"
    }
   ],
   "source": [
    "len(df[df[\"DIAGNOSE\"] == \"class_1\"]), len(df[df[\"DIAGNOSE\"] == \"class_2\"]), len(df[df[\"DIAGNOSE\"] == \"class_3\"]), len(df[df[\"DIAGNOSE\"] == \"class_4\"])"
   ]
  },
  {
   "cell_type": "code",
   "execution_count": 42,
   "id": "1e1299cc",
   "metadata": {},
   "outputs": [],
   "source": [
    "df.to_csv(\"../vocabulary/exhaustive_vocab.csv\", index=False)"
   ]
  },
  {
   "cell_type": "code",
   "execution_count": 43,
   "id": "67f06a37",
   "metadata": {},
   "outputs": [
    {
     "data": {
      "text/html": [
       "<div>\n",
       "<style scoped>\n",
       "    .dataframe tbody tr th:only-of-type {\n",
       "        vertical-align: middle;\n",
       "    }\n",
       "\n",
       "    .dataframe tbody tr th {\n",
       "        vertical-align: top;\n",
       "    }\n",
       "\n",
       "    .dataframe thead th {\n",
       "        text-align: right;\n",
       "    }\n",
       "</style>\n",
       "<table border=\"1\" class=\"dataframe\">\n",
       "  <thead>\n",
       "    <tr style=\"text-align: right;\">\n",
       "      <th></th>\n",
       "      <th>NAME</th>\n",
       "      <th>DIAGNOSE</th>\n",
       "      <th>TYPE</th>\n",
       "    </tr>\n",
       "  </thead>\n",
       "  <tbody>\n",
       "    <tr>\n",
       "      <th>0</th>\n",
       "      <td>pain</td>\n",
       "      <td>class_1</td>\n",
       "      <td>seed</td>\n",
       "    </tr>\n",
       "    <tr>\n",
       "      <th>1</th>\n",
       "      <td>ache</td>\n",
       "      <td>class_1</td>\n",
       "      <td>seed</td>\n",
       "    </tr>\n",
       "    <tr>\n",
       "      <th>2</th>\n",
       "      <td>discomfort</td>\n",
       "      <td>class_1</td>\n",
       "      <td>seed</td>\n",
       "    </tr>\n",
       "    <tr>\n",
       "      <th>3</th>\n",
       "      <td>radiculopathy</td>\n",
       "      <td>class_1</td>\n",
       "      <td>seed</td>\n",
       "    </tr>\n",
       "    <tr>\n",
       "      <th>4</th>\n",
       "      <td>tightness</td>\n",
       "      <td>class_1</td>\n",
       "      <td>seed</td>\n",
       "    </tr>\n",
       "    <tr>\n",
       "      <th>...</th>\n",
       "      <td>...</td>\n",
       "      <td>...</td>\n",
       "      <td>...</td>\n",
       "    </tr>\n",
       "    <tr>\n",
       "      <th>11</th>\n",
       "      <td>sweaty</td>\n",
       "      <td>class_4</td>\n",
       "      <td>additional</td>\n",
       "    </tr>\n",
       "    <tr>\n",
       "      <th>0</th>\n",
       "      <td>frequent stool</td>\n",
       "      <td>class_2</td>\n",
       "      <td>additional</td>\n",
       "    </tr>\n",
       "    <tr>\n",
       "      <th>0</th>\n",
       "      <td>feeling hot</td>\n",
       "      <td>class_4</td>\n",
       "      <td>additional</td>\n",
       "    </tr>\n",
       "    <tr>\n",
       "      <th>1</th>\n",
       "      <td>increased temperature</td>\n",
       "      <td>class_4</td>\n",
       "      <td>additional</td>\n",
       "    </tr>\n",
       "    <tr>\n",
       "      <th>2</th>\n",
       "      <td>raised body temperature</td>\n",
       "      <td>class_4</td>\n",
       "      <td>additional</td>\n",
       "    </tr>\n",
       "  </tbody>\n",
       "</table>\n",
       "<p>3285 rows × 3 columns</p>\n",
       "</div>"
      ],
      "text/plain": [
       "                       NAME DIAGNOSE        TYPE\n",
       "0                      pain  class_1        seed\n",
       "1                      ache  class_1        seed\n",
       "2                discomfort  class_1        seed\n",
       "3             radiculopathy  class_1        seed\n",
       "4                 tightness  class_1        seed\n",
       "..                      ...      ...         ...\n",
       "11                   sweaty  class_4  additional\n",
       "0            frequent stool  class_2  additional\n",
       "0               feeling hot  class_4  additional\n",
       "1     increased temperature  class_4  additional\n",
       "2   raised body temperature  class_4  additional\n",
       "\n",
       "[3285 rows x 3 columns]"
      ]
     },
     "execution_count": 43,
     "metadata": {},
     "output_type": "execute_result"
    }
   ],
   "source": [
    "df"
   ]
  },
  {
   "cell_type": "markdown",
   "id": "b37d953c",
   "metadata": {},
   "source": [
    "## Vocabulary Filtering"
   ]
  },
  {
   "cell_type": "markdown",
   "id": "6082e28d",
   "metadata": {},
   "source": [
    "- Load exhaustive vocabulary"
   ]
  },
  {
   "cell_type": "code",
   "execution_count": 44,
   "id": "8649964b",
   "metadata": {},
   "outputs": [],
   "source": [
    "exhaustive_vocab = pd.read_csv(\"../vocabulary/exhaustive_vocab.csv\")"
   ]
  },
  {
   "cell_type": "code",
   "execution_count": 45,
   "id": "a649c8f4",
   "metadata": {},
   "outputs": [
    {
     "data": {
      "text/html": [
       "<div>\n",
       "<style scoped>\n",
       "    .dataframe tbody tr th:only-of-type {\n",
       "        vertical-align: middle;\n",
       "    }\n",
       "\n",
       "    .dataframe tbody tr th {\n",
       "        vertical-align: top;\n",
       "    }\n",
       "\n",
       "    .dataframe thead th {\n",
       "        text-align: right;\n",
       "    }\n",
       "</style>\n",
       "<table border=\"1\" class=\"dataframe\">\n",
       "  <thead>\n",
       "    <tr style=\"text-align: right;\">\n",
       "      <th></th>\n",
       "      <th>NAME</th>\n",
       "      <th>DIAGNOSE</th>\n",
       "      <th>TYPE</th>\n",
       "    </tr>\n",
       "  </thead>\n",
       "  <tbody>\n",
       "    <tr>\n",
       "      <th>0</th>\n",
       "      <td>pain</td>\n",
       "      <td>class_1</td>\n",
       "      <td>seed</td>\n",
       "    </tr>\n",
       "    <tr>\n",
       "      <th>1</th>\n",
       "      <td>ache</td>\n",
       "      <td>class_1</td>\n",
       "      <td>seed</td>\n",
       "    </tr>\n",
       "    <tr>\n",
       "      <th>2</th>\n",
       "      <td>discomfort</td>\n",
       "      <td>class_1</td>\n",
       "      <td>seed</td>\n",
       "    </tr>\n",
       "    <tr>\n",
       "      <th>3</th>\n",
       "      <td>radiculopathy</td>\n",
       "      <td>class_1</td>\n",
       "      <td>seed</td>\n",
       "    </tr>\n",
       "    <tr>\n",
       "      <th>4</th>\n",
       "      <td>tightness</td>\n",
       "      <td>class_1</td>\n",
       "      <td>seed</td>\n",
       "    </tr>\n",
       "    <tr>\n",
       "      <th>...</th>\n",
       "      <td>...</td>\n",
       "      <td>...</td>\n",
       "      <td>...</td>\n",
       "    </tr>\n",
       "    <tr>\n",
       "      <th>3280</th>\n",
       "      <td>sweaty</td>\n",
       "      <td>class_4</td>\n",
       "      <td>additional</td>\n",
       "    </tr>\n",
       "    <tr>\n",
       "      <th>3281</th>\n",
       "      <td>frequent stool</td>\n",
       "      <td>class_2</td>\n",
       "      <td>additional</td>\n",
       "    </tr>\n",
       "    <tr>\n",
       "      <th>3282</th>\n",
       "      <td>feeling hot</td>\n",
       "      <td>class_4</td>\n",
       "      <td>additional</td>\n",
       "    </tr>\n",
       "    <tr>\n",
       "      <th>3283</th>\n",
       "      <td>increased temperature</td>\n",
       "      <td>class_4</td>\n",
       "      <td>additional</td>\n",
       "    </tr>\n",
       "    <tr>\n",
       "      <th>3284</th>\n",
       "      <td>raised body temperature</td>\n",
       "      <td>class_4</td>\n",
       "      <td>additional</td>\n",
       "    </tr>\n",
       "  </tbody>\n",
       "</table>\n",
       "<p>3285 rows × 3 columns</p>\n",
       "</div>"
      ],
      "text/plain": [
       "                         NAME DIAGNOSE        TYPE\n",
       "0                        pain  class_1        seed\n",
       "1                        ache  class_1        seed\n",
       "2                  discomfort  class_1        seed\n",
       "3               radiculopathy  class_1        seed\n",
       "4                   tightness  class_1        seed\n",
       "...                       ...      ...         ...\n",
       "3280                   sweaty  class_4  additional\n",
       "3281           frequent stool  class_2  additional\n",
       "3282              feeling hot  class_4  additional\n",
       "3283    increased temperature  class_4  additional\n",
       "3284  raised body temperature  class_4  additional\n",
       "\n",
       "[3285 rows x 3 columns]"
      ]
     },
     "execution_count": 45,
     "metadata": {},
     "output_type": "execute_result"
    }
   ],
   "source": [
    "exhaustive_vocab"
   ]
  },
  {
   "cell_type": "code",
   "execution_count": 46,
   "id": "9e9342bf",
   "metadata": {},
   "outputs": [
    {
     "data": {
      "text/plain": [
       "class_4    1350\n",
       "class_1    1120\n",
       "class_3     488\n",
       "class_2     327\n",
       "Name: DIAGNOSE, dtype: int64"
      ]
     },
     "execution_count": 46,
     "metadata": {},
     "output_type": "execute_result"
    }
   ],
   "source": [
    "exhaustive_vocab.DIAGNOSE.value_counts()"
   ]
  },
  {
   "cell_type": "markdown",
   "id": "1bacb5e2",
   "metadata": {},
   "source": [
    "- Load training notes"
   ]
  },
  {
   "cell_type": "code",
   "execution_count": 47,
   "id": "95b32eca",
   "metadata": {},
   "outputs": [],
   "source": [
    "# Load relevant note table\n",
    "sql_query = f\"\"\" SELECT * FROM {es}.note_by_type\"\"\"\n",
    "note_table = (client.query(sql_query)).to_dataframe()"
   ]
  },
  {
   "cell_type": "code",
   "execution_count": 48,
   "id": "20b27a4a",
   "metadata": {},
   "outputs": [
    {
     "data": {
      "text/plain": [
       "array([1068036, 3278509, 1426036, ..., 2423073, 1465165,  542216])"
      ]
     },
     "execution_count": 48,
     "metadata": {},
     "output_type": "execute_result"
    }
   ],
   "source": [
    "# Get training ids \n",
    "train_ids = pd.read_csv('../data_preprocessed/TrainTest/train/ids.csv').PAT_DEID.values\n",
    "train_ids"
   ]
  },
  {
   "cell_type": "code",
   "execution_count": 49,
   "id": "ce973137",
   "metadata": {},
   "outputs": [],
   "source": [
    "# Get notes from training patients only\n",
    "note_table = note_table[note_table[\"PAT_DEID\"].isin(train_ids)]"
   ]
  },
  {
   "cell_type": "code",
   "execution_count": 50,
   "id": "fa29f530",
   "metadata": {},
   "outputs": [
    {
     "name": "stdout",
     "output_type": "stream",
     "text": [
      "Number of training patients = 1647\n"
     ]
    }
   ],
   "source": [
    "print(f\"Number of training patients = {len(pd.unique(note_table['PAT_DEID']))}\")"
   ]
  },
  {
   "cell_type": "code",
   "execution_count": 51,
   "id": "c6130ad8",
   "metadata": {},
   "outputs": [],
   "source": [
    "# Load outcome_table_1 \n",
    "sql_query = f\"\"\" SELECT * FROM {es}.outcome_table_1\"\"\"\n",
    "outcome_table_1 = (client.query(sql_query)).to_dataframe()"
   ]
  },
  {
   "cell_type": "code",
   "execution_count": 52,
   "id": "fa3a116f",
   "metadata": {},
   "outputs": [],
   "source": [
    "# Get labels of training patients only\n",
    "outcome_table_1 = outcome_table_1[outcome_table_1[\"PAT_DEID\"].isin(train_ids)]"
   ]
  },
  {
   "cell_type": "code",
   "execution_count": 53,
   "id": "d39af868",
   "metadata": {},
   "outputs": [
    {
     "name": "stdout",
     "output_type": "stream",
     "text": [
      "Number of training patients = 1647\n"
     ]
    }
   ],
   "source": [
    "print(f\"Number of training patients = {len(pd.unique(note_table['PAT_DEID']))}\")"
   ]
  },
  {
   "cell_type": "markdown",
   "id": "d830620a",
   "metadata": {},
   "source": [
    "- Obtain text of patients with only one class"
   ]
  },
  {
   "cell_type": "code",
   "execution_count": 54,
   "id": "6235abe4",
   "metadata": {},
   "outputs": [],
   "source": [
    "single_label_df = outcome_table_1[outcome_table_1[\"TOTAL\"] == 1]\n",
    "df_class_1 = single_label_df[single_label_df[\"CLASS_1\"] == 1.0]\n",
    "df_class_2 = single_label_df[single_label_df[\"CLASS_2\"] == 1.0]\n",
    "df_class_3 = single_label_df[single_label_df[\"CLASS_3\"] == 1.0]\n",
    "df_class_4 = single_label_df[single_label_df[\"CLASS_4\"] == 1.0]"
   ]
  },
  {
   "cell_type": "code",
   "execution_count": 55,
   "id": "d0482109",
   "metadata": {},
   "outputs": [
    {
     "data": {
      "text/plain": [
       "((281, 7), (88, 7), (75, 7), (175, 7))"
      ]
     },
     "execution_count": 55,
     "metadata": {},
     "output_type": "execute_result"
    }
   ],
   "source": [
    "df_class_1.shape, df_class_2.shape, df_class_3.shape, df_class_4.shape"
   ]
  },
  {
   "cell_type": "code",
   "execution_count": 56,
   "id": "179ff9a5",
   "metadata": {},
   "outputs": [],
   "source": [
    "note_class_1 = pd.merge(note_table, df_class_1, on =\"PAT_DEID\")\n",
    "note_class_2 = pd.merge(note_table, df_class_2, on =\"PAT_DEID\")\n",
    "note_class_3 = pd.merge(note_table, df_class_3, on =\"PAT_DEID\")\n",
    "note_class_4 = pd.merge(note_table, df_class_4, on =\"PAT_DEID\")"
   ]
  },
  {
   "cell_type": "code",
   "execution_count": 57,
   "id": "9b3f1485",
   "metadata": {},
   "outputs": [
    {
     "data": {
      "text/plain": [
       "((557, 12), (196, 12), (232, 12), (430, 12))"
      ]
     },
     "execution_count": 57,
     "metadata": {},
     "output_type": "execute_result"
    }
   ],
   "source": [
    "note_class_1.shape, note_class_2.shape, note_class_3.shape, note_class_4.shape"
   ]
  },
  {
   "cell_type": "code",
   "execution_count": 58,
   "id": "c263db62",
   "metadata": {},
   "outputs": [],
   "source": [
    "note_classes = [note_class_1, note_class_2, note_class_3, note_class_4]"
   ]
  },
  {
   "cell_type": "markdown",
   "id": "8cdcfff4",
   "metadata": {},
   "source": [
    "### Remove terms absent in the training notes "
   ]
  },
  {
   "cell_type": "markdown",
   "id": "3413d0f0",
   "metadata": {},
   "source": [
    "- Count occurence"
   ]
  },
  {
   "cell_type": "code",
   "execution_count": 59,
   "id": "e0c374e1",
   "metadata": {},
   "outputs": [
    {
     "name": "stderr",
     "output_type": "stream",
     "text": [
      "<ipython-input-59-4d88b9377e89>:9: SettingWithCopyWarning: \n",
      "A value is trying to be set on a copy of a slice from a DataFrame.\n",
      "Try using .loc[row_indexer,col_indexer] = value instead\n",
      "\n",
      "See the caveats in the documentation: https://pandas.pydata.org/pandas-docs/stable/user_guide/indexing.html#returning-a-view-versus-a-copy\n",
      "  vocab[\"OCCURENCE\"] = d.values()\n",
      "<ipython-input-59-4d88b9377e89>:9: SettingWithCopyWarning: \n",
      "A value is trying to be set on a copy of a slice from a DataFrame.\n",
      "Try using .loc[row_indexer,col_indexer] = value instead\n",
      "\n",
      "See the caveats in the documentation: https://pandas.pydata.org/pandas-docs/stable/user_guide/indexing.html#returning-a-view-versus-a-copy\n",
      "  vocab[\"OCCURENCE\"] = d.values()\n",
      "<ipython-input-59-4d88b9377e89>:9: SettingWithCopyWarning: \n",
      "A value is trying to be set on a copy of a slice from a DataFrame.\n",
      "Try using .loc[row_indexer,col_indexer] = value instead\n",
      "\n",
      "See the caveats in the documentation: https://pandas.pydata.org/pandas-docs/stable/user_guide/indexing.html#returning-a-view-versus-a-copy\n",
      "  vocab[\"OCCURENCE\"] = d.values()\n",
      "<ipython-input-59-4d88b9377e89>:9: SettingWithCopyWarning: \n",
      "A value is trying to be set on a copy of a slice from a DataFrame.\n",
      "Try using .loc[row_indexer,col_indexer] = value instead\n",
      "\n",
      "See the caveats in the documentation: https://pandas.pydata.org/pandas-docs/stable/user_guide/indexing.html#returning-a-view-versus-a-copy\n",
      "  vocab[\"OCCURENCE\"] = d.values()\n"
     ]
    }
   ],
   "source": [
    "total_vocab = pd.DataFrame()\n",
    "for i, class_name in enumerate([\"class_1\", \"class_2\", \"class_3\", \"class_4\"]):\n",
    "    note_class = note_classes[i]\n",
    "    vocab = exhaustive_vocab[exhaustive_vocab[\"DIAGNOSE\"] == class_name]\n",
    "    names = vocab[\"NAME\"]\n",
    "    d = dict()\n",
    "    for word in names: \n",
    "        d[word] = note_class['NOTE'].str.upper().apply(lambda x: any(y in x for y in [word.upper()])).sum()\n",
    "    vocab[\"OCCURENCE\"] = d.values()\n",
    "    total_vocab = pd.concat([total_vocab, vocab[vocab[\"OCCURENCE\"] != 0]])"
   ]
  },
  {
   "cell_type": "code",
   "execution_count": 60,
   "id": "4e4c9680",
   "metadata": {},
   "outputs": [
    {
     "data": {
      "text/plain": [
       "(408, 4)"
      ]
     },
     "execution_count": 60,
     "metadata": {},
     "output_type": "execute_result"
    }
   ],
   "source": [
    "total_vocab.shape"
   ]
  },
  {
   "cell_type": "code",
   "execution_count": 61,
   "id": "39d4cd8e",
   "metadata": {},
   "outputs": [
    {
     "data": {
      "text/html": [
       "<div>\n",
       "<style scoped>\n",
       "    .dataframe tbody tr th:only-of-type {\n",
       "        vertical-align: middle;\n",
       "    }\n",
       "\n",
       "    .dataframe tbody tr th {\n",
       "        vertical-align: top;\n",
       "    }\n",
       "\n",
       "    .dataframe thead th {\n",
       "        text-align: right;\n",
       "    }\n",
       "</style>\n",
       "<table border=\"1\" class=\"dataframe\">\n",
       "  <thead>\n",
       "    <tr style=\"text-align: right;\">\n",
       "      <th></th>\n",
       "      <th>NAME</th>\n",
       "      <th>DIAGNOSE</th>\n",
       "      <th>TYPE</th>\n",
       "      <th>OCCURENCE</th>\n",
       "    </tr>\n",
       "  </thead>\n",
       "  <tbody>\n",
       "    <tr>\n",
       "      <th>27</th>\n",
       "      <td>fever</td>\n",
       "      <td>class_4</td>\n",
       "      <td>seed</td>\n",
       "      <td>342</td>\n",
       "    </tr>\n",
       "    <tr>\n",
       "      <th>3273</th>\n",
       "      <td>skin</td>\n",
       "      <td>class_4</td>\n",
       "      <td>additional</td>\n",
       "      <td>331</td>\n",
       "    </tr>\n",
       "    <tr>\n",
       "      <th>122</th>\n",
       "      <td>oral</td>\n",
       "      <td>class_4</td>\n",
       "      <td>clinician</td>\n",
       "      <td>313</td>\n",
       "    </tr>\n",
       "    <tr>\n",
       "      <th>3222</th>\n",
       "      <td>infect</td>\n",
       "      <td>class_4</td>\n",
       "      <td>additional</td>\n",
       "      <td>306</td>\n",
       "    </tr>\n",
       "    <tr>\n",
       "      <th>135</th>\n",
       "      <td>cough</td>\n",
       "      <td>class_4</td>\n",
       "      <td>clinician</td>\n",
       "      <td>292</td>\n",
       "    </tr>\n",
       "    <tr>\n",
       "      <th>...</th>\n",
       "      <td>...</td>\n",
       "      <td>...</td>\n",
       "      <td>...</td>\n",
       "      <td>...</td>\n",
       "    </tr>\n",
       "    <tr>\n",
       "      <th>1115</th>\n",
       "      <td>radicular pain</td>\n",
       "      <td>class_1</td>\n",
       "      <td>snomedct_us</td>\n",
       "      <td>1</td>\n",
       "    </tr>\n",
       "    <tr>\n",
       "      <th>1185</th>\n",
       "      <td>pain score</td>\n",
       "      <td>class_1</td>\n",
       "      <td>snomedct_us</td>\n",
       "      <td>1</td>\n",
       "    </tr>\n",
       "    <tr>\n",
       "      <th>3035</th>\n",
       "      <td>h/a</td>\n",
       "      <td>class_1</td>\n",
       "      <td>abbreviation</td>\n",
       "      <td>1</td>\n",
       "    </tr>\n",
       "    <tr>\n",
       "      <th>3109</th>\n",
       "      <td>hurt</td>\n",
       "      <td>class_1</td>\n",
       "      <td>additional</td>\n",
       "      <td>1</td>\n",
       "    </tr>\n",
       "    <tr>\n",
       "      <th>3236</th>\n",
       "      <td>prick</td>\n",
       "      <td>class_1</td>\n",
       "      <td>additional</td>\n",
       "      <td>1</td>\n",
       "    </tr>\n",
       "  </tbody>\n",
       "</table>\n",
       "<p>408 rows × 4 columns</p>\n",
       "</div>"
      ],
      "text/plain": [
       "                NAME DIAGNOSE          TYPE  OCCURENCE\n",
       "27             fever  class_4          seed        342\n",
       "3273            skin  class_4    additional        331\n",
       "122             oral  class_4     clinician        313\n",
       "3222          infect  class_4    additional        306\n",
       "135            cough  class_4     clinician        292\n",
       "...              ...      ...           ...        ...\n",
       "1115  radicular pain  class_1   snomedct_us          1\n",
       "1185      pain score  class_1   snomedct_us          1\n",
       "3035             h/a  class_1  abbreviation          1\n",
       "3109            hurt  class_1    additional          1\n",
       "3236           prick  class_1    additional          1\n",
       "\n",
       "[408 rows x 4 columns]"
      ]
     },
     "execution_count": 61,
     "metadata": {},
     "output_type": "execute_result"
    }
   ],
   "source": [
    "total_vocab = total_vocab.sort_values([\"DIAGNOSE\", \"OCCURENCE\"], ascending=False)\n",
    "total_vocab"
   ]
  },
  {
   "cell_type": "code",
   "execution_count": 62,
   "id": "68cf6d9e",
   "metadata": {},
   "outputs": [
    {
     "data": {
      "text/plain": [
       "LoadJob<project=som-nero-phi-boussard, location=US, id=f4a5003b-1eb1-4b29-966d-d2938c89b2e7>"
      ]
     },
     "execution_count": 62,
     "metadata": {},
     "output_type": "execute_result"
    }
   ],
   "source": [
    "## Save vocabulary \n",
    "# Specify destination for storing dataframe\n",
    "destination = f\"som-nero-phi-boussard.ES_ACU_Oncology.vocab_per_class_nested\"\n",
    "\n",
    "# Save file to Big Query\n",
    "load_job = client.load_table_from_dataframe(dataframe = total_vocab,                                  \n",
    "                                                   destination = destination,\n",
    "                                                   job_config = job_config)\n",
    "\n",
    "# Run the job:\n",
    "load_job.result()"
   ]
  },
  {
   "cell_type": "code",
   "execution_count": 63,
   "id": "3ea880ce",
   "metadata": {},
   "outputs": [],
   "source": [
    "total_vocab.to_csv(\"../vocabulary/vocab_per_class_nested.csv\", index=False)"
   ]
  },
  {
   "cell_type": "markdown",
   "id": "1378fbaa",
   "metadata": {},
   "source": [
    "### Remove nested terms"
   ]
  },
  {
   "cell_type": "code",
   "execution_count": 64,
   "id": "1e4e5b92",
   "metadata": {},
   "outputs": [],
   "source": [
    "total_vocab = pd.read_csv(\"../vocabulary/vocab_per_class_nested.csv\")"
   ]
  },
  {
   "cell_type": "code",
   "execution_count": 65,
   "id": "b2c758a4",
   "metadata": {},
   "outputs": [],
   "source": [
    "diagnoses = {\n",
    "             \"class_1\": list(total_vocab[total_vocab[\"DIAGNOSE\"] == \"class_1\"][\"NAME\"].values), \n",
    "             \"class_2\": list(total_vocab[total_vocab[\"DIAGNOSE\"] == \"class_2\"][\"NAME\"].values), \n",
    "             \"class_3\": list(total_vocab[total_vocab[\"DIAGNOSE\"] == \"class_3\"][\"NAME\"].values), \n",
    "             \"class_4\": list(total_vocab[total_vocab[\"DIAGNOSE\"] == \"class_4\"][\"NAME\"].values)\n",
    "            }"
   ]
  },
  {
   "cell_type": "code",
   "execution_count": 66,
   "id": "54caedcb",
   "metadata": {},
   "outputs": [
    {
     "data": {
      "text/plain": [
       "(158, 82, 48, 120)"
      ]
     },
     "execution_count": 66,
     "metadata": {},
     "output_type": "execute_result"
    }
   ],
   "source": [
    "len(diagnoses[\"class_1\"]), len(diagnoses[\"class_2\"]), len(diagnoses[\"class_3\"]), len(diagnoses[\"class_4\"])"
   ]
  },
  {
   "cell_type": "code",
   "execution_count": 67,
   "id": "5ceb89f8",
   "metadata": {},
   "outputs": [],
   "source": [
    "## Get rid of redundant terms (i.e if term 1 contains term 2, there is no need to consider term 1)\n",
    "\n",
    "for key, terms in diagnoses.items():\n",
    "    terms = [str(x).lower() for x in terms if str(x).lower() != 'nan']\n",
    "    terms = list(set(terms))\n",
    "\n",
    "    still_included = True\n",
    "    while still_included:\n",
    "        still_included = False\n",
    "        for y in terms:\n",
    "            temp = [x for x in terms if y not in x]\n",
    "            if len(temp) != len(terms) - 1:\n",
    "                still_included = True\n",
    "                terms = [y] + temp\n",
    "                break\n",
    "\n",
    "    ## Sanity check\n",
    "    mat = np.zeros((len(terms), len(terms)))\n",
    "    for i in range(len(terms)):\n",
    "        for j in range(len(terms)):\n",
    "            if terms[i] in terms[j]:\n",
    "                mat[i,j] = 1\n",
    "    assert(mat.sum() == mat.shape[0])\n",
    "    \n",
    "    # Update dict\n",
    "    diagnoses[key] = terms"
   ]
  },
  {
   "cell_type": "code",
   "execution_count": 68,
   "id": "a5fea60d",
   "metadata": {},
   "outputs": [
    {
     "data": {
      "text/plain": [
       "(52, 56, 35, 84)"
      ]
     },
     "execution_count": 68,
     "metadata": {},
     "output_type": "execute_result"
    }
   ],
   "source": [
    "len(diagnoses[\"class_1\"]), len(diagnoses[\"class_2\"]), len(diagnoses[\"class_3\"]), len(diagnoses[\"class_4\"])"
   ]
  },
  {
   "cell_type": "code",
   "execution_count": 69,
   "id": "0b8fbac2",
   "metadata": {},
   "outputs": [],
   "source": [
    "vocab_per_class = pd.DataFrame()\n",
    "for key, terms in diagnoses.items(): \n",
    "    vocab_per_class = pd.concat([vocab_per_class, pd.DataFrame({\"NAME\": terms, \"DIAGNOSE\": key})])"
   ]
  },
  {
   "cell_type": "code",
   "execution_count": 70,
   "id": "eee38594",
   "metadata": {},
   "outputs": [
    {
     "data": {
      "text/plain": [
       "227"
      ]
     },
     "execution_count": 70,
     "metadata": {},
     "output_type": "execute_result"
    }
   ],
   "source": [
    "# Size of the vocabulary\n",
    "vocab_per_class.shape[0]"
   ]
  },
  {
   "cell_type": "code",
   "execution_count": 71,
   "id": "94361355",
   "metadata": {},
   "outputs": [
    {
     "data": {
      "text/html": [
       "<div>\n",
       "<style scoped>\n",
       "    .dataframe tbody tr th:only-of-type {\n",
       "        vertical-align: middle;\n",
       "    }\n",
       "\n",
       "    .dataframe tbody tr th {\n",
       "        vertical-align: top;\n",
       "    }\n",
       "\n",
       "    .dataframe thead th {\n",
       "        text-align: right;\n",
       "    }\n",
       "</style>\n",
       "<table border=\"1\" class=\"dataframe\">\n",
       "  <thead>\n",
       "    <tr style=\"text-align: right;\">\n",
       "      <th></th>\n",
       "      <th>NAME</th>\n",
       "      <th>DIAGNOSE</th>\n",
       "      <th>TYPE</th>\n",
       "      <th>OCCURENCE</th>\n",
       "    </tr>\n",
       "  </thead>\n",
       "  <tbody>\n",
       "    <tr>\n",
       "      <th>143</th>\n",
       "      <td>fever</td>\n",
       "      <td>class_4</td>\n",
       "      <td>seed</td>\n",
       "      <td>342</td>\n",
       "    </tr>\n",
       "    <tr>\n",
       "      <th>201</th>\n",
       "      <td>skin</td>\n",
       "      <td>class_4</td>\n",
       "      <td>additional</td>\n",
       "      <td>331</td>\n",
       "    </tr>\n",
       "    <tr>\n",
       "      <th>180</th>\n",
       "      <td>oral</td>\n",
       "      <td>class_4</td>\n",
       "      <td>clinician</td>\n",
       "      <td>313</td>\n",
       "    </tr>\n",
       "    <tr>\n",
       "      <th>157</th>\n",
       "      <td>infect</td>\n",
       "      <td>class_4</td>\n",
       "      <td>additional</td>\n",
       "      <td>306</td>\n",
       "    </tr>\n",
       "    <tr>\n",
       "      <th>145</th>\n",
       "      <td>cough</td>\n",
       "      <td>class_4</td>\n",
       "      <td>clinician</td>\n",
       "      <td>292</td>\n",
       "    </tr>\n",
       "    <tr>\n",
       "      <th>...</th>\n",
       "      <td>...</td>\n",
       "      <td>...</td>\n",
       "      <td>...</td>\n",
       "      <td>...</td>\n",
       "    </tr>\n",
       "    <tr>\n",
       "      <th>16</th>\n",
       "      <td>pounding</td>\n",
       "      <td>class_1</td>\n",
       "      <td>clinician</td>\n",
       "      <td>1</td>\n",
       "    </tr>\n",
       "    <tr>\n",
       "      <th>17</th>\n",
       "      <td>hurt</td>\n",
       "      <td>class_1</td>\n",
       "      <td>additional</td>\n",
       "      <td>1</td>\n",
       "    </tr>\n",
       "    <tr>\n",
       "      <th>26</th>\n",
       "      <td>h/a</td>\n",
       "      <td>class_1</td>\n",
       "      <td>abbreviation</td>\n",
       "      <td>1</td>\n",
       "    </tr>\n",
       "    <tr>\n",
       "      <th>31</th>\n",
       "      <td>excruciating</td>\n",
       "      <td>class_1</td>\n",
       "      <td>clinician</td>\n",
       "      <td>1</td>\n",
       "    </tr>\n",
       "    <tr>\n",
       "      <th>50</th>\n",
       "      <td>prick</td>\n",
       "      <td>class_1</td>\n",
       "      <td>additional</td>\n",
       "      <td>1</td>\n",
       "    </tr>\n",
       "  </tbody>\n",
       "</table>\n",
       "<p>227 rows × 4 columns</p>\n",
       "</div>"
      ],
      "text/plain": [
       "             NAME DIAGNOSE          TYPE  OCCURENCE\n",
       "143         fever  class_4          seed        342\n",
       "201          skin  class_4    additional        331\n",
       "180          oral  class_4     clinician        313\n",
       "157        infect  class_4    additional        306\n",
       "145         cough  class_4     clinician        292\n",
       "..            ...      ...           ...        ...\n",
       "16       pounding  class_1     clinician          1\n",
       "17           hurt  class_1    additional          1\n",
       "26            h/a  class_1  abbreviation          1\n",
       "31   excruciating  class_1     clinician          1\n",
       "50          prick  class_1    additional          1\n",
       "\n",
       "[227 rows x 4 columns]"
      ]
     },
     "execution_count": 71,
     "metadata": {},
     "output_type": "execute_result"
    }
   ],
   "source": [
    "vocab_per_class = pd.merge(vocab_per_class, total_vocab, how=\"left\", on=[\"NAME\", \"DIAGNOSE\"])\n",
    "vocab_per_class = vocab_per_class.sort_values([\"DIAGNOSE\", \"OCCURENCE\"], ascending=False)\n",
    "vocab_per_class"
   ]
  },
  {
   "cell_type": "code",
   "execution_count": 72,
   "id": "0d2c93a3",
   "metadata": {},
   "outputs": [
    {
     "data": {
      "text/plain": [
       "35"
      ]
     },
     "execution_count": 72,
     "metadata": {},
     "output_type": "execute_result"
    }
   ],
   "source": [
    "vocab_per_class[vocab_per_class[\"DIAGNOSE\"] == \"class_3\"].shape[0]"
   ]
  },
  {
   "cell_type": "markdown",
   "id": "a17f247b",
   "metadata": {},
   "source": [
    "### Incorporate Clinician feedback"
   ]
  },
  {
   "cell_type": "markdown",
   "id": "54eeef53",
   "metadata": {},
   "source": [
    "- Use results of the survey: 2 clinicians review the list and a word is said to be relevant if at least one of the clinician say it was relevant\n"
   ]
  },
  {
   "cell_type": "code",
   "execution_count": 73,
   "id": "737cf547",
   "metadata": {},
   "outputs": [],
   "source": [
    "#vocab_per_class[vocab_per_class[\"DIAGNOSE\"] == \"class_1\"]\n",
    "\n",
    "# throat, burn for class 2\n",
    "# skin, yellow, hypothyroid, jaundice for class 3\n",
    "# skin for class 4"
   ]
  },
  {
   "cell_type": "code",
   "execution_count": 74,
   "id": "ee19e1d0",
   "metadata": {},
   "outputs": [
    {
     "data": {
      "text/plain": [
       "((52, 4), (56, 4), (35, 4), (84, 4))"
      ]
     },
     "execution_count": 74,
     "metadata": {},
     "output_type": "execute_result"
    }
   ],
   "source": [
    "vocab_class_1 = vocab_per_class[vocab_per_class[\"DIAGNOSE\"] == \"class_1\"]\n",
    "vocab_class_2 = vocab_per_class[vocab_per_class[\"DIAGNOSE\"] == \"class_2\"]\n",
    "vocab_class_3 = vocab_per_class[vocab_per_class[\"DIAGNOSE\"] == \"class_3\"]\n",
    "vocab_class_4 = vocab_per_class[vocab_per_class[\"DIAGNOSE\"] == \"class_4\"]\n",
    "vocab_class_1.shape, vocab_class_2.shape, vocab_class_3.shape, vocab_class_4.shape"
   ]
  },
  {
   "cell_type": "code",
   "execution_count": 75,
   "id": "b027db98",
   "metadata": {},
   "outputs": [
    {
     "name": "stderr",
     "output_type": "stream",
     "text": [
      "<ipython-input-75-cae1cd754fa5>:1: SettingWithCopyWarning: \n",
      "A value is trying to be set on a copy of a slice from a DataFrame\n",
      "\n",
      "See the caveats in the documentation: https://pandas.pydata.org/pandas-docs/stable/user_guide/indexing.html#returning-a-view-versus-a-copy\n",
      "  vocab_class_4.drop(vocab_class_4.index[(vocab_class_4[\"NAME\"].isin([\"skin\"]))], axis=0, inplace=True)\n",
      "<ipython-input-75-cae1cd754fa5>:2: SettingWithCopyWarning: \n",
      "A value is trying to be set on a copy of a slice from a DataFrame\n",
      "\n",
      "See the caveats in the documentation: https://pandas.pydata.org/pandas-docs/stable/user_guide/indexing.html#returning-a-view-versus-a-copy\n",
      "  vocab_class_3.drop(vocab_class_3.index[(vocab_class_3[\"NAME\"].isin([\"skin\", \"yellow\", \"hypothyroid\", \"jaundice\"]))], axis=0, inplace=True)\n",
      "<ipython-input-75-cae1cd754fa5>:3: SettingWithCopyWarning: \n",
      "A value is trying to be set on a copy of a slice from a DataFrame\n",
      "\n",
      "See the caveats in the documentation: https://pandas.pydata.org/pandas-docs/stable/user_guide/indexing.html#returning-a-view-versus-a-copy\n",
      "  vocab_class_2.drop(vocab_class_2.index[(vocab_class_2[\"NAME\"].isin([\"throat\", \"burn\"]))], axis=0, inplace=True)\n"
     ]
    }
   ],
   "source": [
    "vocab_class_4.drop(vocab_class_4.index[(vocab_class_4[\"NAME\"].isin([\"skin\"]))], axis=0, inplace=True)\n",
    "vocab_class_3.drop(vocab_class_3.index[(vocab_class_3[\"NAME\"].isin([\"skin\", \"yellow\", \"hypothyroid\", \"jaundice\"]))], axis=0, inplace=True)\n",
    "vocab_class_2.drop(vocab_class_2.index[(vocab_class_2[\"NAME\"].isin([\"throat\", \"burn\"]))], axis=0, inplace=True)"
   ]
  },
  {
   "cell_type": "code",
   "execution_count": 76,
   "id": "29f36981",
   "metadata": {},
   "outputs": [
    {
     "data": {
      "text/plain": [
       "((52, 4), (54, 4), (31, 4), (83, 4))"
      ]
     },
     "execution_count": 76,
     "metadata": {},
     "output_type": "execute_result"
    }
   ],
   "source": [
    "vocab_class_1.shape, vocab_class_2.shape, vocab_class_3.shape, vocab_class_4.shape"
   ]
  },
  {
   "cell_type": "code",
   "execution_count": 77,
   "id": "e3a753c5",
   "metadata": {},
   "outputs": [],
   "source": [
    "vocab_per_class = pd.concat([vocab_class_1, vocab_class_2, vocab_class_3, vocab_class_4], axis=0)"
   ]
  },
  {
   "cell_type": "code",
   "execution_count": 78,
   "id": "c92a7910",
   "metadata": {},
   "outputs": [
    {
     "data": {
      "text/html": [
       "<div>\n",
       "<style scoped>\n",
       "    .dataframe tbody tr th:only-of-type {\n",
       "        vertical-align: middle;\n",
       "    }\n",
       "\n",
       "    .dataframe tbody tr th {\n",
       "        vertical-align: top;\n",
       "    }\n",
       "\n",
       "    .dataframe thead th {\n",
       "        text-align: right;\n",
       "    }\n",
       "</style>\n",
       "<table border=\"1\" class=\"dataframe\">\n",
       "  <thead>\n",
       "    <tr style=\"text-align: right;\">\n",
       "      <th></th>\n",
       "      <th>NAME</th>\n",
       "      <th>DIAGNOSE</th>\n",
       "      <th>TYPE</th>\n",
       "      <th>OCCURENCE</th>\n",
       "    </tr>\n",
       "  </thead>\n",
       "  <tbody>\n",
       "    <tr>\n",
       "      <th>6</th>\n",
       "      <td>pain</td>\n",
       "      <td>class_1</td>\n",
       "      <td>seed</td>\n",
       "      <td>512</td>\n",
       "    </tr>\n",
       "    <tr>\n",
       "      <th>4</th>\n",
       "      <td>ach</td>\n",
       "      <td>class_1</td>\n",
       "      <td>additional</td>\n",
       "      <td>461</td>\n",
       "    </tr>\n",
       "    <tr>\n",
       "      <th>12</th>\n",
       "      <td>tens</td>\n",
       "      <td>class_1</td>\n",
       "      <td>additional</td>\n",
       "      <td>374</td>\n",
       "    </tr>\n",
       "    <tr>\n",
       "      <th>2</th>\n",
       "      <td>tender</td>\n",
       "      <td>class_1</td>\n",
       "      <td>clinician</td>\n",
       "      <td>369</td>\n",
       "    </tr>\n",
       "    <tr>\n",
       "      <th>49</th>\n",
       "      <td>numb</td>\n",
       "      <td>class_1</td>\n",
       "      <td>additional</td>\n",
       "      <td>353</td>\n",
       "    </tr>\n",
       "    <tr>\n",
       "      <th>...</th>\n",
       "      <td>...</td>\n",
       "      <td>...</td>\n",
       "      <td>...</td>\n",
       "      <td>...</td>\n",
       "    </tr>\n",
       "    <tr>\n",
       "      <th>174</th>\n",
       "      <td>acute bronchiolitis</td>\n",
       "      <td>class_4</td>\n",
       "      <td>snomedct_us</td>\n",
       "      <td>1</td>\n",
       "    </tr>\n",
       "    <tr>\n",
       "      <th>182</th>\n",
       "      <td>low white count</td>\n",
       "      <td>class_4</td>\n",
       "      <td>clinician</td>\n",
       "      <td>1</td>\n",
       "    </tr>\n",
       "    <tr>\n",
       "      <th>183</th>\n",
       "      <td>psi</td>\n",
       "      <td>class_4</td>\n",
       "      <td>abbreviation</td>\n",
       "      <td>1</td>\n",
       "    </tr>\n",
       "    <tr>\n",
       "      <th>204</th>\n",
       "      <td>ne</td>\n",
       "      <td>class_4</td>\n",
       "      <td>abbreviation</td>\n",
       "      <td>1</td>\n",
       "    </tr>\n",
       "    <tr>\n",
       "      <th>224</th>\n",
       "      <td>agran</td>\n",
       "      <td>class_4</td>\n",
       "      <td>seed</td>\n",
       "      <td>1</td>\n",
       "    </tr>\n",
       "  </tbody>\n",
       "</table>\n",
       "<p>220 rows × 4 columns</p>\n",
       "</div>"
      ],
      "text/plain": [
       "                    NAME DIAGNOSE          TYPE  OCCURENCE\n",
       "6                   pain  class_1          seed        512\n",
       "4                    ach  class_1    additional        461\n",
       "12                  tens  class_1    additional        374\n",
       "2                 tender  class_1     clinician        369\n",
       "49                  numb  class_1    additional        353\n",
       "..                   ...      ...           ...        ...\n",
       "174  acute bronchiolitis  class_4   snomedct_us          1\n",
       "182      low white count  class_4     clinician          1\n",
       "183                 psi   class_4  abbreviation          1\n",
       "204                  ne   class_4  abbreviation          1\n",
       "224                agran  class_4          seed          1\n",
       "\n",
       "[220 rows x 4 columns]"
      ]
     },
     "execution_count": 78,
     "metadata": {},
     "output_type": "execute_result"
    }
   ],
   "source": [
    "vocab_per_class "
   ]
  },
  {
   "cell_type": "markdown",
   "id": "3f55668f",
   "metadata": {},
   "source": [
    "### Remove duplicate across classes"
   ]
  },
  {
   "cell_type": "code",
   "execution_count": 79,
   "id": "a247a6ce",
   "metadata": {},
   "outputs": [
    {
     "data": {
      "text/html": [
       "<div>\n",
       "<style scoped>\n",
       "    .dataframe tbody tr th:only-of-type {\n",
       "        vertical-align: middle;\n",
       "    }\n",
       "\n",
       "    .dataframe tbody tr th {\n",
       "        vertical-align: top;\n",
       "    }\n",
       "\n",
       "    .dataframe thead th {\n",
       "        text-align: right;\n",
       "    }\n",
       "</style>\n",
       "<table border=\"1\" class=\"dataframe\">\n",
       "  <thead>\n",
       "    <tr style=\"text-align: right;\">\n",
       "      <th></th>\n",
       "      <th>NAME</th>\n",
       "      <th>DIAGNOSE</th>\n",
       "      <th>TYPE</th>\n",
       "      <th>OCCURENCE</th>\n",
       "    </tr>\n",
       "  </thead>\n",
       "  <tbody>\n",
       "    <tr>\n",
       "      <th>72</th>\n",
       "      <td>cramp</td>\n",
       "      <td>class_2</td>\n",
       "      <td>additional</td>\n",
       "      <td>6</td>\n",
       "    </tr>\n",
       "    <tr>\n",
       "      <th>92</th>\n",
       "      <td>spasm</td>\n",
       "      <td>class_2</td>\n",
       "      <td>additional</td>\n",
       "      <td>5</td>\n",
       "    </tr>\n",
       "    <tr>\n",
       "      <th>123</th>\n",
       "      <td>dizz</td>\n",
       "      <td>class_3</td>\n",
       "      <td>additional</td>\n",
       "      <td>96</td>\n",
       "    </tr>\n",
       "    <tr>\n",
       "      <th>131</th>\n",
       "      <td>lightheaded</td>\n",
       "      <td>class_3</td>\n",
       "      <td>additional</td>\n",
       "      <td>75</td>\n",
       "    </tr>\n",
       "    <tr>\n",
       "      <th>130</th>\n",
       "      <td>light-headed</td>\n",
       "      <td>class_3</td>\n",
       "      <td>additional</td>\n",
       "      <td>2</td>\n",
       "    </tr>\n",
       "    <tr>\n",
       "      <th>119</th>\n",
       "      <td>light headed</td>\n",
       "      <td>class_3</td>\n",
       "      <td>clinician</td>\n",
       "      <td>1</td>\n",
       "    </tr>\n",
       "    <tr>\n",
       "      <th>202</th>\n",
       "      <td>cbc</td>\n",
       "      <td>class_4</td>\n",
       "      <td>abbreviation</td>\n",
       "      <td>220</td>\n",
       "    </tr>\n",
       "    <tr>\n",
       "      <th>211</th>\n",
       "      <td>shortness of breath</td>\n",
       "      <td>class_4</td>\n",
       "      <td>clinician</td>\n",
       "      <td>196</td>\n",
       "    </tr>\n",
       "    <tr>\n",
       "      <th>221</th>\n",
       "      <td>sob</td>\n",
       "      <td>class_4</td>\n",
       "      <td>additional</td>\n",
       "      <td>141</td>\n",
       "    </tr>\n",
       "    <tr>\n",
       "      <th>189</th>\n",
       "      <td>weak</td>\n",
       "      <td>class_4</td>\n",
       "      <td>additional</td>\n",
       "      <td>131</td>\n",
       "    </tr>\n",
       "    <tr>\n",
       "      <th>160</th>\n",
       "      <td>fatigue</td>\n",
       "      <td>class_4</td>\n",
       "      <td>additional</td>\n",
       "      <td>106</td>\n",
       "    </tr>\n",
       "    <tr>\n",
       "      <th>217</th>\n",
       "      <td>dyspnea</td>\n",
       "      <td>class_4</td>\n",
       "      <td>clinician</td>\n",
       "      <td>51</td>\n",
       "    </tr>\n",
       "    <tr>\n",
       "      <th>210</th>\n",
       "      <td>sweat</td>\n",
       "      <td>class_4</td>\n",
       "      <td>additional</td>\n",
       "      <td>41</td>\n",
       "    </tr>\n",
       "    <tr>\n",
       "      <th>171</th>\n",
       "      <td>oxygen</td>\n",
       "      <td>class_4</td>\n",
       "      <td>clinician</td>\n",
       "      <td>36</td>\n",
       "    </tr>\n",
       "  </tbody>\n",
       "</table>\n",
       "</div>"
      ],
      "text/plain": [
       "                    NAME DIAGNOSE          TYPE  OCCURENCE\n",
       "72                 cramp  class_2    additional          6\n",
       "92                 spasm  class_2    additional          5\n",
       "123                 dizz  class_3    additional         96\n",
       "131          lightheaded  class_3    additional         75\n",
       "130         light-headed  class_3    additional          2\n",
       "119         light headed  class_3     clinician          1\n",
       "202                  cbc  class_4  abbreviation        220\n",
       "211  shortness of breath  class_4     clinician        196\n",
       "221                  sob  class_4    additional        141\n",
       "189                 weak  class_4    additional        131\n",
       "160              fatigue  class_4    additional        106\n",
       "217              dyspnea  class_4     clinician         51\n",
       "210                sweat  class_4    additional         41\n",
       "171               oxygen  class_4     clinician         36"
      ]
     },
     "execution_count": 79,
     "metadata": {},
     "output_type": "execute_result"
    }
   ],
   "source": [
    "duplicates = vocab_per_class.duplicated([\"NAME\"])\n",
    "vocab_per_class[duplicates]"
   ]
  },
  {
   "cell_type": "code",
   "execution_count": 80,
   "id": "00cdc9d3",
   "metadata": {},
   "outputs": [
    {
     "data": {
      "text/html": [
       "<div>\n",
       "<style scoped>\n",
       "    .dataframe tbody tr th:only-of-type {\n",
       "        vertical-align: middle;\n",
       "    }\n",
       "\n",
       "    .dataframe tbody tr th {\n",
       "        vertical-align: top;\n",
       "    }\n",
       "\n",
       "    .dataframe thead th {\n",
       "        text-align: right;\n",
       "    }\n",
       "</style>\n",
       "<table border=\"1\" class=\"dataframe\">\n",
       "  <thead>\n",
       "    <tr style=\"text-align: right;\">\n",
       "      <th></th>\n",
       "      <th>NAME</th>\n",
       "      <th>DIAGNOSE</th>\n",
       "      <th>TYPE</th>\n",
       "      <th>OCCURENCE</th>\n",
       "    </tr>\n",
       "  </thead>\n",
       "  <tbody>\n",
       "    <tr>\n",
       "      <th>20</th>\n",
       "      <td>cramp</td>\n",
       "      <td>class_1</td>\n",
       "      <td>seed</td>\n",
       "      <td>21</td>\n",
       "    </tr>\n",
       "    <tr>\n",
       "      <th>72</th>\n",
       "      <td>cramp</td>\n",
       "      <td>class_2</td>\n",
       "      <td>additional</td>\n",
       "      <td>6</td>\n",
       "    </tr>\n",
       "  </tbody>\n",
       "</table>\n",
       "</div>"
      ],
      "text/plain": [
       "     NAME DIAGNOSE        TYPE  OCCURENCE\n",
       "20  cramp  class_1        seed         21\n",
       "72  cramp  class_2  additional          6"
      ]
     },
     "execution_count": 80,
     "metadata": {},
     "output_type": "execute_result"
    }
   ],
   "source": [
    "# check in which class this word appears\n",
    "vocab_per_class[vocab_per_class[\"NAME\"] == \"cramp\"]"
   ]
  },
  {
   "cell_type": "markdown",
   "id": "b6422205",
   "metadata": {},
   "source": [
    "- For duplicated words, calculate the frequency of this word in each class text and assign it to the class for which is has the highest frequency"
   ]
  },
  {
   "cell_type": "code",
   "execution_count": 81,
   "id": "8e0ca7d8",
   "metadata": {},
   "outputs": [
    {
     "data": {
      "text/plain": [
       "0.07540394973070018"
      ]
     },
     "execution_count": 81,
     "metadata": {},
     "output_type": "execute_result"
    }
   ],
   "source": [
    "relevant_note = note_class_1['NOTE'].str.upper().apply(lambda x: any(y in x for y in [\"SPASM\"]))\n",
    "relevant_note.sum() / note_class_1.shape[0]"
   ]
  },
  {
   "cell_type": "code",
   "execution_count": 82,
   "id": "c1c81480",
   "metadata": {},
   "outputs": [
    {
     "data": {
      "text/plain": [
       "0.14285714285714285"
      ]
     },
     "execution_count": 82,
     "metadata": {},
     "output_type": "execute_result"
    }
   ],
   "source": [
    "relevant_note = note_class_2['NOTE'].str.upper().apply(lambda x: any(y in x for y in [\"SWEAT\"]))\n",
    "relevant_note.sum() / note_class_2.shape[0]"
   ]
  },
  {
   "cell_type": "code",
   "execution_count": 83,
   "id": "1e5386a4",
   "metadata": {},
   "outputs": [
    {
     "data": {
      "text/plain": [
       "0.28448275862068967"
      ]
     },
     "execution_count": 83,
     "metadata": {},
     "output_type": "execute_result"
    }
   ],
   "source": [
    "relevant_note = note_class_3['NOTE'].str.upper().apply(lambda x: any(y in x for y in [\"FATIGUE\"]))\n",
    "relevant_note.sum() / note_class_3.shape[0]"
   ]
  },
  {
   "cell_type": "code",
   "execution_count": 84,
   "id": "3d9bff2e",
   "metadata": {},
   "outputs": [
    {
     "data": {
      "text/plain": [
       "0.24651162790697675"
      ]
     },
     "execution_count": 84,
     "metadata": {},
     "output_type": "execute_result"
    }
   ],
   "source": [
    "relevant_note = note_class_4['NOTE'].str.upper().apply(lambda x: any(y in x for y in [\"FATIGUE\"]))\n",
    "relevant_note.sum() / note_class_4.shape[0]"
   ]
  },
  {
   "cell_type": "code",
   "execution_count": 85,
   "id": "a3854bb1",
   "metadata": {},
   "outputs": [
    {
     "name": "stderr",
     "output_type": "stream",
     "text": [
      "<ipython-input-85-046f22407543>:1: SettingWithCopyWarning: \n",
      "A value is trying to be set on a copy of a slice from a DataFrame\n",
      "\n",
      "See the caveats in the documentation: https://pandas.pydata.org/pandas-docs/stable/user_guide/indexing.html#returning-a-view-versus-a-copy\n",
      "  vocab_class_4.drop(vocab_class_4.index[(vocab_class_4[\"NAME\"].isin([\"weak\", \"fatigue\", \"sweat\", ' cbc']))], axis=0, inplace=True)\n",
      "<ipython-input-85-046f22407543>:2: SettingWithCopyWarning: \n",
      "A value is trying to be set on a copy of a slice from a DataFrame\n",
      "\n",
      "See the caveats in the documentation: https://pandas.pydata.org/pandas-docs/stable/user_guide/indexing.html#returning-a-view-versus-a-copy\n",
      "  vocab_class_3.drop(vocab_class_3.index[(vocab_class_3[\"NAME\"].isin([\"light-headed\", \"light headed\", \"shortness of breath\", \"sob\", \"dyspnea\", \"oxygen\"]))], axis=0, inplace=True)\n",
      "<ipython-input-85-046f22407543>:3: SettingWithCopyWarning: \n",
      "A value is trying to be set on a copy of a slice from a DataFrame\n",
      "\n",
      "See the caveats in the documentation: https://pandas.pydata.org/pandas-docs/stable/user_guide/indexing.html#returning-a-view-versus-a-copy\n",
      "  vocab_class_2.drop(vocab_class_2.index[(vocab_class_2[\"NAME\"].isin([\"dizz\", \"cramp\", \"spasm\", \"lightheaded\"]))], axis=0, inplace=True)\n"
     ]
    }
   ],
   "source": [
    "vocab_class_4.drop(vocab_class_4.index[(vocab_class_4[\"NAME\"].isin([\"weak\", \"fatigue\", \"sweat\", ' cbc']))], axis=0, inplace=True)\n",
    "vocab_class_3.drop(vocab_class_3.index[(vocab_class_3[\"NAME\"].isin([\"light-headed\", \"light headed\", \"shortness of breath\", \"sob\", \"dyspnea\", \"oxygen\"]))], axis=0, inplace=True)\n",
    "vocab_class_2.drop(vocab_class_2.index[(vocab_class_2[\"NAME\"].isin([\"dizz\", \"cramp\", \"spasm\", \"lightheaded\"]))], axis=0, inplace=True)"
   ]
  },
  {
   "cell_type": "code",
   "execution_count": 86,
   "id": "3dda8322",
   "metadata": {},
   "outputs": [
    {
     "data": {
      "text/plain": [
       "((52, 4), (50, 4), (25, 4), (79, 4))"
      ]
     },
     "execution_count": 86,
     "metadata": {},
     "output_type": "execute_result"
    }
   ],
   "source": [
    "vocab_class_1.shape, vocab_class_2.shape, vocab_class_3.shape, vocab_class_4.shape"
   ]
  },
  {
   "cell_type": "code",
   "execution_count": 87,
   "id": "a4e4c192",
   "metadata": {},
   "outputs": [],
   "source": [
    "vocab_per_class = pd.concat([vocab_class_1, vocab_class_2, vocab_class_3, vocab_class_4], axis=0)"
   ]
  },
  {
   "cell_type": "code",
   "execution_count": 88,
   "id": "dd8fe692",
   "metadata": {},
   "outputs": [
    {
     "data": {
      "text/html": [
       "<div>\n",
       "<style scoped>\n",
       "    .dataframe tbody tr th:only-of-type {\n",
       "        vertical-align: middle;\n",
       "    }\n",
       "\n",
       "    .dataframe tbody tr th {\n",
       "        vertical-align: top;\n",
       "    }\n",
       "\n",
       "    .dataframe thead th {\n",
       "        text-align: right;\n",
       "    }\n",
       "</style>\n",
       "<table border=\"1\" class=\"dataframe\">\n",
       "  <thead>\n",
       "    <tr style=\"text-align: right;\">\n",
       "      <th></th>\n",
       "      <th>NAME</th>\n",
       "      <th>DIAGNOSE</th>\n",
       "      <th>TYPE</th>\n",
       "      <th>OCCURENCE</th>\n",
       "    </tr>\n",
       "  </thead>\n",
       "  <tbody>\n",
       "    <tr>\n",
       "      <th>143</th>\n",
       "      <td>fever</td>\n",
       "      <td>class_4</td>\n",
       "      <td>seed</td>\n",
       "      <td>342</td>\n",
       "    </tr>\n",
       "    <tr>\n",
       "      <th>180</th>\n",
       "      <td>oral</td>\n",
       "      <td>class_4</td>\n",
       "      <td>clinician</td>\n",
       "      <td>313</td>\n",
       "    </tr>\n",
       "    <tr>\n",
       "      <th>157</th>\n",
       "      <td>infect</td>\n",
       "      <td>class_4</td>\n",
       "      <td>additional</td>\n",
       "      <td>306</td>\n",
       "    </tr>\n",
       "    <tr>\n",
       "      <th>145</th>\n",
       "      <td>cough</td>\n",
       "      <td>class_4</td>\n",
       "      <td>clinician</td>\n",
       "      <td>292</td>\n",
       "    </tr>\n",
       "    <tr>\n",
       "      <th>203</th>\n",
       "      <td>wbc</td>\n",
       "      <td>class_4</td>\n",
       "      <td>abbreviation</td>\n",
       "      <td>261</td>\n",
       "    </tr>\n",
       "    <tr>\n",
       "      <th>222</th>\n",
       "      <td>lung</td>\n",
       "      <td>class_4</td>\n",
       "      <td>additional</td>\n",
       "      <td>252</td>\n",
       "    </tr>\n",
       "    <tr>\n",
       "      <th>148</th>\n",
       "      <td>neut</td>\n",
       "      <td>class_4</td>\n",
       "      <td>seed</td>\n",
       "      <td>246</td>\n",
       "    </tr>\n",
       "    <tr>\n",
       "      <th>170</th>\n",
       "      <td>respirat</td>\n",
       "      <td>class_4</td>\n",
       "      <td>additional</td>\n",
       "      <td>243</td>\n",
       "    </tr>\n",
       "    <tr>\n",
       "      <th>147</th>\n",
       "      <td>chill</td>\n",
       "      <td>class_4</td>\n",
       "      <td>additional</td>\n",
       "      <td>235</td>\n",
       "    </tr>\n",
       "    <tr>\n",
       "      <th>226</th>\n",
       "      <td>cxr</td>\n",
       "      <td>class_4</td>\n",
       "      <td>abbreviation</td>\n",
       "      <td>199</td>\n",
       "    </tr>\n",
       "    <tr>\n",
       "      <th>156</th>\n",
       "      <td>seps</td>\n",
       "      <td>class_4</td>\n",
       "      <td>seed</td>\n",
       "      <td>197</td>\n",
       "    </tr>\n",
       "    <tr>\n",
       "      <th>211</th>\n",
       "      <td>shortness of breath</td>\n",
       "      <td>class_4</td>\n",
       "      <td>clinician</td>\n",
       "      <td>196</td>\n",
       "    </tr>\n",
       "    <tr>\n",
       "      <th>146</th>\n",
       "      <td>febri</td>\n",
       "      <td>class_4</td>\n",
       "      <td>additional</td>\n",
       "      <td>181</td>\n",
       "    </tr>\n",
       "    <tr>\n",
       "      <th>166</th>\n",
       "      <td>bp</td>\n",
       "      <td>class_4</td>\n",
       "      <td>abbreviation</td>\n",
       "      <td>160</td>\n",
       "    </tr>\n",
       "    <tr>\n",
       "      <th>150</th>\n",
       "      <td>pneumo</td>\n",
       "      <td>class_4</td>\n",
       "      <td>seed</td>\n",
       "      <td>159</td>\n",
       "    </tr>\n",
       "    <tr>\n",
       "      <th>221</th>\n",
       "      <td>sob</td>\n",
       "      <td>class_4</td>\n",
       "      <td>additional</td>\n",
       "      <td>141</td>\n",
       "    </tr>\n",
       "    <tr>\n",
       "      <th>219</th>\n",
       "      <td>antibiotics</td>\n",
       "      <td>class_4</td>\n",
       "      <td>clinician</td>\n",
       "      <td>138</td>\n",
       "    </tr>\n",
       "    <tr>\n",
       "      <th>213</th>\n",
       "      <td>viral</td>\n",
       "      <td>class_4</td>\n",
       "      <td>additional</td>\n",
       "      <td>110</td>\n",
       "    </tr>\n",
       "    <tr>\n",
       "      <th>188</th>\n",
       "      <td>elevated</td>\n",
       "      <td>class_4</td>\n",
       "      <td>clinician</td>\n",
       "      <td>106</td>\n",
       "    </tr>\n",
       "    <tr>\n",
       "      <th>199</th>\n",
       "      <td>anc</td>\n",
       "      <td>class_4</td>\n",
       "      <td>abbreviation</td>\n",
       "      <td>103</td>\n",
       "    </tr>\n",
       "    <tr>\n",
       "      <th>190</th>\n",
       "      <td>neupogen</td>\n",
       "      <td>class_4</td>\n",
       "      <td>clinician</td>\n",
       "      <td>102</td>\n",
       "    </tr>\n",
       "    <tr>\n",
       "      <th>165</th>\n",
       "      <td>core</td>\n",
       "      <td>class_4</td>\n",
       "      <td>clinician</td>\n",
       "      <td>88</td>\n",
       "    </tr>\n",
       "    <tr>\n",
       "      <th>176</th>\n",
       "      <td>bacteria</td>\n",
       "      <td>class_4</td>\n",
       "      <td>additional</td>\n",
       "      <td>82</td>\n",
       "    </tr>\n",
       "    <tr>\n",
       "      <th>178</th>\n",
       "      <td>pancy</td>\n",
       "      <td>class_4</td>\n",
       "      <td>seed</td>\n",
       "      <td>77</td>\n",
       "    </tr>\n",
       "    <tr>\n",
       "      <th>214</th>\n",
       "      <td>tissue</td>\n",
       "      <td>class_4</td>\n",
       "      <td>additional</td>\n",
       "      <td>77</td>\n",
       "    </tr>\n",
       "    <tr>\n",
       "      <th>149</th>\n",
       "      <td>confus</td>\n",
       "      <td>class_4</td>\n",
       "      <td>additional</td>\n",
       "      <td>76</td>\n",
       "    </tr>\n",
       "    <tr>\n",
       "      <th>155</th>\n",
       "      <td>consolid</td>\n",
       "      <td>class_4</td>\n",
       "      <td>seed</td>\n",
       "      <td>76</td>\n",
       "    </tr>\n",
       "    <tr>\n",
       "      <th>192</th>\n",
       "      <td>rectal</td>\n",
       "      <td>class_4</td>\n",
       "      <td>clinician</td>\n",
       "      <td>73</td>\n",
       "    </tr>\n",
       "    <tr>\n",
       "      <th>216</th>\n",
       "      <td>shock</td>\n",
       "      <td>class_4</td>\n",
       "      <td>clinician</td>\n",
       "      <td>68</td>\n",
       "    </tr>\n",
       "    <tr>\n",
       "      <th>167</th>\n",
       "      <td>neulasta</td>\n",
       "      <td>class_4</td>\n",
       "      <td>clinician</td>\n",
       "      <td>67</td>\n",
       "    </tr>\n",
       "  </tbody>\n",
       "</table>\n",
       "</div>"
      ],
      "text/plain": [
       "                    NAME DIAGNOSE          TYPE  OCCURENCE\n",
       "143                fever  class_4          seed        342\n",
       "180                 oral  class_4     clinician        313\n",
       "157               infect  class_4    additional        306\n",
       "145                cough  class_4     clinician        292\n",
       "203                 wbc   class_4  abbreviation        261\n",
       "222                 lung  class_4    additional        252\n",
       "148                 neut  class_4          seed        246\n",
       "170             respirat  class_4    additional        243\n",
       "147                chill  class_4    additional        235\n",
       "226                 cxr   class_4  abbreviation        199\n",
       "156                 seps  class_4          seed        197\n",
       "211  shortness of breath  class_4     clinician        196\n",
       "146                febri  class_4    additional        181\n",
       "166                  bp   class_4  abbreviation        160\n",
       "150               pneumo  class_4          seed        159\n",
       "221                  sob  class_4    additional        141\n",
       "219          antibiotics  class_4     clinician        138\n",
       "213                viral  class_4    additional        110\n",
       "188             elevated  class_4     clinician        106\n",
       "199                 anc   class_4  abbreviation        103\n",
       "190             neupogen  class_4     clinician        102\n",
       "165                 core  class_4     clinician         88\n",
       "176             bacteria  class_4    additional         82\n",
       "178                pancy  class_4          seed         77\n",
       "214               tissue  class_4    additional         77\n",
       "149               confus  class_4    additional         76\n",
       "155             consolid  class_4          seed         76\n",
       "192               rectal  class_4     clinician         73\n",
       "216                shock  class_4     clinician         68\n",
       "167             neulasta  class_4     clinician         67"
      ]
     },
     "execution_count": 88,
     "metadata": {},
     "output_type": "execute_result"
    }
   ],
   "source": [
    "vocab_per_class[vocab_per_class[\"DIAGNOSE\"] == \"class_4\"][:30]"
   ]
  },
  {
   "cell_type": "markdown",
   "id": "b5b2f97e",
   "metadata": {},
   "source": [
    "- Save final vocabulary"
   ]
  },
  {
   "cell_type": "code",
   "execution_count": 89,
   "id": "8cc431dd",
   "metadata": {},
   "outputs": [
    {
     "data": {
      "text/plain": [
       "LoadJob<project=som-nero-phi-boussard, location=US, id=4149f267-1d60-4d16-b3d0-3b2dab61b3cf>"
      ]
     },
     "execution_count": 89,
     "metadata": {},
     "output_type": "execute_result"
    }
   ],
   "source": [
    "## Save vocabulary \n",
    "# Specify destination for storing dataframe\n",
    "destination = f\"som-nero-phi-boussard.ES_ACU_Oncology.vocab_per_class\"\n",
    "\n",
    "# Save file to Big Query\n",
    "load_job = client.load_table_from_dataframe(dataframe = vocab_per_class,                                  \n",
    "                                                   destination = destination,\n",
    "                                                   job_config = job_config)\n",
    "\n",
    "# Run the job:\n",
    "load_job.result()"
   ]
  },
  {
   "cell_type": "code",
   "execution_count": 90,
   "id": "e53bc86e",
   "metadata": {},
   "outputs": [],
   "source": [
    "vocab_per_class.to_csv(\"../vocabulary/vocab_per_class.csv\", index=False)"
   ]
  },
  {
   "cell_type": "code",
   "execution_count": 91,
   "id": "37314857",
   "metadata": {},
   "outputs": [],
   "source": [
    "vocab_per_class = pd.read_csv(\"../vocabulary/vocab_per_class.csv\")"
   ]
  },
  {
   "cell_type": "code",
   "execution_count": 92,
   "id": "d34978ec",
   "metadata": {},
   "outputs": [
    {
     "data": {
      "text/html": [
       "<div>\n",
       "<style scoped>\n",
       "    .dataframe tbody tr th:only-of-type {\n",
       "        vertical-align: middle;\n",
       "    }\n",
       "\n",
       "    .dataframe tbody tr th {\n",
       "        vertical-align: top;\n",
       "    }\n",
       "\n",
       "    .dataframe thead th {\n",
       "        text-align: right;\n",
       "    }\n",
       "</style>\n",
       "<table border=\"1\" class=\"dataframe\">\n",
       "  <thead>\n",
       "    <tr style=\"text-align: right;\">\n",
       "      <th></th>\n",
       "      <th>NAME</th>\n",
       "      <th>DIAGNOSE</th>\n",
       "      <th>TYPE</th>\n",
       "      <th>OCCURENCE</th>\n",
       "    </tr>\n",
       "  </thead>\n",
       "  <tbody>\n",
       "    <tr>\n",
       "      <th>177</th>\n",
       "      <td>low-grade</td>\n",
       "      <td>class_4</td>\n",
       "      <td>clinician</td>\n",
       "      <td>13</td>\n",
       "    </tr>\n",
       "    <tr>\n",
       "      <th>178</th>\n",
       "      <td>faint</td>\n",
       "      <td>class_4</td>\n",
       "      <td>additional</td>\n",
       "      <td>10</td>\n",
       "    </tr>\n",
       "    <tr>\n",
       "      <th>179</th>\n",
       "      <td>leukocyte</td>\n",
       "      <td>class_4</td>\n",
       "      <td>additional</td>\n",
       "      <td>10</td>\n",
       "    </tr>\n",
       "    <tr>\n",
       "      <th>180</th>\n",
       "      <td>flushing</td>\n",
       "      <td>class_4</td>\n",
       "      <td>additional</td>\n",
       "      <td>9</td>\n",
       "    </tr>\n",
       "    <tr>\n",
       "      <th>181</th>\n",
       "      <td>pressors</td>\n",
       "      <td>class_4</td>\n",
       "      <td>clinician</td>\n",
       "      <td>8</td>\n",
       "    </tr>\n",
       "    <tr>\n",
       "      <th>182</th>\n",
       "      <td>difficulty breathing</td>\n",
       "      <td>class_4</td>\n",
       "      <td>additional</td>\n",
       "      <td>8</td>\n",
       "    </tr>\n",
       "    <tr>\n",
       "      <th>183</th>\n",
       "      <td>hypoxemia</td>\n",
       "      <td>class_4</td>\n",
       "      <td>clinician</td>\n",
       "      <td>7</td>\n",
       "    </tr>\n",
       "    <tr>\n",
       "      <th>184</th>\n",
       "      <td>energy</td>\n",
       "      <td>class_4</td>\n",
       "      <td>additional</td>\n",
       "      <td>7</td>\n",
       "    </tr>\n",
       "    <tr>\n",
       "      <th>185</th>\n",
       "      <td>map</td>\n",
       "      <td>class_4</td>\n",
       "      <td>abbreviation</td>\n",
       "      <td>6</td>\n",
       "    </tr>\n",
       "    <tr>\n",
       "      <th>186</th>\n",
       "      <td>phlegm</td>\n",
       "      <td>class_4</td>\n",
       "      <td>additional</td>\n",
       "      <td>5</td>\n",
       "    </tr>\n",
       "    <tr>\n",
       "      <th>187</th>\n",
       "      <td>shiver</td>\n",
       "      <td>class_4</td>\n",
       "      <td>additional</td>\n",
       "      <td>4</td>\n",
       "    </tr>\n",
       "    <tr>\n",
       "      <th>188</th>\n",
       "      <td>disorient</td>\n",
       "      <td>class_4</td>\n",
       "      <td>additional</td>\n",
       "      <td>3</td>\n",
       "    </tr>\n",
       "    <tr>\n",
       "      <th>189</th>\n",
       "      <td>f/c</td>\n",
       "      <td>class_4</td>\n",
       "      <td>abbreviation</td>\n",
       "      <td>3</td>\n",
       "    </tr>\n",
       "    <tr>\n",
       "      <th>190</th>\n",
       "      <td>hypertherm</td>\n",
       "      <td>class_4</td>\n",
       "      <td>seed</td>\n",
       "      <td>3</td>\n",
       "    </tr>\n",
       "    <tr>\n",
       "      <th>191</th>\n",
       "      <td>thermometer</td>\n",
       "      <td>class_4</td>\n",
       "      <td>clinician</td>\n",
       "      <td>3</td>\n",
       "    </tr>\n",
       "    <tr>\n",
       "      <th>192</th>\n",
       "      <td>feeling hot</td>\n",
       "      <td>class_4</td>\n",
       "      <td>additional</td>\n",
       "      <td>2</td>\n",
       "    </tr>\n",
       "    <tr>\n",
       "      <th>193</th>\n",
       "      <td>idiopathic pulmonary fibrosis</td>\n",
       "      <td>class_4</td>\n",
       "      <td>snomedct_us</td>\n",
       "      <td>2</td>\n",
       "    </tr>\n",
       "    <tr>\n",
       "      <th>194</th>\n",
       "      <td>fn</td>\n",
       "      <td>class_4</td>\n",
       "      <td>abbreviation</td>\n",
       "      <td>2</td>\n",
       "    </tr>\n",
       "    <tr>\n",
       "      <th>195</th>\n",
       "      <td>toxin</td>\n",
       "      <td>class_4</td>\n",
       "      <td>additional</td>\n",
       "      <td>2</td>\n",
       "    </tr>\n",
       "    <tr>\n",
       "      <th>196</th>\n",
       "      <td>high temperature</td>\n",
       "      <td>class_4</td>\n",
       "      <td>additional</td>\n",
       "      <td>2</td>\n",
       "    </tr>\n",
       "    <tr>\n",
       "      <th>197</th>\n",
       "      <td>malaria</td>\n",
       "      <td>class_4</td>\n",
       "      <td>snomedct_us</td>\n",
       "      <td>2</td>\n",
       "    </tr>\n",
       "    <tr>\n",
       "      <th>198</th>\n",
       "      <td>trembl</td>\n",
       "      <td>class_4</td>\n",
       "      <td>additional</td>\n",
       "      <td>2</td>\n",
       "    </tr>\n",
       "    <tr>\n",
       "      <th>199</th>\n",
       "      <td>body temperature</td>\n",
       "      <td>class_4</td>\n",
       "      <td>clinician</td>\n",
       "      <td>1</td>\n",
       "    </tr>\n",
       "    <tr>\n",
       "      <th>200</th>\n",
       "      <td>presumed source</td>\n",
       "      <td>class_4</td>\n",
       "      <td>clinician</td>\n",
       "      <td>1</td>\n",
       "    </tr>\n",
       "    <tr>\n",
       "      <th>201</th>\n",
       "      <td>acute bronchiolitis</td>\n",
       "      <td>class_4</td>\n",
       "      <td>snomedct_us</td>\n",
       "      <td>1</td>\n",
       "    </tr>\n",
       "    <tr>\n",
       "      <th>202</th>\n",
       "      <td>low white count</td>\n",
       "      <td>class_4</td>\n",
       "      <td>clinician</td>\n",
       "      <td>1</td>\n",
       "    </tr>\n",
       "    <tr>\n",
       "      <th>203</th>\n",
       "      <td>psi</td>\n",
       "      <td>class_4</td>\n",
       "      <td>abbreviation</td>\n",
       "      <td>1</td>\n",
       "    </tr>\n",
       "    <tr>\n",
       "      <th>204</th>\n",
       "      <td>ne</td>\n",
       "      <td>class_4</td>\n",
       "      <td>abbreviation</td>\n",
       "      <td>1</td>\n",
       "    </tr>\n",
       "    <tr>\n",
       "      <th>205</th>\n",
       "      <td>agran</td>\n",
       "      <td>class_4</td>\n",
       "      <td>seed</td>\n",
       "      <td>1</td>\n",
       "    </tr>\n",
       "  </tbody>\n",
       "</table>\n",
       "</div>"
      ],
      "text/plain": [
       "                              NAME DIAGNOSE          TYPE  OCCURENCE\n",
       "177                      low-grade  class_4     clinician         13\n",
       "178                          faint  class_4    additional         10\n",
       "179                      leukocyte  class_4    additional         10\n",
       "180                       flushing  class_4    additional          9\n",
       "181                       pressors  class_4     clinician          8\n",
       "182           difficulty breathing  class_4    additional          8\n",
       "183                      hypoxemia  class_4     clinician          7\n",
       "184                         energy  class_4    additional          7\n",
       "185                           map   class_4  abbreviation          6\n",
       "186                         phlegm  class_4    additional          5\n",
       "187                         shiver  class_4    additional          4\n",
       "188                      disorient  class_4    additional          3\n",
       "189                            f/c  class_4  abbreviation          3\n",
       "190                     hypertherm  class_4          seed          3\n",
       "191                    thermometer  class_4     clinician          3\n",
       "192                    feeling hot  class_4    additional          2\n",
       "193  idiopathic pulmonary fibrosis  class_4   snomedct_us          2\n",
       "194                            fn   class_4  abbreviation          2\n",
       "195                          toxin  class_4    additional          2\n",
       "196               high temperature  class_4    additional          2\n",
       "197                        malaria  class_4   snomedct_us          2\n",
       "198                         trembl  class_4    additional          2\n",
       "199               body temperature  class_4     clinician          1\n",
       "200                presumed source  class_4     clinician          1\n",
       "201            acute bronchiolitis  class_4   snomedct_us          1\n",
       "202                low white count  class_4     clinician          1\n",
       "203                           psi   class_4  abbreviation          1\n",
       "204                            ne   class_4  abbreviation          1\n",
       "205                          agran  class_4          seed          1"
      ]
     },
     "execution_count": 92,
     "metadata": {},
     "output_type": "execute_result"
    }
   ],
   "source": [
    "vocab_per_class[vocab_per_class[\"DIAGNOSE\"] == \"class_4\"][50:80]"
   ]
  },
  {
   "cell_type": "markdown",
   "id": "02be65de",
   "metadata": {},
   "source": [
    "**Extract Stats** "
   ]
  },
  {
   "cell_type": "code",
   "execution_count": 93,
   "id": "7e480674",
   "metadata": {},
   "outputs": [
    {
     "name": "stdout",
     "output_type": "stream",
     "text": [
      "Size of vocabulary for class_1: 52\n",
      "Size of vocabulary for class_2: 50\n",
      "Size of vocabulary for class_3: 25\n",
      "Size of vocabulary for class_4: 79\n"
     ]
    }
   ],
   "source": [
    "print(f'Size of vocabulary for class_1: {vocab_per_class[vocab_per_class[\"DIAGNOSE\"] == \"class_1\"].shape[0]}')\n",
    "print(f'Size of vocabulary for class_2: {vocab_per_class[vocab_per_class[\"DIAGNOSE\"] == \"class_2\"].shape[0]}')\n",
    "print(f'Size of vocabulary for class_3: {vocab_per_class[vocab_per_class[\"DIAGNOSE\"] == \"class_3\"].shape[0]}')\n",
    "print(f'Size of vocabulary for class_4: {vocab_per_class[vocab_per_class[\"DIAGNOSE\"] == \"class_4\"].shape[0]}')"
   ]
  },
  {
   "cell_type": "code",
   "execution_count": 94,
   "id": "b294455b",
   "metadata": {},
   "outputs": [
    {
     "data": {
      "text/plain": [
       "additional      86\n",
       "clinician       60\n",
       "abbreviation    28\n",
       "seed            27\n",
       "snomedct_us      5\n",
       "Name: TYPE, dtype: int64"
      ]
     },
     "execution_count": 94,
     "metadata": {},
     "output_type": "execute_result"
    }
   ],
   "source": [
    "vocab_per_class.TYPE.value_counts()"
   ]
  },
  {
   "cell_type": "code",
   "execution_count": 95,
   "id": "4178b7a0",
   "metadata": {},
   "outputs": [
    {
     "name": "stdout",
     "output_type": "stream",
     "text": [
      "Number of seed words: 27\n",
      "Number of clinicians terms: 60\n",
      "Number of SNOMED associated terms: 5\n",
      "Number of abbreviations: 28\n",
      "Number of additional terms: 86\n"
     ]
    }
   ],
   "source": [
    "# Number of words per type\n",
    "print(f'Number of seed words: {vocab_per_class[vocab_per_class[\"TYPE\"] == \"seed\"].shape[0]}')\n",
    "print(f'Number of clinicians terms: {vocab_per_class[vocab_per_class[\"TYPE\"] == \"clinician\"].shape[0]}')\n",
    "print(f'Number of SNOMED associated terms: {vocab_per_class[vocab_per_class[\"TYPE\"] == \"snomedct_us\"].shape[0]}')\n",
    "print(f'Number of abbreviations: {vocab_per_class[vocab_per_class[\"TYPE\"] == \"abbreviation\"].shape[0]}')\n",
    "print(f'Number of additional terms: {vocab_per_class[vocab_per_class[\"TYPE\"] == \"additional\"].shape[0]}')"
   ]
  },
  {
   "cell_type": "code",
   "execution_count": null,
   "id": "2a68bf73",
   "metadata": {},
   "outputs": [],
   "source": []
  },
  {
   "cell_type": "code",
   "execution_count": null,
   "id": "9bc6849a",
   "metadata": {},
   "outputs": [],
   "source": []
  },
  {
   "cell_type": "code",
   "execution_count": null,
   "id": "0fb161c4",
   "metadata": {},
   "outputs": [],
   "source": []
  },
  {
   "cell_type": "code",
   "execution_count": null,
   "id": "bb271a30",
   "metadata": {},
   "outputs": [],
   "source": []
  },
  {
   "cell_type": "code",
   "execution_count": null,
   "id": "68452eb2",
   "metadata": {},
   "outputs": [],
   "source": []
  },
  {
   "cell_type": "code",
   "execution_count": null,
   "id": "018faa50",
   "metadata": {},
   "outputs": [],
   "source": []
  },
  {
   "cell_type": "code",
   "execution_count": null,
   "id": "7df15b5d",
   "metadata": {},
   "outputs": [],
   "source": []
  }
 ],
 "metadata": {
  "kernelspec": {
   "display_name": "Python 3",
   "language": "python",
   "name": "python3"
  },
  "language_info": {
   "codemirror_mode": {
    "name": "ipython",
    "version": 3
   },
   "file_extension": ".py",
   "mimetype": "text/x-python",
   "name": "python",
   "nbconvert_exporter": "python",
   "pygments_lexer": "ipython3",
   "version": "3.9.15"
  }
 },
 "nbformat": 4,
 "nbformat_minor": 5
}
